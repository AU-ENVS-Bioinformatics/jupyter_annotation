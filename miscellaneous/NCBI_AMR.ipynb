{
 "cells": [
  {
   "cell_type": "markdown",
   "metadata": {},
   "source": [
    "# Antibiotic Resistance Database using AMRFinderPlus\n",
    "This notebook is part of the analysis of the TotalRNA mRNA genes from Trinity. \n",
    "\n",
    "See more [here](https://github.com/ncbi/amr/wiki).\n",
    "\n",
    "AMRFinderPlus identify acquired antimicrobial resistance genes in bacterial protein and/or assembled nucleotide sequences as well as known resistance-associated point mutations for several taxa. With AMRFinderPlus we added select members of additional classes of genes such as virulence factors, biocide, heat, acid, and metal resistance genes.\n",
    "\n",
    "Note that AMRFinderPlus reports gene and point mutation presence/absence; it does not infer phenotypic resistance. Many of the resistance genes detected by AMRFinderPlus may not be relevant for clinical management or antimicrobial surveillance. See the Note regarding Genotype vs. Phenotype for more information.\n",
    "\n",
    "## How to run Jupyter notebooks in huginn\n",
    "<details>\n",
    "<summary>Click to expand!</summary>\n",
    "\n",
    "If you use vs-code you can use the [remote ssh extension](https://marketplace.visualstudio.com/items?itemName=ms-vscode-remote.remote-ssh) to connect to huginn and either run jupyterlab in the remote server (so to say, just like you would do in your local computer with `jupyter-lab`) or run directly without opening jupyterlab directly. \n",
    "\n",
    "Otherwise, you can follow the instructions below: \n",
    "\n",
    "1. Turn on VPN\n",
    "2. Open two terminals (let's called A and B)\n",
    "3. With terminal A, connect to huginn with ssh as usual\n",
    "```bash\n",
    "ssh username@huginn.au.dk\n",
    "```\n",
    "4. Move to the directory where you want to work, activate the conda enviroment and run jupyter notebook or jupyter lab:\n",
    "```bash\n",
    "conda activate jupyter-diamond\n",
    "jupyter notebook --no-browser --port=7777\n",
    "```\n",
    "5. With terminal B, connect to huginn and forward the port specified port to your local computer\n",
    "```bash\n",
    "ssh -Y -N -L localhost:7777:localhost:7777 username@huginn.au.dk\n",
    "```\n",
    "6. Open your browser and go to `localhost:7777` and you should see the jupyter notebook running in huginn. You can also press in the url of Terminal A. \n",
    "\n",
    "Troubleshooting:\n",
    "- If you get an error like `bind: Address already in use` it means that you have another jupyter notebook running in the same port. You can either kill the process or change the port.\n",
    "</details>\n",
    "\n",
    "## How to create a new environment for this notebook (if needed)\n",
    "\n",
    "We will use Singuliarty, a few python basic libraries and bash. Let's check if those dependencies are installed. If not, you can install them with mamba (as well with jupyterlab)\n",
    "\n",
    "```bash\n",
    "# To create a new environment with mamba\n",
    "mamba create -c bioconda -c conda-forge singularity pandas matplotlib jupyterlab -n jupyter-diamond\n",
    "# To activate the environment\n",
    "conda activate jupyter-diamond\n",
    "```\n",
    "\n",
    "### Sanity check"
   ]
  },
  {
   "cell_type": "code",
   "execution_count": 1,
   "metadata": {},
   "outputs": [
    {
     "name": "stdout",
     "output_type": "stream",
     "text": [
      "2.4.2-dist\n"
     ]
    },
    {
     "name": "stdout",
     "output_type": "stream",
     "text": [
      "2.1.1\n",
      "3.8.0\n",
      "GNU bash, version 4.4.20(1)-release (x86_64-pc-linux-gnu)\n"
     ]
    }
   ],
   "source": [
    "%%bash\n",
    "singularity --version\n",
    "python -c \"import pandas; print(pandas.__version__)\"\n",
    "python -c \"import matplotlib; print(matplotlib.__version__)\"\n",
    "bash --version | head -n 1"
   ]
  },
  {
   "cell_type": "code",
   "execution_count": 2,
   "metadata": {},
   "outputs": [],
   "source": [
    "import pandas as pd\n",
    "import os\n",
    "import matplotlib.pyplot as plt"
   ]
  },
  {
   "cell_type": "markdown",
   "metadata": {},
   "source": [
    "### Input files (edit this chunk)\n",
    "Edit this chunk to match your input files"
   ]
  },
  {
   "cell_type": "code",
   "execution_count": 3,
   "metadata": {},
   "outputs": [],
   "source": [
    "trinity_file = '../data/contigs.fasta'\n",
    "count_table = '../data/mapped_reads_to_contigs.tsv'"
   ]
  },
  {
   "cell_type": "code",
   "execution_count": 4,
   "metadata": {},
   "outputs": [],
   "source": [
    "## Sanity check: trinity and count table exit\n",
    "assert os.path.exists(trinity_file), 'Trinity file does not exist'\n",
    "assert os.path.exists(count_table), 'Count table does not exist'"
   ]
  },
  {
   "cell_type": "markdown",
   "metadata": {},
   "source": [
    "### Output files (edit this chunk)\n",
    "Edit this chunk to match your desired output files"
   ]
  },
  {
   "cell_type": "code",
   "execution_count": 5,
   "metadata": {},
   "outputs": [],
   "source": [
    "outfile_matches = '../results/amrfinder_matches.tsv'"
   ]
  },
  {
   "cell_type": "markdown",
   "metadata": {},
   "source": [
    "### Database files\n",
    "Don't edit this chunk"
   ]
  },
  {
   "cell_type": "code",
   "execution_count": 6,
   "metadata": {},
   "outputs": [],
   "source": [
    "singularity = \"/software/singularities/ncbi_amr.simg\"\n",
    "assert os.path.exists(singularity), 'Singularity file does not exist'"
   ]
  },
  {
   "cell_type": "code",
   "execution_count": 7,
   "metadata": {},
   "outputs": [
    {
     "name": "stdout",
     "output_type": "stream",
     "text": [
      "3.11.20\n"
     ]
    }
   ],
   "source": [
    "%%bash -s \"$singularity\"\n",
    "singularity exec $1 amrfinder --version"
   ]
  },
  {
   "cell_type": "markdown",
   "metadata": {},
   "source": [
    "##### Run amrfinder\n",
    "\n",
    "We will use default parameters:"
   ]
  },
  {
   "cell_type": "code",
   "execution_count": 8,
   "metadata": {},
   "outputs": [
    {
     "name": "stderr",
     "output_type": "stream",
     "text": [
      "Running: amrfinder -n ../data/contigs.fasta --threads 8\n",
      "Software directory: '/usr/local/bin/'\n",
      "Software version: 3.11.20\n"
     ]
    },
    {
     "name": "stderr",
     "output_type": "stream",
     "text": [
      "Database directory: '/usr/local/bin/data/2023-09-26.1'\n",
      "Database version: 2023-09-26.1\n",
      "AMRFinder translated nucleotide search\n",
      "  - include -O ORGANISM, --organism ORGANISM option to add mutation searches and suppress common proteins\n",
      "Running blastx\n",
      "Making report\n",
      "AMRFinder took 1 seconds to complete\n"
     ]
    },
    {
     "name": "stdout",
     "output_type": "stream",
     "text": [
      "Protein identifier\tContig id\tStart\tStop\tStrand\tGene symbol\tSequence name\tScope\tElement type\tElement subtype\tClass\tSubclass\tMethod\tTarget length\tReference sequence length\t% Coverage of reference sequence\t% Identity to reference sequence\tAlignment length\tAccession of closest sequence\tName of closest sequence\tHMM id\tHMM description\n",
      "NA\tTRINITY_DN2264898_c0_g1_i1\t1\t858\t+\tblaSHV-52\tinhibitor-resistant broad-spectrum class A beta-lactamase SHV-52\tcore\tAMR\tAMR\tBETA-LACTAM\tBETA-LACTAM\tALLELEX\t286\t286\t100.00\t100.00\t286\tWP_063864691.1\tinhibitor-resistant broad-spectrum class A beta-lactamase SHV-52\tNA\tNA\n"
     ]
    }
   ],
   "source": [
    "%%bash -s \"$singularity\" \"$trinity_file\" \"$outfile_matches\"\n",
    "if [ ! -f $3 ]; then\n",
    "singularity exec --bind $(pwd) $1 amrfinder -n $2 --threads 8 > $3 \n",
    "fi\n",
    "head $3"
   ]
  },
  {
   "cell_type": "markdown",
   "metadata": {},
   "source": [
    "##### Preprocessing diamond matches\n",
    "We read the file into a pandas table:"
   ]
  },
  {
   "cell_type": "code",
   "execution_count": 9,
   "metadata": {},
   "outputs": [
    {
     "data": {
      "text/html": [
       "<div>\n",
       "<style scoped>\n",
       "    .dataframe tbody tr th:only-of-type {\n",
       "        vertical-align: middle;\n",
       "    }\n",
       "\n",
       "    .dataframe tbody tr th {\n",
       "        vertical-align: top;\n",
       "    }\n",
       "\n",
       "    .dataframe thead th {\n",
       "        text-align: right;\n",
       "    }\n",
       "</style>\n",
       "<table border=\"1\" class=\"dataframe\">\n",
       "  <thead>\n",
       "    <tr style=\"text-align: right;\">\n",
       "      <th></th>\n",
       "      <th>Protein identifier</th>\n",
       "      <th>Contig id</th>\n",
       "      <th>Start</th>\n",
       "      <th>Stop</th>\n",
       "      <th>Strand</th>\n",
       "      <th>Gene symbol</th>\n",
       "      <th>Sequence name</th>\n",
       "      <th>Scope</th>\n",
       "      <th>Element type</th>\n",
       "      <th>Element subtype</th>\n",
       "      <th>...</th>\n",
       "      <th>Method</th>\n",
       "      <th>Target length</th>\n",
       "      <th>Reference sequence length</th>\n",
       "      <th>% Coverage of reference sequence</th>\n",
       "      <th>% Identity to reference sequence</th>\n",
       "      <th>Alignment length</th>\n",
       "      <th>Accession of closest sequence</th>\n",
       "      <th>Name of closest sequence</th>\n",
       "      <th>HMM id</th>\n",
       "      <th>HMM description</th>\n",
       "    </tr>\n",
       "  </thead>\n",
       "  <tbody>\n",
       "    <tr>\n",
       "      <th>0</th>\n",
       "      <td>NaN</td>\n",
       "      <td>TRINITY_DN2264898_c0_g1_i1</td>\n",
       "      <td>1</td>\n",
       "      <td>858</td>\n",
       "      <td>+</td>\n",
       "      <td>blaSHV-52</td>\n",
       "      <td>inhibitor-resistant broad-spectrum class A bet...</td>\n",
       "      <td>core</td>\n",
       "      <td>AMR</td>\n",
       "      <td>AMR</td>\n",
       "      <td>...</td>\n",
       "      <td>ALLELEX</td>\n",
       "      <td>286</td>\n",
       "      <td>286</td>\n",
       "      <td>100.0</td>\n",
       "      <td>100.0</td>\n",
       "      <td>286</td>\n",
       "      <td>WP_063864691.1</td>\n",
       "      <td>inhibitor-resistant broad-spectrum class A bet...</td>\n",
       "      <td>NaN</td>\n",
       "      <td>NaN</td>\n",
       "    </tr>\n",
       "  </tbody>\n",
       "</table>\n",
       "<p>1 rows × 22 columns</p>\n",
       "</div>"
      ],
      "text/plain": [
       "   Protein identifier                   Contig id  Start  Stop Strand  \\\n",
       "0                 NaN  TRINITY_DN2264898_c0_g1_i1      1   858      +   \n",
       "\n",
       "  Gene symbol                                      Sequence name Scope  \\\n",
       "0   blaSHV-52  inhibitor-resistant broad-spectrum class A bet...  core   \n",
       "\n",
       "  Element type Element subtype  ...   Method Target length  \\\n",
       "0          AMR             AMR  ...  ALLELEX           286   \n",
       "\n",
       "  Reference sequence length  % Coverage of reference sequence  \\\n",
       "0                       286                             100.0   \n",
       "\n",
       "   % Identity to reference sequence  Alignment length  \\\n",
       "0                             100.0               286   \n",
       "\n",
       "   Accession of closest sequence  \\\n",
       "0                 WP_063864691.1   \n",
       "\n",
       "                            Name of closest sequence HMM id HMM description  \n",
       "0  inhibitor-resistant broad-spectrum class A bet...    NaN             NaN  \n",
       "\n",
       "[1 rows x 22 columns]"
      ]
     },
     "execution_count": 9,
     "metadata": {},
     "output_type": "execute_result"
    }
   ],
   "source": [
    "amrfinder = pd.read_csv(outfile_matches, delimiter='\\t',comment='#')\n",
    "amrfinder"
   ]
  },
  {
   "cell_type": "markdown",
   "metadata": {},
   "source": [
    "We also add the count table into a Pandas data frame:"
   ]
  },
  {
   "cell_type": "code",
   "execution_count": 10,
   "metadata": {},
   "outputs": [
    {
     "data": {
      "text/html": [
       "<div>\n",
       "<style scoped>\n",
       "    .dataframe tbody tr th:only-of-type {\n",
       "        vertical-align: middle;\n",
       "    }\n",
       "\n",
       "    .dataframe tbody tr th {\n",
       "        vertical-align: top;\n",
       "    }\n",
       "\n",
       "    .dataframe thead th {\n",
       "        text-align: right;\n",
       "    }\n",
       "</style>\n",
       "<table border=\"1\" class=\"dataframe\">\n",
       "  <thead>\n",
       "    <tr style=\"text-align: right;\">\n",
       "      <th></th>\n",
       "      <th>SampleA</th>\n",
       "      <th>SampleB</th>\n",
       "      <th>SampleC</th>\n",
       "      <th>SampleD</th>\n",
       "      <th>SampleE</th>\n",
       "    </tr>\n",
       "    <tr>\n",
       "      <th>ContigID</th>\n",
       "      <th></th>\n",
       "      <th></th>\n",
       "      <th></th>\n",
       "      <th></th>\n",
       "      <th></th>\n",
       "    </tr>\n",
       "  </thead>\n",
       "  <tbody>\n",
       "    <tr>\n",
       "      <th>TRINITY_DN226500_c0_g1_i1</th>\n",
       "      <td>0</td>\n",
       "      <td>0</td>\n",
       "      <td>2</td>\n",
       "      <td>1</td>\n",
       "      <td>0</td>\n",
       "    </tr>\n",
       "    <tr>\n",
       "      <th>TRINITY_DN226510_c0_g1_i1</th>\n",
       "      <td>1</td>\n",
       "      <td>0</td>\n",
       "      <td>0</td>\n",
       "      <td>0</td>\n",
       "      <td>5</td>\n",
       "    </tr>\n",
       "    <tr>\n",
       "      <th>TRINITY_DN226477_c0_g1_i1</th>\n",
       "      <td>0</td>\n",
       "      <td>0</td>\n",
       "      <td>0</td>\n",
       "      <td>0</td>\n",
       "      <td>0</td>\n",
       "    </tr>\n",
       "    <tr>\n",
       "      <th>TRINITY_DN226449_c0_g1_i1</th>\n",
       "      <td>0</td>\n",
       "      <td>0</td>\n",
       "      <td>2</td>\n",
       "      <td>0</td>\n",
       "      <td>0</td>\n",
       "    </tr>\n",
       "    <tr>\n",
       "      <th>TRINITY_DN226457_c0_g1_i1</th>\n",
       "      <td>3</td>\n",
       "      <td>6</td>\n",
       "      <td>0</td>\n",
       "      <td>0</td>\n",
       "      <td>0</td>\n",
       "    </tr>\n",
       "    <tr>\n",
       "      <th>TRINITY_DN226454_c0_g1_i1</th>\n",
       "      <td>0</td>\n",
       "      <td>0</td>\n",
       "      <td>0</td>\n",
       "      <td>9</td>\n",
       "      <td>0</td>\n",
       "    </tr>\n",
       "    <tr>\n",
       "      <th>TRINITY_DN226455_c0_g1_i1</th>\n",
       "      <td>0</td>\n",
       "      <td>2</td>\n",
       "      <td>0</td>\n",
       "      <td>0</td>\n",
       "      <td>2</td>\n",
       "    </tr>\n",
       "    <tr>\n",
       "      <th>TRINITY_DN2264898_c0_g1_i1</th>\n",
       "      <td>0</td>\n",
       "      <td>2</td>\n",
       "      <td>1</td>\n",
       "      <td>1</td>\n",
       "      <td>2</td>\n",
       "    </tr>\n",
       "  </tbody>\n",
       "</table>\n",
       "</div>"
      ],
      "text/plain": [
       "                            SampleA  SampleB  SampleC  SampleD  SampleE\n",
       "ContigID                                                               \n",
       "TRINITY_DN226500_c0_g1_i1         0        0        2        1        0\n",
       "TRINITY_DN226510_c0_g1_i1         1        0        0        0        5\n",
       "TRINITY_DN226477_c0_g1_i1         0        0        0        0        0\n",
       "TRINITY_DN226449_c0_g1_i1         0        0        2        0        0\n",
       "TRINITY_DN226457_c0_g1_i1         3        6        0        0        0\n",
       "TRINITY_DN226454_c0_g1_i1         0        0        0        9        0\n",
       "TRINITY_DN226455_c0_g1_i1         0        2        0        0        2\n",
       "TRINITY_DN2264898_c0_g1_i1        0        2        1        1        2"
      ]
     },
     "execution_count": 10,
     "metadata": {},
     "output_type": "execute_result"
    }
   ],
   "source": [
    "counts = pd.read_csv(\n",
    "    count_table, sep = \"\\t\", comment='#'\n",
    ").set_index('ContigID')\n",
    "counts"
   ]
  },
  {
   "cell_type": "markdown",
   "metadata": {},
   "source": [
    "We have no E-value. Instead, we would choose for every contig with the highest % Identity to reference sequence. "
   ]
  },
  {
   "cell_type": "code",
   "execution_count": 11,
   "metadata": {},
   "outputs": [
    {
     "data": {
      "text/plain": [
       "array([[<Axes: title={'center': '% Identity to reference sequence'}>]],\n",
       "      dtype=object)"
      ]
     },
     "execution_count": 11,
     "metadata": {},
     "output_type": "execute_result"
    },
    {
     "data": {
      "image/png": "[encoded data removed]",
      "text/plain": [
       "<Figure size 640x480 with 1 Axes>"
      ]
     },
     "metadata": {},
     "output_type": "display_data"
    }
   ],
   "source": [
    "amrfinder.hist(\"% Identity to reference sequence\")\n"
   ]
  },
  {
   "cell_type": "markdown",
   "metadata": {},
   "source": [
    "Now, we will sort rows per e-value and score and get the most significant hit per each ContigId."
   ]
  },
  {
   "cell_type": "code",
   "execution_count": 12,
   "metadata": {},
   "outputs": [
    {
     "data": {
      "text/plain": [
       "Text(0.5, 1.0, 'Number of hits per contig before preprocessing')"
      ]
     },
     "execution_count": 12,
     "metadata": {},
     "output_type": "execute_result"
    },
    {
     "data": {
      "image/png": "[encoded data removed]",
      "text/plain": [
       "<Figure size 640x480 with 1 Axes>"
      ]
     },
     "metadata": {},
     "output_type": "display_data"
    }
   ],
   "source": [
    "amrfinder.pivot_table(columns=['Contig id'], aggfunc='size').hist(bins = 25)\n",
    "plt.title(\"Number of hits per contig before preprocessing\")\n"
   ]
  },
  {
   "cell_type": "code",
   "execution_count": 13,
   "metadata": {},
   "outputs": [
    {
     "name": "stdout",
     "output_type": "stream",
     "text": [
      "Number of rows. Before: 1. After: 1\n"
     ]
    },
    {
     "data": {
      "text/plain": [
       "Text(0.5, 1.0, 'Number of hits per contig after preprocessing')"
      ]
     },
     "execution_count": 13,
     "metadata": {},
     "output_type": "execute_result"
    },
    {
     "data": {
      "image/png": "[encoded data removed]",
      "text/plain": [
       "<Figure size 640x480 with 1 Axes>"
      ]
     },
     "metadata": {},
     "output_type": "display_data"
    }
   ],
   "source": [
    "before = amrfinder.shape[0]\n",
    "amrfinder = amrfinder.sort_values(\n",
    "        by=['% Identity to reference sequence'], ascending=False\n",
    "        ).drop_duplicates(\n",
    "    'Contig id', keep='first'\n",
    ").set_index('Contig id')\n",
    "after = amrfinder.shape[0]\n",
    "\n",
    "print(f\"Number of rows. Before: {before}. After: {after}\")\n",
    "\n",
    "amrfinder.pivot_table(columns=['Contig id'], aggfunc='size').hist(bins = 25)\n",
    "plt.title(\"Number of hits per contig after preprocessing\")"
   ]
  },
  {
   "cell_type": "markdown",
   "metadata": {},
   "source": [
    "#####  Inspect % identity and aligment length"
   ]
  },
  {
   "cell_type": "code",
   "execution_count": 14,
   "metadata": {},
   "outputs": [
    {
     "data": {
      "text/plain": [
       "Text(0.5, 1.0, 'Alignment length distribution after preprocessing')"
      ]
     },
     "execution_count": 14,
     "metadata": {},
     "output_type": "execute_result"
    },
    {
     "data": {
      "image/png": "[encoded data removed]",
      "text/plain": [
       "<Figure size 640x480 with 1 Axes>"
      ]
     },
     "metadata": {},
     "output_type": "display_data"
    }
   ],
   "source": [
    "amrfinder.hist(\"Alignment length\")\n",
    "plt.title(\"Alignment length distribution after preprocessing\")\n"
   ]
  },
  {
   "cell_type": "markdown",
   "metadata": {},
   "source": [
    "##### Link information form AMR-Finder matches and count table"
   ]
  },
  {
   "cell_type": "markdown",
   "metadata": {},
   "source": [
    "Now, we will merge both files by their column in common:"
   ]
  },
  {
   "cell_type": "code",
   "execution_count": 15,
   "metadata": {},
   "outputs": [
    {
     "data": {
      "text/html": [
       "<div>\n",
       "<style scoped>\n",
       "    .dataframe tbody tr th:only-of-type {\n",
       "        vertical-align: middle;\n",
       "    }\n",
       "\n",
       "    .dataframe tbody tr th {\n",
       "        vertical-align: top;\n",
       "    }\n",
       "\n",
       "    .dataframe thead th {\n",
       "        text-align: right;\n",
       "    }\n",
       "</style>\n",
       "<table border=\"1\" class=\"dataframe\">\n",
       "  <thead>\n",
       "    <tr style=\"text-align: right;\">\n",
       "      <th></th>\n",
       "      <th>SampleA</th>\n",
       "      <th>SampleB</th>\n",
       "      <th>SampleC</th>\n",
       "      <th>SampleD</th>\n",
       "      <th>SampleE</th>\n",
       "      <th>Protein identifier</th>\n",
       "      <th>Gene symbol</th>\n",
       "      <th>Sequence name</th>\n",
       "      <th>Scope</th>\n",
       "      <th>Element type</th>\n",
       "      <th>Element subtype</th>\n",
       "      <th>Class</th>\n",
       "      <th>Subclass</th>\n",
       "    </tr>\n",
       "    <tr>\n",
       "      <th>Contig id</th>\n",
       "      <th></th>\n",
       "      <th></th>\n",
       "      <th></th>\n",
       "      <th></th>\n",
       "      <th></th>\n",
       "      <th></th>\n",
       "      <th></th>\n",
       "      <th></th>\n",
       "      <th></th>\n",
       "      <th></th>\n",
       "      <th></th>\n",
       "      <th></th>\n",
       "      <th></th>\n",
       "    </tr>\n",
       "  </thead>\n",
       "  <tbody>\n",
       "    <tr>\n",
       "      <th>TRINITY_DN2264898_c0_g1_i1</th>\n",
       "      <td>0</td>\n",
       "      <td>2</td>\n",
       "      <td>1</td>\n",
       "      <td>1</td>\n",
       "      <td>2</td>\n",
       "      <td>NaN</td>\n",
       "      <td>blaSHV-52</td>\n",
       "      <td>inhibitor-resistant broad-spectrum class A bet...</td>\n",
       "      <td>core</td>\n",
       "      <td>AMR</td>\n",
       "      <td>AMR</td>\n",
       "      <td>BETA-LACTAM</td>\n",
       "      <td>BETA-LACTAM</td>\n",
       "    </tr>\n",
       "  </tbody>\n",
       "</table>\n",
       "</div>"
      ],
      "text/plain": [
       "                            SampleA  SampleB  SampleC  SampleD  SampleE  \\\n",
       "Contig id                                                                 \n",
       "TRINITY_DN2264898_c0_g1_i1        0        2        1        1        2   \n",
       "\n",
       "                            Protein identifier Gene symbol  \\\n",
       "Contig id                                                    \n",
       "TRINITY_DN2264898_c0_g1_i1                 NaN   blaSHV-52   \n",
       "\n",
       "                                                                Sequence name  \\\n",
       "Contig id                                                                       \n",
       "TRINITY_DN2264898_c0_g1_i1  inhibitor-resistant broad-spectrum class A bet...   \n",
       "\n",
       "                           Scope Element type Element subtype        Class  \\\n",
       "Contig id                                                                    \n",
       "TRINITY_DN2264898_c0_g1_i1  core          AMR             AMR  BETA-LACTAM   \n",
       "\n",
       "                               Subclass  \n",
       "Contig id                                \n",
       "TRINITY_DN2264898_c0_g1_i1  BETA-LACTAM  "
      ]
     },
     "execution_count": 15,
     "metadata": {},
     "output_type": "execute_result"
    }
   ],
   "source": [
    "# Select from amrfinder the columns that we want to keep\n",
    "# Protein identifier, Gene symbol, Sequence name, Score, Element type, Class, Mechanism, Group, Resistance, Antimicrobial, Resistance, Antimicrobial, Resistance, Antimicrobial, Alignment length, % Identity to reference sequence, % Query coverage, Contig id, Start position, Stop position, Accession, Sequence name, Sequence length, Sequence\n",
    "amrfinder = amrfinder.loc[:, ['Protein identifier', 'Gene symbol', 'Sequence name', 'Scope', 'Element type', 'Element subtype', 'Class', 'Subclass']]  # Retorna un nuevo DataFrame con las columnas seleccionadas\n",
    "df = counts.merge(amrfinder, left_index=True, right_index=True, how = 'right')\n",
    "df\n"
   ]
  },
  {
   "cell_type": "markdown",
   "metadata": {},
   "source": [
    "##### Aggregate table\n",
    "Now, we are going to aggregate the rows by grouping them by \"Subject id\" (notice the difference in rows between the previous table and the following):"
   ]
  },
  {
   "cell_type": "code",
   "execution_count": 16,
   "metadata": {},
   "outputs": [
    {
     "data": {
      "text/html": [
       "<div>\n",
       "<style scoped>\n",
       "    .dataframe tbody tr th:only-of-type {\n",
       "        vertical-align: middle;\n",
       "    }\n",
       "\n",
       "    .dataframe tbody tr th {\n",
       "        vertical-align: top;\n",
       "    }\n",
       "\n",
       "    .dataframe thead th {\n",
       "        text-align: right;\n",
       "    }\n",
       "</style>\n",
       "<table border=\"1\" class=\"dataframe\">\n",
       "  <thead>\n",
       "    <tr style=\"text-align: right;\">\n",
       "      <th></th>\n",
       "      <th>SampleA</th>\n",
       "      <th>SampleB</th>\n",
       "      <th>SampleC</th>\n",
       "      <th>SampleD</th>\n",
       "      <th>SampleE</th>\n",
       "      <th>Protein identifier</th>\n",
       "      <th>Gene symbol</th>\n",
       "      <th>Scope</th>\n",
       "      <th>Element type</th>\n",
       "      <th>Element subtype</th>\n",
       "      <th>Class</th>\n",
       "      <th>Subclass</th>\n",
       "    </tr>\n",
       "    <tr>\n",
       "      <th>Sequence name</th>\n",
       "      <th></th>\n",
       "      <th></th>\n",
       "      <th></th>\n",
       "      <th></th>\n",
       "      <th></th>\n",
       "      <th></th>\n",
       "      <th></th>\n",
       "      <th></th>\n",
       "      <th></th>\n",
       "      <th></th>\n",
       "      <th></th>\n",
       "      <th></th>\n",
       "    </tr>\n",
       "  </thead>\n",
       "  <tbody>\n",
       "    <tr>\n",
       "      <th>inhibitor-resistant broad-spectrum class A beta-lactamase SHV-52</th>\n",
       "      <td>0</td>\n",
       "      <td>2</td>\n",
       "      <td>1</td>\n",
       "      <td>1</td>\n",
       "      <td>2</td>\n",
       "      <td>0.0</td>\n",
       "      <td>blaSHV-52</td>\n",
       "      <td>core</td>\n",
       "      <td>AMR</td>\n",
       "      <td>AMR</td>\n",
       "      <td>BETA-LACTAM</td>\n",
       "      <td>BETA-LACTAM</td>\n",
       "    </tr>\n",
       "  </tbody>\n",
       "</table>\n",
       "</div>"
      ],
      "text/plain": [
       "                                                    SampleA  SampleB  SampleC  \\\n",
       "Sequence name                                                                   \n",
       "inhibitor-resistant broad-spectrum class A beta...        0        2        1   \n",
       "\n",
       "                                                    SampleD  SampleE  \\\n",
       "Sequence name                                                          \n",
       "inhibitor-resistant broad-spectrum class A beta...        1        2   \n",
       "\n",
       "                                                    Protein identifier  \\\n",
       "Sequence name                                                            \n",
       "inhibitor-resistant broad-spectrum class A beta...                 0.0   \n",
       "\n",
       "                                                   Gene symbol Scope  \\\n",
       "Sequence name                                                          \n",
       "inhibitor-resistant broad-spectrum class A beta...   blaSHV-52  core   \n",
       "\n",
       "                                                   Element type  \\\n",
       "Sequence name                                                     \n",
       "inhibitor-resistant broad-spectrum class A beta...          AMR   \n",
       "\n",
       "                                                   Element subtype  \\\n",
       "Sequence name                                                        \n",
       "inhibitor-resistant broad-spectrum class A beta...             AMR   \n",
       "\n",
       "                                                          Class     Subclass  \n",
       "Sequence name                                                                 \n",
       "inhibitor-resistant broad-spectrum class A beta...  BETA-LACTAM  BETA-LACTAM  "
      ]
     },
     "execution_count": 16,
     "metadata": {},
     "output_type": "execute_result"
    }
   ],
   "source": [
    "df = df.groupby('Sequence name').sum(numeric_only = False)\n",
    "df"
   ]
  },
  {
   "cell_type": "markdown",
   "metadata": {},
   "source": [
    "Finally, we save the table and remove the temporary files:"
   ]
  },
  {
   "cell_type": "code",
   "execution_count": 17,
   "metadata": {},
   "outputs": [],
   "source": [
    "df.to_csv('../results/amrfinder_matches_annotated.tsv', sep='\\t')"
   ]
  }
 ],
 "metadata": {
  "kernelspec": {
   "display_name": "Python 3",
   "language": "python",
   "name": "python3"
  },
  "language_info": {
   "codemirror_mode": {
    "name": "ipython",
    "version": 3
   },
   "file_extension": ".py",
   "mimetype": "text/x-python",
   "name": "python",
   "nbconvert_exporter": "python",
   "pygments_lexer": "ipython3",
   "version": "3.9.15"
  }
 },
 "nbformat": 4,
 "nbformat_minor": 4
}
