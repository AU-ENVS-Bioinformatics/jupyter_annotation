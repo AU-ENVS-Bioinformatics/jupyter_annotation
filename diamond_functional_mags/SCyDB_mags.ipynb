{
 "cells": [
  {
   "attachments": {},
   "cell_type": "markdown",
   "id": "4a6a5bb1-1d72-44c8-975d-b2d7a60fa30e",
   "metadata": {},
   "source": [
    "## Functional annotation of MAGs against SCycDB\n",
    "\n",
    "This notebook is part of the analysis of the MAGs. \n",
    "\n",
    "## How to run Jupyter notebooks in huginn\n",
    "<details>\n",
    "<summary>Click to expand!</summary>\n",
    "\n",
    "If you use vs-code you can use the [remote ssh extension](https://marketplace.visualstudio.com/items?itemName=ms-vscode-remote.remote-ssh) to connect to huginn and either run jupyterlab in the remote server (so to say, just like you would do in your local computer with `jupyter-lab`) or run directly without opening jupyterlab directly. \n",
    "\n",
    "Otherwise, you can follow the instructions below: \n",
    "\n",
    "1. Turn on VPN\n",
    "2. Open two terminals (let's called A and B)\n",
    "3. With terminal A, connect to huginn with ssh as usual\n",
    "```bash\n",
    "ssh username@huginn.au.dk\n",
    "```\n",
    "4. Move to the directory where you want to work, activate the conda enviroment and run jupyter notebook or jupyter lab:\n",
    "```bash\n",
    "conda activate jupyter-diamond\n",
    "jupyter notebook --no-browser --port=7777\n",
    "```\n",
    "5. With terminal B, connect to huginn and forward the port specified port to your local computer\n",
    "```bash\n",
    "ssh -Y -N -L localhost:7777:localhost:7777 username@huginn.au.dk\n",
    "```\n",
    "6. Open your browser and go to `localhost:7777` and you should see the jupyter notebook running in huginn. You can also press in the url of Terminal A. \n",
    "\n",
    "Troubleshooting:\n",
    "- If you get an error like `bind: Address already in use` it means that you have another jupyter notebook running in the same port. You can either kill the process or change the port.\n",
    "</details>\n",
    "\n",
    "## How to create a new environment for this notebook (if needed)\n",
    "\n",
    "We will use Diamond, a few python basic libraries and bash. Let's check if those dependencies are installed. If not, you can install them with mamba (as well with jupyterlab)\n",
    "\n",
    "```bash\n",
    "# To create a new environment with mamba\n",
    "mamba create -c bioconda -c conda-forge diamond pandas matplotlib jupyterlab -n jupyter-diamond\n",
    "# To activate the environment\n",
    "conda activate jupyter-diamond\n",
    "```\n",
    "\n",
    "### Sanity check"
   ]
  },
  {
   "cell_type": "code",
   "execution_count": 1,
   "id": "c20b6ded",
   "metadata": {},
   "outputs": [
    {
     "name": "stdout",
     "output_type": "stream",
     "text": [
      "diamond version 2.1.8\n",
      "1.1.5\n",
      "3.3.4\n",
      "GNU bash, version 4.4.20(1)-release (x86_64-pc-linux-gnu)\n"
     ]
    }
   ],
   "source": [
    "%%bash\n",
    "diamond --version\n",
    "python -c \"import pandas; print(pandas.__version__)\"\n",
    "python -c \"import matplotlib; print(matplotlib.__version__)\"\n",
    "bash --version | head -n 1"
   ]
  },
  {
   "cell_type": "code",
   "execution_count": 2,
   "id": "5b69f327",
   "metadata": {},
   "outputs": [],
   "source": [
    "import pandas as pd\n",
    "import matplotlib.pyplot as plt\n",
    "import os"
   ]
  },
  {
   "attachments": {},
   "cell_type": "markdown",
   "id": "fe1eec65",
   "metadata": {},
   "source": [
    "The input is the fasta file with contigs and the count table. "
   ]
  },
  {
   "cell_type": "code",
   "execution_count": 3,
   "id": "aeb85dfd",
   "metadata": {},
   "outputs": [],
   "source": [
    "fasta_file = \"../data/mags.fasta\"\n",
    "count_table = \"../data/mags.tsv\"\n",
    "## Sanity check: fasta and count table exit\n",
    "assert os.path.exists(fasta_file), \"Fasta file does not exist\"\n",
    "assert os.path.exists(count_table), \"Count table does not exist\""
   ]
  },
  {
   "cell_type": "markdown",
   "id": "a02f313f",
   "metadata": {},
   "source": [
    "### Output files (edit this chunk)\n",
    "Edit this chunk to match your desired output files"
   ]
  },
  {
   "cell_type": "code",
   "execution_count": 4,
   "id": "441d1c33",
   "metadata": {},
   "outputs": [],
   "source": [
    "outfile_matches = '../results/SCycDB_mags_matches.tsv'"
   ]
  },
  {
   "attachments": {},
   "cell_type": "markdown",
   "id": "463c39ff-2d1a-4427-94ea-8ab9bf1ca64a",
   "metadata": {},
   "source": [
    "## Run Diamond "
   ]
  },
  {
   "cell_type": "code",
   "execution_count": 5,
   "id": "bc06bea6",
   "metadata": {},
   "outputs": [],
   "source": [
    "database = \"/data_2/Databases/SCycDB/SCycDB_2020Mar.dmnd\"\n",
    "annotation_file = '/data_2/Databases/SCycDB/id2gene.2020Mar.map'\n",
    "assert os.path.exists(annotation_file), 'Annotation file does not exist'\n",
    "assert os.path.exists(database), 'Database file does not exist'"
   ]
  },
  {
   "cell_type": "code",
   "execution_count": 6,
   "id": "d3d27106",
   "metadata": {},
   "outputs": [],
   "source": [
    "%%bash\n",
    "mkdir -p ../results/"
   ]
  },
  {
   "cell_type": "markdown",
   "id": "502e0e17",
   "metadata": {},
   "source": [
    "**Please, be aware that, without using any sensitivity option, the default mode is designed for finding hits of >60% identity. Consider increasing the sensitivity (or decreasing it).**"
   ]
  },
  {
   "cell_type": "code",
   "execution_count": 7,
   "id": "b44d881c",
   "metadata": {},
   "outputs": [
    {
     "name": "stdout",
     "output_type": "stream",
     "text": [
      "bin_71.fasta_02748\tnag:AArcMg_2339\t58.9\t202\t83\t0\t621\t16\t16\t217\t2.80e-74\t246\n",
      "bin_71.fasta_02748\tnan:AArc1_1332\t58.9\t202\t83\t0\t621\t16\t16\t217\t2.80e-74\t246\n",
      "bin_3.fasta_02341\t318996.AXAZ01000033_gene6450\t62.5\t48\t18\t0\t493\t636\t1\t48\t1.30e-12\t66.2\n"
     ]
    }
   ],
   "source": [
    "%%bash -s \"$database\" \"$fasta_file\" \"$outfile_matches\"\n",
    "if [ ! -f $3 ]; then\n",
    "diamond blastx -p 50 -d $1 -q $2 -o $3 2> /dev/null\n",
    "fi\n",
    "head $3"
   ]
  },
  {
   "attachments": {},
   "cell_type": "markdown",
   "id": "96fda5a8",
   "metadata": {},
   "source": [
    "## Parse Diamond output and preprocess"
   ]
  },
  {
   "cell_type": "code",
   "execution_count": 8,
   "id": "cb23723b-f70c-406b-849e-8635378d9c13",
   "metadata": {
    "tags": []
   },
   "outputs": [],
   "source": [
    "diamond = pd.read_csv(\n",
    "    outfile_matches,\n",
    "    delimiter=\"\\t\",\n",
    "    comment=\"#\",\n",
    "    header=None,\n",
    "    names=[\n",
    "        \"Query id\",\n",
    "        \"Subject id\",\n",
    "        \"% identity\",\n",
    "        \"alignment length\",\n",
    "        \"mismatches\",\n",
    "        \"gap openings\",\n",
    "        \"q. start\",\n",
    "        \"q. end\",\n",
    "        \"s. start\",\n",
    "        \"s. end\",\n",
    "        \"e-value\",\n",
    "        \"score\",\n",
    "    ],\n",
    ")"
   ]
  },
  {
   "attachments": {},
   "cell_type": "markdown",
   "id": "c6647858-4431-4377-8517-4458efa6a375",
   "metadata": {},
   "source": [
    "Now, we have a table with all the alignments between our \"genes\" and the database."
   ]
  },
  {
   "cell_type": "code",
   "execution_count": 9,
   "id": "9344c348-b68d-41cf-a049-cd4f05ecb2c5",
   "metadata": {
    "tags": []
   },
   "outputs": [
    {
     "data": {
      "text/html": [
       "<div>\n",
       "<style scoped>\n",
       "    .dataframe tbody tr th:only-of-type {\n",
       "        vertical-align: middle;\n",
       "    }\n",
       "\n",
       "    .dataframe tbody tr th {\n",
       "        vertical-align: top;\n",
       "    }\n",
       "\n",
       "    .dataframe thead th {\n",
       "        text-align: right;\n",
       "    }\n",
       "</style>\n",
       "<table border=\"1\" class=\"dataframe\">\n",
       "  <thead>\n",
       "    <tr style=\"text-align: right;\">\n",
       "      <th></th>\n",
       "      <th>Query id</th>\n",
       "      <th>Subject id</th>\n",
       "      <th>% identity</th>\n",
       "      <th>alignment length</th>\n",
       "      <th>mismatches</th>\n",
       "      <th>gap openings</th>\n",
       "      <th>q. start</th>\n",
       "      <th>q. end</th>\n",
       "      <th>s. start</th>\n",
       "      <th>s. end</th>\n",
       "      <th>e-value</th>\n",
       "      <th>score</th>\n",
       "    </tr>\n",
       "  </thead>\n",
       "  <tbody>\n",
       "    <tr>\n",
       "      <th>0</th>\n",
       "      <td>bin_71.fasta_02748</td>\n",
       "      <td>nag:AArcMg_2339</td>\n",
       "      <td>58.9</td>\n",
       "      <td>202</td>\n",
       "      <td>83</td>\n",
       "      <td>0</td>\n",
       "      <td>621</td>\n",
       "      <td>16</td>\n",
       "      <td>16</td>\n",
       "      <td>217</td>\n",
       "      <td>2.800000e-74</td>\n",
       "      <td>246.0</td>\n",
       "    </tr>\n",
       "    <tr>\n",
       "      <th>1</th>\n",
       "      <td>bin_71.fasta_02748</td>\n",
       "      <td>nan:AArc1_1332</td>\n",
       "      <td>58.9</td>\n",
       "      <td>202</td>\n",
       "      <td>83</td>\n",
       "      <td>0</td>\n",
       "      <td>621</td>\n",
       "      <td>16</td>\n",
       "      <td>16</td>\n",
       "      <td>217</td>\n",
       "      <td>2.800000e-74</td>\n",
       "      <td>246.0</td>\n",
       "    </tr>\n",
       "    <tr>\n",
       "      <th>2</th>\n",
       "      <td>bin_3.fasta_02341</td>\n",
       "      <td>318996.AXAZ01000033_gene6450</td>\n",
       "      <td>62.5</td>\n",
       "      <td>48</td>\n",
       "      <td>18</td>\n",
       "      <td>0</td>\n",
       "      <td>493</td>\n",
       "      <td>636</td>\n",
       "      <td>1</td>\n",
       "      <td>48</td>\n",
       "      <td>1.300000e-12</td>\n",
       "      <td>66.2</td>\n",
       "    </tr>\n",
       "  </tbody>\n",
       "</table>\n",
       "</div>"
      ],
      "text/plain": [
       "             Query id                    Subject id  % identity  \\\n",
       "0  bin_71.fasta_02748               nag:AArcMg_2339        58.9   \n",
       "1  bin_71.fasta_02748                nan:AArc1_1332        58.9   \n",
       "2   bin_3.fasta_02341  318996.AXAZ01000033_gene6450        62.5   \n",
       "\n",
       "   alignment length  mismatches  gap openings  q. start  q. end  s. start  \\\n",
       "0               202          83             0       621      16        16   \n",
       "1               202          83             0       621      16        16   \n",
       "2                48          18             0       493     636         1   \n",
       "\n",
       "   s. end       e-value  score  \n",
       "0     217  2.800000e-74  246.0  \n",
       "1     217  2.800000e-74  246.0  \n",
       "2      48  1.300000e-12   66.2  "
      ]
     },
     "execution_count": 9,
     "metadata": {},
     "output_type": "execute_result"
    }
   ],
   "source": [
    "diamond"
   ]
  },
  {
   "attachments": {},
   "cell_type": "markdown",
   "id": "acb7eaac-8b2a-462b-b5b4-6aa754e097b4",
   "metadata": {},
   "source": [
    "## Read count table\n",
    "However, we also need to read the count table:"
   ]
  },
  {
   "cell_type": "code",
   "execution_count": 10,
   "id": "b9d87d9f-8c5b-4030-82d6-66800462b42e",
   "metadata": {
    "tags": []
   },
   "outputs": [
    {
     "name": "stdout",
     "output_type": "stream",
     "text": [
      "ContigID\tika_mgs_val_2\tika_mgs_val_1\n",
      "bin_37.fasta_02940\t31\t30\n",
      "bin_36.fasta_03910\t123\t129\n",
      "bin_11.fasta_01027\t88\t97\n",
      "bin_1.fasta_02543\t25\t21\n",
      "bin_71.fasta_02748\t93\t92\n",
      "bin_3.fasta_02341\t43\t47\n",
      "bin_38.fasta_03427\t12\t13"
     ]
    }
   ],
   "source": [
    "%%bash -s \"$count_table\"\n",
    "head $1"
   ]
  },
  {
   "cell_type": "code",
   "execution_count": 11,
   "id": "1de1ed51-14aa-49f4-a361-87b7b572ada3",
   "metadata": {
    "tags": []
   },
   "outputs": [
    {
     "data": {
      "text/html": [
       "<div>\n",
       "<style scoped>\n",
       "    .dataframe tbody tr th:only-of-type {\n",
       "        vertical-align: middle;\n",
       "    }\n",
       "\n",
       "    .dataframe tbody tr th {\n",
       "        vertical-align: top;\n",
       "    }\n",
       "\n",
       "    .dataframe thead th {\n",
       "        text-align: right;\n",
       "    }\n",
       "</style>\n",
       "<table border=\"1\" class=\"dataframe\">\n",
       "  <thead>\n",
       "    <tr style=\"text-align: right;\">\n",
       "      <th></th>\n",
       "      <th>Count</th>\n",
       "    </tr>\n",
       "    <tr>\n",
       "      <th>ContigID</th>\n",
       "      <th></th>\n",
       "    </tr>\n",
       "  </thead>\n",
       "  <tbody>\n",
       "    <tr>\n",
       "      <th>bin_37.fasta_02940</th>\n",
       "      <td>61</td>\n",
       "    </tr>\n",
       "    <tr>\n",
       "      <th>bin_36.fasta_03910</th>\n",
       "      <td>252</td>\n",
       "    </tr>\n",
       "    <tr>\n",
       "      <th>bin_11.fasta_01027</th>\n",
       "      <td>185</td>\n",
       "    </tr>\n",
       "    <tr>\n",
       "      <th>bin_1.fasta_02543</th>\n",
       "      <td>46</td>\n",
       "    </tr>\n",
       "    <tr>\n",
       "      <th>bin_71.fasta_02748</th>\n",
       "      <td>185</td>\n",
       "    </tr>\n",
       "    <tr>\n",
       "      <th>bin_3.fasta_02341</th>\n",
       "      <td>90</td>\n",
       "    </tr>\n",
       "    <tr>\n",
       "      <th>bin_38.fasta_03427</th>\n",
       "      <td>25</td>\n",
       "    </tr>\n",
       "  </tbody>\n",
       "</table>\n",
       "</div>"
      ],
      "text/plain": [
       "                    Count\n",
       "ContigID                 \n",
       "bin_37.fasta_02940     61\n",
       "bin_36.fasta_03910    252\n",
       "bin_11.fasta_01027    185\n",
       "bin_1.fasta_02543      46\n",
       "bin_71.fasta_02748    185\n",
       "bin_3.fasta_02341      90\n",
       "bin_38.fasta_03427     25"
      ]
     },
     "execution_count": 11,
     "metadata": {},
     "output_type": "execute_result"
    }
   ],
   "source": [
    "counts = pd.read_csv(count_table, sep=\"\\t\", comment=\"#\").set_index(\"ContigID\")\n",
    "# Check that there are only 2 columns\n",
    "assert counts.shape[1] == 2, \"Count table should have 2 columns\"\n",
    "# Sum the counts for each MAG\n",
    "counts = counts.sum(axis=1)\n",
    "# Convert to a dataframe\n",
    "counts = pd.DataFrame(counts, columns=[\"Count\"])\n",
    "counts"
   ]
  },
  {
   "attachments": {},
   "cell_type": "markdown",
   "id": "1d39dd81-6d5e-4a09-a128-1c9aaac4734c",
   "metadata": {},
   "source": [
    "## Preprocessing\n",
    "### Most significant hit per Contig"
   ]
  },
  {
   "attachments": {},
   "cell_type": "markdown",
   "id": "b9cdb35f-ba57-4013-ae61-33928f3adcdd",
   "metadata": {},
   "source": [
    "Now, we need to get the most significant hit per each contig ID. Let's inspect how many hits there are per contig (adjust the number of bins). "
   ]
  },
  {
   "cell_type": "code",
   "execution_count": 12,
   "id": "3d5b07e5-d340-440d-831e-3bc6c179a28b",
   "metadata": {
    "tags": []
   },
   "outputs": [
    {
     "data": {
      "text/plain": [
       "Text(0.5, 1.0, 'Number of hits per contig')"
      ]
     },
     "execution_count": 12,
     "metadata": {},
     "output_type": "execute_result"
    },
    {
     "data": {
      "image/png": "[encoded data removed]",
      "text/plain": [
       "<Figure size 432x288 with 1 Axes>"
      ]
     },
     "metadata": {
      "needs_background": "light"
     },
     "output_type": "display_data"
    }
   ],
   "source": [
    "diamond.pivot_table(columns=[\"Query id\"], aggfunc=\"size\").hist(bins=25)\n",
    "plt.title(\"Number of hits per contig\")"
   ]
  },
  {
   "attachments": {},
   "cell_type": "markdown",
   "id": "43813411-8fac-4ad8-b9b6-bf21d90f8122",
   "metadata": {},
   "source": [
    "In this case, we are going to sort rows per e-value and score and get the most significant hit per each ContigId."
   ]
  },
  {
   "cell_type": "code",
   "execution_count": 13,
   "id": "3f78c5d5-1e49-4406-9c93-950b3eb35c35",
   "metadata": {
    "tags": []
   },
   "outputs": [
    {
     "data": {
      "text/html": [
       "<div>\n",
       "<style scoped>\n",
       "    .dataframe tbody tr th:only-of-type {\n",
       "        vertical-align: middle;\n",
       "    }\n",
       "\n",
       "    .dataframe tbody tr th {\n",
       "        vertical-align: top;\n",
       "    }\n",
       "\n",
       "    .dataframe thead th {\n",
       "        text-align: right;\n",
       "    }\n",
       "</style>\n",
       "<table border=\"1\" class=\"dataframe\">\n",
       "  <thead>\n",
       "    <tr style=\"text-align: right;\">\n",
       "      <th></th>\n",
       "      <th>Subject id</th>\n",
       "      <th>% identity</th>\n",
       "      <th>alignment length</th>\n",
       "      <th>mismatches</th>\n",
       "      <th>gap openings</th>\n",
       "      <th>q. start</th>\n",
       "      <th>q. end</th>\n",
       "      <th>s. start</th>\n",
       "      <th>s. end</th>\n",
       "      <th>e-value</th>\n",
       "      <th>score</th>\n",
       "    </tr>\n",
       "    <tr>\n",
       "      <th>Query id</th>\n",
       "      <th></th>\n",
       "      <th></th>\n",
       "      <th></th>\n",
       "      <th></th>\n",
       "      <th></th>\n",
       "      <th></th>\n",
       "      <th></th>\n",
       "      <th></th>\n",
       "      <th></th>\n",
       "      <th></th>\n",
       "      <th></th>\n",
       "    </tr>\n",
       "  </thead>\n",
       "  <tbody>\n",
       "    <tr>\n",
       "      <th>bin_71.fasta_02748</th>\n",
       "      <td>nag:AArcMg_2339</td>\n",
       "      <td>58.9</td>\n",
       "      <td>202</td>\n",
       "      <td>83</td>\n",
       "      <td>0</td>\n",
       "      <td>621</td>\n",
       "      <td>16</td>\n",
       "      <td>16</td>\n",
       "      <td>217</td>\n",
       "      <td>2.800000e-74</td>\n",
       "      <td>246.0</td>\n",
       "    </tr>\n",
       "    <tr>\n",
       "      <th>bin_3.fasta_02341</th>\n",
       "      <td>318996.AXAZ01000033_gene6450</td>\n",
       "      <td>62.5</td>\n",
       "      <td>48</td>\n",
       "      <td>18</td>\n",
       "      <td>0</td>\n",
       "      <td>493</td>\n",
       "      <td>636</td>\n",
       "      <td>1</td>\n",
       "      <td>48</td>\n",
       "      <td>1.300000e-12</td>\n",
       "      <td>66.2</td>\n",
       "    </tr>\n",
       "  </tbody>\n",
       "</table>\n",
       "</div>"
      ],
      "text/plain": [
       "                                      Subject id  % identity  \\\n",
       "Query id                                                       \n",
       "bin_71.fasta_02748               nag:AArcMg_2339        58.9   \n",
       "bin_3.fasta_02341   318996.AXAZ01000033_gene6450        62.5   \n",
       "\n",
       "                    alignment length  mismatches  gap openings  q. start  \\\n",
       "Query id                                                                   \n",
       "bin_71.fasta_02748               202          83             0       621   \n",
       "bin_3.fasta_02341                 48          18             0       493   \n",
       "\n",
       "                    q. end  s. start  s. end       e-value  score  \n",
       "Query id                                                           \n",
       "bin_71.fasta_02748      16        16     217  2.800000e-74  246.0  \n",
       "bin_3.fasta_02341      636         1      48  1.300000e-12   66.2  "
      ]
     },
     "execution_count": 13,
     "metadata": {},
     "output_type": "execute_result"
    }
   ],
   "source": [
    "diamond = (\n",
    "    diamond.sort_values(by=[\"e-value\", \"score\"], ascending=[True, False])\n",
    "    .drop_duplicates(\"Query id\", keep=\"first\")\n",
    "    .set_index(\"Query id\")\n",
    ")\n",
    "diamond"
   ]
  },
  {
   "attachments": {},
   "cell_type": "markdown",
   "id": "5b93ff5b-e48a-4ea9-84ec-9e5d2c330b5f",
   "metadata": {},
   "source": [
    "### Inspect E-values from aligned orthologous genes before filtering by e-value"
   ]
  },
  {
   "cell_type": "code",
   "execution_count": 14,
   "id": "99f753e2-871b-4fd7-9c65-f55a36ed2546",
   "metadata": {
    "tags": []
   },
   "outputs": [
    {
     "data": {
      "text/plain": [
       "array([[<AxesSubplot:title={'center':'e-value'}>]], dtype=object)"
      ]
     },
     "execution_count": 14,
     "metadata": {},
     "output_type": "execute_result"
    },
    {
     "data": {
      "image/png": "[encoded data removed]",
      "text/plain": [
       "<Figure size 432x288 with 1 Axes>"
      ]
     },
     "metadata": {
      "needs_background": "light"
     },
     "output_type": "display_data"
    }
   ],
   "source": [
    "diamond.hist(\"e-value\")"
   ]
  },
  {
   "attachments": {},
   "cell_type": "markdown",
   "id": "090783cb-1cc7-49a0-bf75-a18683dd8262",
   "metadata": {},
   "source": [
    "### Inspect E-values from aligned orthologous genes after filtering by e-value\n",
    "\n",
    "We need to set a threshold:"
   ]
  },
  {
   "cell_type": "code",
   "execution_count": 15,
   "id": "ce8f9609-91d1-469e-8370-1326cc5054e5",
   "metadata": {
    "tags": []
   },
   "outputs": [],
   "source": [
    "evalue_threshold = 0.0001"
   ]
  },
  {
   "cell_type": "code",
   "execution_count": 16,
   "id": "a174e5b6-a092-474a-b832-d770fc382f7f",
   "metadata": {
    "tags": []
   },
   "outputs": [],
   "source": [
    "diamond = diamond.loc[diamond[\"e-value\"] < evalue_threshold]"
   ]
  },
  {
   "cell_type": "code",
   "execution_count": 17,
   "id": "31f0a7a1-bf4a-4319-ab39-fb1be0b35e23",
   "metadata": {
    "tags": []
   },
   "outputs": [
    {
     "data": {
      "text/plain": [
       "array([[<AxesSubplot:title={'center':'e-value'}>]], dtype=object)"
      ]
     },
     "execution_count": 17,
     "metadata": {},
     "output_type": "execute_result"
    },
    {
     "data": {
      "image/png": "[encoded data removed]",
      "text/plain": [
       "<Figure size 432x288 with 1 Axes>"
      ]
     },
     "metadata": {
      "needs_background": "light"
     },
     "output_type": "display_data"
    }
   ],
   "source": [
    "diamond.hist(\"e-value\")"
   ]
  },
  {
   "cell_type": "code",
   "execution_count": 18,
   "id": "3c455b9d-2113-4d81-a97f-c04973a8dc29",
   "metadata": {
    "tags": []
   },
   "outputs": [
    {
     "name": "stdout",
     "output_type": "stream",
     "text": [
      "There are 2 unique orthologous genes\n"
     ]
    }
   ],
   "source": [
    "val = len(set(diamond[\"Subject id\"]))\n",
    "print(f\"There are {val} unique orthologous genes\")"
   ]
  },
  {
   "attachments": {},
   "cell_type": "markdown",
   "id": "bdeaacd7-2ef4-4441-adea-99df6cdb1390",
   "metadata": {
    "tags": []
   },
   "source": [
    "### Inspect % identity and aligment length"
   ]
  },
  {
   "cell_type": "code",
   "execution_count": 19,
   "id": "16ee4816-ee69-404f-be0e-566c7745b6fc",
   "metadata": {
    "tags": []
   },
   "outputs": [
    {
     "data": {
      "text/plain": [
       "array([[<AxesSubplot:title={'center':'alignment length'}>]], dtype=object)"
      ]
     },
     "execution_count": 19,
     "metadata": {},
     "output_type": "execute_result"
    },
    {
     "data": {
      "image/png": "[encoded data removed]",
      "text/plain": [
       "<Figure size 432x288 with 1 Axes>"
      ]
     },
     "metadata": {
      "needs_background": "light"
     },
     "output_type": "display_data"
    }
   ],
   "source": [
    "diamond.hist(\"alignment length\")"
   ]
  },
  {
   "cell_type": "code",
   "execution_count": 20,
   "id": "a6b6775a-a1ee-403a-b908-f09fe46314d0",
   "metadata": {
    "tags": []
   },
   "outputs": [
    {
     "data": {
      "text/plain": [
       "array([[<AxesSubplot:title={'center':'% identity'}>]], dtype=object)"
      ]
     },
     "execution_count": 20,
     "metadata": {},
     "output_type": "execute_result"
    },
    {
     "data": {
      "image/png": "[encoded data removed]",
      "text/plain": [
       "<Figure size 432x288 with 1 Axes>"
      ]
     },
     "metadata": {
      "needs_background": "light"
     },
     "output_type": "display_data"
    }
   ],
   "source": [
    "diamond.hist(\"% identity\")"
   ]
  },
  {
   "cell_type": "code",
   "execution_count": 21,
   "id": "163a2749",
   "metadata": {},
   "outputs": [
    {
     "data": {
      "text/html": [
       "<div>\n",
       "<style scoped>\n",
       "    .dataframe tbody tr th:only-of-type {\n",
       "        vertical-align: middle;\n",
       "    }\n",
       "\n",
       "    .dataframe tbody tr th {\n",
       "        vertical-align: top;\n",
       "    }\n",
       "\n",
       "    .dataframe thead th {\n",
       "        text-align: right;\n",
       "    }\n",
       "</style>\n",
       "<table border=\"1\" class=\"dataframe\">\n",
       "  <thead>\n",
       "    <tr style=\"text-align: right;\">\n",
       "      <th></th>\n",
       "      <th>Subject id</th>\n",
       "      <th>% identity</th>\n",
       "      <th>alignment length</th>\n",
       "      <th>mismatches</th>\n",
       "      <th>gap openings</th>\n",
       "      <th>q. start</th>\n",
       "      <th>q. end</th>\n",
       "      <th>s. start</th>\n",
       "      <th>s. end</th>\n",
       "      <th>e-value</th>\n",
       "      <th>score</th>\n",
       "    </tr>\n",
       "    <tr>\n",
       "      <th>Query id</th>\n",
       "      <th></th>\n",
       "      <th></th>\n",
       "      <th></th>\n",
       "      <th></th>\n",
       "      <th></th>\n",
       "      <th></th>\n",
       "      <th></th>\n",
       "      <th></th>\n",
       "      <th></th>\n",
       "      <th></th>\n",
       "      <th></th>\n",
       "    </tr>\n",
       "  </thead>\n",
       "  <tbody>\n",
       "    <tr>\n",
       "      <th>bin_71.fasta_02748</th>\n",
       "      <td>nag:AArcMg_2339</td>\n",
       "      <td>58.9</td>\n",
       "      <td>202</td>\n",
       "      <td>83</td>\n",
       "      <td>0</td>\n",
       "      <td>621</td>\n",
       "      <td>16</td>\n",
       "      <td>16</td>\n",
       "      <td>217</td>\n",
       "      <td>2.800000e-74</td>\n",
       "      <td>246.0</td>\n",
       "    </tr>\n",
       "    <tr>\n",
       "      <th>bin_3.fasta_02341</th>\n",
       "      <td>318996.AXAZ01000033_gene6450</td>\n",
       "      <td>62.5</td>\n",
       "      <td>48</td>\n",
       "      <td>18</td>\n",
       "      <td>0</td>\n",
       "      <td>493</td>\n",
       "      <td>636</td>\n",
       "      <td>1</td>\n",
       "      <td>48</td>\n",
       "      <td>1.300000e-12</td>\n",
       "      <td>66.2</td>\n",
       "    </tr>\n",
       "  </tbody>\n",
       "</table>\n",
       "</div>"
      ],
      "text/plain": [
       "                                      Subject id  % identity  \\\n",
       "Query id                                                       \n",
       "bin_71.fasta_02748               nag:AArcMg_2339        58.9   \n",
       "bin_3.fasta_02341   318996.AXAZ01000033_gene6450        62.5   \n",
       "\n",
       "                    alignment length  mismatches  gap openings  q. start  \\\n",
       "Query id                                                                   \n",
       "bin_71.fasta_02748               202          83             0       621   \n",
       "bin_3.fasta_02341                 48          18             0       493   \n",
       "\n",
       "                    q. end  s. start  s. end       e-value  score  \n",
       "Query id                                                           \n",
       "bin_71.fasta_02748      16        16     217  2.800000e-74  246.0  \n",
       "bin_3.fasta_02341      636         1      48  1.300000e-12   66.2  "
      ]
     },
     "execution_count": 21,
     "metadata": {},
     "output_type": "execute_result"
    }
   ],
   "source": [
    "diamond"
   ]
  },
  {
   "cell_type": "code",
   "execution_count": 22,
   "id": "06075ab0",
   "metadata": {},
   "outputs": [
    {
     "data": {
      "text/plain": [
       "Text(0, 0.5, 'Mistmatches')"
      ]
     },
     "execution_count": 22,
     "metadata": {},
     "output_type": "execute_result"
    },
    {
     "data": {
      "image/png": "[encoded data removed]",
      "text/plain": [
       "<Figure size 432x288 with 1 Axes>"
      ]
     },
     "metadata": {
      "needs_background": "light"
     },
     "output_type": "display_data"
    }
   ],
   "source": [
    "plt.scatter(diamond[\"alignment length\"], diamond.mismatches, alpha=0.6)\n",
    "plt.title(\"Mistmatches distribution after preprocessingh\")\n",
    "plt.xlabel(\"Alignment length\")\n",
    "plt.ylabel(\"Mistmatches\")"
   ]
  },
  {
   "attachments": {},
   "cell_type": "markdown",
   "id": "3145e306",
   "metadata": {},
   "source": [
    "## Attention !!\n",
    "Please, consider the previous information to set the threshold for the e-value and the % identity."
   ]
  },
  {
   "attachments": {},
   "cell_type": "markdown",
   "id": "a1bcae6d-70a5-4318-8206-2aaddf15bb62",
   "metadata": {},
   "source": [
    "### Merging aligned genes and count table\n",
    "First, we are going to drop all columns except for ContigsID and orthologous genes header (to obtain map table). "
   ]
  },
  {
   "cell_type": "code",
   "execution_count": 23,
   "id": "407b00ee-8a22-483c-9cf7-37a0abe76de4",
   "metadata": {
    "tags": []
   },
   "outputs": [
    {
     "data": {
      "text/html": [
       "<div>\n",
       "<style scoped>\n",
       "    .dataframe tbody tr th:only-of-type {\n",
       "        vertical-align: middle;\n",
       "    }\n",
       "\n",
       "    .dataframe tbody tr th {\n",
       "        vertical-align: top;\n",
       "    }\n",
       "\n",
       "    .dataframe thead th {\n",
       "        text-align: right;\n",
       "    }\n",
       "</style>\n",
       "<table border=\"1\" class=\"dataframe\">\n",
       "  <thead>\n",
       "    <tr style=\"text-align: right;\">\n",
       "      <th></th>\n",
       "      <th>Subject id</th>\n",
       "    </tr>\n",
       "    <tr>\n",
       "      <th>Query id</th>\n",
       "      <th></th>\n",
       "    </tr>\n",
       "  </thead>\n",
       "  <tbody>\n",
       "    <tr>\n",
       "      <th>bin_71.fasta_02748</th>\n",
       "      <td>nag:AArcMg_2339</td>\n",
       "    </tr>\n",
       "    <tr>\n",
       "      <th>bin_3.fasta_02341</th>\n",
       "      <td>318996.AXAZ01000033_gene6450</td>\n",
       "    </tr>\n",
       "  </tbody>\n",
       "</table>\n",
       "</div>"
      ],
      "text/plain": [
       "                                      Subject id\n",
       "Query id                                        \n",
       "bin_71.fasta_02748               nag:AArcMg_2339\n",
       "bin_3.fasta_02341   318996.AXAZ01000033_gene6450"
      ]
     },
     "execution_count": 23,
     "metadata": {},
     "output_type": "execute_result"
    }
   ],
   "source": [
    "map_table = diamond[[\"Subject id\"]]\n",
    "map_table"
   ]
  },
  {
   "cell_type": "markdown",
   "id": "17b043d8",
   "metadata": {},
   "source": [
    "Now, we create an extra column with the bin name."
   ]
  },
  {
   "cell_type": "code",
   "execution_count": 24,
   "id": "4dc6e3b1",
   "metadata": {},
   "outputs": [
    {
     "name": "stderr",
     "output_type": "stream",
     "text": [
      "/software/anaconda3/envs/jupyter-diamond/lib/python3.6/site-packages/ipykernel_launcher.py:2: SettingWithCopyWarning: \n",
      "A value is trying to be set on a copy of a slice from a DataFrame.\n",
      "Try using .loc[row_indexer,col_indexer] = value instead\n",
      "\n",
      "See the caveats in the documentation: https://pandas.pydata.org/pandas-docs/stable/user_guide/indexing.html#returning-a-view-versus-a-copy\n",
      "  \n"
     ]
    },
    {
     "data": {
      "text/html": [
       "<div>\n",
       "<style scoped>\n",
       "    .dataframe tbody tr th:only-of-type {\n",
       "        vertical-align: middle;\n",
       "    }\n",
       "\n",
       "    .dataframe tbody tr th {\n",
       "        vertical-align: top;\n",
       "    }\n",
       "\n",
       "    .dataframe thead th {\n",
       "        text-align: right;\n",
       "    }\n",
       "</style>\n",
       "<table border=\"1\" class=\"dataframe\">\n",
       "  <thead>\n",
       "    <tr style=\"text-align: right;\">\n",
       "      <th></th>\n",
       "      <th>Subject id</th>\n",
       "      <th>bin</th>\n",
       "    </tr>\n",
       "    <tr>\n",
       "      <th>Query id</th>\n",
       "      <th></th>\n",
       "      <th></th>\n",
       "    </tr>\n",
       "  </thead>\n",
       "  <tbody>\n",
       "    <tr>\n",
       "      <th>bin_71.fasta_02748</th>\n",
       "      <td>nag:AArcMg_2339</td>\n",
       "      <td>bin_71</td>\n",
       "    </tr>\n",
       "    <tr>\n",
       "      <th>bin_3.fasta_02341</th>\n",
       "      <td>318996.AXAZ01000033_gene6450</td>\n",
       "      <td>bin_3</td>\n",
       "    </tr>\n",
       "  </tbody>\n",
       "</table>\n",
       "</div>"
      ],
      "text/plain": [
       "                                      Subject id     bin\n",
       "Query id                                                \n",
       "bin_71.fasta_02748               nag:AArcMg_2339  bin_71\n",
       "bin_3.fasta_02341   318996.AXAZ01000033_gene6450   bin_3"
      ]
     },
     "execution_count": 24,
     "metadata": {},
     "output_type": "execute_result"
    }
   ],
   "source": [
    "# Get everything before first '.'\n",
    "map_table['bin'] = map_table.index.str.split(\".\").str[0] \n",
    "map_table"
   ]
  },
  {
   "attachments": {},
   "cell_type": "markdown",
   "id": "7a7cc510-b6b3-4b2f-a84a-75fe989ac5f0",
   "metadata": {
    "tags": []
   },
   "source": [
    "Now, we are going to merge both files by their column in common (ContigID and Subject id)."
   ]
  },
  {
   "cell_type": "code",
   "execution_count": 25,
   "id": "7ad61d06-8a87-4dee-a173-b915153efed6",
   "metadata": {
    "tags": []
   },
   "outputs": [
    {
     "data": {
      "text/html": [
       "<div>\n",
       "<style scoped>\n",
       "    .dataframe tbody tr th:only-of-type {\n",
       "        vertical-align: middle;\n",
       "    }\n",
       "\n",
       "    .dataframe tbody tr th {\n",
       "        vertical-align: top;\n",
       "    }\n",
       "\n",
       "    .dataframe thead th {\n",
       "        text-align: right;\n",
       "    }\n",
       "</style>\n",
       "<table border=\"1\" class=\"dataframe\">\n",
       "  <thead>\n",
       "    <tr style=\"text-align: right;\">\n",
       "      <th></th>\n",
       "      <th>Subject id</th>\n",
       "      <th>bin</th>\n",
       "      <th>Count</th>\n",
       "    </tr>\n",
       "  </thead>\n",
       "  <tbody>\n",
       "    <tr>\n",
       "      <th>0</th>\n",
       "      <td>nag:AArcMg_2339</td>\n",
       "      <td>bin_71</td>\n",
       "      <td>185</td>\n",
       "    </tr>\n",
       "    <tr>\n",
       "      <th>1</th>\n",
       "      <td>318996.AXAZ01000033_gene6450</td>\n",
       "      <td>bin_3</td>\n",
       "      <td>90</td>\n",
       "    </tr>\n",
       "  </tbody>\n",
       "</table>\n",
       "</div>"
      ],
      "text/plain": [
       "                     Subject id     bin  Count\n",
       "0               nag:AArcMg_2339  bin_71    185\n",
       "1  318996.AXAZ01000033_gene6450   bin_3     90"
      ]
     },
     "execution_count": 25,
     "metadata": {},
     "output_type": "execute_result"
    }
   ],
   "source": [
    "df = pd.merge(map_table, counts, left_index=True, right_index=True).reset_index(\n",
    "    drop=True\n",
    ")\n",
    "df"
   ]
  },
  {
   "cell_type": "markdown",
   "id": "1b73bbd3",
   "metadata": {},
   "source": [
    "Finally, we are going to make the table wider (from long format to wide format) and fill the empty values with 0. "
   ]
  },
  {
   "cell_type": "code",
   "execution_count": 26,
   "id": "c404e15d",
   "metadata": {},
   "outputs": [
    {
     "data": {
      "text/html": [
       "<div>\n",
       "<style scoped>\n",
       "    .dataframe tbody tr th:only-of-type {\n",
       "        vertical-align: middle;\n",
       "    }\n",
       "\n",
       "    .dataframe tbody tr th {\n",
       "        vertical-align: top;\n",
       "    }\n",
       "\n",
       "    .dataframe thead th {\n",
       "        text-align: right;\n",
       "    }\n",
       "</style>\n",
       "<table border=\"1\" class=\"dataframe\">\n",
       "  <thead>\n",
       "    <tr style=\"text-align: right;\">\n",
       "      <th></th>\n",
       "      <th>Subject id</th>\n",
       "      <th>bin_3</th>\n",
       "      <th>bin_71</th>\n",
       "    </tr>\n",
       "  </thead>\n",
       "  <tbody>\n",
       "    <tr>\n",
       "      <th>0</th>\n",
       "      <td>318996.AXAZ01000033_gene6450</td>\n",
       "      <td>90</td>\n",
       "      <td>0</td>\n",
       "    </tr>\n",
       "    <tr>\n",
       "      <th>1</th>\n",
       "      <td>nag:AArcMg_2339</td>\n",
       "      <td>0</td>\n",
       "      <td>185</td>\n",
       "    </tr>\n",
       "  </tbody>\n",
       "</table>\n",
       "</div>"
      ],
      "text/plain": [
       "                     Subject id  bin_3  bin_71\n",
       "0  318996.AXAZ01000033_gene6450     90       0\n",
       "1               nag:AArcMg_2339      0     185"
      ]
     },
     "execution_count": 26,
     "metadata": {},
     "output_type": "execute_result"
    }
   ],
   "source": [
    "df_transformed = df.pivot_table(index='Subject id', columns='bin', values='Count', fill_value=0, aggfunc='sum')\n",
    "df_transformed.reset_index(inplace=True)\n",
    "df_transformed.columns.name = None\n",
    "# Arrange columns so Subject id is first, then sort\n",
    "df_transformed = df_transformed[[\"Subject id\"] + sorted(df_transformed.columns[1:])]\n",
    "df_transformed\n"
   ]
  },
  {
   "attachments": {},
   "cell_type": "markdown",
   "id": "e16060fc-3363-4f9b-a4c7-40e7e64a64b5",
   "metadata": {},
   "source": [
    "# Annotation\n",
    "First, let read the annotation file into a pandas table:"
   ]
  },
  {
   "cell_type": "code",
   "execution_count": 27,
   "id": "ee627bde",
   "metadata": {},
   "outputs": [
    {
     "data": {
      "text/html": [
       "<div>\n",
       "<style scoped>\n",
       "    .dataframe tbody tr th:only-of-type {\n",
       "        vertical-align: middle;\n",
       "    }\n",
       "\n",
       "    .dataframe tbody tr th {\n",
       "        vertical-align: top;\n",
       "    }\n",
       "\n",
       "    .dataframe thead th {\n",
       "        text-align: right;\n",
       "    }\n",
       "</style>\n",
       "<table border=\"1\" class=\"dataframe\">\n",
       "  <thead>\n",
       "    <tr style=\"text-align: right;\">\n",
       "      <th></th>\n",
       "      <th>name</th>\n",
       "      <th>gene</th>\n",
       "      <th>source</th>\n",
       "    </tr>\n",
       "  </thead>\n",
       "  <tbody>\n",
       "    <tr>\n",
       "      <th>0</th>\n",
       "      <td>WP_124191457.1</td>\n",
       "      <td>acuI</td>\n",
       "      <td>UniProt</td>\n",
       "    </tr>\n",
       "    <tr>\n",
       "      <th>1</th>\n",
       "      <td>WP_137694993.1</td>\n",
       "      <td>acuI</td>\n",
       "      <td>UniProt</td>\n",
       "    </tr>\n",
       "    <tr>\n",
       "      <th>2</th>\n",
       "      <td>WP_053938022.1</td>\n",
       "      <td>acuI</td>\n",
       "      <td>UniProt</td>\n",
       "    </tr>\n",
       "    <tr>\n",
       "      <th>3</th>\n",
       "      <td>WP_004812046.1</td>\n",
       "      <td>acuI</td>\n",
       "      <td>UniProt</td>\n",
       "    </tr>\n",
       "    <tr>\n",
       "      <th>4</th>\n",
       "      <td>WP_032226573.1</td>\n",
       "      <td>acuI</td>\n",
       "      <td>UniProt</td>\n",
       "    </tr>\n",
       "    <tr>\n",
       "      <th>...</th>\n",
       "      <td>...</td>\n",
       "      <td>...</td>\n",
       "      <td>...</td>\n",
       "    </tr>\n",
       "    <tr>\n",
       "      <th>579051</th>\n",
       "      <td>sphk:SKP52_04140</td>\n",
       "      <td>yihQ</td>\n",
       "      <td>KEGG</td>\n",
       "    </tr>\n",
       "    <tr>\n",
       "      <th>579052</th>\n",
       "      <td>lei:C2U54_04500</td>\n",
       "      <td>yihQ</td>\n",
       "      <td>KEGG</td>\n",
       "    </tr>\n",
       "    <tr>\n",
       "      <th>579053</th>\n",
       "      <td>ata:AWN88_03325</td>\n",
       "      <td>yihQ</td>\n",
       "      <td>KEGG</td>\n",
       "    </tr>\n",
       "    <tr>\n",
       "      <th>579054</th>\n",
       "      <td>esa:ESA_04054</td>\n",
       "      <td>yihQ</td>\n",
       "      <td>KEGG</td>\n",
       "    </tr>\n",
       "    <tr>\n",
       "      <th>579055</th>\n",
       "      <td>A0A564I479</td>\n",
       "      <td>yihQ</td>\n",
       "      <td>UniProt</td>\n",
       "    </tr>\n",
       "  </tbody>\n",
       "</table>\n",
       "<p>579056 rows × 3 columns</p>\n",
       "</div>"
      ],
      "text/plain": [
       "                    name  gene   source\n",
       "0         WP_124191457.1  acuI  UniProt\n",
       "1         WP_137694993.1  acuI  UniProt\n",
       "2         WP_053938022.1  acuI  UniProt\n",
       "3         WP_004812046.1  acuI  UniProt\n",
       "4         WP_032226573.1  acuI  UniProt\n",
       "...                  ...   ...      ...\n",
       "579051  sphk:SKP52_04140  yihQ     KEGG\n",
       "579052   lei:C2U54_04500  yihQ     KEGG\n",
       "579053   ata:AWN88_03325  yihQ     KEGG\n",
       "579054     esa:ESA_04054  yihQ     KEGG\n",
       "579055        A0A564I479  yihQ  UniProt\n",
       "\n",
       "[579056 rows x 3 columns]"
      ]
     },
     "execution_count": 27,
     "metadata": {},
     "output_type": "execute_result"
    }
   ],
   "source": [
    "annotations = pd.read_csv(\n",
    "    annotation_file,header=None, delimiter='\\t',\n",
    "    names = ['name', 'gene', 'source']\n",
    "    )\n",
    "annotations"
   ]
  },
  {
   "cell_type": "markdown",
   "id": "2d3caa6b",
   "metadata": {},
   "source": [
    "Now, we merge both tables by their column in common (Subject id and orthologous genes header)"
   ]
  },
  {
   "cell_type": "code",
   "execution_count": 28,
   "id": "4b234549",
   "metadata": {},
   "outputs": [],
   "source": [
    "df_transformed = df_transformed.merge(\n",
    "    annotations, left_on='Subject id',\n",
    "    right_on='name', how = 'left'\n",
    "    ).set_index('name')"
   ]
  },
  {
   "cell_type": "markdown",
   "id": "b56ac051",
   "metadata": {},
   "source": [
    "The database includes non-sulfurus genes (to reduce the number of false positives). Those entries either have no annotation. We are going to remove them from the table:"
   ]
  },
  {
   "cell_type": "code",
   "execution_count": 29,
   "id": "f70b5f5d",
   "metadata": {},
   "outputs": [
    {
     "data": {
      "text/html": [
       "<div>\n",
       "<style scoped>\n",
       "    .dataframe tbody tr th:only-of-type {\n",
       "        vertical-align: middle;\n",
       "    }\n",
       "\n",
       "    .dataframe tbody tr th {\n",
       "        vertical-align: top;\n",
       "    }\n",
       "\n",
       "    .dataframe thead th {\n",
       "        text-align: right;\n",
       "    }\n",
       "</style>\n",
       "<table border=\"1\" class=\"dataframe\">\n",
       "  <thead>\n",
       "    <tr style=\"text-align: right;\">\n",
       "      <th></th>\n",
       "      <th>Subject id</th>\n",
       "      <th>bin_3</th>\n",
       "      <th>bin_71</th>\n",
       "      <th>gene</th>\n",
       "      <th>source</th>\n",
       "    </tr>\n",
       "    <tr>\n",
       "      <th>name</th>\n",
       "      <th></th>\n",
       "      <th></th>\n",
       "      <th></th>\n",
       "      <th></th>\n",
       "      <th></th>\n",
       "    </tr>\n",
       "  </thead>\n",
       "  <tbody>\n",
       "  </tbody>\n",
       "</table>\n",
       "</div>"
      ],
      "text/plain": [
       "Empty DataFrame\n",
       "Columns: [Subject id, bin_3, bin_71, gene, source]\n",
       "Index: []"
      ]
     },
     "execution_count": 29,
     "metadata": {},
     "output_type": "execute_result"
    }
   ],
   "source": [
    "# Remove rows with NA\n",
    "df_transformed.dropna(inplace=True)\n",
    "df_transformed"
   ]
  },
  {
   "cell_type": "markdown",
   "id": "4ba6c8e9",
   "metadata": {},
   "source": [
    "Finally, we save the table:"
   ]
  },
  {
   "cell_type": "code",
   "execution_count": 30,
   "metadata": {},
   "outputs": [],
   "source": [
    "df_transformed.to_csv('../results/SCyDB_mags_matches_annotated.tsv', sep='\\t')"
   ]
  }
 ],
 "metadata": {
  "kernelspec": {
   "display_name": "Python 3 (ipykernel)",
   "language": "python",
   "name": "python3"
  },
  "language_info": {
   "codemirror_mode": {
    "name": "ipython",
    "version": 3
   },
   "file_extension": ".py",
   "mimetype": "text/x-python",
   "name": "python",
   "nbconvert_exporter": "python",
   "pygments_lexer": "ipython3",
   "version": "3.6.15"
  }
 },
 "nbformat": 4,
 "nbformat_minor": 5
}
