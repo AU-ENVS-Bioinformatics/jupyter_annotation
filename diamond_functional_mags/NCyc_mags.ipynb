{
 "cells": [
  {
   "attachments": {},
   "cell_type": "markdown",
   "id": "4a6a5bb1-1d72-44c8-975d-b2d7a60fa30e",
   "metadata": {},
   "source": [
    "## Functional annotation of TotalRNA against NCyc\n",
    "\n",
    "This notebook is part of the analysis of the MAGs. \n",
    "\n",
    "## How to run Jupyter notebooks in huginn\n",
    "<details>\n",
    "<summary>Click to expand!</summary>\n",
    "\n",
    "If you use vs-code you can use the [remote ssh extension](https://marketplace.visualstudio.com/items?itemName=ms-vscode-remote.remote-ssh) to connect to huginn and either run jupyterlab in the remote server (so to say, just like you would do in your local computer with `jupyter-lab`) or run directly without opening jupyterlab directly. \n",
    "\n",
    "Otherwise, you can follow the instructions below: \n",
    "\n",
    "1. Turn on VPN\n",
    "2. Open two terminals (let's called A and B)\n",
    "3. With terminal A, connect to huginn with ssh as usual\n",
    "```bash\n",
    "ssh username@huginn.au.dk\n",
    "```\n",
    "4. Move to the directory where you want to work, activate the conda enviroment and run jupyter notebook or jupyter lab:\n",
    "```bash\n",
    "conda activate jupyter-diamond\n",
    "jupyter notebook --no-browser --port=7777\n",
    "```\n",
    "5. With terminal B, connect to huginn and forward the port specified port to your local computer\n",
    "```bash\n",
    "ssh -Y -N -L localhost:7777:localhost:7777 username@huginn.au.dk\n",
    "```\n",
    "6. Open your browser and go to `localhost:7777` and you should see the jupyter notebook running in huginn. You can also press in the url of Terminal A. \n",
    "\n",
    "Troubleshooting:\n",
    "- If you get an error like `bind: Address already in use` it means that you have another jupyter notebook running in the same port. You can either kill the process or change the port.\n",
    "</details>\n",
    "\n",
    "## How to create a new environment for this notebook (if needed)\n",
    "\n",
    "We will use Diamond, a few python basic libraries and bash. Let's check if those dependencies are installed. If not, you can install them with mamba (as well with jupyterlab)\n",
    "\n",
    "```bash\n",
    "# To create a new environment with mamba\n",
    "mamba create -c bioconda -c conda-forge diamond pandas matplotlib jupyterlab -n jupyter-diamond\n",
    "# To activate the environment\n",
    "conda activate jupyter-diamond\n",
    "```\n",
    "\n",
    "### Sanity check"
   ]
  },
  {
   "cell_type": "code",
   "execution_count": 27,
   "id": "c20b6ded",
   "metadata": {},
   "outputs": [
    {
     "name": "stdout",
     "output_type": "stream",
     "text": [
      "diamond version 2.1.8\n",
      "1.1.5\n",
      "3.3.4\n",
      "GNU bash, version 4.4.20(1)-release (x86_64-pc-linux-gnu)\n"
     ]
    }
   ],
   "source": [
    "%%bash\n",
    "diamond --version\n",
    "python -c \"import pandas; print(pandas.__version__)\"\n",
    "python -c \"import matplotlib; print(matplotlib.__version__)\"\n",
    "bash --version | head -n 1"
   ]
  },
  {
   "cell_type": "code",
   "execution_count": 28,
   "id": "5b69f327",
   "metadata": {},
   "outputs": [],
   "source": [
    "import pandas as pd\n",
    "import matplotlib.pyplot as plt\n",
    "import os"
   ]
  },
  {
   "attachments": {},
   "cell_type": "markdown",
   "id": "fe1eec65",
   "metadata": {},
   "source": [
    "The input is the fasta file with contigs and the count table. "
   ]
  },
  {
   "cell_type": "code",
   "execution_count": 29,
   "id": "aeb85dfd",
   "metadata": {},
   "outputs": [],
   "source": [
    "fasta_file = \"../data/mags.fasta\"\n",
    "count_table = \"../data/mags.tsv\"\n",
    "## Sanity check: trinity and count table exit\n",
    "assert os.path.exists(fasta_file), \"Fasta file does not exist\"\n",
    "assert os.path.exists(count_table), \"Count table does not exist\""
   ]
  },
  {
   "attachments": {},
   "cell_type": "markdown",
   "id": "463c39ff-2d1a-4427-94ea-8ab9bf1ca64a",
   "metadata": {},
   "source": [
    "## Run Diamond "
   ]
  },
  {
   "cell_type": "code",
   "execution_count": 30,
   "id": "bc06bea6",
   "metadata": {},
   "outputs": [],
   "source": [
    "database = '/data_2/Databases/NCyc/NCyc_100.dmnd'\n",
    "outfile_matches = \"../results/NCyc_matches_mags.tsv\""
   ]
  },
  {
   "cell_type": "code",
   "execution_count": 31,
   "id": "d3d27106",
   "metadata": {},
   "outputs": [],
   "source": [
    "%%bash\n",
    "mkdir -p ../results/"
   ]
  },
  {
   "cell_type": "markdown",
   "id": "502e0e17",
   "metadata": {},
   "source": [
    "**Please, be aware that, without using any sensitivity option, the default mode is designed for finding hits of >60% identity. Consider increasing the sensitivity (or decreasing it).**"
   ]
  },
  {
   "cell_type": "code",
   "execution_count": 32,
   "id": "b44d881c",
   "metadata": {},
   "outputs": [
    {
     "name": "stdout",
     "output_type": "stream",
     "text": [
      "bin_37.fasta_02940\tK9LK60\t100\t70\t0\t0\t2\t211\t2\t71\t3.51e-46\t154\n",
      "bin_37.fasta_02940\tK9LJH4\t100\t70\t0\t0\t2\t211\t9\t78\t4.29e-46\t154\n",
      "bin_37.fasta_02940\tK9LLC3\t98.6\t70\t1\t0\t2\t211\t2\t71\t4.94e-46\t154\n",
      "bin_37.fasta_02940\tK9LJE8\t91.3\t69\t6\t0\t5\t211\t1\t69\t1.21e-42\t145\n",
      "bin_37.fasta_02940\tK9LKW7\t92.8\t69\t5\t0\t5\t211\t1\t69\t1.70e-42\t145\n",
      "bin_37.fasta_02940\tA0A0F6QD98\t100\t70\t0\t0\t2\t211\t365\t434\t6.40e-42\t154\n",
      "bin_37.fasta_02940\tA0A0F6QEU1\t100\t70\t0\t0\t2\t211\t365\t434\t6.40e-42\t154\n",
      "bin_37.fasta_02940\tA0A0F6T277\t100\t70\t0\t0\t2\t211\t365\t434\t6.40e-42\t154\n",
      "bin_37.fasta_02940\tA0A0F6QEC8\t100\t70\t0\t0\t2\t211\t365\t434\t6.40e-42\t154\n",
      "bin_37.fasta_02940\tA0A0F6QEU8\t100\t70\t0\t0\t2\t211\t365\t434\t6.40e-42\t154\n"
     ]
    }
   ],
   "source": [
    "%%bash -s \"$database\" \"$fasta_file\" \"$outfile_matches\"\n",
    "if [ ! -f $3 ]; then\n",
    "diamond blastx -p 50 -d $1 -q $2 -o $3 2> /dev/null\n",
    "fi\n",
    "head $3"
   ]
  },
  {
   "attachments": {},
   "cell_type": "markdown",
   "id": "96fda5a8",
   "metadata": {},
   "source": [
    "## Parse Diamond output and preprocess"
   ]
  },
  {
   "cell_type": "code",
   "execution_count": 33,
   "id": "cb23723b-f70c-406b-849e-8635378d9c13",
   "metadata": {
    "tags": []
   },
   "outputs": [],
   "source": [
    "diamond = pd.read_csv(\n",
    "    outfile_matches,\n",
    "    delimiter=\"\\t\",\n",
    "    comment=\"#\",\n",
    "    header=None,\n",
    "    names=[\n",
    "        \"Query id\",\n",
    "        \"Subject id\",\n",
    "        \"% identity\",\n",
    "        \"alignment length\",\n",
    "        \"mismatches\",\n",
    "        \"gap openings\",\n",
    "        \"q. start\",\n",
    "        \"q. end\",\n",
    "        \"s. start\",\n",
    "        \"s. end\",\n",
    "        \"e-value\",\n",
    "        \"score\",\n",
    "    ],\n",
    ")"
   ]
  },
  {
   "attachments": {},
   "cell_type": "markdown",
   "id": "c6647858-4431-4377-8517-4458efa6a375",
   "metadata": {},
   "source": [
    "Now, we have a table with all the alignments between our \"genes\" and the database."
   ]
  },
  {
   "cell_type": "code",
   "execution_count": 34,
   "id": "9344c348-b68d-41cf-a049-cd4f05ecb2c5",
   "metadata": {
    "tags": []
   },
   "outputs": [
    {
     "data": {
      "text/html": [
       "<div>\n",
       "<style scoped>\n",
       "    .dataframe tbody tr th:only-of-type {\n",
       "        vertical-align: middle;\n",
       "    }\n",
       "\n",
       "    .dataframe tbody tr th {\n",
       "        vertical-align: top;\n",
       "    }\n",
       "\n",
       "    .dataframe thead th {\n",
       "        text-align: right;\n",
       "    }\n",
       "</style>\n",
       "<table border=\"1\" class=\"dataframe\">\n",
       "  <thead>\n",
       "    <tr style=\"text-align: right;\">\n",
       "      <th></th>\n",
       "      <th>Query id</th>\n",
       "      <th>Subject id</th>\n",
       "      <th>% identity</th>\n",
       "      <th>alignment length</th>\n",
       "      <th>mismatches</th>\n",
       "      <th>gap openings</th>\n",
       "      <th>q. start</th>\n",
       "      <th>q. end</th>\n",
       "      <th>s. start</th>\n",
       "      <th>s. end</th>\n",
       "      <th>e-value</th>\n",
       "      <th>score</th>\n",
       "    </tr>\n",
       "  </thead>\n",
       "  <tbody>\n",
       "    <tr>\n",
       "      <th>0</th>\n",
       "      <td>bin_37.fasta_02940</td>\n",
       "      <td>K9LK60</td>\n",
       "      <td>100.0</td>\n",
       "      <td>70</td>\n",
       "      <td>0</td>\n",
       "      <td>0</td>\n",
       "      <td>2</td>\n",
       "      <td>211</td>\n",
       "      <td>2</td>\n",
       "      <td>71</td>\n",
       "      <td>3.510000e-46</td>\n",
       "      <td>154</td>\n",
       "    </tr>\n",
       "    <tr>\n",
       "      <th>1</th>\n",
       "      <td>bin_37.fasta_02940</td>\n",
       "      <td>K9LJH4</td>\n",
       "      <td>100.0</td>\n",
       "      <td>70</td>\n",
       "      <td>0</td>\n",
       "      <td>0</td>\n",
       "      <td>2</td>\n",
       "      <td>211</td>\n",
       "      <td>9</td>\n",
       "      <td>78</td>\n",
       "      <td>4.290000e-46</td>\n",
       "      <td>154</td>\n",
       "    </tr>\n",
       "    <tr>\n",
       "      <th>2</th>\n",
       "      <td>bin_37.fasta_02940</td>\n",
       "      <td>K9LLC3</td>\n",
       "      <td>98.6</td>\n",
       "      <td>70</td>\n",
       "      <td>1</td>\n",
       "      <td>0</td>\n",
       "      <td>2</td>\n",
       "      <td>211</td>\n",
       "      <td>2</td>\n",
       "      <td>71</td>\n",
       "      <td>4.940000e-46</td>\n",
       "      <td>154</td>\n",
       "    </tr>\n",
       "    <tr>\n",
       "      <th>3</th>\n",
       "      <td>bin_37.fasta_02940</td>\n",
       "      <td>K9LJE8</td>\n",
       "      <td>91.3</td>\n",
       "      <td>69</td>\n",
       "      <td>6</td>\n",
       "      <td>0</td>\n",
       "      <td>5</td>\n",
       "      <td>211</td>\n",
       "      <td>1</td>\n",
       "      <td>69</td>\n",
       "      <td>1.210000e-42</td>\n",
       "      <td>145</td>\n",
       "    </tr>\n",
       "    <tr>\n",
       "      <th>4</th>\n",
       "      <td>bin_37.fasta_02940</td>\n",
       "      <td>K9LKW7</td>\n",
       "      <td>92.8</td>\n",
       "      <td>69</td>\n",
       "      <td>5</td>\n",
       "      <td>0</td>\n",
       "      <td>5</td>\n",
       "      <td>211</td>\n",
       "      <td>1</td>\n",
       "      <td>69</td>\n",
       "      <td>1.700000e-42</td>\n",
       "      <td>145</td>\n",
       "    </tr>\n",
       "    <tr>\n",
       "      <th>5</th>\n",
       "      <td>bin_37.fasta_02940</td>\n",
       "      <td>A0A0F6QD98</td>\n",
       "      <td>100.0</td>\n",
       "      <td>70</td>\n",
       "      <td>0</td>\n",
       "      <td>0</td>\n",
       "      <td>2</td>\n",
       "      <td>211</td>\n",
       "      <td>365</td>\n",
       "      <td>434</td>\n",
       "      <td>6.400000e-42</td>\n",
       "      <td>154</td>\n",
       "    </tr>\n",
       "    <tr>\n",
       "      <th>6</th>\n",
       "      <td>bin_37.fasta_02940</td>\n",
       "      <td>A0A0F6QEU1</td>\n",
       "      <td>100.0</td>\n",
       "      <td>70</td>\n",
       "      <td>0</td>\n",
       "      <td>0</td>\n",
       "      <td>2</td>\n",
       "      <td>211</td>\n",
       "      <td>365</td>\n",
       "      <td>434</td>\n",
       "      <td>6.400000e-42</td>\n",
       "      <td>154</td>\n",
       "    </tr>\n",
       "    <tr>\n",
       "      <th>7</th>\n",
       "      <td>bin_37.fasta_02940</td>\n",
       "      <td>A0A0F6T277</td>\n",
       "      <td>100.0</td>\n",
       "      <td>70</td>\n",
       "      <td>0</td>\n",
       "      <td>0</td>\n",
       "      <td>2</td>\n",
       "      <td>211</td>\n",
       "      <td>365</td>\n",
       "      <td>434</td>\n",
       "      <td>6.400000e-42</td>\n",
       "      <td>154</td>\n",
       "    </tr>\n",
       "    <tr>\n",
       "      <th>8</th>\n",
       "      <td>bin_37.fasta_02940</td>\n",
       "      <td>A0A0F6QEC8</td>\n",
       "      <td>100.0</td>\n",
       "      <td>70</td>\n",
       "      <td>0</td>\n",
       "      <td>0</td>\n",
       "      <td>2</td>\n",
       "      <td>211</td>\n",
       "      <td>365</td>\n",
       "      <td>434</td>\n",
       "      <td>6.400000e-42</td>\n",
       "      <td>154</td>\n",
       "    </tr>\n",
       "    <tr>\n",
       "      <th>9</th>\n",
       "      <td>bin_37.fasta_02940</td>\n",
       "      <td>A0A0F6QEU8</td>\n",
       "      <td>100.0</td>\n",
       "      <td>70</td>\n",
       "      <td>0</td>\n",
       "      <td>0</td>\n",
       "      <td>2</td>\n",
       "      <td>211</td>\n",
       "      <td>365</td>\n",
       "      <td>434</td>\n",
       "      <td>6.400000e-42</td>\n",
       "      <td>154</td>\n",
       "    </tr>\n",
       "    <tr>\n",
       "      <th>10</th>\n",
       "      <td>bin_37.fasta_02940</td>\n",
       "      <td>A0A0F6QEE7</td>\n",
       "      <td>100.0</td>\n",
       "      <td>70</td>\n",
       "      <td>0</td>\n",
       "      <td>0</td>\n",
       "      <td>2</td>\n",
       "      <td>211</td>\n",
       "      <td>365</td>\n",
       "      <td>434</td>\n",
       "      <td>6.400000e-42</td>\n",
       "      <td>154</td>\n",
       "    </tr>\n",
       "    <tr>\n",
       "      <th>11</th>\n",
       "      <td>bin_37.fasta_02940</td>\n",
       "      <td>A0A0F6QDA6</td>\n",
       "      <td>100.0</td>\n",
       "      <td>70</td>\n",
       "      <td>0</td>\n",
       "      <td>0</td>\n",
       "      <td>2</td>\n",
       "      <td>211</td>\n",
       "      <td>365</td>\n",
       "      <td>434</td>\n",
       "      <td>6.400000e-42</td>\n",
       "      <td>154</td>\n",
       "    </tr>\n",
       "    <tr>\n",
       "      <th>12</th>\n",
       "      <td>bin_37.fasta_02940</td>\n",
       "      <td>A0A0F6QD87</td>\n",
       "      <td>100.0</td>\n",
       "      <td>70</td>\n",
       "      <td>0</td>\n",
       "      <td>0</td>\n",
       "      <td>2</td>\n",
       "      <td>211</td>\n",
       "      <td>365</td>\n",
       "      <td>434</td>\n",
       "      <td>6.400000e-42</td>\n",
       "      <td>154</td>\n",
       "    </tr>\n",
       "    <tr>\n",
       "      <th>13</th>\n",
       "      <td>bin_37.fasta_02940</td>\n",
       "      <td>A0A0F6T2V5</td>\n",
       "      <td>100.0</td>\n",
       "      <td>70</td>\n",
       "      <td>0</td>\n",
       "      <td>0</td>\n",
       "      <td>2</td>\n",
       "      <td>211</td>\n",
       "      <td>365</td>\n",
       "      <td>434</td>\n",
       "      <td>6.400000e-42</td>\n",
       "      <td>154</td>\n",
       "    </tr>\n",
       "    <tr>\n",
       "      <th>14</th>\n",
       "      <td>bin_37.fasta_02940</td>\n",
       "      <td>A0A0F6QG56</td>\n",
       "      <td>100.0</td>\n",
       "      <td>70</td>\n",
       "      <td>0</td>\n",
       "      <td>0</td>\n",
       "      <td>2</td>\n",
       "      <td>211</td>\n",
       "      <td>365</td>\n",
       "      <td>434</td>\n",
       "      <td>6.400000e-42</td>\n",
       "      <td>154</td>\n",
       "    </tr>\n",
       "    <tr>\n",
       "      <th>15</th>\n",
       "      <td>bin_37.fasta_02940</td>\n",
       "      <td>A0A0F6QEV4</td>\n",
       "      <td>100.0</td>\n",
       "      <td>70</td>\n",
       "      <td>0</td>\n",
       "      <td>0</td>\n",
       "      <td>2</td>\n",
       "      <td>211</td>\n",
       "      <td>365</td>\n",
       "      <td>434</td>\n",
       "      <td>6.400000e-42</td>\n",
       "      <td>154</td>\n",
       "    </tr>\n",
       "    <tr>\n",
       "      <th>16</th>\n",
       "      <td>bin_37.fasta_02940</td>\n",
       "      <td>A0A0F6QEF1</td>\n",
       "      <td>100.0</td>\n",
       "      <td>70</td>\n",
       "      <td>0</td>\n",
       "      <td>0</td>\n",
       "      <td>2</td>\n",
       "      <td>211</td>\n",
       "      <td>365</td>\n",
       "      <td>434</td>\n",
       "      <td>6.400000e-42</td>\n",
       "      <td>154</td>\n",
       "    </tr>\n",
       "    <tr>\n",
       "      <th>17</th>\n",
       "      <td>bin_37.fasta_02940</td>\n",
       "      <td>K9LK33</td>\n",
       "      <td>100.0</td>\n",
       "      <td>66</td>\n",
       "      <td>0</td>\n",
       "      <td>0</td>\n",
       "      <td>5</td>\n",
       "      <td>202</td>\n",
       "      <td>5</td>\n",
       "      <td>70</td>\n",
       "      <td>1.350000e-41</td>\n",
       "      <td>142</td>\n",
       "    </tr>\n",
       "    <tr>\n",
       "      <th>18</th>\n",
       "      <td>bin_37.fasta_02940</td>\n",
       "      <td>A0A0F6QET4</td>\n",
       "      <td>100.0</td>\n",
       "      <td>69</td>\n",
       "      <td>0</td>\n",
       "      <td>0</td>\n",
       "      <td>5</td>\n",
       "      <td>211</td>\n",
       "      <td>366</td>\n",
       "      <td>434</td>\n",
       "      <td>2.390000e-41</td>\n",
       "      <td>153</td>\n",
       "    </tr>\n",
       "    <tr>\n",
       "      <th>19</th>\n",
       "      <td>bin_37.fasta_02940</td>\n",
       "      <td>A0A0F6QG39</td>\n",
       "      <td>98.6</td>\n",
       "      <td>70</td>\n",
       "      <td>1</td>\n",
       "      <td>0</td>\n",
       "      <td>2</td>\n",
       "      <td>211</td>\n",
       "      <td>365</td>\n",
       "      <td>434</td>\n",
       "      <td>4.620000e-41</td>\n",
       "      <td>152</td>\n",
       "    </tr>\n",
       "    <tr>\n",
       "      <th>20</th>\n",
       "      <td>bin_37.fasta_02940</td>\n",
       "      <td>K9LKV1</td>\n",
       "      <td>90.9</td>\n",
       "      <td>66</td>\n",
       "      <td>6</td>\n",
       "      <td>0</td>\n",
       "      <td>5</td>\n",
       "      <td>202</td>\n",
       "      <td>5</td>\n",
       "      <td>70</td>\n",
       "      <td>1.210000e-38</td>\n",
       "      <td>135</td>\n",
       "    </tr>\n",
       "    <tr>\n",
       "      <th>21</th>\n",
       "      <td>bin_37.fasta_02940</td>\n",
       "      <td>K9LJL6</td>\n",
       "      <td>100.0</td>\n",
       "      <td>61</td>\n",
       "      <td>0</td>\n",
       "      <td>0</td>\n",
       "      <td>2</td>\n",
       "      <td>184</td>\n",
       "      <td>9</td>\n",
       "      <td>69</td>\n",
       "      <td>9.290000e-38</td>\n",
       "      <td>132</td>\n",
       "    </tr>\n",
       "    <tr>\n",
       "      <th>22</th>\n",
       "      <td>bin_37.fasta_02940</td>\n",
       "      <td>K9LLG1</td>\n",
       "      <td>100.0</td>\n",
       "      <td>61</td>\n",
       "      <td>0</td>\n",
       "      <td>0</td>\n",
       "      <td>2</td>\n",
       "      <td>184</td>\n",
       "      <td>9</td>\n",
       "      <td>69</td>\n",
       "      <td>9.290000e-38</td>\n",
       "      <td>132</td>\n",
       "    </tr>\n",
       "    <tr>\n",
       "      <th>23</th>\n",
       "      <td>bin_37.fasta_02940</td>\n",
       "      <td>K9LK56</td>\n",
       "      <td>98.4</td>\n",
       "      <td>61</td>\n",
       "      <td>1</td>\n",
       "      <td>0</td>\n",
       "      <td>2</td>\n",
       "      <td>184</td>\n",
       "      <td>9</td>\n",
       "      <td>69</td>\n",
       "      <td>6.890000e-37</td>\n",
       "      <td>130</td>\n",
       "    </tr>\n",
       "    <tr>\n",
       "      <th>24</th>\n",
       "      <td>bin_37.fasta_02940</td>\n",
       "      <td>K9LLC6</td>\n",
       "      <td>98.4</td>\n",
       "      <td>61</td>\n",
       "      <td>1</td>\n",
       "      <td>0</td>\n",
       "      <td>2</td>\n",
       "      <td>184</td>\n",
       "      <td>9</td>\n",
       "      <td>69</td>\n",
       "      <td>9.940000e-37</td>\n",
       "      <td>130</td>\n",
       "    </tr>\n",
       "  </tbody>\n",
       "</table>\n",
       "</div>"
      ],
      "text/plain": [
       "              Query id  Subject id  % identity  alignment length  mismatches  \\\n",
       "0   bin_37.fasta_02940      K9LK60       100.0                70           0   \n",
       "1   bin_37.fasta_02940      K9LJH4       100.0                70           0   \n",
       "2   bin_37.fasta_02940      K9LLC3        98.6                70           1   \n",
       "3   bin_37.fasta_02940      K9LJE8        91.3                69           6   \n",
       "4   bin_37.fasta_02940      K9LKW7        92.8                69           5   \n",
       "5   bin_37.fasta_02940  A0A0F6QD98       100.0                70           0   \n",
       "6   bin_37.fasta_02940  A0A0F6QEU1       100.0                70           0   \n",
       "7   bin_37.fasta_02940  A0A0F6T277       100.0                70           0   \n",
       "8   bin_37.fasta_02940  A0A0F6QEC8       100.0                70           0   \n",
       "9   bin_37.fasta_02940  A0A0F6QEU8       100.0                70           0   \n",
       "10  bin_37.fasta_02940  A0A0F6QEE7       100.0                70           0   \n",
       "11  bin_37.fasta_02940  A0A0F6QDA6       100.0                70           0   \n",
       "12  bin_37.fasta_02940  A0A0F6QD87       100.0                70           0   \n",
       "13  bin_37.fasta_02940  A0A0F6T2V5       100.0                70           0   \n",
       "14  bin_37.fasta_02940  A0A0F6QG56       100.0                70           0   \n",
       "15  bin_37.fasta_02940  A0A0F6QEV4       100.0                70           0   \n",
       "16  bin_37.fasta_02940  A0A0F6QEF1       100.0                70           0   \n",
       "17  bin_37.fasta_02940      K9LK33       100.0                66           0   \n",
       "18  bin_37.fasta_02940  A0A0F6QET4       100.0                69           0   \n",
       "19  bin_37.fasta_02940  A0A0F6QG39        98.6                70           1   \n",
       "20  bin_37.fasta_02940      K9LKV1        90.9                66           6   \n",
       "21  bin_37.fasta_02940      K9LJL6       100.0                61           0   \n",
       "22  bin_37.fasta_02940      K9LLG1       100.0                61           0   \n",
       "23  bin_37.fasta_02940      K9LK56        98.4                61           1   \n",
       "24  bin_37.fasta_02940      K9LLC6        98.4                61           1   \n",
       "\n",
       "    gap openings  q. start  q. end  s. start  s. end       e-value  score  \n",
       "0              0         2     211         2      71  3.510000e-46    154  \n",
       "1              0         2     211         9      78  4.290000e-46    154  \n",
       "2              0         2     211         2      71  4.940000e-46    154  \n",
       "3              0         5     211         1      69  1.210000e-42    145  \n",
       "4              0         5     211         1      69  1.700000e-42    145  \n",
       "5              0         2     211       365     434  6.400000e-42    154  \n",
       "6              0         2     211       365     434  6.400000e-42    154  \n",
       "7              0         2     211       365     434  6.400000e-42    154  \n",
       "8              0         2     211       365     434  6.400000e-42    154  \n",
       "9              0         2     211       365     434  6.400000e-42    154  \n",
       "10             0         2     211       365     434  6.400000e-42    154  \n",
       "11             0         2     211       365     434  6.400000e-42    154  \n",
       "12             0         2     211       365     434  6.400000e-42    154  \n",
       "13             0         2     211       365     434  6.400000e-42    154  \n",
       "14             0         2     211       365     434  6.400000e-42    154  \n",
       "15             0         2     211       365     434  6.400000e-42    154  \n",
       "16             0         2     211       365     434  6.400000e-42    154  \n",
       "17             0         5     202         5      70  1.350000e-41    142  \n",
       "18             0         5     211       366     434  2.390000e-41    153  \n",
       "19             0         2     211       365     434  4.620000e-41    152  \n",
       "20             0         5     202         5      70  1.210000e-38    135  \n",
       "21             0         2     184         9      69  9.290000e-38    132  \n",
       "22             0         2     184         9      69  9.290000e-38    132  \n",
       "23             0         2     184         9      69  6.890000e-37    130  \n",
       "24             0         2     184         9      69  9.940000e-37    130  "
      ]
     },
     "execution_count": 34,
     "metadata": {},
     "output_type": "execute_result"
    }
   ],
   "source": [
    "diamond"
   ]
  },
  {
   "attachments": {},
   "cell_type": "markdown",
   "id": "acb7eaac-8b2a-462b-b5b4-6aa754e097b4",
   "metadata": {},
   "source": [
    "## Read count table\n",
    "However, we also need to read the count table:"
   ]
  },
  {
   "cell_type": "code",
   "execution_count": 35,
   "id": "b9d87d9f-8c5b-4030-82d6-66800462b42e",
   "metadata": {
    "tags": []
   },
   "outputs": [
    {
     "name": "stdout",
     "output_type": "stream",
     "text": [
      "ContigID\tika_mgs_val_2\tika_mgs_val_1\n",
      "bin_37.fasta_02940\t31\t30\n",
      "bin_36.fasta_03910\t123\t129\n",
      "bin_11.fasta_01027\t88\t97\n",
      "bin_1.fasta_02543\t25\t21\n",
      "bin_71.fasta_02748\t93\t92\n",
      "bin_3.fasta_02341\t43\t47\n",
      "bin_38.fasta_03427\t12\t13"
     ]
    }
   ],
   "source": [
    "%%bash -s \"$count_table\"\n",
    "head $1"
   ]
  },
  {
   "cell_type": "code",
   "execution_count": 36,
   "id": "1de1ed51-14aa-49f4-a361-87b7b572ada3",
   "metadata": {
    "tags": []
   },
   "outputs": [
    {
     "data": {
      "text/html": [
       "<div>\n",
       "<style scoped>\n",
       "    .dataframe tbody tr th:only-of-type {\n",
       "        vertical-align: middle;\n",
       "    }\n",
       "\n",
       "    .dataframe tbody tr th {\n",
       "        vertical-align: top;\n",
       "    }\n",
       "\n",
       "    .dataframe thead th {\n",
       "        text-align: right;\n",
       "    }\n",
       "</style>\n",
       "<table border=\"1\" class=\"dataframe\">\n",
       "  <thead>\n",
       "    <tr style=\"text-align: right;\">\n",
       "      <th></th>\n",
       "      <th>Count</th>\n",
       "    </tr>\n",
       "    <tr>\n",
       "      <th>ContigID</th>\n",
       "      <th></th>\n",
       "    </tr>\n",
       "  </thead>\n",
       "  <tbody>\n",
       "    <tr>\n",
       "      <th>bin_37.fasta_02940</th>\n",
       "      <td>61</td>\n",
       "    </tr>\n",
       "    <tr>\n",
       "      <th>bin_36.fasta_03910</th>\n",
       "      <td>252</td>\n",
       "    </tr>\n",
       "    <tr>\n",
       "      <th>bin_11.fasta_01027</th>\n",
       "      <td>185</td>\n",
       "    </tr>\n",
       "    <tr>\n",
       "      <th>bin_1.fasta_02543</th>\n",
       "      <td>46</td>\n",
       "    </tr>\n",
       "    <tr>\n",
       "      <th>bin_71.fasta_02748</th>\n",
       "      <td>185</td>\n",
       "    </tr>\n",
       "    <tr>\n",
       "      <th>bin_3.fasta_02341</th>\n",
       "      <td>90</td>\n",
       "    </tr>\n",
       "    <tr>\n",
       "      <th>bin_38.fasta_03427</th>\n",
       "      <td>25</td>\n",
       "    </tr>\n",
       "  </tbody>\n",
       "</table>\n",
       "</div>"
      ],
      "text/plain": [
       "                    Count\n",
       "ContigID                 \n",
       "bin_37.fasta_02940     61\n",
       "bin_36.fasta_03910    252\n",
       "bin_11.fasta_01027    185\n",
       "bin_1.fasta_02543      46\n",
       "bin_71.fasta_02748    185\n",
       "bin_3.fasta_02341      90\n",
       "bin_38.fasta_03427     25"
      ]
     },
     "execution_count": 36,
     "metadata": {},
     "output_type": "execute_result"
    }
   ],
   "source": [
    "counts = pd.read_csv(count_table, sep=\"\\t\", comment=\"#\").set_index(\"ContigID\")\n",
    "# Check that there are only 2 columns\n",
    "assert counts.shape[1] == 2, \"Count table should have 2 columns\"\n",
    "# Sum the counts for each MAG\n",
    "counts = counts.sum(axis=1)\n",
    "# Convert to a dataframe\n",
    "counts = pd.DataFrame(counts, columns=[\"Count\"])\n",
    "counts"
   ]
  },
  {
   "attachments": {},
   "cell_type": "markdown",
   "id": "1d39dd81-6d5e-4a09-a128-1c9aaac4734c",
   "metadata": {},
   "source": [
    "## Preprocessing\n",
    "### Most significant hit per Contig"
   ]
  },
  {
   "attachments": {},
   "cell_type": "markdown",
   "id": "b9cdb35f-ba57-4013-ae61-33928f3adcdd",
   "metadata": {},
   "source": [
    "Now, we need to get the most significant hit per each contig ID. Let's inspect how many hits there are per contig (adjust the number of bins). "
   ]
  },
  {
   "cell_type": "code",
   "execution_count": 37,
   "id": "3d5b07e5-d340-440d-831e-3bc6c179a28b",
   "metadata": {
    "tags": []
   },
   "outputs": [
    {
     "data": {
      "text/plain": [
       "Text(0.5, 1.0, 'Number of hits per contig')"
      ]
     },
     "execution_count": 37,
     "metadata": {},
     "output_type": "execute_result"
    },
    {
     "data": {
      "image/png": "[encoded data removed]",
      "text/plain": [
       "<Figure size 432x288 with 1 Axes>"
      ]
     },
     "metadata": {
      "needs_background": "light"
     },
     "output_type": "display_data"
    }
   ],
   "source": [
    "diamond.pivot_table(columns=[\"Query id\"], aggfunc=\"size\").hist(bins=25)\n",
    "plt.title(\"Number of hits per contig\")"
   ]
  },
  {
   "attachments": {},
   "cell_type": "markdown",
   "id": "43813411-8fac-4ad8-b9b6-bf21d90f8122",
   "metadata": {},
   "source": [
    "In this case, we are going to sort rows per e-value and score and get the most significant hit per each ContigId."
   ]
  },
  {
   "cell_type": "code",
   "execution_count": 38,
   "id": "3f78c5d5-1e49-4406-9c93-950b3eb35c35",
   "metadata": {
    "tags": []
   },
   "outputs": [
    {
     "data": {
      "text/html": [
       "<div>\n",
       "<style scoped>\n",
       "    .dataframe tbody tr th:only-of-type {\n",
       "        vertical-align: middle;\n",
       "    }\n",
       "\n",
       "    .dataframe tbody tr th {\n",
       "        vertical-align: top;\n",
       "    }\n",
       "\n",
       "    .dataframe thead th {\n",
       "        text-align: right;\n",
       "    }\n",
       "</style>\n",
       "<table border=\"1\" class=\"dataframe\">\n",
       "  <thead>\n",
       "    <tr style=\"text-align: right;\">\n",
       "      <th></th>\n",
       "      <th>Subject id</th>\n",
       "      <th>% identity</th>\n",
       "      <th>alignment length</th>\n",
       "      <th>mismatches</th>\n",
       "      <th>gap openings</th>\n",
       "      <th>q. start</th>\n",
       "      <th>q. end</th>\n",
       "      <th>s. start</th>\n",
       "      <th>s. end</th>\n",
       "      <th>e-value</th>\n",
       "      <th>score</th>\n",
       "    </tr>\n",
       "    <tr>\n",
       "      <th>Query id</th>\n",
       "      <th></th>\n",
       "      <th></th>\n",
       "      <th></th>\n",
       "      <th></th>\n",
       "      <th></th>\n",
       "      <th></th>\n",
       "      <th></th>\n",
       "      <th></th>\n",
       "      <th></th>\n",
       "      <th></th>\n",
       "      <th></th>\n",
       "    </tr>\n",
       "  </thead>\n",
       "  <tbody>\n",
       "    <tr>\n",
       "      <th>bin_37.fasta_02940</th>\n",
       "      <td>K9LK60</td>\n",
       "      <td>100.0</td>\n",
       "      <td>70</td>\n",
       "      <td>0</td>\n",
       "      <td>0</td>\n",
       "      <td>2</td>\n",
       "      <td>211</td>\n",
       "      <td>2</td>\n",
       "      <td>71</td>\n",
       "      <td>3.510000e-46</td>\n",
       "      <td>154</td>\n",
       "    </tr>\n",
       "  </tbody>\n",
       "</table>\n",
       "</div>"
      ],
      "text/plain": [
       "                   Subject id  % identity  alignment length  mismatches  \\\n",
       "Query id                                                                  \n",
       "bin_37.fasta_02940     K9LK60       100.0                70           0   \n",
       "\n",
       "                    gap openings  q. start  q. end  s. start  s. end  \\\n",
       "Query id                                                               \n",
       "bin_37.fasta_02940             0         2     211         2      71   \n",
       "\n",
       "                         e-value  score  \n",
       "Query id                                 \n",
       "bin_37.fasta_02940  3.510000e-46    154  "
      ]
     },
     "execution_count": 38,
     "metadata": {},
     "output_type": "execute_result"
    }
   ],
   "source": [
    "diamond = (\n",
    "    diamond.sort_values(by=[\"e-value\", \"score\"], ascending=[True, False])\n",
    "    .drop_duplicates(\"Query id\", keep=\"first\")\n",
    "    .set_index(\"Query id\")\n",
    ")\n",
    "diamond"
   ]
  },
  {
   "attachments": {},
   "cell_type": "markdown",
   "id": "5b93ff5b-e48a-4ea9-84ec-9e5d2c330b5f",
   "metadata": {},
   "source": [
    "### Inspect E-values from aligned orthologous genes before filtering by e-value"
   ]
  },
  {
   "cell_type": "code",
   "execution_count": 39,
   "id": "99f753e2-871b-4fd7-9c65-f55a36ed2546",
   "metadata": {
    "tags": []
   },
   "outputs": [
    {
     "data": {
      "text/plain": [
       "array([[<AxesSubplot:title={'center':'e-value'}>]], dtype=object)"
      ]
     },
     "execution_count": 39,
     "metadata": {},
     "output_type": "execute_result"
    },
    {
     "data": {
      "image/png": "[encoded data removed]",
      "text/plain": [
       "<Figure size 432x288 with 1 Axes>"
      ]
     },
     "metadata": {
      "needs_background": "light"
     },
     "output_type": "display_data"
    }
   ],
   "source": [
    "diamond.hist(\"e-value\")"
   ]
  },
  {
   "attachments": {},
   "cell_type": "markdown",
   "id": "090783cb-1cc7-49a0-bf75-a18683dd8262",
   "metadata": {},
   "source": [
    "### Inspect E-values from aligned orthologous genes after filtering by e-value\n",
    "\n",
    "We need to set a threshold:"
   ]
  },
  {
   "cell_type": "code",
   "execution_count": 40,
   "id": "ce8f9609-91d1-469e-8370-1326cc5054e5",
   "metadata": {
    "tags": []
   },
   "outputs": [],
   "source": [
    "evalue_threshold = 0.0001"
   ]
  },
  {
   "cell_type": "code",
   "execution_count": 41,
   "id": "a174e5b6-a092-474a-b832-d770fc382f7f",
   "metadata": {
    "tags": []
   },
   "outputs": [],
   "source": [
    "diamond = diamond.loc[diamond[\"e-value\"] < evalue_threshold]"
   ]
  },
  {
   "cell_type": "code",
   "execution_count": 42,
   "id": "31f0a7a1-bf4a-4319-ab39-fb1be0b35e23",
   "metadata": {
    "tags": []
   },
   "outputs": [
    {
     "data": {
      "text/plain": [
       "array([[<AxesSubplot:title={'center':'e-value'}>]], dtype=object)"
      ]
     },
     "execution_count": 42,
     "metadata": {},
     "output_type": "execute_result"
    },
    {
     "data": {
      "image/png": "[encoded data removed]",
      "text/plain": [
       "<Figure size 432x288 with 1 Axes>"
      ]
     },
     "metadata": {
      "needs_background": "light"
     },
     "output_type": "display_data"
    }
   ],
   "source": [
    "diamond.hist(\"e-value\")"
   ]
  },
  {
   "cell_type": "code",
   "execution_count": 43,
   "id": "3c455b9d-2113-4d81-a97f-c04973a8dc29",
   "metadata": {
    "tags": []
   },
   "outputs": [
    {
     "name": "stdout",
     "output_type": "stream",
     "text": [
      "There are 1 unique orthologous genes\n"
     ]
    }
   ],
   "source": [
    "val = len(set(diamond[\"Subject id\"]))\n",
    "print(f\"There are {val} unique orthologous genes\")"
   ]
  },
  {
   "attachments": {},
   "cell_type": "markdown",
   "id": "bdeaacd7-2ef4-4441-adea-99df6cdb1390",
   "metadata": {
    "tags": []
   },
   "source": [
    "### Inspect % identity and aligment length"
   ]
  },
  {
   "cell_type": "code",
   "execution_count": 44,
   "id": "16ee4816-ee69-404f-be0e-566c7745b6fc",
   "metadata": {
    "tags": []
   },
   "outputs": [
    {
     "data": {
      "text/plain": [
       "array([[<AxesSubplot:title={'center':'alignment length'}>]], dtype=object)"
      ]
     },
     "execution_count": 44,
     "metadata": {},
     "output_type": "execute_result"
    },
    {
     "data": {
      "image/png": "[encoded data removed]",
      "text/plain": [
       "<Figure size 432x288 with 1 Axes>"
      ]
     },
     "metadata": {
      "needs_background": "light"
     },
     "output_type": "display_data"
    }
   ],
   "source": [
    "diamond.hist(\"alignment length\")"
   ]
  },
  {
   "cell_type": "code",
   "execution_count": 45,
   "id": "a6b6775a-a1ee-403a-b908-f09fe46314d0",
   "metadata": {
    "tags": []
   },
   "outputs": [
    {
     "data": {
      "text/plain": [
       "array([[<AxesSubplot:title={'center':'% identity'}>]], dtype=object)"
      ]
     },
     "execution_count": 45,
     "metadata": {},
     "output_type": "execute_result"
    },
    {
     "data": {
      "image/png": "[encoded data removed]",
      "text/plain": [
       "<Figure size 432x288 with 1 Axes>"
      ]
     },
     "metadata": {
      "needs_background": "light"
     },
     "output_type": "display_data"
    }
   ],
   "source": [
    "diamond.hist(\"% identity\")"
   ]
  },
  {
   "cell_type": "code",
   "execution_count": 46,
   "id": "163a2749",
   "metadata": {},
   "outputs": [
    {
     "data": {
      "text/html": [
       "<div>\n",
       "<style scoped>\n",
       "    .dataframe tbody tr th:only-of-type {\n",
       "        vertical-align: middle;\n",
       "    }\n",
       "\n",
       "    .dataframe tbody tr th {\n",
       "        vertical-align: top;\n",
       "    }\n",
       "\n",
       "    .dataframe thead th {\n",
       "        text-align: right;\n",
       "    }\n",
       "</style>\n",
       "<table border=\"1\" class=\"dataframe\">\n",
       "  <thead>\n",
       "    <tr style=\"text-align: right;\">\n",
       "      <th></th>\n",
       "      <th>Subject id</th>\n",
       "      <th>% identity</th>\n",
       "      <th>alignment length</th>\n",
       "      <th>mismatches</th>\n",
       "      <th>gap openings</th>\n",
       "      <th>q. start</th>\n",
       "      <th>q. end</th>\n",
       "      <th>s. start</th>\n",
       "      <th>s. end</th>\n",
       "      <th>e-value</th>\n",
       "      <th>score</th>\n",
       "    </tr>\n",
       "    <tr>\n",
       "      <th>Query id</th>\n",
       "      <th></th>\n",
       "      <th></th>\n",
       "      <th></th>\n",
       "      <th></th>\n",
       "      <th></th>\n",
       "      <th></th>\n",
       "      <th></th>\n",
       "      <th></th>\n",
       "      <th></th>\n",
       "      <th></th>\n",
       "      <th></th>\n",
       "    </tr>\n",
       "  </thead>\n",
       "  <tbody>\n",
       "    <tr>\n",
       "      <th>bin_37.fasta_02940</th>\n",
       "      <td>K9LK60</td>\n",
       "      <td>100.0</td>\n",
       "      <td>70</td>\n",
       "      <td>0</td>\n",
       "      <td>0</td>\n",
       "      <td>2</td>\n",
       "      <td>211</td>\n",
       "      <td>2</td>\n",
       "      <td>71</td>\n",
       "      <td>3.510000e-46</td>\n",
       "      <td>154</td>\n",
       "    </tr>\n",
       "  </tbody>\n",
       "</table>\n",
       "</div>"
      ],
      "text/plain": [
       "                   Subject id  % identity  alignment length  mismatches  \\\n",
       "Query id                                                                  \n",
       "bin_37.fasta_02940     K9LK60       100.0                70           0   \n",
       "\n",
       "                    gap openings  q. start  q. end  s. start  s. end  \\\n",
       "Query id                                                               \n",
       "bin_37.fasta_02940             0         2     211         2      71   \n",
       "\n",
       "                         e-value  score  \n",
       "Query id                                 \n",
       "bin_37.fasta_02940  3.510000e-46    154  "
      ]
     },
     "execution_count": 46,
     "metadata": {},
     "output_type": "execute_result"
    }
   ],
   "source": [
    "diamond"
   ]
  },
  {
   "cell_type": "code",
   "execution_count": 47,
   "id": "06075ab0",
   "metadata": {},
   "outputs": [
    {
     "data": {
      "text/plain": [
       "Text(0, 0.5, 'Mistmatches')"
      ]
     },
     "execution_count": 47,
     "metadata": {},
     "output_type": "execute_result"
    },
    {
     "data": {
      "image/png": "[encoded data removed]",
      "text/plain": [
       "<Figure size 432x288 with 1 Axes>"
      ]
     },
     "metadata": {
      "needs_background": "light"
     },
     "output_type": "display_data"
    }
   ],
   "source": [
    "plt.scatter(diamond[\"alignment length\"], diamond.mismatches, alpha=0.6)\n",
    "plt.title(\"Mistmatches distribution after preprocessingh\")\n",
    "plt.xlabel(\"Alignment length\")\n",
    "plt.ylabel(\"Mistmatches\")"
   ]
  },
  {
   "attachments": {},
   "cell_type": "markdown",
   "id": "3145e306",
   "metadata": {},
   "source": [
    "## Attention !!\n",
    "Please, consider the previous information to set the threshold for the e-value and the % identity."
   ]
  },
  {
   "attachments": {},
   "cell_type": "markdown",
   "id": "a1bcae6d-70a5-4318-8206-2aaddf15bb62",
   "metadata": {},
   "source": [
    "### Merging aligned genes and count table\n",
    "First, we are going to drop all columns except for ContigsID and orthologous genes header (to obtain map table). "
   ]
  },
  {
   "cell_type": "code",
   "execution_count": 48,
   "id": "407b00ee-8a22-483c-9cf7-37a0abe76de4",
   "metadata": {
    "tags": []
   },
   "outputs": [
    {
     "data": {
      "text/html": [
       "<div>\n",
       "<style scoped>\n",
       "    .dataframe tbody tr th:only-of-type {\n",
       "        vertical-align: middle;\n",
       "    }\n",
       "\n",
       "    .dataframe tbody tr th {\n",
       "        vertical-align: top;\n",
       "    }\n",
       "\n",
       "    .dataframe thead th {\n",
       "        text-align: right;\n",
       "    }\n",
       "</style>\n",
       "<table border=\"1\" class=\"dataframe\">\n",
       "  <thead>\n",
       "    <tr style=\"text-align: right;\">\n",
       "      <th></th>\n",
       "      <th>Subject id</th>\n",
       "    </tr>\n",
       "    <tr>\n",
       "      <th>Query id</th>\n",
       "      <th></th>\n",
       "    </tr>\n",
       "  </thead>\n",
       "  <tbody>\n",
       "    <tr>\n",
       "      <th>bin_37.fasta_02940</th>\n",
       "      <td>K9LK60</td>\n",
       "    </tr>\n",
       "  </tbody>\n",
       "</table>\n",
       "</div>"
      ],
      "text/plain": [
       "                   Subject id\n",
       "Query id                     \n",
       "bin_37.fasta_02940     K9LK60"
      ]
     },
     "execution_count": 48,
     "metadata": {},
     "output_type": "execute_result"
    }
   ],
   "source": [
    "map_table = diamond[[\"Subject id\"]]\n",
    "map_table"
   ]
  },
  {
   "cell_type": "markdown",
   "id": "17b043d8",
   "metadata": {},
   "source": [
    "Now, we create an extra column with the bin name."
   ]
  },
  {
   "cell_type": "code",
   "execution_count": 49,
   "id": "4dc6e3b1",
   "metadata": {},
   "outputs": [
    {
     "name": "stderr",
     "output_type": "stream",
     "text": [
      "/software/anaconda3/envs/jupyter-diamond/lib/python3.6/site-packages/ipykernel_launcher.py:2: SettingWithCopyWarning: \n",
      "A value is trying to be set on a copy of a slice from a DataFrame.\n",
      "Try using .loc[row_indexer,col_indexer] = value instead\n",
      "\n",
      "See the caveats in the documentation: https://pandas.pydata.org/pandas-docs/stable/user_guide/indexing.html#returning-a-view-versus-a-copy\n",
      "  \n"
     ]
    },
    {
     "data": {
      "text/html": [
       "<div>\n",
       "<style scoped>\n",
       "    .dataframe tbody tr th:only-of-type {\n",
       "        vertical-align: middle;\n",
       "    }\n",
       "\n",
       "    .dataframe tbody tr th {\n",
       "        vertical-align: top;\n",
       "    }\n",
       "\n",
       "    .dataframe thead th {\n",
       "        text-align: right;\n",
       "    }\n",
       "</style>\n",
       "<table border=\"1\" class=\"dataframe\">\n",
       "  <thead>\n",
       "    <tr style=\"text-align: right;\">\n",
       "      <th></th>\n",
       "      <th>Subject id</th>\n",
       "      <th>bin</th>\n",
       "    </tr>\n",
       "    <tr>\n",
       "      <th>Query id</th>\n",
       "      <th></th>\n",
       "      <th></th>\n",
       "    </tr>\n",
       "  </thead>\n",
       "  <tbody>\n",
       "    <tr>\n",
       "      <th>bin_37.fasta_02940</th>\n",
       "      <td>K9LK60</td>\n",
       "      <td>bin_37</td>\n",
       "    </tr>\n",
       "  </tbody>\n",
       "</table>\n",
       "</div>"
      ],
      "text/plain": [
       "                   Subject id     bin\n",
       "Query id                             \n",
       "bin_37.fasta_02940     K9LK60  bin_37"
      ]
     },
     "execution_count": 49,
     "metadata": {},
     "output_type": "execute_result"
    }
   ],
   "source": [
    "# Get everything before first '.'\n",
    "map_table['bin'] = map_table.index.str.split(\".\").str[0] \n",
    "map_table"
   ]
  },
  {
   "attachments": {},
   "cell_type": "markdown",
   "id": "7a7cc510-b6b3-4b2f-a84a-75fe989ac5f0",
   "metadata": {
    "tags": []
   },
   "source": [
    "Now, we are going to merge both files by their column in common (ContigID and Subject id)."
   ]
  },
  {
   "cell_type": "code",
   "execution_count": 50,
   "id": "7ad61d06-8a87-4dee-a173-b915153efed6",
   "metadata": {
    "tags": []
   },
   "outputs": [
    {
     "data": {
      "text/html": [
       "<div>\n",
       "<style scoped>\n",
       "    .dataframe tbody tr th:only-of-type {\n",
       "        vertical-align: middle;\n",
       "    }\n",
       "\n",
       "    .dataframe tbody tr th {\n",
       "        vertical-align: top;\n",
       "    }\n",
       "\n",
       "    .dataframe thead th {\n",
       "        text-align: right;\n",
       "    }\n",
       "</style>\n",
       "<table border=\"1\" class=\"dataframe\">\n",
       "  <thead>\n",
       "    <tr style=\"text-align: right;\">\n",
       "      <th></th>\n",
       "      <th>Subject id</th>\n",
       "      <th>bin</th>\n",
       "      <th>Count</th>\n",
       "    </tr>\n",
       "  </thead>\n",
       "  <tbody>\n",
       "    <tr>\n",
       "      <th>0</th>\n",
       "      <td>K9LK60</td>\n",
       "      <td>bin_37</td>\n",
       "      <td>61</td>\n",
       "    </tr>\n",
       "  </tbody>\n",
       "</table>\n",
       "</div>"
      ],
      "text/plain": [
       "  Subject id     bin  Count\n",
       "0     K9LK60  bin_37     61"
      ]
     },
     "execution_count": 50,
     "metadata": {},
     "output_type": "execute_result"
    }
   ],
   "source": [
    "df = pd.merge(map_table, counts, left_index=True, right_index=True).reset_index(\n",
    "    drop=True\n",
    ")\n",
    "df"
   ]
  },
  {
   "cell_type": "markdown",
   "id": "1b73bbd3",
   "metadata": {},
   "source": [
    "Finally, we are going to make the table wider (from long format to wide format) and fill the empty values with 0. "
   ]
  },
  {
   "cell_type": "code",
   "execution_count": 51,
   "id": "c404e15d",
   "metadata": {},
   "outputs": [
    {
     "data": {
      "text/html": [
       "<div>\n",
       "<style scoped>\n",
       "    .dataframe tbody tr th:only-of-type {\n",
       "        vertical-align: middle;\n",
       "    }\n",
       "\n",
       "    .dataframe tbody tr th {\n",
       "        vertical-align: top;\n",
       "    }\n",
       "\n",
       "    .dataframe thead th {\n",
       "        text-align: right;\n",
       "    }\n",
       "</style>\n",
       "<table border=\"1\" class=\"dataframe\">\n",
       "  <thead>\n",
       "    <tr style=\"text-align: right;\">\n",
       "      <th></th>\n",
       "      <th>Subject id</th>\n",
       "      <th>bin_37</th>\n",
       "    </tr>\n",
       "  </thead>\n",
       "  <tbody>\n",
       "    <tr>\n",
       "      <th>0</th>\n",
       "      <td>K9LK60</td>\n",
       "      <td>61</td>\n",
       "    </tr>\n",
       "  </tbody>\n",
       "</table>\n",
       "</div>"
      ],
      "text/plain": [
       "  Subject id  bin_37\n",
       "0     K9LK60      61"
      ]
     },
     "execution_count": 51,
     "metadata": {},
     "output_type": "execute_result"
    }
   ],
   "source": [
    "df_transformed = df.pivot_table(index='Subject id', columns='bin', values='Count', fill_value=0, aggfunc='sum')\n",
    "df_transformed.reset_index(inplace=True)\n",
    "df_transformed.columns.name = None\n",
    "# Arrange columns so Subject id is first, then sort\n",
    "df_transformed = df_transformed[[\"Subject id\"] + sorted(df_transformed.columns[1:])]\n",
    "df_transformed\n"
   ]
  },
  {
   "attachments": {},
   "cell_type": "markdown",
   "id": "e16060fc-3363-4f9b-a4c7-40e7e64a64b5",
   "metadata": {},
   "source": [
    "## Annotating count table\n",
    "\n",
    "The original annotation involves several files, and it's intricate. We will use the original script CoMW. "
   ]
  },
  {
   "cell_type": "code",
   "execution_count": 52,
   "id": "10407ce3",
   "metadata": {},
   "outputs": [
    {
     "data": {
      "text/html": [
       "<div>\n",
       "<style scoped>\n",
       "    .dataframe tbody tr th:only-of-type {\n",
       "        vertical-align: middle;\n",
       "    }\n",
       "\n",
       "    .dataframe tbody tr th {\n",
       "        vertical-align: top;\n",
       "    }\n",
       "\n",
       "    .dataframe thead th {\n",
       "        text-align: right;\n",
       "    }\n",
       "</style>\n",
       "<table border=\"1\" class=\"dataframe\">\n",
       "  <thead>\n",
       "    <tr style=\"text-align: right;\">\n",
       "      <th></th>\n",
       "      <th>ContigID</th>\n",
       "      <th>bin_37</th>\n",
       "    </tr>\n",
       "  </thead>\n",
       "  <tbody>\n",
       "    <tr>\n",
       "      <th>0</th>\n",
       "      <td>K9LK60</td>\n",
       "      <td>61</td>\n",
       "    </tr>\n",
       "  </tbody>\n",
       "</table>\n",
       "</div>"
      ],
      "text/plain": [
       "  ContigID  bin_37\n",
       "0   K9LK60      61"
      ]
     },
     "execution_count": 52,
     "metadata": {},
     "output_type": "execute_result"
    }
   ],
   "source": [
    "# Rename Subject id to ContigID\n",
    "df_transformed = df_transformed.rename(columns={\"Subject id\": \"ContigID\"})\n",
    "df_transformed.to_csv('NCyC_temp_count_table.tsv', sep=\"\\t\", index=False)\n",
    "df_transformed"
   ]
  },
  {
   "cell_type": "code",
   "execution_count": 53,
   "id": "d511a9b7",
   "metadata": {},
   "outputs": [],
   "source": [
    "%%bash\n",
    "python3 /software/CoMW/scripts/annotate_count_table.py -i ./NCyC_temp_count_table.tsv -o ./NCyC_temp_count_table_ann.tsv -d 3\n",
    "rm NCyC_temp_count_table.tsv"
   ]
  },
  {
   "cell_type": "code",
   "execution_count": 54,
   "id": "51540f0a",
   "metadata": {},
   "outputs": [],
   "source": [
    "df_transformed = pd.read_csv(\n",
    "    \"NCyC_temp_count_table_ann.tsv\", sep = \"\\t\",\n",
    ")"
   ]
  },
  {
   "cell_type": "code",
   "execution_count": 55,
   "id": "0350c3ad",
   "metadata": {},
   "outputs": [],
   "source": [
    "%%bash\n",
    "rm NCyC_temp_count_table_ann.tsv"
   ]
  },
  {
   "cell_type": "code",
   "execution_count": 56,
   "id": "ab24f565",
   "metadata": {},
   "outputs": [
    {
     "data": {
      "text/html": [
       "<div>\n",
       "<style scoped>\n",
       "    .dataframe tbody tr th:only-of-type {\n",
       "        vertical-align: middle;\n",
       "    }\n",
       "\n",
       "    .dataframe tbody tr th {\n",
       "        vertical-align: top;\n",
       "    }\n",
       "\n",
       "    .dataframe thead th {\n",
       "        text-align: right;\n",
       "    }\n",
       "</style>\n",
       "<table border=\"1\" class=\"dataframe\">\n",
       "  <thead>\n",
       "    <tr style=\"text-align: right;\">\n",
       "      <th></th>\n",
       "      <th>ContigID</th>\n",
       "      <th>bin_37</th>\n",
       "      <th>Functions</th>\n",
       "    </tr>\n",
       "  </thead>\n",
       "  <tbody>\n",
       "    <tr>\n",
       "      <th>0</th>\n",
       "      <td>K9LK60</td>\n",
       "      <td>61</td>\n",
       "      <td>DB__NCyc; LevelI__Anammox; LevelII__hzsA; Leve...</td>\n",
       "    </tr>\n",
       "  </tbody>\n",
       "</table>\n",
       "</div>"
      ],
      "text/plain": [
       "  ContigID  bin_37                                          Functions\n",
       "0   K9LK60      61  DB__NCyc; LevelI__Anammox; LevelII__hzsA; Leve..."
      ]
     },
     "execution_count": 56,
     "metadata": {},
     "output_type": "execute_result"
    }
   ],
   "source": [
    "df_transformed.rename(columns={\"#ContigID\": \"ContigID\"}, inplace=True)\n",
    "df_transformed"
   ]
  },
  {
   "cell_type": "code",
   "execution_count": 57,
   "id": "75507806",
   "metadata": {},
   "outputs": [],
   "source": [
    "def parse_legacy_annotation(x):\n",
    "    return tuple(y.split('__')[1] for y in x.split(\";\")[1:3])\n",
    "df_transformed[\"Level1\"], df_transformed[\"Level2\"] = zip(*df_transformed[\"Functions\"].map(parse_legacy_annotation))\n",
    "df_transformed.drop(columns=[\"Functions\"], inplace=True)"
   ]
  },
  {
   "cell_type": "code",
   "execution_count": 58,
   "id": "6b21ddf9",
   "metadata": {},
   "outputs": [
    {
     "data": {
      "text/html": [
       "<div>\n",
       "<style scoped>\n",
       "    .dataframe tbody tr th:only-of-type {\n",
       "        vertical-align: middle;\n",
       "    }\n",
       "\n",
       "    .dataframe tbody tr th {\n",
       "        vertical-align: top;\n",
       "    }\n",
       "\n",
       "    .dataframe thead th {\n",
       "        text-align: right;\n",
       "    }\n",
       "</style>\n",
       "<table border=\"1\" class=\"dataframe\">\n",
       "  <thead>\n",
       "    <tr style=\"text-align: right;\">\n",
       "      <th></th>\n",
       "      <th>ContigID</th>\n",
       "      <th>bin_37</th>\n",
       "      <th>Level1</th>\n",
       "      <th>Level2</th>\n",
       "    </tr>\n",
       "  </thead>\n",
       "  <tbody>\n",
       "    <tr>\n",
       "      <th>0</th>\n",
       "      <td>K9LK60</td>\n",
       "      <td>61</td>\n",
       "      <td>Anammox</td>\n",
       "      <td>hzsA</td>\n",
       "    </tr>\n",
       "  </tbody>\n",
       "</table>\n",
       "</div>"
      ],
      "text/plain": [
       "  ContigID  bin_37   Level1 Level2\n",
       "0   K9LK60      61  Anammox   hzsA"
      ]
     },
     "execution_count": 58,
     "metadata": {},
     "output_type": "execute_result"
    }
   ],
   "source": [
    "df_transformed"
   ]
  },
  {
   "cell_type": "code",
   "execution_count": 59,
   "id": "d4d0e26c",
   "metadata": {},
   "outputs": [],
   "source": [
    "df_transformed.to_csv('../results/NCyc_matches_annotated_mags.tsv', sep=\"\\t\", index=False)"
   ]
  }
 ],
 "metadata": {
  "kernelspec": {
   "display_name": "Python 3 (ipykernel)",
   "language": "python",
   "name": "python3"
  },
  "language_info": {
   "codemirror_mode": {
    "name": "ipython",
    "version": 3
   },
   "file_extension": ".py",
   "mimetype": "text/x-python",
   "name": "python",
   "nbconvert_exporter": "python",
   "pygments_lexer": "ipython3",
   "version": "3.6.15"
  }
 },
 "nbformat": 4,
 "nbformat_minor": 5
}
