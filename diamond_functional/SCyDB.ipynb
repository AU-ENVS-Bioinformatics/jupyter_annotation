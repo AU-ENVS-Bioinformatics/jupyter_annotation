{
 "cells": [
  {
   "cell_type": "markdown",
   "metadata": {},
   "source": [
    "# Sulphur cycling genes diamond jupyter using SCycDB\n",
    "\n",
    "This notebook is part of the analysis of the TotalRNA mRNA genes from Trinity. \n",
    "\n",
    "Consult the paper [here]( https://doi.org/10.1111/1755-0998.13306).\n",
    "\n",
    "## How to run Jupyter notebooks in huginn\n",
    "<details>\n",
    "<summary>Click to expand!</summary>\n",
    "\n",
    "If you use vs-code you can use the [remote ssh extension](https://marketplace.visualstudio.com/items?itemName=ms-vscode-remote.remote-ssh) to connect to huginn and either run jupyterlab in the remote server (so to say, just like you would do in your local computer with `jupyter-lab`) or run directly without opening jupyterlab directly. \n",
    "\n",
    "Otherwise, you can follow the instructions below: \n",
    "\n",
    "1. Turn on VPN\n",
    "2. Open two terminals (let's called A and B)\n",
    "3. With terminal A, connect to huginn with ssh as usual\n",
    "```bash\n",
    "ssh username@huginn.au.dk\n",
    "```\n",
    "4. Move to the directory where you want to work, activate the conda enviroment and run jupyter notebook or jupyter lab:\n",
    "```bash\n",
    "conda activate jupyter-diamond\n",
    "jupyter notebook --no-browser --port=7777\n",
    "```\n",
    "5. With terminal B, connect to huginn and forward the port specified port to your local computer\n",
    "```bash\n",
    "ssh -Y -N -L localhost:7777:localhost:7777 username@huginn.au.dk\n",
    "```\n",
    "6. Open your browser and go to `localhost:7777` and you should see the jupyter notebook running in huginn. You can also press in the url of Terminal A. \n",
    "\n",
    "Troubleshooting:\n",
    "- If you get an error like `bind: Address already in use` it means that you have another jupyter notebook running in the same port. You can either kill the process or change the port.\n",
    "</details>\n",
    "\n",
    "## How to create a new environment for this notebook (if needed)\n",
    "\n",
    "We will use Diamond, a few python basic libraries and bash. Let's check if those dependencies are installed. If not, you can install them with mamba (as well with jupyterlab)\n",
    "\n",
    "```bash\n",
    "# To create a new environment with mamba\n",
    "mamba create -c bioconda -c conda-forge diamond pandas matplotlib jupyterlab -n jupyter-diamond\n",
    "# To activate the environment\n",
    "conda activate jupyter-diamond\n",
    "```\n",
    "\n",
    "### Sanity check"
   ]
  },
  {
   "cell_type": "code",
   "execution_count": 1,
   "metadata": {},
   "outputs": [
    {
     "name": "stdout",
     "output_type": "stream",
     "text": [
      "diamond version 2.1.8\n",
      "1.1.5\n",
      "3.3.4\n",
      "GNU bash, version 4.4.20(1)-release (x86_64-pc-linux-gnu)\n"
     ]
    }
   ],
   "source": [
    "%%bash\n",
    "diamond --version\n",
    "python -c \"import pandas; print(pandas.__version__)\"\n",
    "python -c \"import matplotlib; print(matplotlib.__version__)\"\n",
    "bash --version | head -n 1"
   ]
  },
  {
   "cell_type": "code",
   "execution_count": 2,
   "metadata": {},
   "outputs": [],
   "source": [
    "import pandas as pd\n",
    "import os\n",
    "import matplotlib.pyplot as plt"
   ]
  },
  {
   "cell_type": "markdown",
   "metadata": {},
   "source": [
    "### Input files (edit this chunk)\n",
    "Edit this chunk to match your input files"
   ]
  },
  {
   "cell_type": "code",
   "execution_count": 3,
   "metadata": {},
   "outputs": [],
   "source": [
    "trinity_file = '../data/contigs.fasta'\n",
    "count_table = '../data/mapped_reads_to_contigs.tsv'"
   ]
  },
  {
   "cell_type": "code",
   "execution_count": 4,
   "metadata": {},
   "outputs": [],
   "source": [
    "## Sanity check: trinity and count table exit\n",
    "assert os.path.exists(trinity_file), 'Trinity file does not exist'\n",
    "assert os.path.exists(count_table), 'Count table does not exist'"
   ]
  },
  {
   "cell_type": "markdown",
   "metadata": {},
   "source": [
    "### Output files (edit this chunk)\n",
    "Edit this chunk to match your desired output files"
   ]
  },
  {
   "cell_type": "code",
   "execution_count": 5,
   "metadata": {},
   "outputs": [],
   "source": [
    "outfile_matches = '../results/SCycDB_matches.tsv'"
   ]
  },
  {
   "cell_type": "markdown",
   "metadata": {},
   "source": [
    "### Database files\n",
    "Don't edit this chunk"
   ]
  },
  {
   "cell_type": "code",
   "execution_count": 6,
   "metadata": {},
   "outputs": [],
   "source": [
    "database = \"/data_2/Databases/SCycDB/SCycDB_2020Mar.dmnd\"\n",
    "annotation_file = '/data_2/Databases/SCycDB/id2gene.2020Mar.map'\n",
    "assert os.path.exists(annotation_file), 'Annotation file does not exist'\n",
    "assert os.path.exists(database), 'Database file does not exist'"
   ]
  },
  {
   "cell_type": "markdown",
   "metadata": {},
   "source": [
    "##### Run Diamond\n",
    "\n",
    "We will use the same Diamond parameters as in the paper. Please, consider using cutoff in the percentage of identity and the length of the alignment."
   ]
  },
  {
   "cell_type": "code",
   "execution_count": 7,
   "metadata": {},
   "outputs": [
    {
     "name": "stdout",
     "output_type": "stream",
     "text": [
      "TRINITY_DN226510_c0_g1_i1\trpne:NCTC8284_00393\t46.2\t39\t21\t0\t5\t121\t4\t42\t1.42e-05\t42.4\n",
      "TRINITY_DN226477_c0_g1_i1\t132113.XP_003494838.1\t79.3\t527\t107\t1\t1\t1575\t679\t1205\t1.36e-304\t861\n",
      "TRINITY_DN226457_c0_g1_i1\t926564.KI911682_gene5709\t65.1\t63\t22\t0\t10\t198\t9\t71\t3.54e-25\t94.7\n",
      "TRINITY_DN226455_c0_g1_i1\tWP_112498715.1\t47.1\t85\t45\t0\t44\t298\t155\t239\t8.72e-19\t82.8\n",
      "TRINITY_DN78676876898_c0_g1_i1\tacid:CBP33_05305\t98.3\t350\t6\t0\t2059\t3108\t1\t350\t1.92e-234\t717\n"
     ]
    }
   ],
   "source": [
    "%%bash -s \"$database\" \"$trinity_file\" \"$outfile_matches\"\n",
    "if [ ! -f $3 ]; then\n",
    "mkdir -p $(dirname $3)\n",
    "diamond blastx -k 1 -e 1e-4 -p 20 -d $1 -q $2 -o $3 2> /dev/null\n",
    "fi\n",
    "head $3"
   ]
  },
  {
   "cell_type": "markdown",
   "metadata": {},
   "source": [
    "##### Preprocessing diamond matches\n",
    "We read the file into a pandas table:"
   ]
  },
  {
   "cell_type": "code",
   "execution_count": 8,
   "metadata": {},
   "outputs": [
    {
     "data": {
      "text/html": [
       "<div>\n",
       "<style scoped>\n",
       "    .dataframe tbody tr th:only-of-type {\n",
       "        vertical-align: middle;\n",
       "    }\n",
       "\n",
       "    .dataframe tbody tr th {\n",
       "        vertical-align: top;\n",
       "    }\n",
       "\n",
       "    .dataframe thead th {\n",
       "        text-align: right;\n",
       "    }\n",
       "</style>\n",
       "<table border=\"1\" class=\"dataframe\">\n",
       "  <thead>\n",
       "    <tr style=\"text-align: right;\">\n",
       "      <th></th>\n",
       "      <th>Query id</th>\n",
       "      <th>Subject id</th>\n",
       "      <th>% identity</th>\n",
       "      <th>alignment length</th>\n",
       "      <th>mismatches</th>\n",
       "      <th>gap openings</th>\n",
       "      <th>q. start</th>\n",
       "      <th>q. end</th>\n",
       "      <th>s. start</th>\n",
       "      <th>s. end</th>\n",
       "      <th>e-value</th>\n",
       "      <th>score</th>\n",
       "    </tr>\n",
       "  </thead>\n",
       "  <tbody>\n",
       "    <tr>\n",
       "      <th>0</th>\n",
       "      <td>TRINITY_DN226510_c0_g1_i1</td>\n",
       "      <td>rpne:NCTC8284_00393</td>\n",
       "      <td>46.2</td>\n",
       "      <td>39</td>\n",
       "      <td>21</td>\n",
       "      <td>0</td>\n",
       "      <td>5</td>\n",
       "      <td>121</td>\n",
       "      <td>4</td>\n",
       "      <td>42</td>\n",
       "      <td>1.420000e-05</td>\n",
       "      <td>42.4</td>\n",
       "    </tr>\n",
       "    <tr>\n",
       "      <th>1</th>\n",
       "      <td>TRINITY_DN226477_c0_g1_i1</td>\n",
       "      <td>132113.XP_003494838.1</td>\n",
       "      <td>79.3</td>\n",
       "      <td>527</td>\n",
       "      <td>107</td>\n",
       "      <td>1</td>\n",
       "      <td>1</td>\n",
       "      <td>1575</td>\n",
       "      <td>679</td>\n",
       "      <td>1205</td>\n",
       "      <td>1.360000e-304</td>\n",
       "      <td>861.0</td>\n",
       "    </tr>\n",
       "    <tr>\n",
       "      <th>2</th>\n",
       "      <td>TRINITY_DN226457_c0_g1_i1</td>\n",
       "      <td>926564.KI911682_gene5709</td>\n",
       "      <td>65.1</td>\n",
       "      <td>63</td>\n",
       "      <td>22</td>\n",
       "      <td>0</td>\n",
       "      <td>10</td>\n",
       "      <td>198</td>\n",
       "      <td>9</td>\n",
       "      <td>71</td>\n",
       "      <td>3.540000e-25</td>\n",
       "      <td>94.7</td>\n",
       "    </tr>\n",
       "    <tr>\n",
       "      <th>3</th>\n",
       "      <td>TRINITY_DN226455_c0_g1_i1</td>\n",
       "      <td>WP_112498715.1</td>\n",
       "      <td>47.1</td>\n",
       "      <td>85</td>\n",
       "      <td>45</td>\n",
       "      <td>0</td>\n",
       "      <td>44</td>\n",
       "      <td>298</td>\n",
       "      <td>155</td>\n",
       "      <td>239</td>\n",
       "      <td>8.720000e-19</td>\n",
       "      <td>82.8</td>\n",
       "    </tr>\n",
       "    <tr>\n",
       "      <th>4</th>\n",
       "      <td>TRINITY_DN78676876898_c0_g1_i1</td>\n",
       "      <td>acid:CBP33_05305</td>\n",
       "      <td>98.3</td>\n",
       "      <td>350</td>\n",
       "      <td>6</td>\n",
       "      <td>0</td>\n",
       "      <td>2059</td>\n",
       "      <td>3108</td>\n",
       "      <td>1</td>\n",
       "      <td>350</td>\n",
       "      <td>1.920000e-234</td>\n",
       "      <td>717.0</td>\n",
       "    </tr>\n",
       "  </tbody>\n",
       "</table>\n",
       "</div>"
      ],
      "text/plain": [
       "                         Query id                Subject id  % identity  \\\n",
       "0       TRINITY_DN226510_c0_g1_i1       rpne:NCTC8284_00393        46.2   \n",
       "1       TRINITY_DN226477_c0_g1_i1     132113.XP_003494838.1        79.3   \n",
       "2       TRINITY_DN226457_c0_g1_i1  926564.KI911682_gene5709        65.1   \n",
       "3       TRINITY_DN226455_c0_g1_i1            WP_112498715.1        47.1   \n",
       "4  TRINITY_DN78676876898_c0_g1_i1          acid:CBP33_05305        98.3   \n",
       "\n",
       "   alignment length  mismatches  gap openings  q. start  q. end  s. start  \\\n",
       "0                39          21             0         5     121         4   \n",
       "1               527         107             1         1    1575       679   \n",
       "2                63          22             0        10     198         9   \n",
       "3                85          45             0        44     298       155   \n",
       "4               350           6             0      2059    3108         1   \n",
       "\n",
       "   s. end        e-value  score  \n",
       "0      42   1.420000e-05   42.4  \n",
       "1    1205  1.360000e-304  861.0  \n",
       "2      71   3.540000e-25   94.7  \n",
       "3     239   8.720000e-19   82.8  \n",
       "4     350  1.920000e-234  717.0  "
      ]
     },
     "execution_count": 8,
     "metadata": {},
     "output_type": "execute_result"
    }
   ],
   "source": [
    "diamond = pd.read_csv(\n",
    "    outfile_matches, delimiter='\\t',comment='#', header=None,\n",
    "    names= ['Query id', 'Subject id', '% identity', 'alignment length', \n",
    "             'mismatches','gap openings','q. start', 'q. end',\n",
    "             's. start', 's. end', 'e-value', 'score'\n",
    "            ]\n",
    ")\n",
    "diamond"
   ]
  },
  {
   "cell_type": "markdown",
   "metadata": {},
   "source": [
    "We also add the count table into a Pandas data frame:"
   ]
  },
  {
   "cell_type": "code",
   "execution_count": 9,
   "metadata": {},
   "outputs": [
    {
     "data": {
      "text/html": [
       "<div>\n",
       "<style scoped>\n",
       "    .dataframe tbody tr th:only-of-type {\n",
       "        vertical-align: middle;\n",
       "    }\n",
       "\n",
       "    .dataframe tbody tr th {\n",
       "        vertical-align: top;\n",
       "    }\n",
       "\n",
       "    .dataframe thead th {\n",
       "        text-align: right;\n",
       "    }\n",
       "</style>\n",
       "<table border=\"1\" class=\"dataframe\">\n",
       "  <thead>\n",
       "    <tr style=\"text-align: right;\">\n",
       "      <th></th>\n",
       "      <th>SampleA</th>\n",
       "      <th>SampleB</th>\n",
       "      <th>SampleC</th>\n",
       "      <th>SampleD</th>\n",
       "      <th>SampleE</th>\n",
       "    </tr>\n",
       "    <tr>\n",
       "      <th>ContigID</th>\n",
       "      <th></th>\n",
       "      <th></th>\n",
       "      <th></th>\n",
       "      <th></th>\n",
       "      <th></th>\n",
       "    </tr>\n",
       "  </thead>\n",
       "  <tbody>\n",
       "    <tr>\n",
       "      <th>TRINITY_DN226500_c0_g1_i1</th>\n",
       "      <td>0</td>\n",
       "      <td>0</td>\n",
       "      <td>2</td>\n",
       "      <td>1</td>\n",
       "      <td>0</td>\n",
       "    </tr>\n",
       "    <tr>\n",
       "      <th>TRINITY_DN226510_c0_g1_i1</th>\n",
       "      <td>1</td>\n",
       "      <td>0</td>\n",
       "      <td>0</td>\n",
       "      <td>0</td>\n",
       "      <td>5</td>\n",
       "    </tr>\n",
       "    <tr>\n",
       "      <th>TRINITY_DN226477_c0_g1_i1</th>\n",
       "      <td>0</td>\n",
       "      <td>0</td>\n",
       "      <td>0</td>\n",
       "      <td>0</td>\n",
       "      <td>0</td>\n",
       "    </tr>\n",
       "    <tr>\n",
       "      <th>TRINITY_DN226449_c0_g1_i1</th>\n",
       "      <td>0</td>\n",
       "      <td>0</td>\n",
       "      <td>2</td>\n",
       "      <td>0</td>\n",
       "      <td>0</td>\n",
       "    </tr>\n",
       "    <tr>\n",
       "      <th>TRINITY_DN226457_c0_g1_i1</th>\n",
       "      <td>3</td>\n",
       "      <td>6</td>\n",
       "      <td>0</td>\n",
       "      <td>0</td>\n",
       "      <td>0</td>\n",
       "    </tr>\n",
       "    <tr>\n",
       "      <th>TRINITY_DN226454_c0_g1_i1</th>\n",
       "      <td>0</td>\n",
       "      <td>0</td>\n",
       "      <td>0</td>\n",
       "      <td>9</td>\n",
       "      <td>0</td>\n",
       "    </tr>\n",
       "    <tr>\n",
       "      <th>TRINITY_DN226455_c0_g1_i1</th>\n",
       "      <td>0</td>\n",
       "      <td>2</td>\n",
       "      <td>0</td>\n",
       "      <td>0</td>\n",
       "      <td>2</td>\n",
       "    </tr>\n",
       "    <tr>\n",
       "      <th>TRINITY_DN2264898_c0_g1_i1</th>\n",
       "      <td>0</td>\n",
       "      <td>2</td>\n",
       "      <td>1</td>\n",
       "      <td>1</td>\n",
       "      <td>2</td>\n",
       "    </tr>\n",
       "    <tr>\n",
       "      <th>TRINITY_DN78676876898_c0_g1_i1</th>\n",
       "      <td>0</td>\n",
       "      <td>2</td>\n",
       "      <td>1</td>\n",
       "      <td>1</td>\n",
       "      <td>20</td>\n",
       "    </tr>\n",
       "  </tbody>\n",
       "</table>\n",
       "</div>"
      ],
      "text/plain": [
       "                                SampleA  SampleB  SampleC  SampleD  SampleE\n",
       "ContigID                                                                   \n",
       "TRINITY_DN226500_c0_g1_i1             0        0        2        1        0\n",
       "TRINITY_DN226510_c0_g1_i1             1        0        0        0        5\n",
       "TRINITY_DN226477_c0_g1_i1             0        0        0        0        0\n",
       "TRINITY_DN226449_c0_g1_i1             0        0        2        0        0\n",
       "TRINITY_DN226457_c0_g1_i1             3        6        0        0        0\n",
       "TRINITY_DN226454_c0_g1_i1             0        0        0        9        0\n",
       "TRINITY_DN226455_c0_g1_i1             0        2        0        0        2\n",
       "TRINITY_DN2264898_c0_g1_i1            0        2        1        1        2\n",
       "TRINITY_DN78676876898_c0_g1_i1        0        2        1        1       20"
      ]
     },
     "execution_count": 9,
     "metadata": {},
     "output_type": "execute_result"
    }
   ],
   "source": [
    "counts = pd.read_csv(\n",
    "    count_table, sep = \"\\t\", comment='#'\n",
    ").set_index('ContigID')\n",
    "counts"
   ]
  },
  {
   "cell_type": "markdown",
   "metadata": {},
   "source": [
    "##### Most significant hit per contig\n",
    "First, we are going to drop unsignificant hits by E-value. We are setting a 0.0001 threshold.\n"
   ]
  },
  {
   "cell_type": "code",
   "execution_count": 10,
   "metadata": {},
   "outputs": [
    {
     "data": {
      "text/plain": [
       "Text(0.5, 1.0, 'E-value distribution before filtering')"
      ]
     },
     "execution_count": 10,
     "metadata": {},
     "output_type": "execute_result"
    },
    {
     "data": {
      "image/png": "[encoded data removed]",
      "text/plain": [
       "<Figure size 432x288 with 1 Axes>"
      ]
     },
     "metadata": {
      "needs_background": "light"
     },
     "output_type": "display_data"
    }
   ],
   "source": [
    "diamond.hist(\"e-value\")\n",
    "plt.title(\"E-value distribution before filtering\")"
   ]
  },
  {
   "cell_type": "code",
   "execution_count": 11,
   "metadata": {},
   "outputs": [
    {
     "data": {
      "text/plain": [
       "Text(0.5, 1.0, 'E-value distribution after filtering (with threshold 0.0001)')"
      ]
     },
     "execution_count": 11,
     "metadata": {},
     "output_type": "execute_result"
    },
    {
     "data": {
      "image/png": "[encoded data removed]",
      "text/plain": [
       "<Figure size 432x288 with 1 Axes>"
      ]
     },
     "metadata": {
      "needs_background": "light"
     },
     "output_type": "display_data"
    }
   ],
   "source": [
    "evalue_threshold = 0.0001\n",
    "diamond = diamond.loc[diamond['e-value'] < evalue_threshold] \n",
    "diamond.hist(\"e-value\")\n",
    "plt.title(f\"E-value distribution after filtering (with threshold {evalue_threshold})\")\n"
   ]
  },
  {
   "cell_type": "markdown",
   "metadata": {},
   "source": [
    "Now, we will sort rows per e-value and score and get the most significant hit per each ContigId."
   ]
  },
  {
   "cell_type": "code",
   "execution_count": 12,
   "metadata": {},
   "outputs": [
    {
     "data": {
      "text/plain": [
       "Text(0.5, 1.0, 'Number of hits per contig before preprocessing')"
      ]
     },
     "execution_count": 12,
     "metadata": {},
     "output_type": "execute_result"
    },
    {
     "data": {
      "image/png": "[encoded data removed]",
      "text/plain": [
       "<Figure size 432x288 with 1 Axes>"
      ]
     },
     "metadata": {
      "needs_background": "light"
     },
     "output_type": "display_data"
    }
   ],
   "source": [
    "diamond.pivot_table(columns=['Query id'], aggfunc='size').hist(bins = 25)\n",
    "plt.title(\"Number of hits per contig before preprocessing\")\n"
   ]
  },
  {
   "cell_type": "code",
   "execution_count": 13,
   "metadata": {},
   "outputs": [
    {
     "name": "stdout",
     "output_type": "stream",
     "text": [
      "Number of rows. Before: 60. After: 55\n"
     ]
    },
    {
     "data": {
      "text/plain": [
       "Text(0.5, 1.0, 'Number of hits per contig after preprocessing')"
      ]
     },
     "execution_count": 13,
     "metadata": {},
     "output_type": "execute_result"
    },
    {
     "data": {
      "image/png": "[encoded data removed]",
      "text/plain": [
       "<Figure size 432x288 with 1 Axes>"
      ]
     },
     "metadata": {
      "needs_background": "light"
     },
     "output_type": "display_data"
    }
   ],
   "source": [
    "before = diamond.size\n",
    "diamond = diamond.sort_values(\n",
    "        by=['e-value', 'score'], ascending=[True, False]\n",
    "        ).drop_duplicates(\n",
    "    'Query id', keep='first'\n",
    ").set_index('Query id')\n",
    "after = diamond.size\n",
    "\n",
    "print(f\"Number of rows. Before: {before}. After: {after}\")\n",
    "\n",
    "diamond.pivot_table(columns=['Query id'], aggfunc='size').hist(bins = 25)\n",
    "plt.title(\"Number of hits per contig after preprocessing\")"
   ]
  },
  {
   "cell_type": "markdown",
   "metadata": {},
   "source": [
    "#####  Inspect % identity and aligment length"
   ]
  },
  {
   "cell_type": "code",
   "execution_count": 14,
   "metadata": {},
   "outputs": [
    {
     "data": {
      "text/plain": [
       "Text(0.5, 1.0, 'Alignment length distribution after preprocessing')"
      ]
     },
     "execution_count": 14,
     "metadata": {},
     "output_type": "execute_result"
    },
    {
     "data": {
      "image/png": "[encoded data removed]",
      "text/plain": [
       "<Figure size 432x288 with 1 Axes>"
      ]
     },
     "metadata": {
      "needs_background": "light"
     },
     "output_type": "display_data"
    }
   ],
   "source": [
    "diamond.hist(\"alignment length\")\n",
    "plt.title(\"Alignment length distribution after preprocessing\")\n"
   ]
  },
  {
   "cell_type": "code",
   "execution_count": 15,
   "metadata": {},
   "outputs": [
    {
     "data": {
      "text/plain": [
       "Text(0, 0.5, 'Mistmatches')"
      ]
     },
     "execution_count": 15,
     "metadata": {},
     "output_type": "execute_result"
    },
    {
     "data": {
      "image/png": "[encoded data removed]",
      "text/plain": [
       "<Figure size 432x288 with 1 Axes>"
      ]
     },
     "metadata": {
      "needs_background": "light"
     },
     "output_type": "display_data"
    }
   ],
   "source": [
    "plt.scatter(diamond['alignment length'],diamond.mismatches,alpha=0.6)\n",
    "plt.title('Mistmatches distribution after preprocessingh')\n",
    "plt.xlabel('Alignment length')\n",
    "plt.ylabel('Mistmatches')"
   ]
  },
  {
   "cell_type": "code",
   "execution_count": 16,
   "metadata": {},
   "outputs": [
    {
     "data": {
      "text/plain": [
       "Text(0.5, 1.0, 'Percentage of identity distribution after preprocessing')"
      ]
     },
     "execution_count": 16,
     "metadata": {},
     "output_type": "execute_result"
    },
    {
     "data": {
      "image/png": "[encoded data removed]",
      "text/plain": [
       "<Figure size 432x288 with 1 Axes>"
      ]
     },
     "metadata": {
      "needs_background": "light"
     },
     "output_type": "display_data"
    }
   ],
   "source": [
    "diamond.hist(\"% identity\", bins = 20)\n",
    "plt.title(\"Percentage of identity distribution after preprocessing\")"
   ]
  },
  {
   "cell_type": "markdown",
   "metadata": {},
   "source": [
    "Now, consider filtering by identity and alignment length (not strictly necessary)."
   ]
  },
  {
   "cell_type": "code",
   "execution_count": 17,
   "metadata": {},
   "outputs": [
    {
     "data": {
      "text/html": [
       "<div>\n",
       "<style scoped>\n",
       "    .dataframe tbody tr th:only-of-type {\n",
       "        vertical-align: middle;\n",
       "    }\n",
       "\n",
       "    .dataframe tbody tr th {\n",
       "        vertical-align: top;\n",
       "    }\n",
       "\n",
       "    .dataframe thead th {\n",
       "        text-align: right;\n",
       "    }\n",
       "</style>\n",
       "<table border=\"1\" class=\"dataframe\">\n",
       "  <thead>\n",
       "    <tr style=\"text-align: right;\">\n",
       "      <th></th>\n",
       "      <th>Subject id</th>\n",
       "      <th>% identity</th>\n",
       "      <th>alignment length</th>\n",
       "      <th>mismatches</th>\n",
       "      <th>gap openings</th>\n",
       "      <th>q. start</th>\n",
       "      <th>q. end</th>\n",
       "      <th>s. start</th>\n",
       "      <th>s. end</th>\n",
       "      <th>e-value</th>\n",
       "      <th>score</th>\n",
       "    </tr>\n",
       "    <tr>\n",
       "      <th>Query id</th>\n",
       "      <th></th>\n",
       "      <th></th>\n",
       "      <th></th>\n",
       "      <th></th>\n",
       "      <th></th>\n",
       "      <th></th>\n",
       "      <th></th>\n",
       "      <th></th>\n",
       "      <th></th>\n",
       "      <th></th>\n",
       "      <th></th>\n",
       "    </tr>\n",
       "  </thead>\n",
       "  <tbody>\n",
       "    <tr>\n",
       "      <th>TRINITY_DN226477_c0_g1_i1</th>\n",
       "      <td>132113.XP_003494838.1</td>\n",
       "      <td>79.3</td>\n",
       "      <td>527</td>\n",
       "      <td>107</td>\n",
       "      <td>1</td>\n",
       "      <td>1</td>\n",
       "      <td>1575</td>\n",
       "      <td>679</td>\n",
       "      <td>1205</td>\n",
       "      <td>1.360000e-304</td>\n",
       "      <td>861.0</td>\n",
       "    </tr>\n",
       "    <tr>\n",
       "      <th>TRINITY_DN78676876898_c0_g1_i1</th>\n",
       "      <td>acid:CBP33_05305</td>\n",
       "      <td>98.3</td>\n",
       "      <td>350</td>\n",
       "      <td>6</td>\n",
       "      <td>0</td>\n",
       "      <td>2059</td>\n",
       "      <td>3108</td>\n",
       "      <td>1</td>\n",
       "      <td>350</td>\n",
       "      <td>1.920000e-234</td>\n",
       "      <td>717.0</td>\n",
       "    </tr>\n",
       "    <tr>\n",
       "      <th>TRINITY_DN226457_c0_g1_i1</th>\n",
       "      <td>926564.KI911682_gene5709</td>\n",
       "      <td>65.1</td>\n",
       "      <td>63</td>\n",
       "      <td>22</td>\n",
       "      <td>0</td>\n",
       "      <td>10</td>\n",
       "      <td>198</td>\n",
       "      <td>9</td>\n",
       "      <td>71</td>\n",
       "      <td>3.540000e-25</td>\n",
       "      <td>94.7</td>\n",
       "    </tr>\n",
       "    <tr>\n",
       "      <th>TRINITY_DN226455_c0_g1_i1</th>\n",
       "      <td>WP_112498715.1</td>\n",
       "      <td>47.1</td>\n",
       "      <td>85</td>\n",
       "      <td>45</td>\n",
       "      <td>0</td>\n",
       "      <td>44</td>\n",
       "      <td>298</td>\n",
       "      <td>155</td>\n",
       "      <td>239</td>\n",
       "      <td>8.720000e-19</td>\n",
       "      <td>82.8</td>\n",
       "    </tr>\n",
       "    <tr>\n",
       "      <th>TRINITY_DN226510_c0_g1_i1</th>\n",
       "      <td>rpne:NCTC8284_00393</td>\n",
       "      <td>46.2</td>\n",
       "      <td>39</td>\n",
       "      <td>21</td>\n",
       "      <td>0</td>\n",
       "      <td>5</td>\n",
       "      <td>121</td>\n",
       "      <td>4</td>\n",
       "      <td>42</td>\n",
       "      <td>1.420000e-05</td>\n",
       "      <td>42.4</td>\n",
       "    </tr>\n",
       "  </tbody>\n",
       "</table>\n",
       "</div>"
      ],
      "text/plain": [
       "                                              Subject id  % identity  \\\n",
       "Query id                                                               \n",
       "TRINITY_DN226477_c0_g1_i1          132113.XP_003494838.1        79.3   \n",
       "TRINITY_DN78676876898_c0_g1_i1          acid:CBP33_05305        98.3   \n",
       "TRINITY_DN226457_c0_g1_i1       926564.KI911682_gene5709        65.1   \n",
       "TRINITY_DN226455_c0_g1_i1                 WP_112498715.1        47.1   \n",
       "TRINITY_DN226510_c0_g1_i1            rpne:NCTC8284_00393        46.2   \n",
       "\n",
       "                                alignment length  mismatches  gap openings  \\\n",
       "Query id                                                                     \n",
       "TRINITY_DN226477_c0_g1_i1                    527         107             1   \n",
       "TRINITY_DN78676876898_c0_g1_i1               350           6             0   \n",
       "TRINITY_DN226457_c0_g1_i1                     63          22             0   \n",
       "TRINITY_DN226455_c0_g1_i1                     85          45             0   \n",
       "TRINITY_DN226510_c0_g1_i1                     39          21             0   \n",
       "\n",
       "                                q. start  q. end  s. start  s. end  \\\n",
       "Query id                                                             \n",
       "TRINITY_DN226477_c0_g1_i1              1    1575       679    1205   \n",
       "TRINITY_DN78676876898_c0_g1_i1      2059    3108         1     350   \n",
       "TRINITY_DN226457_c0_g1_i1             10     198         9      71   \n",
       "TRINITY_DN226455_c0_g1_i1             44     298       155     239   \n",
       "TRINITY_DN226510_c0_g1_i1              5     121         4      42   \n",
       "\n",
       "                                      e-value  score  \n",
       "Query id                                              \n",
       "TRINITY_DN226477_c0_g1_i1       1.360000e-304  861.0  \n",
       "TRINITY_DN78676876898_c0_g1_i1  1.920000e-234  717.0  \n",
       "TRINITY_DN226457_c0_g1_i1        3.540000e-25   94.7  \n",
       "TRINITY_DN226455_c0_g1_i1        8.720000e-19   82.8  \n",
       "TRINITY_DN226510_c0_g1_i1        1.420000e-05   42.4  "
      ]
     },
     "execution_count": 17,
     "metadata": {},
     "output_type": "execute_result"
    }
   ],
   "source": [
    "# Keep only hits with at least 70% identity\n",
    "#diamond = diamond.loc[diamond['% identity'] >= 70]\n",
    "# Keep only hits with at least 25 alignment length\n",
    "#diamond = diamond.loc[diamond['alignment length'] >= 25]\n",
    "diamond"
   ]
  },
  {
   "cell_type": "markdown",
   "metadata": {},
   "source": [
    "##### Link information form diamond matches and count table\n",
    "First, we are going to drop all columns except for ContigsID and orthologous genes header"
   ]
  },
  {
   "cell_type": "code",
   "execution_count": 18,
   "metadata": {},
   "outputs": [
    {
     "data": {
      "text/html": [
       "<div>\n",
       "<style scoped>\n",
       "    .dataframe tbody tr th:only-of-type {\n",
       "        vertical-align: middle;\n",
       "    }\n",
       "\n",
       "    .dataframe tbody tr th {\n",
       "        vertical-align: top;\n",
       "    }\n",
       "\n",
       "    .dataframe thead th {\n",
       "        text-align: right;\n",
       "    }\n",
       "</style>\n",
       "<table border=\"1\" class=\"dataframe\">\n",
       "  <thead>\n",
       "    <tr style=\"text-align: right;\">\n",
       "      <th></th>\n",
       "      <th>Subject id</th>\n",
       "    </tr>\n",
       "    <tr>\n",
       "      <th>Query id</th>\n",
       "      <th></th>\n",
       "    </tr>\n",
       "  </thead>\n",
       "  <tbody>\n",
       "    <tr>\n",
       "      <th>TRINITY_DN226477_c0_g1_i1</th>\n",
       "      <td>132113.XP_003494838.1</td>\n",
       "    </tr>\n",
       "    <tr>\n",
       "      <th>TRINITY_DN78676876898_c0_g1_i1</th>\n",
       "      <td>acid:CBP33_05305</td>\n",
       "    </tr>\n",
       "    <tr>\n",
       "      <th>TRINITY_DN226457_c0_g1_i1</th>\n",
       "      <td>926564.KI911682_gene5709</td>\n",
       "    </tr>\n",
       "    <tr>\n",
       "      <th>TRINITY_DN226455_c0_g1_i1</th>\n",
       "      <td>WP_112498715.1</td>\n",
       "    </tr>\n",
       "    <tr>\n",
       "      <th>TRINITY_DN226510_c0_g1_i1</th>\n",
       "      <td>rpne:NCTC8284_00393</td>\n",
       "    </tr>\n",
       "  </tbody>\n",
       "</table>\n",
       "</div>"
      ],
      "text/plain": [
       "                                              Subject id\n",
       "Query id                                                \n",
       "TRINITY_DN226477_c0_g1_i1          132113.XP_003494838.1\n",
       "TRINITY_DN78676876898_c0_g1_i1          acid:CBP33_05305\n",
       "TRINITY_DN226457_c0_g1_i1       926564.KI911682_gene5709\n",
       "TRINITY_DN226455_c0_g1_i1                 WP_112498715.1\n",
       "TRINITY_DN226510_c0_g1_i1            rpne:NCTC8284_00393"
      ]
     },
     "execution_count": 18,
     "metadata": {},
     "output_type": "execute_result"
    }
   ],
   "source": [
    "map_table = diamond[[\"Subject id\"]]\n",
    "map_table"
   ]
  },
  {
   "cell_type": "markdown",
   "metadata": {},
   "source": [
    "Now, we will merge both files by their column in common (ContigID and Subject id)."
   ]
  },
  {
   "cell_type": "code",
   "execution_count": 19,
   "metadata": {},
   "outputs": [
    {
     "data": {
      "text/html": [
       "<div>\n",
       "<style scoped>\n",
       "    .dataframe tbody tr th:only-of-type {\n",
       "        vertical-align: middle;\n",
       "    }\n",
       "\n",
       "    .dataframe tbody tr th {\n",
       "        vertical-align: top;\n",
       "    }\n",
       "\n",
       "    .dataframe thead th {\n",
       "        text-align: right;\n",
       "    }\n",
       "</style>\n",
       "<table border=\"1\" class=\"dataframe\">\n",
       "  <thead>\n",
       "    <tr style=\"text-align: right;\">\n",
       "      <th></th>\n",
       "      <th>Subject id</th>\n",
       "      <th>SampleA</th>\n",
       "      <th>SampleB</th>\n",
       "      <th>SampleC</th>\n",
       "      <th>SampleD</th>\n",
       "      <th>SampleE</th>\n",
       "    </tr>\n",
       "  </thead>\n",
       "  <tbody>\n",
       "    <tr>\n",
       "      <th>0</th>\n",
       "      <td>132113.XP_003494838.1</td>\n",
       "      <td>0</td>\n",
       "      <td>0</td>\n",
       "      <td>0</td>\n",
       "      <td>0</td>\n",
       "      <td>0</td>\n",
       "    </tr>\n",
       "    <tr>\n",
       "      <th>1</th>\n",
       "      <td>acid:CBP33_05305</td>\n",
       "      <td>0</td>\n",
       "      <td>2</td>\n",
       "      <td>1</td>\n",
       "      <td>1</td>\n",
       "      <td>20</td>\n",
       "    </tr>\n",
       "    <tr>\n",
       "      <th>2</th>\n",
       "      <td>926564.KI911682_gene5709</td>\n",
       "      <td>3</td>\n",
       "      <td>6</td>\n",
       "      <td>0</td>\n",
       "      <td>0</td>\n",
       "      <td>0</td>\n",
       "    </tr>\n",
       "    <tr>\n",
       "      <th>3</th>\n",
       "      <td>WP_112498715.1</td>\n",
       "      <td>0</td>\n",
       "      <td>2</td>\n",
       "      <td>0</td>\n",
       "      <td>0</td>\n",
       "      <td>2</td>\n",
       "    </tr>\n",
       "    <tr>\n",
       "      <th>4</th>\n",
       "      <td>rpne:NCTC8284_00393</td>\n",
       "      <td>1</td>\n",
       "      <td>0</td>\n",
       "      <td>0</td>\n",
       "      <td>0</td>\n",
       "      <td>5</td>\n",
       "    </tr>\n",
       "  </tbody>\n",
       "</table>\n",
       "</div>"
      ],
      "text/plain": [
       "                 Subject id  SampleA  SampleB  SampleC  SampleD  SampleE\n",
       "0     132113.XP_003494838.1        0        0        0        0        0\n",
       "1          acid:CBP33_05305        0        2        1        1       20\n",
       "2  926564.KI911682_gene5709        3        6        0        0        0\n",
       "3            WP_112498715.1        0        2        0        0        2\n",
       "4       rpne:NCTC8284_00393        1        0        0        0        5"
      ]
     },
     "execution_count": 19,
     "metadata": {},
     "output_type": "execute_result"
    }
   ],
   "source": [
    "df = pd.merge(map_table, counts, left_index=True, right_index=True).reset_index(drop=True)\n",
    "df\n"
   ]
  },
  {
   "cell_type": "markdown",
   "metadata": {},
   "source": [
    "##### Aggregate table\n",
    "Now, we are going to aggregate the rows by grouping them by \"Subject id\" (notice the difference in rows between the previous table and the following):"
   ]
  },
  {
   "cell_type": "code",
   "execution_count": 20,
   "metadata": {},
   "outputs": [
    {
     "data": {
      "text/html": [
       "<div>\n",
       "<style scoped>\n",
       "    .dataframe tbody tr th:only-of-type {\n",
       "        vertical-align: middle;\n",
       "    }\n",
       "\n",
       "    .dataframe tbody tr th {\n",
       "        vertical-align: top;\n",
       "    }\n",
       "\n",
       "    .dataframe thead th {\n",
       "        text-align: right;\n",
       "    }\n",
       "</style>\n",
       "<table border=\"1\" class=\"dataframe\">\n",
       "  <thead>\n",
       "    <tr style=\"text-align: right;\">\n",
       "      <th></th>\n",
       "      <th>SampleA</th>\n",
       "      <th>SampleB</th>\n",
       "      <th>SampleC</th>\n",
       "      <th>SampleD</th>\n",
       "      <th>SampleE</th>\n",
       "    </tr>\n",
       "    <tr>\n",
       "      <th>Subject id</th>\n",
       "      <th></th>\n",
       "      <th></th>\n",
       "      <th></th>\n",
       "      <th></th>\n",
       "      <th></th>\n",
       "    </tr>\n",
       "  </thead>\n",
       "  <tbody>\n",
       "    <tr>\n",
       "      <th>132113.XP_003494838.1</th>\n",
       "      <td>0</td>\n",
       "      <td>0</td>\n",
       "      <td>0</td>\n",
       "      <td>0</td>\n",
       "      <td>0</td>\n",
       "    </tr>\n",
       "    <tr>\n",
       "      <th>926564.KI911682_gene5709</th>\n",
       "      <td>3</td>\n",
       "      <td>6</td>\n",
       "      <td>0</td>\n",
       "      <td>0</td>\n",
       "      <td>0</td>\n",
       "    </tr>\n",
       "    <tr>\n",
       "      <th>WP_112498715.1</th>\n",
       "      <td>0</td>\n",
       "      <td>2</td>\n",
       "      <td>0</td>\n",
       "      <td>0</td>\n",
       "      <td>2</td>\n",
       "    </tr>\n",
       "    <tr>\n",
       "      <th>acid:CBP33_05305</th>\n",
       "      <td>0</td>\n",
       "      <td>2</td>\n",
       "      <td>1</td>\n",
       "      <td>1</td>\n",
       "      <td>20</td>\n",
       "    </tr>\n",
       "    <tr>\n",
       "      <th>rpne:NCTC8284_00393</th>\n",
       "      <td>1</td>\n",
       "      <td>0</td>\n",
       "      <td>0</td>\n",
       "      <td>0</td>\n",
       "      <td>5</td>\n",
       "    </tr>\n",
       "  </tbody>\n",
       "</table>\n",
       "</div>"
      ],
      "text/plain": [
       "                          SampleA  SampleB  SampleC  SampleD  SampleE\n",
       "Subject id                                                           \n",
       "132113.XP_003494838.1           0        0        0        0        0\n",
       "926564.KI911682_gene5709        3        6        0        0        0\n",
       "WP_112498715.1                  0        2        0        0        2\n",
       "acid:CBP33_05305                0        2        1        1       20\n",
       "rpne:NCTC8284_00393             1        0        0        0        5"
      ]
     },
     "execution_count": 20,
     "metadata": {},
     "output_type": "execute_result"
    }
   ],
   "source": [
    "df = df.groupby('Subject id').sum(numeric_only = True)\n",
    "df"
   ]
  },
  {
   "cell_type": "markdown",
   "metadata": {},
   "source": [
    "# Annotation\n",
    "First, let read the annotation file into a pandas table:"
   ]
  },
  {
   "cell_type": "code",
   "execution_count": 21,
   "metadata": {},
   "outputs": [
    {
     "data": {
      "text/html": [
       "<div>\n",
       "<style scoped>\n",
       "    .dataframe tbody tr th:only-of-type {\n",
       "        vertical-align: middle;\n",
       "    }\n",
       "\n",
       "    .dataframe tbody tr th {\n",
       "        vertical-align: top;\n",
       "    }\n",
       "\n",
       "    .dataframe thead th {\n",
       "        text-align: right;\n",
       "    }\n",
       "</style>\n",
       "<table border=\"1\" class=\"dataframe\">\n",
       "  <thead>\n",
       "    <tr style=\"text-align: right;\">\n",
       "      <th></th>\n",
       "      <th>name</th>\n",
       "      <th>gene</th>\n",
       "      <th>source</th>\n",
       "    </tr>\n",
       "  </thead>\n",
       "  <tbody>\n",
       "    <tr>\n",
       "      <th>0</th>\n",
       "      <td>WP_124191457.1</td>\n",
       "      <td>acuI</td>\n",
       "      <td>UniProt</td>\n",
       "    </tr>\n",
       "    <tr>\n",
       "      <th>1</th>\n",
       "      <td>WP_137694993.1</td>\n",
       "      <td>acuI</td>\n",
       "      <td>UniProt</td>\n",
       "    </tr>\n",
       "    <tr>\n",
       "      <th>2</th>\n",
       "      <td>WP_053938022.1</td>\n",
       "      <td>acuI</td>\n",
       "      <td>UniProt</td>\n",
       "    </tr>\n",
       "    <tr>\n",
       "      <th>3</th>\n",
       "      <td>WP_004812046.1</td>\n",
       "      <td>acuI</td>\n",
       "      <td>UniProt</td>\n",
       "    </tr>\n",
       "    <tr>\n",
       "      <th>4</th>\n",
       "      <td>WP_032226573.1</td>\n",
       "      <td>acuI</td>\n",
       "      <td>UniProt</td>\n",
       "    </tr>\n",
       "    <tr>\n",
       "      <th>...</th>\n",
       "      <td>...</td>\n",
       "      <td>...</td>\n",
       "      <td>...</td>\n",
       "    </tr>\n",
       "    <tr>\n",
       "      <th>579051</th>\n",
       "      <td>sphk:SKP52_04140</td>\n",
       "      <td>yihQ</td>\n",
       "      <td>KEGG</td>\n",
       "    </tr>\n",
       "    <tr>\n",
       "      <th>579052</th>\n",
       "      <td>lei:C2U54_04500</td>\n",
       "      <td>yihQ</td>\n",
       "      <td>KEGG</td>\n",
       "    </tr>\n",
       "    <tr>\n",
       "      <th>579053</th>\n",
       "      <td>ata:AWN88_03325</td>\n",
       "      <td>yihQ</td>\n",
       "      <td>KEGG</td>\n",
       "    </tr>\n",
       "    <tr>\n",
       "      <th>579054</th>\n",
       "      <td>esa:ESA_04054</td>\n",
       "      <td>yihQ</td>\n",
       "      <td>KEGG</td>\n",
       "    </tr>\n",
       "    <tr>\n",
       "      <th>579055</th>\n",
       "      <td>A0A564I479</td>\n",
       "      <td>yihQ</td>\n",
       "      <td>UniProt</td>\n",
       "    </tr>\n",
       "  </tbody>\n",
       "</table>\n",
       "<p>579056 rows × 3 columns</p>\n",
       "</div>"
      ],
      "text/plain": [
       "                    name  gene   source\n",
       "0         WP_124191457.1  acuI  UniProt\n",
       "1         WP_137694993.1  acuI  UniProt\n",
       "2         WP_053938022.1  acuI  UniProt\n",
       "3         WP_004812046.1  acuI  UniProt\n",
       "4         WP_032226573.1  acuI  UniProt\n",
       "...                  ...   ...      ...\n",
       "579051  sphk:SKP52_04140  yihQ     KEGG\n",
       "579052   lei:C2U54_04500  yihQ     KEGG\n",
       "579053   ata:AWN88_03325  yihQ     KEGG\n",
       "579054     esa:ESA_04054  yihQ     KEGG\n",
       "579055        A0A564I479  yihQ  UniProt\n",
       "\n",
       "[579056 rows x 3 columns]"
      ]
     },
     "execution_count": 21,
     "metadata": {},
     "output_type": "execute_result"
    }
   ],
   "source": [
    "annotations = pd.read_csv(\n",
    "    annotation_file,header=None, delimiter='\\t',\n",
    "    names = ['name', 'gene', 'source']\n",
    "    )\n",
    "annotations"
   ]
  },
  {
   "cell_type": "markdown",
   "metadata": {},
   "source": [
    "Now, we merge both tables by their column in common (Subject id and orthologous genes header)"
   ]
  },
  {
   "cell_type": "code",
   "execution_count": 22,
   "metadata": {},
   "outputs": [
    {
     "data": {
      "text/html": [
       "<div>\n",
       "<style scoped>\n",
       "    .dataframe tbody tr th:only-of-type {\n",
       "        vertical-align: middle;\n",
       "    }\n",
       "\n",
       "    .dataframe tbody tr th {\n",
       "        vertical-align: top;\n",
       "    }\n",
       "\n",
       "    .dataframe thead th {\n",
       "        text-align: right;\n",
       "    }\n",
       "</style>\n",
       "<table border=\"1\" class=\"dataframe\">\n",
       "  <thead>\n",
       "    <tr style=\"text-align: right;\">\n",
       "      <th></th>\n",
       "      <th>SampleA</th>\n",
       "      <th>SampleB</th>\n",
       "      <th>SampleC</th>\n",
       "      <th>SampleD</th>\n",
       "      <th>SampleE</th>\n",
       "      <th>gene</th>\n",
       "      <th>source</th>\n",
       "    </tr>\n",
       "    <tr>\n",
       "      <th>name</th>\n",
       "      <th></th>\n",
       "      <th></th>\n",
       "      <th></th>\n",
       "      <th></th>\n",
       "      <th></th>\n",
       "      <th></th>\n",
       "      <th></th>\n",
       "    </tr>\n",
       "  </thead>\n",
       "  <tbody>\n",
       "    <tr>\n",
       "      <th>NaN</th>\n",
       "      <td>0</td>\n",
       "      <td>0</td>\n",
       "      <td>0</td>\n",
       "      <td>0</td>\n",
       "      <td>0</td>\n",
       "      <td>NaN</td>\n",
       "      <td>NaN</td>\n",
       "    </tr>\n",
       "    <tr>\n",
       "      <th>926564.KI911682_gene5709</th>\n",
       "      <td>3</td>\n",
       "      <td>6</td>\n",
       "      <td>0</td>\n",
       "      <td>0</td>\n",
       "      <td>0</td>\n",
       "      <td>acuI</td>\n",
       "      <td>eggNOG</td>\n",
       "    </tr>\n",
       "    <tr>\n",
       "      <th>WP_112498715.1</th>\n",
       "      <td>0</td>\n",
       "      <td>2</td>\n",
       "      <td>0</td>\n",
       "      <td>0</td>\n",
       "      <td>2</td>\n",
       "      <td>sgpC</td>\n",
       "      <td>UniProt</td>\n",
       "    </tr>\n",
       "    <tr>\n",
       "      <th>acid:CBP33_05305</th>\n",
       "      <td>0</td>\n",
       "      <td>2</td>\n",
       "      <td>1</td>\n",
       "      <td>1</td>\n",
       "      <td>20</td>\n",
       "      <td>tbuC</td>\n",
       "      <td>KEGG</td>\n",
       "    </tr>\n",
       "    <tr>\n",
       "      <th>NaN</th>\n",
       "      <td>1</td>\n",
       "      <td>0</td>\n",
       "      <td>0</td>\n",
       "      <td>0</td>\n",
       "      <td>5</td>\n",
       "      <td>NaN</td>\n",
       "      <td>NaN</td>\n",
       "    </tr>\n",
       "  </tbody>\n",
       "</table>\n",
       "</div>"
      ],
      "text/plain": [
       "                          SampleA  SampleB  SampleC  SampleD  SampleE  gene  \\\n",
       "name                                                                          \n",
       "NaN                             0        0        0        0        0   NaN   \n",
       "926564.KI911682_gene5709        3        6        0        0        0  acuI   \n",
       "WP_112498715.1                  0        2        0        0        2  sgpC   \n",
       "acid:CBP33_05305                0        2        1        1       20  tbuC   \n",
       "NaN                             1        0        0        0        5   NaN   \n",
       "\n",
       "                           source  \n",
       "name                               \n",
       "NaN                           NaN  \n",
       "926564.KI911682_gene5709   eggNOG  \n",
       "WP_112498715.1            UniProt  \n",
       "acid:CBP33_05305             KEGG  \n",
       "NaN                           NaN  "
      ]
     },
     "execution_count": 22,
     "metadata": {},
     "output_type": "execute_result"
    }
   ],
   "source": [
    "df = df.merge(\n",
    "    annotations, left_on='Subject id',\n",
    "    right_on='name', how = 'left'\n",
    "    ).set_index('name')\n",
    "df"
   ]
  },
  {
   "cell_type": "markdown",
   "metadata": {},
   "source": [
    "The database includes non-sulfurus genes (to reduce the number of false positives). Those entries either have no annotation. We are going to remove them from the table:"
   ]
  },
  {
   "cell_type": "code",
   "execution_count": 23,
   "metadata": {},
   "outputs": [
    {
     "data": {
      "text/html": [
       "<div>\n",
       "<style scoped>\n",
       "    .dataframe tbody tr th:only-of-type {\n",
       "        vertical-align: middle;\n",
       "    }\n",
       "\n",
       "    .dataframe tbody tr th {\n",
       "        vertical-align: top;\n",
       "    }\n",
       "\n",
       "    .dataframe thead th {\n",
       "        text-align: right;\n",
       "    }\n",
       "</style>\n",
       "<table border=\"1\" class=\"dataframe\">\n",
       "  <thead>\n",
       "    <tr style=\"text-align: right;\">\n",
       "      <th></th>\n",
       "      <th>SampleA</th>\n",
       "      <th>SampleB</th>\n",
       "      <th>SampleC</th>\n",
       "      <th>SampleD</th>\n",
       "      <th>SampleE</th>\n",
       "      <th>gene</th>\n",
       "      <th>source</th>\n",
       "    </tr>\n",
       "    <tr>\n",
       "      <th>name</th>\n",
       "      <th></th>\n",
       "      <th></th>\n",
       "      <th></th>\n",
       "      <th></th>\n",
       "      <th></th>\n",
       "      <th></th>\n",
       "      <th></th>\n",
       "    </tr>\n",
       "  </thead>\n",
       "  <tbody>\n",
       "    <tr>\n",
       "      <th>926564.KI911682_gene5709</th>\n",
       "      <td>3</td>\n",
       "      <td>6</td>\n",
       "      <td>0</td>\n",
       "      <td>0</td>\n",
       "      <td>0</td>\n",
       "      <td>acuI</td>\n",
       "      <td>eggNOG</td>\n",
       "    </tr>\n",
       "    <tr>\n",
       "      <th>WP_112498715.1</th>\n",
       "      <td>0</td>\n",
       "      <td>2</td>\n",
       "      <td>0</td>\n",
       "      <td>0</td>\n",
       "      <td>2</td>\n",
       "      <td>sgpC</td>\n",
       "      <td>UniProt</td>\n",
       "    </tr>\n",
       "    <tr>\n",
       "      <th>acid:CBP33_05305</th>\n",
       "      <td>0</td>\n",
       "      <td>2</td>\n",
       "      <td>1</td>\n",
       "      <td>1</td>\n",
       "      <td>20</td>\n",
       "      <td>tbuC</td>\n",
       "      <td>KEGG</td>\n",
       "    </tr>\n",
       "  </tbody>\n",
       "</table>\n",
       "</div>"
      ],
      "text/plain": [
       "                          SampleA  SampleB  SampleC  SampleD  SampleE  gene  \\\n",
       "name                                                                          \n",
       "926564.KI911682_gene5709        3        6        0        0        0  acuI   \n",
       "WP_112498715.1                  0        2        0        0        2  sgpC   \n",
       "acid:CBP33_05305                0        2        1        1       20  tbuC   \n",
       "\n",
       "                           source  \n",
       "name                               \n",
       "926564.KI911682_gene5709   eggNOG  \n",
       "WP_112498715.1            UniProt  \n",
       "acid:CBP33_05305             KEGG  "
      ]
     },
     "execution_count": 23,
     "metadata": {},
     "output_type": "execute_result"
    }
   ],
   "source": [
    "# Remove rows with NA\n",
    "df.dropna(inplace=True)\n",
    "df"
   ]
  },
  {
   "cell_type": "markdown",
   "metadata": {},
   "source": [
    "Finally, we aggregate by gene and save the table:"
   ]
  },
  {
   "cell_type": "code",
   "execution_count": 24,
   "metadata": {},
   "outputs": [
    {
     "data": {
      "text/html": [
       "<div>\n",
       "<style scoped>\n",
       "    .dataframe tbody tr th:only-of-type {\n",
       "        vertical-align: middle;\n",
       "    }\n",
       "\n",
       "    .dataframe tbody tr th {\n",
       "        vertical-align: top;\n",
       "    }\n",
       "\n",
       "    .dataframe thead th {\n",
       "        text-align: right;\n",
       "    }\n",
       "</style>\n",
       "<table border=\"1\" class=\"dataframe\">\n",
       "  <thead>\n",
       "    <tr style=\"text-align: right;\">\n",
       "      <th></th>\n",
       "      <th>SampleA</th>\n",
       "      <th>SampleB</th>\n",
       "      <th>SampleC</th>\n",
       "      <th>SampleD</th>\n",
       "      <th>SampleE</th>\n",
       "    </tr>\n",
       "    <tr>\n",
       "      <th>gene</th>\n",
       "      <th></th>\n",
       "      <th></th>\n",
       "      <th></th>\n",
       "      <th></th>\n",
       "      <th></th>\n",
       "    </tr>\n",
       "  </thead>\n",
       "  <tbody>\n",
       "    <tr>\n",
       "      <th>acuI</th>\n",
       "      <td>3</td>\n",
       "      <td>6</td>\n",
       "      <td>0</td>\n",
       "      <td>0</td>\n",
       "      <td>0</td>\n",
       "    </tr>\n",
       "    <tr>\n",
       "      <th>sgpC</th>\n",
       "      <td>0</td>\n",
       "      <td>2</td>\n",
       "      <td>0</td>\n",
       "      <td>0</td>\n",
       "      <td>2</td>\n",
       "    </tr>\n",
       "    <tr>\n",
       "      <th>tbuC</th>\n",
       "      <td>0</td>\n",
       "      <td>2</td>\n",
       "      <td>1</td>\n",
       "      <td>1</td>\n",
       "      <td>20</td>\n",
       "    </tr>\n",
       "  </tbody>\n",
       "</table>\n",
       "</div>"
      ],
      "text/plain": [
       "      SampleA  SampleB  SampleC  SampleD  SampleE\n",
       "gene                                             \n",
       "acuI        3        6        0        0        0\n",
       "sgpC        0        2        0        0        2\n",
       "tbuC        0        2        1        1       20"
      ]
     },
     "execution_count": 24,
     "metadata": {},
     "output_type": "execute_result"
    }
   ],
   "source": [
    "df = df.groupby('gene').sum(numeric_only=True)\n",
    "df"
   ]
  },
  {
   "cell_type": "code",
   "execution_count": 25,
   "metadata": {},
   "outputs": [],
   "source": [
    "df.to_csv('../results/SCycDB_matches_annotated.tsv', sep='\\t')"
   ]
  }
 ],
 "metadata": {
  "kernelspec": {
   "display_name": "Python 3 (ipykernel)",
   "language": "python",
   "name": "python3"
  },
  "language_info": {
   "codemirror_mode": {
    "name": "ipython",
    "version": 3
   },
   "file_extension": ".py",
   "mimetype": "text/x-python",
   "name": "python",
   "nbconvert_exporter": "python",
   "pygments_lexer": "ipython3",
   "version": "3.6.15"
  }
 },
 "nbformat": 4,
 "nbformat_minor": 4
}
