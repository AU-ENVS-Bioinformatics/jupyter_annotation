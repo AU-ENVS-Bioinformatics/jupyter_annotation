{
 "cells": [
  {
   "attachments": {},
   "cell_type": "markdown",
   "id": "4a6a5bb1-1d72-44c8-975d-b2d7a60fa30e",
   "metadata": {},
   "source": [
    "## Functional annotation\n",
    "\n",
    "This notebook was made for generic annotation of contigs. Basically, it assumes that you have:\n",
    "\n",
    "1. A fasta file with aminoacid sequences (you database). If you have DNA, you can produce the aminoacid sequences with `transeq` from the EMBOSS package (or consider blasting the DNA sequences directly).\n",
    "2. A fasta file with the sequences you want to annotate (your query).\n",
    "3. A count table with abundances of the sequences you want to annotate.\n",
    "\n",
    "## How to run Jupyter notebooks in huginn\n",
    "<details>\n",
    "<summary>Click to expand!</summary>\n",
    "\n",
    "If you use vs-code you can use the [remote ssh extension](https://marketplace.visualstudio.com/items?itemName=ms-vscode-remote.remote-ssh) to connect to huginn and either run jupyterlab in the remote server (so to say, just like you would do in your local computer with `jupyter-lab`) or run directly without opening jupyterlab directly. \n",
    "\n",
    "Otherwise, you can follow the instructions below: \n",
    "\n",
    "1. Turn on VPN\n",
    "2. Open two terminals (let's called A and B)\n",
    "3. With terminal A, connect to huginn with ssh as usual\n",
    "```bash\n",
    "ssh username@huginn.au.dk\n",
    "```\n",
    "4. Move to the directory where you want to work, activate the conda enviroment and run jupyter notebook or jupyter lab:\n",
    "```bash\n",
    "conda activate jupyter-diamond\n",
    "jupyter notebook --no-browser --port=7777\n",
    "```\n",
    "5. With terminal B, connect to huginn and forward the port specified port to your local computer\n",
    "```bash\n",
    "ssh -Y -N -L localhost:7777:localhost:7777 username@huginn.au.dk\n",
    "```\n",
    "6. Open your browser and go to `localhost:7777` and you should see the jupyter notebook running in huginn. You can also press in the url of Terminal A. \n",
    "\n",
    "Troubleshooting:\n",
    "- If you get an error like `bind: Address already in use` it means that you have another jupyter notebook running in the same port. You can either kill the process or change the port.\n",
    "</details>\n",
    "\n",
    "## How to create a new environment for this notebook (if needed)\n",
    "\n",
    "We will use Diamond, a few python basic libraries and bash. Let's check if those dependencies are installed. If not, you can install them with mamba (as well with jupyterlab)\n",
    "\n",
    "```bash\n",
    "# To create a new environment with mamba\n",
    "mamba create -c bioconda -c conda-forge diamond pandas matplotlib jupyterlab -n jupyter-diamond\n",
    "# To activate the environment\n",
    "conda activate jupyter-diamond\n",
    "```\n",
    "\n",
    "### Sanity check"
   ]
  },
  {
   "cell_type": "code",
   "execution_count": 1,
   "id": "c20b6ded",
   "metadata": {},
   "outputs": [
    {
     "name": "stdout",
     "output_type": "stream",
     "text": [
      "diamond version 2.1.8\n",
      "1.1.5\n",
      "3.3.4\n",
      "GNU bash, version 4.4.20(1)-release (x86_64-pc-linux-gnu)\n"
     ]
    }
   ],
   "source": [
    "%%bash\n",
    "diamond --version\n",
    "python -c \"import pandas; print(pandas.__version__)\"\n",
    "python -c \"import matplotlib; print(matplotlib.__version__)\"\n",
    "bash --version | head -n 1"
   ]
  },
  {
   "cell_type": "code",
   "execution_count": 2,
   "id": "5b69f327",
   "metadata": {},
   "outputs": [],
   "source": [
    "import pandas as pd\n",
    "import matplotlib.pyplot as plt\n",
    "import os"
   ]
  },
  {
   "attachments": {},
   "cell_type": "markdown",
   "id": "fe1eec65",
   "metadata": {},
   "source": [
    "The input is the fasta file with contigs and the count table. "
   ]
  },
  {
   "cell_type": "code",
   "execution_count": 3,
   "id": "aeb85dfd",
   "metadata": {},
   "outputs": [],
   "source": [
    "database_file = \"../data/database.fasta\"\n",
    "out_database_file = \"../data/database.dmnd\"\n",
    "query_file = \"../data/contigs.fasta\"\n",
    "count_table = \"../data/mapped_reads_to_contigs.tsv\"\n",
    "## Sanity check: query, database and count table exit\n",
    "assert os.path.exists(database_file)\n",
    "assert os.path.exists(query_file)\n",
    "assert os.path.exists(count_table)"
   ]
  },
  {
   "cell_type": "markdown",
   "id": "75b4b626",
   "metadata": {},
   "source": [
    "## Build the database\n",
    "First, we need to build the database. If you are using the generic notebook, chances are that the database is rather small and you can build it every time you run the notebook. If you are using a large database, you might want to build it once and use it multiple times. "
   ]
  },
  {
   "cell_type": "code",
   "execution_count": 4,
   "id": "1f8e06b4",
   "metadata": {},
   "outputs": [],
   "source": [
    "%%bash -s \"$database_file\" \"$out_database_file\"\n",
    "if [ ! -f $2 ]; then\n",
    "    diamond makedb --in $1 -d $2\n",
    "fi"
   ]
  },
  {
   "attachments": {},
   "cell_type": "markdown",
   "id": "463c39ff-2d1a-4427-94ea-8ab9bf1ca64a",
   "metadata": {},
   "source": [
    "## Run Diamond "
   ]
  },
  {
   "cell_type": "code",
   "execution_count": 5,
   "id": "bc06bea6",
   "metadata": {},
   "outputs": [],
   "source": [
    "outfile_matches = \"../results/generic_matches.tsv\""
   ]
  },
  {
   "cell_type": "markdown",
   "id": "502e0e17",
   "metadata": {},
   "source": [
    "**Please, be aware that, without using any sensitivity option, the default mode is designed for finding hits of >60% identity. Consider increasing the sensitivity (or decreasing it).**"
   ]
  },
  {
   "cell_type": "code",
   "execution_count": 6,
   "id": "b44d881c",
   "metadata": {},
   "outputs": [
    {
     "name": "stdout",
     "output_type": "stream",
     "text": [
      "TRINITY_DN226500_c0_g1_i1\tDummy1\t100\t70\t0\t0\t1\t210\t1\t70\t1.17e-58\t159\n"
     ]
    }
   ],
   "source": [
    "%%bash -s \"$out_database_file\" \"$query_file\" \"$outfile_matches\"\n",
    "if [ ! -f $3 ]; then\n",
    "mkdir -p $(dirname $3)\n",
    "diamond blastx -p 50 -d $1 -q $2 -o $3 2> /dev/null\n",
    "fi\n",
    "head $3"
   ]
  },
  {
   "attachments": {},
   "cell_type": "markdown",
   "id": "96fda5a8",
   "metadata": {},
   "source": [
    "## Parse Diamond output and preprocess"
   ]
  },
  {
   "cell_type": "code",
   "execution_count": 7,
   "id": "cb23723b-f70c-406b-849e-8635378d9c13",
   "metadata": {
    "tags": []
   },
   "outputs": [],
   "source": [
    "diamond = pd.read_csv(\n",
    "    outfile_matches,\n",
    "    delimiter=\"\\t\",\n",
    "    comment=\"#\",\n",
    "    header=None,\n",
    "    names=[\n",
    "        \"Query id\",\n",
    "        \"Subject id\",\n",
    "        \"% identity\",\n",
    "        \"alignment length\",\n",
    "        \"mismatches\",\n",
    "        \"gap openings\",\n",
    "        \"q. start\",\n",
    "        \"q. end\",\n",
    "        \"s. start\",\n",
    "        \"s. end\",\n",
    "        \"e-value\",\n",
    "        \"score\",\n",
    "    ],\n",
    ")"
   ]
  },
  {
   "attachments": {},
   "cell_type": "markdown",
   "id": "c6647858-4431-4377-8517-4458efa6a375",
   "metadata": {},
   "source": [
    "Now, we have a table with all the alignments between our \"genes\" and the database."
   ]
  },
  {
   "cell_type": "code",
   "execution_count": 8,
   "id": "9344c348-b68d-41cf-a049-cd4f05ecb2c5",
   "metadata": {
    "tags": []
   },
   "outputs": [
    {
     "data": {
      "text/html": [
       "<div>\n",
       "<style scoped>\n",
       "    .dataframe tbody tr th:only-of-type {\n",
       "        vertical-align: middle;\n",
       "    }\n",
       "\n",
       "    .dataframe tbody tr th {\n",
       "        vertical-align: top;\n",
       "    }\n",
       "\n",
       "    .dataframe thead th {\n",
       "        text-align: right;\n",
       "    }\n",
       "</style>\n",
       "<table border=\"1\" class=\"dataframe\">\n",
       "  <thead>\n",
       "    <tr style=\"text-align: right;\">\n",
       "      <th></th>\n",
       "      <th>Query id</th>\n",
       "      <th>Subject id</th>\n",
       "      <th>% identity</th>\n",
       "      <th>alignment length</th>\n",
       "      <th>mismatches</th>\n",
       "      <th>gap openings</th>\n",
       "      <th>q. start</th>\n",
       "      <th>q. end</th>\n",
       "      <th>s. start</th>\n",
       "      <th>s. end</th>\n",
       "      <th>e-value</th>\n",
       "      <th>score</th>\n",
       "    </tr>\n",
       "  </thead>\n",
       "  <tbody>\n",
       "    <tr>\n",
       "      <th>0</th>\n",
       "      <td>TRINITY_DN226500_c0_g1_i1</td>\n",
       "      <td>Dummy1</td>\n",
       "      <td>100</td>\n",
       "      <td>70</td>\n",
       "      <td>0</td>\n",
       "      <td>0</td>\n",
       "      <td>1</td>\n",
       "      <td>210</td>\n",
       "      <td>1</td>\n",
       "      <td>70</td>\n",
       "      <td>1.170000e-58</td>\n",
       "      <td>159</td>\n",
       "    </tr>\n",
       "  </tbody>\n",
       "</table>\n",
       "</div>"
      ],
      "text/plain": [
       "                    Query id Subject id  % identity  alignment length  \\\n",
       "0  TRINITY_DN226500_c0_g1_i1     Dummy1         100                70   \n",
       "\n",
       "   mismatches  gap openings  q. start  q. end  s. start  s. end       e-value  \\\n",
       "0           0             0         1     210         1      70  1.170000e-58   \n",
       "\n",
       "   score  \n",
       "0    159  "
      ]
     },
     "execution_count": 8,
     "metadata": {},
     "output_type": "execute_result"
    }
   ],
   "source": [
    "diamond"
   ]
  },
  {
   "attachments": {},
   "cell_type": "markdown",
   "id": "acb7eaac-8b2a-462b-b5b4-6aa754e097b4",
   "metadata": {},
   "source": [
    "## Read count table\n",
    "However, we also need to read the count table:"
   ]
  },
  {
   "cell_type": "code",
   "execution_count": 9,
   "id": "b9d87d9f-8c5b-4030-82d6-66800462b42e",
   "metadata": {
    "tags": []
   },
   "outputs": [
    {
     "name": "stdout",
     "output_type": "stream",
     "text": [
      "ContigID\tSampleA\tSampleB\tSampleC\tSampleD\tSampleE\n",
      "TRINITY_DN226500_c0_g1_i1\t0\t0\t2\t1\t0\n",
      "TRINITY_DN226510_c0_g1_i1\t1\t0\t0\t0\t5\n",
      "TRINITY_DN226477_c0_g1_i1\t0\t0\t0\t0\t0\n",
      "TRINITY_DN226449_c0_g1_i1\t0\t0\t2\t0\t0\n",
      "TRINITY_DN226457_c0_g1_i1\t3\t6\t0\t0\t0\n",
      "TRINITY_DN226454_c0_g1_i1\t0\t0\t0\t9\t0\n",
      "TRINITY_DN226455_c0_g1_i1\t0\t2\t0\t0\t2\n",
      "TRINITY_DN2264898_c0_g1_i1\t0\t2\t1\t1\t2\n",
      "TRINITY_DN78676876898_c0_g1_i1\t0\t2\t1\t1\t20"
     ]
    }
   ],
   "source": [
    "%%bash -s \"$count_table\"\n",
    "head $1"
   ]
  },
  {
   "cell_type": "code",
   "execution_count": 10,
   "id": "1de1ed51-14aa-49f4-a361-87b7b572ada3",
   "metadata": {
    "tags": []
   },
   "outputs": [
    {
     "data": {
      "text/html": [
       "<div>\n",
       "<style scoped>\n",
       "    .dataframe tbody tr th:only-of-type {\n",
       "        vertical-align: middle;\n",
       "    }\n",
       "\n",
       "    .dataframe tbody tr th {\n",
       "        vertical-align: top;\n",
       "    }\n",
       "\n",
       "    .dataframe thead th {\n",
       "        text-align: right;\n",
       "    }\n",
       "</style>\n",
       "<table border=\"1\" class=\"dataframe\">\n",
       "  <thead>\n",
       "    <tr style=\"text-align: right;\">\n",
       "      <th></th>\n",
       "      <th>SampleA</th>\n",
       "      <th>SampleB</th>\n",
       "      <th>SampleC</th>\n",
       "      <th>SampleD</th>\n",
       "      <th>SampleE</th>\n",
       "    </tr>\n",
       "    <tr>\n",
       "      <th>ContigID</th>\n",
       "      <th></th>\n",
       "      <th></th>\n",
       "      <th></th>\n",
       "      <th></th>\n",
       "      <th></th>\n",
       "    </tr>\n",
       "  </thead>\n",
       "  <tbody>\n",
       "    <tr>\n",
       "      <th>TRINITY_DN226500_c0_g1_i1</th>\n",
       "      <td>0</td>\n",
       "      <td>0</td>\n",
       "      <td>2</td>\n",
       "      <td>1</td>\n",
       "      <td>0</td>\n",
       "    </tr>\n",
       "    <tr>\n",
       "      <th>TRINITY_DN226510_c0_g1_i1</th>\n",
       "      <td>1</td>\n",
       "      <td>0</td>\n",
       "      <td>0</td>\n",
       "      <td>0</td>\n",
       "      <td>5</td>\n",
       "    </tr>\n",
       "    <tr>\n",
       "      <th>TRINITY_DN226477_c0_g1_i1</th>\n",
       "      <td>0</td>\n",
       "      <td>0</td>\n",
       "      <td>0</td>\n",
       "      <td>0</td>\n",
       "      <td>0</td>\n",
       "    </tr>\n",
       "    <tr>\n",
       "      <th>TRINITY_DN226449_c0_g1_i1</th>\n",
       "      <td>0</td>\n",
       "      <td>0</td>\n",
       "      <td>2</td>\n",
       "      <td>0</td>\n",
       "      <td>0</td>\n",
       "    </tr>\n",
       "    <tr>\n",
       "      <th>TRINITY_DN226457_c0_g1_i1</th>\n",
       "      <td>3</td>\n",
       "      <td>6</td>\n",
       "      <td>0</td>\n",
       "      <td>0</td>\n",
       "      <td>0</td>\n",
       "    </tr>\n",
       "    <tr>\n",
       "      <th>TRINITY_DN226454_c0_g1_i1</th>\n",
       "      <td>0</td>\n",
       "      <td>0</td>\n",
       "      <td>0</td>\n",
       "      <td>9</td>\n",
       "      <td>0</td>\n",
       "    </tr>\n",
       "    <tr>\n",
       "      <th>TRINITY_DN226455_c0_g1_i1</th>\n",
       "      <td>0</td>\n",
       "      <td>2</td>\n",
       "      <td>0</td>\n",
       "      <td>0</td>\n",
       "      <td>2</td>\n",
       "    </tr>\n",
       "    <tr>\n",
       "      <th>TRINITY_DN2264898_c0_g1_i1</th>\n",
       "      <td>0</td>\n",
       "      <td>2</td>\n",
       "      <td>1</td>\n",
       "      <td>1</td>\n",
       "      <td>2</td>\n",
       "    </tr>\n",
       "    <tr>\n",
       "      <th>TRINITY_DN78676876898_c0_g1_i1</th>\n",
       "      <td>0</td>\n",
       "      <td>2</td>\n",
       "      <td>1</td>\n",
       "      <td>1</td>\n",
       "      <td>20</td>\n",
       "    </tr>\n",
       "  </tbody>\n",
       "</table>\n",
       "</div>"
      ],
      "text/plain": [
       "                                SampleA  SampleB  SampleC  SampleD  SampleE\n",
       "ContigID                                                                   \n",
       "TRINITY_DN226500_c0_g1_i1             0        0        2        1        0\n",
       "TRINITY_DN226510_c0_g1_i1             1        0        0        0        5\n",
       "TRINITY_DN226477_c0_g1_i1             0        0        0        0        0\n",
       "TRINITY_DN226449_c0_g1_i1             0        0        2        0        0\n",
       "TRINITY_DN226457_c0_g1_i1             3        6        0        0        0\n",
       "TRINITY_DN226454_c0_g1_i1             0        0        0        9        0\n",
       "TRINITY_DN226455_c0_g1_i1             0        2        0        0        2\n",
       "TRINITY_DN2264898_c0_g1_i1            0        2        1        1        2\n",
       "TRINITY_DN78676876898_c0_g1_i1        0        2        1        1       20"
      ]
     },
     "execution_count": 10,
     "metadata": {},
     "output_type": "execute_result"
    }
   ],
   "source": [
    "counts = pd.read_csv(count_table, sep=\"\\t\", comment=\"#\").set_index(\"ContigID\")\n",
    "counts"
   ]
  },
  {
   "attachments": {},
   "cell_type": "markdown",
   "id": "1d39dd81-6d5e-4a09-a128-1c9aaac4734c",
   "metadata": {},
   "source": [
    "## Preprocessing\n",
    "### Most significant hit per Contig"
   ]
  },
  {
   "attachments": {},
   "cell_type": "markdown",
   "id": "b9cdb35f-ba57-4013-ae61-33928f3adcdd",
   "metadata": {},
   "source": [
    "Now, we need to get the most significant hit per each contig ID. Let's inspect how many hits there are per contig (adjust the number of bins). "
   ]
  },
  {
   "cell_type": "code",
   "execution_count": 11,
   "id": "3d5b07e5-d340-440d-831e-3bc6c179a28b",
   "metadata": {
    "tags": []
   },
   "outputs": [
    {
     "data": {
      "text/plain": [
       "Text(0.5, 1.0, 'Number of hits per contig')"
      ]
     },
     "execution_count": 11,
     "metadata": {},
     "output_type": "execute_result"
    },
    {
     "data": {
      "image/png": "[encoded data removed]",
      "text/plain": [
       "<Figure size 432x288 with 1 Axes>"
      ]
     },
     "metadata": {
      "needs_background": "light"
     },
     "output_type": "display_data"
    }
   ],
   "source": [
    "diamond.pivot_table(columns=[\"Query id\"], aggfunc=\"size\").hist(bins=25)\n",
    "plt.title(\"Number of hits per contig\")"
   ]
  },
  {
   "attachments": {},
   "cell_type": "markdown",
   "id": "43813411-8fac-4ad8-b9b6-bf21d90f8122",
   "metadata": {},
   "source": [
    "In this case, we are going to sort rows per e-value and score and get the most significant hit per each ContigId."
   ]
  },
  {
   "cell_type": "code",
   "execution_count": 12,
   "id": "3f78c5d5-1e49-4406-9c93-950b3eb35c35",
   "metadata": {
    "tags": []
   },
   "outputs": [
    {
     "data": {
      "text/html": [
       "<div>\n",
       "<style scoped>\n",
       "    .dataframe tbody tr th:only-of-type {\n",
       "        vertical-align: middle;\n",
       "    }\n",
       "\n",
       "    .dataframe tbody tr th {\n",
       "        vertical-align: top;\n",
       "    }\n",
       "\n",
       "    .dataframe thead th {\n",
       "        text-align: right;\n",
       "    }\n",
       "</style>\n",
       "<table border=\"1\" class=\"dataframe\">\n",
       "  <thead>\n",
       "    <tr style=\"text-align: right;\">\n",
       "      <th></th>\n",
       "      <th>Subject id</th>\n",
       "      <th>% identity</th>\n",
       "      <th>alignment length</th>\n",
       "      <th>mismatches</th>\n",
       "      <th>gap openings</th>\n",
       "      <th>q. start</th>\n",
       "      <th>q. end</th>\n",
       "      <th>s. start</th>\n",
       "      <th>s. end</th>\n",
       "      <th>e-value</th>\n",
       "      <th>score</th>\n",
       "    </tr>\n",
       "    <tr>\n",
       "      <th>Query id</th>\n",
       "      <th></th>\n",
       "      <th></th>\n",
       "      <th></th>\n",
       "      <th></th>\n",
       "      <th></th>\n",
       "      <th></th>\n",
       "      <th></th>\n",
       "      <th></th>\n",
       "      <th></th>\n",
       "      <th></th>\n",
       "      <th></th>\n",
       "    </tr>\n",
       "  </thead>\n",
       "  <tbody>\n",
       "    <tr>\n",
       "      <th>TRINITY_DN226500_c0_g1_i1</th>\n",
       "      <td>Dummy1</td>\n",
       "      <td>100</td>\n",
       "      <td>70</td>\n",
       "      <td>0</td>\n",
       "      <td>0</td>\n",
       "      <td>1</td>\n",
       "      <td>210</td>\n",
       "      <td>1</td>\n",
       "      <td>70</td>\n",
       "      <td>1.170000e-58</td>\n",
       "      <td>159</td>\n",
       "    </tr>\n",
       "  </tbody>\n",
       "</table>\n",
       "</div>"
      ],
      "text/plain": [
       "                          Subject id  % identity  alignment length  \\\n",
       "Query id                                                             \n",
       "TRINITY_DN226500_c0_g1_i1     Dummy1         100                70   \n",
       "\n",
       "                           mismatches  gap openings  q. start  q. end  \\\n",
       "Query id                                                                \n",
       "TRINITY_DN226500_c0_g1_i1           0             0         1     210   \n",
       "\n",
       "                           s. start  s. end       e-value  score  \n",
       "Query id                                                          \n",
       "TRINITY_DN226500_c0_g1_i1         1      70  1.170000e-58    159  "
      ]
     },
     "execution_count": 12,
     "metadata": {},
     "output_type": "execute_result"
    }
   ],
   "source": [
    "diamond = (\n",
    "    diamond.sort_values(by=[\"e-value\", \"score\"], ascending=[True, False])\n",
    "    .drop_duplicates(\"Query id\", keep=\"first\")\n",
    "    .set_index(\"Query id\")\n",
    ")\n",
    "diamond"
   ]
  },
  {
   "attachments": {},
   "cell_type": "markdown",
   "id": "5b93ff5b-e48a-4ea9-84ec-9e5d2c330b5f",
   "metadata": {},
   "source": [
    "### Inspect E-values from aligned orthologous genes before filtering by e-value"
   ]
  },
  {
   "cell_type": "code",
   "execution_count": 13,
   "id": "99f753e2-871b-4fd7-9c65-f55a36ed2546",
   "metadata": {
    "tags": []
   },
   "outputs": [
    {
     "data": {
      "text/plain": [
       "array([[<AxesSubplot:title={'center':'e-value'}>]], dtype=object)"
      ]
     },
     "execution_count": 13,
     "metadata": {},
     "output_type": "execute_result"
    },
    {
     "data": {
      "image/png": "[encoded data removed]",
      "text/plain": [
       "<Figure size 432x288 with 1 Axes>"
      ]
     },
     "metadata": {
      "needs_background": "light"
     },
     "output_type": "display_data"
    }
   ],
   "source": [
    "diamond.hist(\"e-value\")"
   ]
  },
  {
   "attachments": {},
   "cell_type": "markdown",
   "id": "090783cb-1cc7-49a0-bf75-a18683dd8262",
   "metadata": {},
   "source": [
    "### Inspect E-values from aligned orthologous genes after filtering by e-value\n",
    "\n",
    "We need to set a threshold:"
   ]
  },
  {
   "cell_type": "code",
   "execution_count": 14,
   "id": "ce8f9609-91d1-469e-8370-1326cc5054e5",
   "metadata": {
    "tags": []
   },
   "outputs": [],
   "source": [
    "evalue_threshold = 0.0001"
   ]
  },
  {
   "cell_type": "code",
   "execution_count": 15,
   "id": "a174e5b6-a092-474a-b832-d770fc382f7f",
   "metadata": {
    "tags": []
   },
   "outputs": [],
   "source": [
    "diamond = diamond.loc[diamond[\"e-value\"] < evalue_threshold]"
   ]
  },
  {
   "cell_type": "code",
   "execution_count": 16,
   "id": "31f0a7a1-bf4a-4319-ab39-fb1be0b35e23",
   "metadata": {
    "tags": []
   },
   "outputs": [
    {
     "data": {
      "text/plain": [
       "array([[<AxesSubplot:title={'center':'e-value'}>]], dtype=object)"
      ]
     },
     "execution_count": 16,
     "metadata": {},
     "output_type": "execute_result"
    },
    {
     "data": {
      "image/png": "[encoded data removed]",
      "text/plain": [
       "<Figure size 432x288 with 1 Axes>"
      ]
     },
     "metadata": {
      "needs_background": "light"
     },
     "output_type": "display_data"
    }
   ],
   "source": [
    "diamond.hist(\"e-value\")"
   ]
  },
  {
   "cell_type": "code",
   "execution_count": 17,
   "id": "3c455b9d-2113-4d81-a97f-c04973a8dc29",
   "metadata": {
    "tags": []
   },
   "outputs": [
    {
     "name": "stdout",
     "output_type": "stream",
     "text": [
      "There are 1 unique orthologous genes\n"
     ]
    }
   ],
   "source": [
    "val = len(set(diamond[\"Subject id\"]))\n",
    "print(f\"There are {val} unique orthologous genes\")"
   ]
  },
  {
   "attachments": {},
   "cell_type": "markdown",
   "id": "bdeaacd7-2ef4-4441-adea-99df6cdb1390",
   "metadata": {
    "tags": []
   },
   "source": [
    "### Inspect % identity and aligment length"
   ]
  },
  {
   "cell_type": "code",
   "execution_count": 18,
   "id": "16ee4816-ee69-404f-be0e-566c7745b6fc",
   "metadata": {
    "tags": []
   },
   "outputs": [
    {
     "data": {
      "text/plain": [
       "array([[<AxesSubplot:title={'center':'alignment length'}>]], dtype=object)"
      ]
     },
     "execution_count": 18,
     "metadata": {},
     "output_type": "execute_result"
    },
    {
     "data": {
      "image/png": "[encoded data removed]",
      "text/plain": [
       "<Figure size 432x288 with 1 Axes>"
      ]
     },
     "metadata": {
      "needs_background": "light"
     },
     "output_type": "display_data"
    }
   ],
   "source": [
    "diamond.hist(\"alignment length\")"
   ]
  },
  {
   "cell_type": "code",
   "execution_count": 19,
   "id": "a6b6775a-a1ee-403a-b908-f09fe46314d0",
   "metadata": {
    "tags": []
   },
   "outputs": [
    {
     "data": {
      "text/plain": [
       "array([[<AxesSubplot:title={'center':'% identity'}>]], dtype=object)"
      ]
     },
     "execution_count": 19,
     "metadata": {},
     "output_type": "execute_result"
    },
    {
     "data": {
      "image/png": "[encoded data removed]",
      "text/plain": [
       "<Figure size 432x288 with 1 Axes>"
      ]
     },
     "metadata": {
      "needs_background": "light"
     },
     "output_type": "display_data"
    }
   ],
   "source": [
    "diamond.hist(\"% identity\")"
   ]
  },
  {
   "cell_type": "code",
   "execution_count": 20,
   "id": "163a2749",
   "metadata": {},
   "outputs": [
    {
     "data": {
      "text/html": [
       "<div>\n",
       "<style scoped>\n",
       "    .dataframe tbody tr th:only-of-type {\n",
       "        vertical-align: middle;\n",
       "    }\n",
       "\n",
       "    .dataframe tbody tr th {\n",
       "        vertical-align: top;\n",
       "    }\n",
       "\n",
       "    .dataframe thead th {\n",
       "        text-align: right;\n",
       "    }\n",
       "</style>\n",
       "<table border=\"1\" class=\"dataframe\">\n",
       "  <thead>\n",
       "    <tr style=\"text-align: right;\">\n",
       "      <th></th>\n",
       "      <th>Subject id</th>\n",
       "      <th>% identity</th>\n",
       "      <th>alignment length</th>\n",
       "      <th>mismatches</th>\n",
       "      <th>gap openings</th>\n",
       "      <th>q. start</th>\n",
       "      <th>q. end</th>\n",
       "      <th>s. start</th>\n",
       "      <th>s. end</th>\n",
       "      <th>e-value</th>\n",
       "      <th>score</th>\n",
       "    </tr>\n",
       "    <tr>\n",
       "      <th>Query id</th>\n",
       "      <th></th>\n",
       "      <th></th>\n",
       "      <th></th>\n",
       "      <th></th>\n",
       "      <th></th>\n",
       "      <th></th>\n",
       "      <th></th>\n",
       "      <th></th>\n",
       "      <th></th>\n",
       "      <th></th>\n",
       "      <th></th>\n",
       "    </tr>\n",
       "  </thead>\n",
       "  <tbody>\n",
       "    <tr>\n",
       "      <th>TRINITY_DN226500_c0_g1_i1</th>\n",
       "      <td>Dummy1</td>\n",
       "      <td>100</td>\n",
       "      <td>70</td>\n",
       "      <td>0</td>\n",
       "      <td>0</td>\n",
       "      <td>1</td>\n",
       "      <td>210</td>\n",
       "      <td>1</td>\n",
       "      <td>70</td>\n",
       "      <td>1.170000e-58</td>\n",
       "      <td>159</td>\n",
       "    </tr>\n",
       "  </tbody>\n",
       "</table>\n",
       "</div>"
      ],
      "text/plain": [
       "                          Subject id  % identity  alignment length  \\\n",
       "Query id                                                             \n",
       "TRINITY_DN226500_c0_g1_i1     Dummy1         100                70   \n",
       "\n",
       "                           mismatches  gap openings  q. start  q. end  \\\n",
       "Query id                                                                \n",
       "TRINITY_DN226500_c0_g1_i1           0             0         1     210   \n",
       "\n",
       "                           s. start  s. end       e-value  score  \n",
       "Query id                                                          \n",
       "TRINITY_DN226500_c0_g1_i1         1      70  1.170000e-58    159  "
      ]
     },
     "execution_count": 20,
     "metadata": {},
     "output_type": "execute_result"
    }
   ],
   "source": [
    "diamond"
   ]
  },
  {
   "cell_type": "code",
   "execution_count": 21,
   "id": "06075ab0",
   "metadata": {},
   "outputs": [
    {
     "data": {
      "text/plain": [
       "Text(0, 0.5, 'Mistmatches')"
      ]
     },
     "execution_count": 21,
     "metadata": {},
     "output_type": "execute_result"
    },
    {
     "data": {
      "image/png": "[encoded data removed]",
      "text/plain": [
       "<Figure size 432x288 with 1 Axes>"
      ]
     },
     "metadata": {
      "needs_background": "light"
     },
     "output_type": "display_data"
    }
   ],
   "source": [
    "plt.scatter(diamond[\"alignment length\"], diamond.mismatches, alpha=0.6)\n",
    "plt.title(\"Mistmatches distribution after preprocessingh\")\n",
    "plt.xlabel(\"Alignment length\")\n",
    "plt.ylabel(\"Mistmatches\")"
   ]
  },
  {
   "attachments": {},
   "cell_type": "markdown",
   "id": "3145e306",
   "metadata": {},
   "source": [
    "## Attention !!\n",
    "Please, consider the previous information to set the threshold for the e-value and the % identity."
   ]
  },
  {
   "attachments": {},
   "cell_type": "markdown",
   "id": "a1bcae6d-70a5-4318-8206-2aaddf15bb62",
   "metadata": {},
   "source": [
    "### Merging aligned genes and count table\n",
    "First, we are going to drop all columns except for ContigsID and orthologous genes header (to obtain map table). "
   ]
  },
  {
   "cell_type": "code",
   "execution_count": 22,
   "id": "407b00ee-8a22-483c-9cf7-37a0abe76de4",
   "metadata": {
    "tags": []
   },
   "outputs": [
    {
     "data": {
      "text/html": [
       "<div>\n",
       "<style scoped>\n",
       "    .dataframe tbody tr th:only-of-type {\n",
       "        vertical-align: middle;\n",
       "    }\n",
       "\n",
       "    .dataframe tbody tr th {\n",
       "        vertical-align: top;\n",
       "    }\n",
       "\n",
       "    .dataframe thead th {\n",
       "        text-align: right;\n",
       "    }\n",
       "</style>\n",
       "<table border=\"1\" class=\"dataframe\">\n",
       "  <thead>\n",
       "    <tr style=\"text-align: right;\">\n",
       "      <th></th>\n",
       "      <th>Subject id</th>\n",
       "    </tr>\n",
       "    <tr>\n",
       "      <th>Query id</th>\n",
       "      <th></th>\n",
       "    </tr>\n",
       "  </thead>\n",
       "  <tbody>\n",
       "    <tr>\n",
       "      <th>TRINITY_DN226500_c0_g1_i1</th>\n",
       "      <td>Dummy1</td>\n",
       "    </tr>\n",
       "  </tbody>\n",
       "</table>\n",
       "</div>"
      ],
      "text/plain": [
       "                          Subject id\n",
       "Query id                            \n",
       "TRINITY_DN226500_c0_g1_i1     Dummy1"
      ]
     },
     "execution_count": 22,
     "metadata": {},
     "output_type": "execute_result"
    }
   ],
   "source": [
    "map_table = diamond[[\"Subject id\"]]\n",
    "map_table"
   ]
  },
  {
   "attachments": {},
   "cell_type": "markdown",
   "id": "7a7cc510-b6b3-4b2f-a84a-75fe989ac5f0",
   "metadata": {
    "tags": []
   },
   "source": [
    "Now, we are going to merge both files by their column in common (ContigID and Subject id)."
   ]
  },
  {
   "cell_type": "code",
   "execution_count": 23,
   "id": "7ad61d06-8a87-4dee-a173-b915153efed6",
   "metadata": {
    "tags": []
   },
   "outputs": [
    {
     "data": {
      "text/html": [
       "<div>\n",
       "<style scoped>\n",
       "    .dataframe tbody tr th:only-of-type {\n",
       "        vertical-align: middle;\n",
       "    }\n",
       "\n",
       "    .dataframe tbody tr th {\n",
       "        vertical-align: top;\n",
       "    }\n",
       "\n",
       "    .dataframe thead th {\n",
       "        text-align: right;\n",
       "    }\n",
       "</style>\n",
       "<table border=\"1\" class=\"dataframe\">\n",
       "  <thead>\n",
       "    <tr style=\"text-align: right;\">\n",
       "      <th></th>\n",
       "      <th>Subject id</th>\n",
       "      <th>SampleA</th>\n",
       "      <th>SampleB</th>\n",
       "      <th>SampleC</th>\n",
       "      <th>SampleD</th>\n",
       "      <th>SampleE</th>\n",
       "    </tr>\n",
       "  </thead>\n",
       "  <tbody>\n",
       "    <tr>\n",
       "      <th>0</th>\n",
       "      <td>Dummy1</td>\n",
       "      <td>0</td>\n",
       "      <td>0</td>\n",
       "      <td>2</td>\n",
       "      <td>1</td>\n",
       "      <td>0</td>\n",
       "    </tr>\n",
       "  </tbody>\n",
       "</table>\n",
       "</div>"
      ],
      "text/plain": [
       "  Subject id  SampleA  SampleB  SampleC  SampleD  SampleE\n",
       "0     Dummy1        0        0        2        1        0"
      ]
     },
     "execution_count": 23,
     "metadata": {},
     "output_type": "execute_result"
    }
   ],
   "source": [
    "df = pd.merge(map_table, counts, left_index=True, right_index=True).reset_index(\n",
    "    drop=True\n",
    ")\n",
    "df"
   ]
  },
  {
   "attachments": {},
   "cell_type": "markdown",
   "id": "3d9b1208-5fc9-4056-9089-1beeaa75c3b7",
   "metadata": {},
   "source": [
    "### Aggregate table\n",
    "Now, we are going to aggregate the rows by grouping by \"Subject id\" (notice the difference in rows between the previous table and the following):"
   ]
  },
  {
   "cell_type": "code",
   "execution_count": 24,
   "id": "75b4c8b5-9591-4243-8fb0-3258db020a46",
   "metadata": {
    "tags": []
   },
   "outputs": [
    {
     "data": {
      "text/html": [
       "<div>\n",
       "<style scoped>\n",
       "    .dataframe tbody tr th:only-of-type {\n",
       "        vertical-align: middle;\n",
       "    }\n",
       "\n",
       "    .dataframe tbody tr th {\n",
       "        vertical-align: top;\n",
       "    }\n",
       "\n",
       "    .dataframe thead th {\n",
       "        text-align: right;\n",
       "    }\n",
       "</style>\n",
       "<table border=\"1\" class=\"dataframe\">\n",
       "  <thead>\n",
       "    <tr style=\"text-align: right;\">\n",
       "      <th></th>\n",
       "      <th>Subject id</th>\n",
       "      <th>SampleA</th>\n",
       "      <th>SampleB</th>\n",
       "      <th>SampleC</th>\n",
       "      <th>SampleD</th>\n",
       "      <th>SampleE</th>\n",
       "    </tr>\n",
       "  </thead>\n",
       "  <tbody>\n",
       "    <tr>\n",
       "      <th>0</th>\n",
       "      <td>Dummy1</td>\n",
       "      <td>0</td>\n",
       "      <td>0</td>\n",
       "      <td>2</td>\n",
       "      <td>1</td>\n",
       "      <td>0</td>\n",
       "    </tr>\n",
       "  </tbody>\n",
       "</table>\n",
       "</div>"
      ],
      "text/plain": [
       "  Subject id  SampleA  SampleB  SampleC  SampleD  SampleE\n",
       "0     Dummy1        0        0        2        1        0"
      ]
     },
     "execution_count": 24,
     "metadata": {},
     "output_type": "execute_result"
    }
   ],
   "source": [
    "df = df.groupby(\"Subject id\").sum(numeric_only=True).reset_index()\n",
    "df"
   ]
  },
  {
   "attachments": {},
   "cell_type": "markdown",
   "id": "e16060fc-3363-4f9b-a4c7-40e7e64a64b5",
   "metadata": {},
   "source": [
    "## Annotating count table\n",
    "\n",
    "Unfortunately, we can't annotate your generic database. But you can add you own code here:"
   ]
  },
  {
   "cell_type": "code",
   "execution_count": 25,
   "metadata": {},
   "outputs": [
    {
     "data": {
      "text/html": [
       "<div>\n",
       "<style scoped>\n",
       "    .dataframe tbody tr th:only-of-type {\n",
       "        vertical-align: middle;\n",
       "    }\n",
       "\n",
       "    .dataframe tbody tr th {\n",
       "        vertical-align: top;\n",
       "    }\n",
       "\n",
       "    .dataframe thead th {\n",
       "        text-align: right;\n",
       "    }\n",
       "</style>\n",
       "<table border=\"1\" class=\"dataframe\">\n",
       "  <thead>\n",
       "    <tr style=\"text-align: right;\">\n",
       "      <th></th>\n",
       "      <th>Subject id</th>\n",
       "      <th>SampleA</th>\n",
       "      <th>SampleB</th>\n",
       "      <th>SampleC</th>\n",
       "      <th>SampleD</th>\n",
       "      <th>SampleE</th>\n",
       "      <th>Annotation</th>\n",
       "    </tr>\n",
       "  </thead>\n",
       "  <tbody>\n",
       "    <tr>\n",
       "      <th>0</th>\n",
       "      <td>Dummy1</td>\n",
       "      <td>0</td>\n",
       "      <td>0</td>\n",
       "      <td>2</td>\n",
       "      <td>1</td>\n",
       "      <td>0</td>\n",
       "      <td>foo</td>\n",
       "    </tr>\n",
       "  </tbody>\n",
       "</table>\n",
       "</div>"
      ],
      "text/plain": [
       "  Subject id  SampleA  SampleB  SampleC  SampleD  SampleE Annotation\n",
       "0     Dummy1        0        0        2        1        0        foo"
      ]
     },
     "execution_count": 25,
     "metadata": {},
     "output_type": "execute_result"
    }
   ],
   "source": [
    "# Very clever stuff\n",
    "df[\"Annotation\"] = [\"foo\" for _ in range(df.shape[0])]\n",
    "df"
   ]
  },
  {
   "cell_type": "markdown",
   "id": "f1703006",
   "metadata": {},
   "source": [
    "And you may also want to aggregate counts by that annotation:"
   ]
  },
  {
   "cell_type": "code",
   "execution_count": 26,
   "id": "8e6390f7",
   "metadata": {},
   "outputs": [
    {
     "data": {
      "text/html": [
       "<div>\n",
       "<style scoped>\n",
       "    .dataframe tbody tr th:only-of-type {\n",
       "        vertical-align: middle;\n",
       "    }\n",
       "\n",
       "    .dataframe tbody tr th {\n",
       "        vertical-align: top;\n",
       "    }\n",
       "\n",
       "    .dataframe thead th {\n",
       "        text-align: right;\n",
       "    }\n",
       "</style>\n",
       "<table border=\"1\" class=\"dataframe\">\n",
       "  <thead>\n",
       "    <tr style=\"text-align: right;\">\n",
       "      <th></th>\n",
       "      <th>SampleA</th>\n",
       "      <th>SampleB</th>\n",
       "      <th>SampleC</th>\n",
       "      <th>SampleD</th>\n",
       "      <th>SampleE</th>\n",
       "    </tr>\n",
       "    <tr>\n",
       "      <th>Annotation</th>\n",
       "      <th></th>\n",
       "      <th></th>\n",
       "      <th></th>\n",
       "      <th></th>\n",
       "      <th></th>\n",
       "    </tr>\n",
       "  </thead>\n",
       "  <tbody>\n",
       "    <tr>\n",
       "      <th>foo</th>\n",
       "      <td>0</td>\n",
       "      <td>0</td>\n",
       "      <td>2</td>\n",
       "      <td>1</td>\n",
       "      <td>0</td>\n",
       "    </tr>\n",
       "  </tbody>\n",
       "</table>\n",
       "</div>"
      ],
      "text/plain": [
       "            SampleA  SampleB  SampleC  SampleD  SampleE\n",
       "Annotation                                             \n",
       "foo               0        0        2        1        0"
      ]
     },
     "execution_count": 26,
     "metadata": {},
     "output_type": "execute_result"
    }
   ],
   "source": [
    "df = df.groupby(\"Annotation\").sum(numeric_only=True)\n",
    "df"
   ]
  },
  {
   "cell_type": "code",
   "execution_count": 27,
   "id": "4f3552fa",
   "metadata": {
    "tags": []
   },
   "outputs": [],
   "source": [
    "df.to_csv(\"../results/generic_matches_annotated.tsv\", sep=\"\\t\")"
   ]
  }
 ],
 "metadata": {
  "kernelspec": {
   "display_name": "Python 3 (ipykernel)",
   "language": "python",
   "name": "python3"
  },
  "language_info": {
   "codemirror_mode": {
    "name": "ipython",
    "version": 3
   },
   "file_extension": ".py",
   "mimetype": "text/x-python",
   "name": "python",
   "nbconvert_exporter": "python",
   "pygments_lexer": "ipython3",
   "version": "3.6.15"
  }
 },
 "nbformat": 4,
 "nbformat_minor": 5
}
