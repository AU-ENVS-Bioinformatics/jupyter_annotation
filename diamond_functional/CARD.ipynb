{
 "cells": [
  {
   "cell_type": "markdown",
   "metadata": {},
   "source": [
    "# Antibiotic Resistance Database using CARD\n",
    "\n",
    "This notebook is part of the analysis of the TotalRNA mRNA genes from Trinity. \n",
    "\n",
    "See more [here](https://www.youtube.com/watch?v=FvOCDlcYaTo&list=PL3izGL6oi0S8RG8vnwLXFznzJnKh8OR8F&index=6).\n",
    "\n",
    "## How to run Jupyter notebooks in huginn\n",
    "<details>\n",
    "<summary>Click to expand!</summary>\n",
    "\n",
    "If you use vs-code you can use the [remote ssh extension](https://marketplace.visualstudio.com/items?itemName=ms-vscode-remote.remote-ssh) to connect to huginn and either run jupyterlab in the remote server (so to say, just like you would do in your local computer with `jupyter-lab`) or run directly without opening jupyterlab directly. \n",
    "\n",
    "Otherwise, you can follow the instructions below: \n",
    "\n",
    "1. Turn on VPN\n",
    "2. Open two terminals (let's called A and B)\n",
    "3. With terminal A, connect to huginn with ssh as usual\n",
    "```bash\n",
    "ssh username@huginn.au.dk\n",
    "```\n",
    "4. Move to the directory where you want to work, activate the conda enviroment and run jupyter notebook or jupyter lab:\n",
    "```bash\n",
    "conda activate jupyter-diamond\n",
    "jupyter notebook --no-browser --port=7777\n",
    "```\n",
    "5. With terminal B, connect to huginn and forward the port specified port to your local computer\n",
    "```bash\n",
    "ssh -Y -N -L localhost:7777:localhost:7777 username@huginn.au.dk\n",
    "```\n",
    "6. Open your browser and go to `localhost:7777` and you should see the jupyter notebook running in huginn. You can also press in the url of Terminal A. \n",
    "\n",
    "Troubleshooting:\n",
    "- If you get an error like `bind: Address already in use` it means that you have another jupyter notebook running in the same port. You can either kill the process or change the port.\n",
    "</details>\n",
    "\n",
    "## How to create a new environment for this notebook (if needed)\n",
    "\n",
    "We will use Diamond, a few python basic libraries and bash. Let's check if those dependencies are installed. If not, you can install them with mamba (as well with jupyterlab)\n",
    "\n",
    "```bash\n",
    "# To create a new environment with mamba\n",
    "mamba create -c bioconda -c conda-forge diamond pandas matplotlib jupyterlab -n jupyter-diamond\n",
    "# To activate the environment\n",
    "conda activate jupyter-diamond\n",
    "```\n",
    "\n",
    "### Sanity check"
   ]
  },
  {
   "cell_type": "code",
   "execution_count": 1,
   "metadata": {},
   "outputs": [
    {
     "name": "stdout",
     "output_type": "stream",
     "text": [
      "diamond version 2.1.8\n",
      "1.1.5\n",
      "3.3.4\n",
      "GNU bash, version 4.4.20(1)-release (x86_64-pc-linux-gnu)\n"
     ]
    }
   ],
   "source": [
    "%%bash\n",
    "diamond --version\n",
    "python -c \"import pandas; print(pandas.__version__)\"\n",
    "python -c \"import matplotlib; print(matplotlib.__version__)\"\n",
    "bash --version | head -n 1"
   ]
  },
  {
   "cell_type": "code",
   "execution_count": 2,
   "metadata": {},
   "outputs": [],
   "source": [
    "import pandas as pd\n",
    "import os\n",
    "import matplotlib.pyplot as plt"
   ]
  },
  {
   "cell_type": "markdown",
   "metadata": {},
   "source": [
    "### Input files (edit this chunk)\n",
    "Edit this chunk to match your input files"
   ]
  },
  {
   "cell_type": "code",
   "execution_count": 3,
   "metadata": {},
   "outputs": [],
   "source": [
    "trinity_file = '../data/contigs.fasta'\n",
    "count_table = '../data/mapped_reads_to_contigs.tsv'"
   ]
  },
  {
   "cell_type": "code",
   "execution_count": 4,
   "metadata": {},
   "outputs": [],
   "source": [
    "## Sanity check: trinity and count table exit\n",
    "assert os.path.exists(trinity_file), 'Trinity file does not exist'\n",
    "assert os.path.exists(count_table), 'Count table does not exist'"
   ]
  },
  {
   "cell_type": "markdown",
   "metadata": {},
   "source": [
    "### Output files (edit this chunk)\n",
    "Edit this chunk to match your desired output files"
   ]
  },
  {
   "cell_type": "code",
   "execution_count": 5,
   "metadata": {},
   "outputs": [],
   "source": [
    "outfile_matches = '../results/CARD_matches.tsv'"
   ]
  },
  {
   "cell_type": "markdown",
   "metadata": {},
   "source": [
    "### Database files\n",
    "Don't edit this chunk"
   ]
  },
  {
   "cell_type": "code",
   "execution_count": 6,
   "metadata": {},
   "outputs": [],
   "source": [
    "database = \"/data_2/Databases/CARD/CARD.dmnd\"\n",
    "annotation_file = \"/data_2/Databases/CARD/aro_index.tsv\"\n",
    "assert os.path.exists(annotation_file), 'Annotation file does not exist'\n",
    "assert os.path.exists(database), 'Database file does not exist'"
   ]
  },
  {
   "cell_type": "markdown",
   "metadata": {},
   "source": [
    "##### Run Diamond\n",
    "\n",
    "We will use the same Diamond parameters as in the paper. Please, consider using cutoff in the percentage of identity and the length of the alignment."
   ]
  },
  {
   "cell_type": "code",
   "execution_count": 7,
   "metadata": {},
   "outputs": [
    {
     "name": "stdout",
     "output_type": "stream",
     "text": [
      "TRINITY_DN2264898_c0_g1_i1\tgb|AEJ08681.1|ARO:3001109|SHV-52\t100\t286\t0\t0\t1\t858\t1\t286\t1.73e-202\t551\n"
     ]
    }
   ],
   "source": [
    "%%bash -s \"$database\" \"$trinity_file\" \"$outfile_matches\"\n",
    "if [ ! -f $3 ]; then\n",
    "mkdir -p $(dirname $3)\n",
    "diamond blastx -k 1 -e 1e-4 -p 20 -d $1 -q $2 -o $3 2> /dev/null\n",
    "fi\n",
    "head $3"
   ]
  },
  {
   "cell_type": "markdown",
   "metadata": {},
   "source": [
    "##### Preprocessing diamond matches\n",
    "We read the file into a pandas table:"
   ]
  },
  {
   "cell_type": "code",
   "execution_count": 8,
   "metadata": {},
   "outputs": [
    {
     "data": {
      "text/html": [
       "<div>\n",
       "<style scoped>\n",
       "    .dataframe tbody tr th:only-of-type {\n",
       "        vertical-align: middle;\n",
       "    }\n",
       "\n",
       "    .dataframe tbody tr th {\n",
       "        vertical-align: top;\n",
       "    }\n",
       "\n",
       "    .dataframe thead th {\n",
       "        text-align: right;\n",
       "    }\n",
       "</style>\n",
       "<table border=\"1\" class=\"dataframe\">\n",
       "  <thead>\n",
       "    <tr style=\"text-align: right;\">\n",
       "      <th></th>\n",
       "      <th>Query id</th>\n",
       "      <th>Subject id</th>\n",
       "      <th>% identity</th>\n",
       "      <th>alignment length</th>\n",
       "      <th>mismatches</th>\n",
       "      <th>gap openings</th>\n",
       "      <th>q. start</th>\n",
       "      <th>q. end</th>\n",
       "      <th>s. start</th>\n",
       "      <th>s. end</th>\n",
       "      <th>e-value</th>\n",
       "      <th>score</th>\n",
       "    </tr>\n",
       "  </thead>\n",
       "  <tbody>\n",
       "    <tr>\n",
       "      <th>0</th>\n",
       "      <td>TRINITY_DN2264898_c0_g1_i1</td>\n",
       "      <td>gb|AEJ08681.1|ARO:3001109|SHV-52</td>\n",
       "      <td>100</td>\n",
       "      <td>286</td>\n",
       "      <td>0</td>\n",
       "      <td>0</td>\n",
       "      <td>1</td>\n",
       "      <td>858</td>\n",
       "      <td>1</td>\n",
       "      <td>286</td>\n",
       "      <td>1.730000e-202</td>\n",
       "      <td>551</td>\n",
       "    </tr>\n",
       "  </tbody>\n",
       "</table>\n",
       "</div>"
      ],
      "text/plain": [
       "                     Query id                        Subject id  % identity  \\\n",
       "0  TRINITY_DN2264898_c0_g1_i1  gb|AEJ08681.1|ARO:3001109|SHV-52         100   \n",
       "\n",
       "   alignment length  mismatches  gap openings  q. start  q. end  s. start  \\\n",
       "0               286           0             0         1     858         1   \n",
       "\n",
       "   s. end        e-value  score  \n",
       "0     286  1.730000e-202    551  "
      ]
     },
     "execution_count": 8,
     "metadata": {},
     "output_type": "execute_result"
    }
   ],
   "source": [
    "diamond = pd.read_csv(\n",
    "    outfile_matches, delimiter='\\t',comment='#', header=None,\n",
    "    names= ['Query id', 'Subject id', '% identity', 'alignment length', \n",
    "             'mismatches','gap openings','q. start', 'q. end',\n",
    "             's. start', 's. end', 'e-value', 'score'\n",
    "            ]\n",
    ")\n",
    "diamond"
   ]
  },
  {
   "cell_type": "markdown",
   "metadata": {},
   "source": [
    "We also add the count table into a Pandas data frame:"
   ]
  },
  {
   "cell_type": "code",
   "execution_count": 9,
   "metadata": {},
   "outputs": [
    {
     "data": {
      "text/html": [
       "<div>\n",
       "<style scoped>\n",
       "    .dataframe tbody tr th:only-of-type {\n",
       "        vertical-align: middle;\n",
       "    }\n",
       "\n",
       "    .dataframe tbody tr th {\n",
       "        vertical-align: top;\n",
       "    }\n",
       "\n",
       "    .dataframe thead th {\n",
       "        text-align: right;\n",
       "    }\n",
       "</style>\n",
       "<table border=\"1\" class=\"dataframe\">\n",
       "  <thead>\n",
       "    <tr style=\"text-align: right;\">\n",
       "      <th></th>\n",
       "      <th>SampleA</th>\n",
       "      <th>SampleB</th>\n",
       "      <th>SampleC</th>\n",
       "      <th>SampleD</th>\n",
       "      <th>SampleE</th>\n",
       "    </tr>\n",
       "    <tr>\n",
       "      <th>ContigID</th>\n",
       "      <th></th>\n",
       "      <th></th>\n",
       "      <th></th>\n",
       "      <th></th>\n",
       "      <th></th>\n",
       "    </tr>\n",
       "  </thead>\n",
       "  <tbody>\n",
       "    <tr>\n",
       "      <th>TRINITY_DN226500_c0_g1_i1</th>\n",
       "      <td>0</td>\n",
       "      <td>0</td>\n",
       "      <td>2</td>\n",
       "      <td>1</td>\n",
       "      <td>0</td>\n",
       "    </tr>\n",
       "    <tr>\n",
       "      <th>TRINITY_DN226510_c0_g1_i1</th>\n",
       "      <td>1</td>\n",
       "      <td>0</td>\n",
       "      <td>0</td>\n",
       "      <td>0</td>\n",
       "      <td>5</td>\n",
       "    </tr>\n",
       "    <tr>\n",
       "      <th>TRINITY_DN226477_c0_g1_i1</th>\n",
       "      <td>0</td>\n",
       "      <td>0</td>\n",
       "      <td>0</td>\n",
       "      <td>0</td>\n",
       "      <td>0</td>\n",
       "    </tr>\n",
       "    <tr>\n",
       "      <th>TRINITY_DN226449_c0_g1_i1</th>\n",
       "      <td>0</td>\n",
       "      <td>0</td>\n",
       "      <td>2</td>\n",
       "      <td>0</td>\n",
       "      <td>0</td>\n",
       "    </tr>\n",
       "    <tr>\n",
       "      <th>TRINITY_DN226457_c0_g1_i1</th>\n",
       "      <td>3</td>\n",
       "      <td>6</td>\n",
       "      <td>0</td>\n",
       "      <td>0</td>\n",
       "      <td>0</td>\n",
       "    </tr>\n",
       "    <tr>\n",
       "      <th>TRINITY_DN226454_c0_g1_i1</th>\n",
       "      <td>0</td>\n",
       "      <td>0</td>\n",
       "      <td>0</td>\n",
       "      <td>9</td>\n",
       "      <td>0</td>\n",
       "    </tr>\n",
       "    <tr>\n",
       "      <th>TRINITY_DN226455_c0_g1_i1</th>\n",
       "      <td>0</td>\n",
       "      <td>2</td>\n",
       "      <td>0</td>\n",
       "      <td>0</td>\n",
       "      <td>2</td>\n",
       "    </tr>\n",
       "    <tr>\n",
       "      <th>TRINITY_DN2264898_c0_g1_i1</th>\n",
       "      <td>0</td>\n",
       "      <td>2</td>\n",
       "      <td>1</td>\n",
       "      <td>1</td>\n",
       "      <td>2</td>\n",
       "    </tr>\n",
       "    <tr>\n",
       "      <th>TRINITY_DN78676876898_c0_g1_i1</th>\n",
       "      <td>0</td>\n",
       "      <td>2</td>\n",
       "      <td>1</td>\n",
       "      <td>1</td>\n",
       "      <td>20</td>\n",
       "    </tr>\n",
       "  </tbody>\n",
       "</table>\n",
       "</div>"
      ],
      "text/plain": [
       "                                SampleA  SampleB  SampleC  SampleD  SampleE\n",
       "ContigID                                                                   \n",
       "TRINITY_DN226500_c0_g1_i1             0        0        2        1        0\n",
       "TRINITY_DN226510_c0_g1_i1             1        0        0        0        5\n",
       "TRINITY_DN226477_c0_g1_i1             0        0        0        0        0\n",
       "TRINITY_DN226449_c0_g1_i1             0        0        2        0        0\n",
       "TRINITY_DN226457_c0_g1_i1             3        6        0        0        0\n",
       "TRINITY_DN226454_c0_g1_i1             0        0        0        9        0\n",
       "TRINITY_DN226455_c0_g1_i1             0        2        0        0        2\n",
       "TRINITY_DN2264898_c0_g1_i1            0        2        1        1        2\n",
       "TRINITY_DN78676876898_c0_g1_i1        0        2        1        1       20"
      ]
     },
     "execution_count": 9,
     "metadata": {},
     "output_type": "execute_result"
    }
   ],
   "source": [
    "counts = pd.read_csv(\n",
    "    count_table, sep = \"\\t\", comment='#'\n",
    ").set_index('ContigID')\n",
    "counts"
   ]
  },
  {
   "cell_type": "markdown",
   "metadata": {},
   "source": [
    "##### Most significant hit per contig\n",
    "First, we are going to drop unsignificant hits by E-value. We are setting a 0.0001 threshold.\n"
   ]
  },
  {
   "cell_type": "code",
   "execution_count": 10,
   "metadata": {},
   "outputs": [
    {
     "data": {
      "text/plain": [
       "Text(0.5, 1.0, 'E-value distribution before filtering')"
      ]
     },
     "execution_count": 10,
     "metadata": {},
     "output_type": "execute_result"
    },
    {
     "data": {
      "image/png": "[encoded data removed]",
      "text/plain": [
       "<Figure size 432x288 with 1 Axes>"
      ]
     },
     "metadata": {
      "needs_background": "light"
     },
     "output_type": "display_data"
    }
   ],
   "source": [
    "diamond.hist(\"e-value\")\n",
    "plt.title(\"E-value distribution before filtering\")"
   ]
  },
  {
   "cell_type": "code",
   "execution_count": 11,
   "metadata": {},
   "outputs": [
    {
     "data": {
      "text/plain": [
       "Text(0.5, 1.0, 'E-value distribution after filtering (with threshold 0.0001)')"
      ]
     },
     "execution_count": 11,
     "metadata": {},
     "output_type": "execute_result"
    },
    {
     "data": {
      "image/png": "[encoded data removed]",
      "text/plain": [
       "<Figure size 432x288 with 1 Axes>"
      ]
     },
     "metadata": {
      "needs_background": "light"
     },
     "output_type": "display_data"
    }
   ],
   "source": [
    "evalue_threshold = 0.0001\n",
    "diamond = diamond.loc[diamond['e-value'] < evalue_threshold] \n",
    "diamond.hist(\"e-value\")\n",
    "plt.title(f\"E-value distribution after filtering (with threshold {evalue_threshold})\")\n"
   ]
  },
  {
   "cell_type": "markdown",
   "metadata": {},
   "source": [
    "Now, we will sort rows per e-value and score and get the most significant hit per each ContigId."
   ]
  },
  {
   "cell_type": "code",
   "execution_count": 12,
   "metadata": {},
   "outputs": [
    {
     "data": {
      "text/plain": [
       "Text(0.5, 1.0, 'Number of hits per contig before preprocessing')"
      ]
     },
     "execution_count": 12,
     "metadata": {},
     "output_type": "execute_result"
    },
    {
     "data": {
      "image/png": "[encoded data removed]",
      "text/plain": [
       "<Figure size 432x288 with 1 Axes>"
      ]
     },
     "metadata": {
      "needs_background": "light"
     },
     "output_type": "display_data"
    }
   ],
   "source": [
    "diamond.pivot_table(columns=['Query id'], aggfunc='size').hist(bins = 25)\n",
    "plt.title(\"Number of hits per contig before preprocessing\")\n"
   ]
  },
  {
   "cell_type": "code",
   "execution_count": 13,
   "metadata": {},
   "outputs": [
    {
     "name": "stdout",
     "output_type": "stream",
     "text": [
      "Number of rows. Before: 12. After: 11\n"
     ]
    },
    {
     "data": {
      "text/plain": [
       "Text(0.5, 1.0, 'Number of hits per contig after preprocessing')"
      ]
     },
     "execution_count": 13,
     "metadata": {},
     "output_type": "execute_result"
    },
    {
     "data": {
      "image/png": "[encoded data removed]",
      "text/plain": [
       "<Figure size 432x288 with 1 Axes>"
      ]
     },
     "metadata": {
      "needs_background": "light"
     },
     "output_type": "display_data"
    }
   ],
   "source": [
    "before = diamond.size\n",
    "diamond = diamond.sort_values(\n",
    "        by=['e-value', 'score'], ascending=[True, False]\n",
    "        ).drop_duplicates(\n",
    "    'Query id', keep='first'\n",
    ").set_index('Query id')\n",
    "after = diamond.size\n",
    "\n",
    "print(f\"Number of rows. Before: {before}. After: {after}\")\n",
    "\n",
    "diamond.pivot_table(columns=['Query id'], aggfunc='size').hist(bins = 25)\n",
    "plt.title(\"Number of hits per contig after preprocessing\")"
   ]
  },
  {
   "cell_type": "markdown",
   "metadata": {},
   "source": [
    "#####  Inspect % identity and aligment length"
   ]
  },
  {
   "cell_type": "code",
   "execution_count": 14,
   "metadata": {},
   "outputs": [
    {
     "data": {
      "text/plain": [
       "Text(0.5, 1.0, 'Alignment length distribution after preprocessing')"
      ]
     },
     "execution_count": 14,
     "metadata": {},
     "output_type": "execute_result"
    },
    {
     "data": {
      "image/png": "[encoded data removed]",
      "text/plain": [
       "<Figure size 432x288 with 1 Axes>"
      ]
     },
     "metadata": {
      "needs_background": "light"
     },
     "output_type": "display_data"
    }
   ],
   "source": [
    "diamond.hist(\"alignment length\")\n",
    "plt.title(\"Alignment length distribution after preprocessing\")\n"
   ]
  },
  {
   "cell_type": "code",
   "execution_count": 15,
   "metadata": {},
   "outputs": [
    {
     "data": {
      "text/plain": [
       "Text(0, 0.5, 'Mistmatches')"
      ]
     },
     "execution_count": 15,
     "metadata": {},
     "output_type": "execute_result"
    },
    {
     "data": {
      "image/png": "[encoded data removed]",
      "text/plain": [
       "<Figure size 432x288 with 1 Axes>"
      ]
     },
     "metadata": {
      "needs_background": "light"
     },
     "output_type": "display_data"
    }
   ],
   "source": [
    "plt.scatter(diamond['alignment length'],diamond.mismatches,alpha=0.6)\n",
    "plt.title('Mistmatches distribution after preprocessingh')\n",
    "plt.xlabel('Alignment length')\n",
    "plt.ylabel('Mistmatches')"
   ]
  },
  {
   "cell_type": "code",
   "execution_count": 16,
   "metadata": {},
   "outputs": [
    {
     "data": {
      "text/plain": [
       "Text(0.5, 1.0, 'Percentage of identity distribution after preprocessing')"
      ]
     },
     "execution_count": 16,
     "metadata": {},
     "output_type": "execute_result"
    },
    {
     "data": {
      "image/png": "[encoded data removed]",
      "text/plain": [
       "<Figure size 432x288 with 1 Axes>"
      ]
     },
     "metadata": {
      "needs_background": "light"
     },
     "output_type": "display_data"
    }
   ],
   "source": [
    "diamond.hist(\"% identity\", bins = 20)\n",
    "plt.title(\"Percentage of identity distribution after preprocessing\")"
   ]
  },
  {
   "cell_type": "markdown",
   "metadata": {},
   "source": [
    "Now, consider filtering by identity and alignment length (not strictly necessary)."
   ]
  },
  {
   "cell_type": "code",
   "execution_count": 17,
   "metadata": {},
   "outputs": [
    {
     "data": {
      "text/html": [
       "<div>\n",
       "<style scoped>\n",
       "    .dataframe tbody tr th:only-of-type {\n",
       "        vertical-align: middle;\n",
       "    }\n",
       "\n",
       "    .dataframe tbody tr th {\n",
       "        vertical-align: top;\n",
       "    }\n",
       "\n",
       "    .dataframe thead th {\n",
       "        text-align: right;\n",
       "    }\n",
       "</style>\n",
       "<table border=\"1\" class=\"dataframe\">\n",
       "  <thead>\n",
       "    <tr style=\"text-align: right;\">\n",
       "      <th></th>\n",
       "      <th>Subject id</th>\n",
       "      <th>% identity</th>\n",
       "      <th>alignment length</th>\n",
       "      <th>mismatches</th>\n",
       "      <th>gap openings</th>\n",
       "      <th>q. start</th>\n",
       "      <th>q. end</th>\n",
       "      <th>s. start</th>\n",
       "      <th>s. end</th>\n",
       "      <th>e-value</th>\n",
       "      <th>score</th>\n",
       "    </tr>\n",
       "    <tr>\n",
       "      <th>Query id</th>\n",
       "      <th></th>\n",
       "      <th></th>\n",
       "      <th></th>\n",
       "      <th></th>\n",
       "      <th></th>\n",
       "      <th></th>\n",
       "      <th></th>\n",
       "      <th></th>\n",
       "      <th></th>\n",
       "      <th></th>\n",
       "      <th></th>\n",
       "    </tr>\n",
       "  </thead>\n",
       "  <tbody>\n",
       "    <tr>\n",
       "      <th>TRINITY_DN2264898_c0_g1_i1</th>\n",
       "      <td>gb|AEJ08681.1|ARO:3001109|SHV-52</td>\n",
       "      <td>100</td>\n",
       "      <td>286</td>\n",
       "      <td>0</td>\n",
       "      <td>0</td>\n",
       "      <td>1</td>\n",
       "      <td>858</td>\n",
       "      <td>1</td>\n",
       "      <td>286</td>\n",
       "      <td>1.730000e-202</td>\n",
       "      <td>551</td>\n",
       "    </tr>\n",
       "  </tbody>\n",
       "</table>\n",
       "</div>"
      ],
      "text/plain": [
       "                                                  Subject id  % identity  \\\n",
       "Query id                                                                   \n",
       "TRINITY_DN2264898_c0_g1_i1  gb|AEJ08681.1|ARO:3001109|SHV-52         100   \n",
       "\n",
       "                            alignment length  mismatches  gap openings  \\\n",
       "Query id                                                                 \n",
       "TRINITY_DN2264898_c0_g1_i1               286           0             0   \n",
       "\n",
       "                            q. start  q. end  s. start  s. end        e-value  \\\n",
       "Query id                                                                        \n",
       "TRINITY_DN2264898_c0_g1_i1         1     858         1     286  1.730000e-202   \n",
       "\n",
       "                            score  \n",
       "Query id                           \n",
       "TRINITY_DN2264898_c0_g1_i1    551  "
      ]
     },
     "execution_count": 17,
     "metadata": {},
     "output_type": "execute_result"
    }
   ],
   "source": [
    "# Keep only hits with at least 70% identity\n",
    "#diamond = diamond.loc[diamond['% identity'] >= 70]\n",
    "# Keep only hits with at least 25 alignment length\n",
    "#diamond = diamond.loc[diamond['alignment length'] >= 25]\n",
    "diamond"
   ]
  },
  {
   "cell_type": "markdown",
   "metadata": {},
   "source": [
    "##### Link information form diamond matches and count table\n",
    "First, we are going to drop all columns except for ContigsID and orthologous genes header"
   ]
  },
  {
   "cell_type": "code",
   "execution_count": 18,
   "metadata": {},
   "outputs": [
    {
     "data": {
      "text/html": [
       "<div>\n",
       "<style scoped>\n",
       "    .dataframe tbody tr th:only-of-type {\n",
       "        vertical-align: middle;\n",
       "    }\n",
       "\n",
       "    .dataframe tbody tr th {\n",
       "        vertical-align: top;\n",
       "    }\n",
       "\n",
       "    .dataframe thead th {\n",
       "        text-align: right;\n",
       "    }\n",
       "</style>\n",
       "<table border=\"1\" class=\"dataframe\">\n",
       "  <thead>\n",
       "    <tr style=\"text-align: right;\">\n",
       "      <th></th>\n",
       "      <th>Subject id</th>\n",
       "    </tr>\n",
       "    <tr>\n",
       "      <th>Query id</th>\n",
       "      <th></th>\n",
       "    </tr>\n",
       "  </thead>\n",
       "  <tbody>\n",
       "    <tr>\n",
       "      <th>TRINITY_DN2264898_c0_g1_i1</th>\n",
       "      <td>gb|AEJ08681.1|ARO:3001109|SHV-52</td>\n",
       "    </tr>\n",
       "  </tbody>\n",
       "</table>\n",
       "</div>"
      ],
      "text/plain": [
       "                                                  Subject id\n",
       "Query id                                                    \n",
       "TRINITY_DN2264898_c0_g1_i1  gb|AEJ08681.1|ARO:3001109|SHV-52"
      ]
     },
     "execution_count": 18,
     "metadata": {},
     "output_type": "execute_result"
    }
   ],
   "source": [
    "map_table = diamond[[\"Subject id\"]]\n",
    "map_table"
   ]
  },
  {
   "cell_type": "markdown",
   "metadata": {},
   "source": [
    "Now, we will merge both files by their column in common (ContigID and Subject id)."
   ]
  },
  {
   "cell_type": "code",
   "execution_count": 19,
   "metadata": {},
   "outputs": [
    {
     "data": {
      "text/html": [
       "<div>\n",
       "<style scoped>\n",
       "    .dataframe tbody tr th:only-of-type {\n",
       "        vertical-align: middle;\n",
       "    }\n",
       "\n",
       "    .dataframe tbody tr th {\n",
       "        vertical-align: top;\n",
       "    }\n",
       "\n",
       "    .dataframe thead th {\n",
       "        text-align: right;\n",
       "    }\n",
       "</style>\n",
       "<table border=\"1\" class=\"dataframe\">\n",
       "  <thead>\n",
       "    <tr style=\"text-align: right;\">\n",
       "      <th></th>\n",
       "      <th>Subject id</th>\n",
       "      <th>SampleA</th>\n",
       "      <th>SampleB</th>\n",
       "      <th>SampleC</th>\n",
       "      <th>SampleD</th>\n",
       "      <th>SampleE</th>\n",
       "    </tr>\n",
       "  </thead>\n",
       "  <tbody>\n",
       "    <tr>\n",
       "      <th>0</th>\n",
       "      <td>gb|AEJ08681.1|ARO:3001109|SHV-52</td>\n",
       "      <td>0</td>\n",
       "      <td>2</td>\n",
       "      <td>1</td>\n",
       "      <td>1</td>\n",
       "      <td>2</td>\n",
       "    </tr>\n",
       "  </tbody>\n",
       "</table>\n",
       "</div>"
      ],
      "text/plain": [
       "                         Subject id  SampleA  SampleB  SampleC  SampleD  \\\n",
       "0  gb|AEJ08681.1|ARO:3001109|SHV-52        0        2        1        1   \n",
       "\n",
       "   SampleE  \n",
       "0        2  "
      ]
     },
     "execution_count": 19,
     "metadata": {},
     "output_type": "execute_result"
    }
   ],
   "source": [
    "df = pd.merge(map_table, counts, left_index=True, right_index=True).reset_index(drop=True)\n",
    "df\n"
   ]
  },
  {
   "cell_type": "markdown",
   "metadata": {},
   "source": [
    "##### Aggregate table\n",
    "Now, we are going to aggregate the rows by grouping them by \"Subject id\" (notice the difference in rows between the previous table and the following):"
   ]
  },
  {
   "cell_type": "code",
   "execution_count": 20,
   "metadata": {},
   "outputs": [
    {
     "data": {
      "text/html": [
       "<div>\n",
       "<style scoped>\n",
       "    .dataframe tbody tr th:only-of-type {\n",
       "        vertical-align: middle;\n",
       "    }\n",
       "\n",
       "    .dataframe tbody tr th {\n",
       "        vertical-align: top;\n",
       "    }\n",
       "\n",
       "    .dataframe thead th {\n",
       "        text-align: right;\n",
       "    }\n",
       "</style>\n",
       "<table border=\"1\" class=\"dataframe\">\n",
       "  <thead>\n",
       "    <tr style=\"text-align: right;\">\n",
       "      <th></th>\n",
       "      <th>SampleA</th>\n",
       "      <th>SampleB</th>\n",
       "      <th>SampleC</th>\n",
       "      <th>SampleD</th>\n",
       "      <th>SampleE</th>\n",
       "    </tr>\n",
       "    <tr>\n",
       "      <th>Subject id</th>\n",
       "      <th></th>\n",
       "      <th></th>\n",
       "      <th></th>\n",
       "      <th></th>\n",
       "      <th></th>\n",
       "    </tr>\n",
       "  </thead>\n",
       "  <tbody>\n",
       "    <tr>\n",
       "      <th>gb|AEJ08681.1|ARO:3001109|SHV-52</th>\n",
       "      <td>0</td>\n",
       "      <td>2</td>\n",
       "      <td>1</td>\n",
       "      <td>1</td>\n",
       "      <td>2</td>\n",
       "    </tr>\n",
       "  </tbody>\n",
       "</table>\n",
       "</div>"
      ],
      "text/plain": [
       "                                  SampleA  SampleB  SampleC  SampleD  SampleE\n",
       "Subject id                                                                   \n",
       "gb|AEJ08681.1|ARO:3001109|SHV-52        0        2        1        1        2"
      ]
     },
     "execution_count": 20,
     "metadata": {},
     "output_type": "execute_result"
    }
   ],
   "source": [
    "df = df.groupby('Subject id').sum(numeric_only = True)\n",
    "df"
   ]
  },
  {
   "cell_type": "markdown",
   "metadata": {},
   "source": [
    "# Annotation\n",
    "First, let read the annotation file into a pandas table:"
   ]
  },
  {
   "cell_type": "code",
   "execution_count": 21,
   "metadata": {},
   "outputs": [
    {
     "data": {
      "text/html": [
       "<div>\n",
       "<style scoped>\n",
       "    .dataframe tbody tr th:only-of-type {\n",
       "        vertical-align: middle;\n",
       "    }\n",
       "\n",
       "    .dataframe tbody tr th {\n",
       "        vertical-align: top;\n",
       "    }\n",
       "\n",
       "    .dataframe thead th {\n",
       "        text-align: right;\n",
       "    }\n",
       "</style>\n",
       "<table border=\"1\" class=\"dataframe\">\n",
       "  <thead>\n",
       "    <tr style=\"text-align: right;\">\n",
       "      <th></th>\n",
       "      <th>ARO Accession</th>\n",
       "      <th>ARO Name</th>\n",
       "      <th>AMR Gene Family</th>\n",
       "      <th>Drug Class</th>\n",
       "      <th>Resistance Mechanism</th>\n",
       "      <th>CARD Short Name</th>\n",
       "    </tr>\n",
       "  </thead>\n",
       "  <tbody>\n",
       "    <tr>\n",
       "      <th>0</th>\n",
       "      <td>ARO:3005099</td>\n",
       "      <td>23S rRNA (adenine(2058)-N(6))-methyltransferas...</td>\n",
       "      <td>Erm 23S ribosomal RNA methyltransferase</td>\n",
       "      <td>lincosamide antibiotic;macrolide antibiotic;st...</td>\n",
       "      <td>antibiotic target alteration</td>\n",
       "      <td>Spyo_ErmA_MLSb</td>\n",
       "    </tr>\n",
       "    <tr>\n",
       "      <th>1</th>\n",
       "      <td>ARO:3002523</td>\n",
       "      <td>AAC(2')-Ia</td>\n",
       "      <td>AAC(2')</td>\n",
       "      <td>aminoglycoside antibiotic</td>\n",
       "      <td>antibiotic inactivation</td>\n",
       "      <td>AAC(2')-Ia</td>\n",
       "    </tr>\n",
       "    <tr>\n",
       "      <th>2</th>\n",
       "      <td>ARO:3002524</td>\n",
       "      <td>AAC(2')-Ib</td>\n",
       "      <td>AAC(2')</td>\n",
       "      <td>aminoglycoside antibiotic</td>\n",
       "      <td>antibiotic inactivation</td>\n",
       "      <td>AAC(2')-Ib</td>\n",
       "    </tr>\n",
       "    <tr>\n",
       "      <th>3</th>\n",
       "      <td>ARO:3002525</td>\n",
       "      <td>AAC(2')-Ic</td>\n",
       "      <td>AAC(2')</td>\n",
       "      <td>aminoglycoside antibiotic</td>\n",
       "      <td>antibiotic inactivation</td>\n",
       "      <td>AAC(2')-Ic</td>\n",
       "    </tr>\n",
       "    <tr>\n",
       "      <th>4</th>\n",
       "      <td>ARO:3002526</td>\n",
       "      <td>AAC(2')-Id</td>\n",
       "      <td>AAC(2')</td>\n",
       "      <td>aminoglycoside antibiotic</td>\n",
       "      <td>antibiotic inactivation</td>\n",
       "      <td>AAC(2')-Id</td>\n",
       "    </tr>\n",
       "    <tr>\n",
       "      <th>...</th>\n",
       "      <td>...</td>\n",
       "      <td>...</td>\n",
       "      <td>...</td>\n",
       "      <td>...</td>\n",
       "      <td>...</td>\n",
       "      <td>...</td>\n",
       "    </tr>\n",
       "    <tr>\n",
       "      <th>5173</th>\n",
       "      <td>ARO:3003063</td>\n",
       "      <td>ykkC</td>\n",
       "      <td>small multidrug resistance (SMR) antibiotic ef...</td>\n",
       "      <td>aminoglycoside antibiotic;phenicol antibiotic;...</td>\n",
       "      <td>antibiotic efflux</td>\n",
       "      <td>ykkC</td>\n",
       "    </tr>\n",
       "    <tr>\n",
       "      <th>5174</th>\n",
       "      <td>ARO:3003064</td>\n",
       "      <td>ykkD</td>\n",
       "      <td>small multidrug resistance (SMR) antibiotic ef...</td>\n",
       "      <td>aminoglycoside antibiotic;phenicol antibiotic;...</td>\n",
       "      <td>antibiotic efflux</td>\n",
       "      <td>ykkD</td>\n",
       "    </tr>\n",
       "    <tr>\n",
       "      <th>5175</th>\n",
       "      <td>ARO:3003952</td>\n",
       "      <td>YojI</td>\n",
       "      <td>ATP-binding cassette (ABC) antibiotic efflux pump</td>\n",
       "      <td>peptide antibiotic</td>\n",
       "      <td>antibiotic efflux</td>\n",
       "      <td>YojI</td>\n",
       "    </tr>\n",
       "    <tr>\n",
       "      <th>5176</th>\n",
       "      <td>ARO:3005035</td>\n",
       "      <td>Yrc-1</td>\n",
       "      <td>YRC Beta-lactamase</td>\n",
       "      <td>cephalosporin;cephamycin;penam</td>\n",
       "      <td>antibiotic inactivation</td>\n",
       "      <td>Yrc-1</td>\n",
       "    </tr>\n",
       "    <tr>\n",
       "      <th>5177</th>\n",
       "      <td>ARO:3007006</td>\n",
       "      <td>ZOG-1</td>\n",
       "      <td>ZOG beta-lactamase</td>\n",
       "      <td>carbapenem</td>\n",
       "      <td>antibiotic inactivation</td>\n",
       "      <td>ZOG-1</td>\n",
       "    </tr>\n",
       "  </tbody>\n",
       "</table>\n",
       "<p>5178 rows × 6 columns</p>\n",
       "</div>"
      ],
      "text/plain": [
       "     ARO Accession                                           ARO Name  \\\n",
       "0      ARO:3005099  23S rRNA (adenine(2058)-N(6))-methyltransferas...   \n",
       "1      ARO:3002523                                         AAC(2')-Ia   \n",
       "2      ARO:3002524                                         AAC(2')-Ib   \n",
       "3      ARO:3002525                                         AAC(2')-Ic   \n",
       "4      ARO:3002526                                         AAC(2')-Id   \n",
       "...            ...                                                ...   \n",
       "5173   ARO:3003063                                               ykkC   \n",
       "5174   ARO:3003064                                               ykkD   \n",
       "5175   ARO:3003952                                               YojI   \n",
       "5176   ARO:3005035                                              Yrc-1   \n",
       "5177   ARO:3007006                                              ZOG-1   \n",
       "\n",
       "                                        AMR Gene Family  \\\n",
       "0               Erm 23S ribosomal RNA methyltransferase   \n",
       "1                                               AAC(2')   \n",
       "2                                               AAC(2')   \n",
       "3                                               AAC(2')   \n",
       "4                                               AAC(2')   \n",
       "...                                                 ...   \n",
       "5173  small multidrug resistance (SMR) antibiotic ef...   \n",
       "5174  small multidrug resistance (SMR) antibiotic ef...   \n",
       "5175  ATP-binding cassette (ABC) antibiotic efflux pump   \n",
       "5176                                 YRC Beta-lactamase   \n",
       "5177                                 ZOG beta-lactamase   \n",
       "\n",
       "                                             Drug Class  \\\n",
       "0     lincosamide antibiotic;macrolide antibiotic;st...   \n",
       "1                             aminoglycoside antibiotic   \n",
       "2                             aminoglycoside antibiotic   \n",
       "3                             aminoglycoside antibiotic   \n",
       "4                             aminoglycoside antibiotic   \n",
       "...                                                 ...   \n",
       "5173  aminoglycoside antibiotic;phenicol antibiotic;...   \n",
       "5174  aminoglycoside antibiotic;phenicol antibiotic;...   \n",
       "5175                                 peptide antibiotic   \n",
       "5176                     cephalosporin;cephamycin;penam   \n",
       "5177                                         carbapenem   \n",
       "\n",
       "              Resistance Mechanism CARD Short Name  \n",
       "0     antibiotic target alteration  Spyo_ErmA_MLSb  \n",
       "1          antibiotic inactivation      AAC(2')-Ia  \n",
       "2          antibiotic inactivation      AAC(2')-Ib  \n",
       "3          antibiotic inactivation      AAC(2')-Ic  \n",
       "4          antibiotic inactivation      AAC(2')-Id  \n",
       "...                            ...             ...  \n",
       "5173             antibiotic efflux            ykkC  \n",
       "5174             antibiotic efflux            ykkD  \n",
       "5175             antibiotic efflux            YojI  \n",
       "5176       antibiotic inactivation           Yrc-1  \n",
       "5177       antibiotic inactivation           ZOG-1  \n",
       "\n",
       "[5178 rows x 6 columns]"
      ]
     },
     "execution_count": 21,
     "metadata": {},
     "output_type": "execute_result"
    }
   ],
   "source": [
    "annotations = pd.read_csv(\n",
    "    annotation_file, sep=\"\\t\", comment=\"#\"\n",
    ")\n",
    "# Consider including or excluding information\n",
    "annotations = annotations.loc[:, ['ARO Accession', 'ARO Name', 'AMR Gene Family', 'Drug Class', 'Resistance Mechanism', 'CARD Short Name']]  # Retorna un nuevo DataFrame con las columnas seleccionadas\n",
    "annotations"
   ]
  },
  {
   "cell_type": "code",
   "execution_count": 22,
   "metadata": {},
   "outputs": [
    {
     "data": {
      "text/plain": [
       "TestResults(failed=0, attempted=1)"
      ]
     },
     "execution_count": 22,
     "metadata": {},
     "output_type": "execute_result"
    }
   ],
   "source": [
    "import doctest\n",
    "def get_annotation_from_ARO_id(x: str) -> str:\n",
    "    \"\"\"\n",
    "    Extracts the ARO ID from the input string.\n",
    "    >>> get_annotation_from_ARO_id('gb|AEJ08681.1|ARO:3001109|SHV-52')\n",
    "    'ARO:3001109'\n",
    "    \"\"\"\n",
    "    parts = x.split('|')\n",
    "    for part in parts:\n",
    "        if part.startswith('ARO:'):\n",
    "            return part\n",
    "    return \"\"\n",
    "# Run tests\n",
    "doctest.testmod()"
   ]
  },
  {
   "cell_type": "code",
   "execution_count": 23,
   "metadata": {},
   "outputs": [
    {
     "data": {
      "text/html": [
       "<div>\n",
       "<style scoped>\n",
       "    .dataframe tbody tr th:only-of-type {\n",
       "        vertical-align: middle;\n",
       "    }\n",
       "\n",
       "    .dataframe tbody tr th {\n",
       "        vertical-align: top;\n",
       "    }\n",
       "\n",
       "    .dataframe thead th {\n",
       "        text-align: right;\n",
       "    }\n",
       "</style>\n",
       "<table border=\"1\" class=\"dataframe\">\n",
       "  <thead>\n",
       "    <tr style=\"text-align: right;\">\n",
       "      <th></th>\n",
       "      <th>SampleA</th>\n",
       "      <th>SampleB</th>\n",
       "      <th>SampleC</th>\n",
       "      <th>SampleD</th>\n",
       "      <th>SampleE</th>\n",
       "    </tr>\n",
       "    <tr>\n",
       "      <th>ARO Accession</th>\n",
       "      <th></th>\n",
       "      <th></th>\n",
       "      <th></th>\n",
       "      <th></th>\n",
       "      <th></th>\n",
       "    </tr>\n",
       "  </thead>\n",
       "  <tbody>\n",
       "    <tr>\n",
       "      <th>ARO:3001109</th>\n",
       "      <td>0</td>\n",
       "      <td>2</td>\n",
       "      <td>1</td>\n",
       "      <td>1</td>\n",
       "      <td>2</td>\n",
       "    </tr>\n",
       "  </tbody>\n",
       "</table>\n",
       "</div>"
      ],
      "text/plain": [
       "               SampleA  SampleB  SampleC  SampleD  SampleE\n",
       "ARO Accession                                             \n",
       "ARO:3001109          0        2        1        1        2"
      ]
     },
     "execution_count": 23,
     "metadata": {},
     "output_type": "execute_result"
    }
   ],
   "source": [
    "df['ARO Accession'] = df.index.map(get_annotation_from_ARO_id).to_list()\n",
    "df = df.groupby('ARO Accession').sum(numeric_only=True)\n",
    "df"
   ]
  },
  {
   "cell_type": "markdown",
   "metadata": {},
   "source": [
    "Now, we merge both tables by their column in common (Subject id and orthologous genes header)"
   ]
  },
  {
   "cell_type": "code",
   "execution_count": 24,
   "metadata": {},
   "outputs": [
    {
     "data": {
      "text/html": [
       "<div>\n",
       "<style scoped>\n",
       "    .dataframe tbody tr th:only-of-type {\n",
       "        vertical-align: middle;\n",
       "    }\n",
       "\n",
       "    .dataframe tbody tr th {\n",
       "        vertical-align: top;\n",
       "    }\n",
       "\n",
       "    .dataframe thead th {\n",
       "        text-align: right;\n",
       "    }\n",
       "</style>\n",
       "<table border=\"1\" class=\"dataframe\">\n",
       "  <thead>\n",
       "    <tr style=\"text-align: right;\">\n",
       "      <th></th>\n",
       "      <th>SampleA</th>\n",
       "      <th>SampleB</th>\n",
       "      <th>SampleC</th>\n",
       "      <th>SampleD</th>\n",
       "      <th>SampleE</th>\n",
       "      <th>ARO Name</th>\n",
       "      <th>AMR Gene Family</th>\n",
       "      <th>Drug Class</th>\n",
       "      <th>Resistance Mechanism</th>\n",
       "      <th>CARD Short Name</th>\n",
       "    </tr>\n",
       "    <tr>\n",
       "      <th>ARO Accession</th>\n",
       "      <th></th>\n",
       "      <th></th>\n",
       "      <th></th>\n",
       "      <th></th>\n",
       "      <th></th>\n",
       "      <th></th>\n",
       "      <th></th>\n",
       "      <th></th>\n",
       "      <th></th>\n",
       "      <th></th>\n",
       "    </tr>\n",
       "  </thead>\n",
       "  <tbody>\n",
       "    <tr>\n",
       "      <th>ARO:3001109</th>\n",
       "      <td>0</td>\n",
       "      <td>2</td>\n",
       "      <td>1</td>\n",
       "      <td>1</td>\n",
       "      <td>2</td>\n",
       "      <td>SHV-52</td>\n",
       "      <td>SHV beta-lactamase</td>\n",
       "      <td>carbapenem;cephalosporin;penam</td>\n",
       "      <td>antibiotic inactivation</td>\n",
       "      <td>SHV-52</td>\n",
       "    </tr>\n",
       "  </tbody>\n",
       "</table>\n",
       "</div>"
      ],
      "text/plain": [
       "               SampleA  SampleB  SampleC  SampleD  SampleE ARO Name  \\\n",
       "ARO Accession                                                         \n",
       "ARO:3001109          0        2        1        1        2   SHV-52   \n",
       "\n",
       "                  AMR Gene Family                      Drug Class  \\\n",
       "ARO Accession                                                       \n",
       "ARO:3001109    SHV beta-lactamase  carbapenem;cephalosporin;penam   \n",
       "\n",
       "                  Resistance Mechanism CARD Short Name  \n",
       "ARO Accession                                           \n",
       "ARO:3001109    antibiotic inactivation          SHV-52  "
      ]
     },
     "execution_count": 24,
     "metadata": {},
     "output_type": "execute_result"
    }
   ],
   "source": [
    "df = df.merge(\n",
    "    annotations, left_on='ARO Accession',\n",
    "    right_on='ARO Accession', how = 'left'\n",
    "    ).set_index('ARO Accession')\n",
    "df"
   ]
  },
  {
   "cell_type": "markdown",
   "metadata": {},
   "source": [
    "Finally, we save the table and remove the temporary files:"
   ]
  },
  {
   "cell_type": "code",
   "execution_count": 25,
   "metadata": {},
   "outputs": [],
   "source": [
    "df.to_csv('../results/CARD_matches_annotated.tsv', sep='\\t')"
   ]
  }
 ],
 "metadata": {
  "kernelspec": {
   "display_name": "Python 3",
   "language": "python",
   "name": "python3"
  },
  "language_info": {
   "codemirror_mode": {
    "name": "ipython",
    "version": 3
   },
   "file_extension": ".py",
   "mimetype": "text/x-python",
   "name": "python",
   "nbconvert_exporter": "python",
   "pygments_lexer": "ipython3",
   "version": "3.6.15"
  }
 },
 "nbformat": 4,
 "nbformat_minor": 4
}
