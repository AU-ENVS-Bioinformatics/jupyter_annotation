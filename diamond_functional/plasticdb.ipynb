{
 "cells": [
  {
   "cell_type": "markdown",
   "metadata": {},
   "source": [
    "# Plastics Microbial Biodegradation Database using plasticdb\n",
    "\n",
    "This notebook is part of the analysis of the TotalRNA mRNA genes from Trinity. \n",
    "\n",
    "See more [here](https://plasticdb.org/).\n",
    "\n",
    "## How to run Jupyter notebooks in huginn\n",
    "<details>\n",
    "<summary>Click to expand!</summary>\n",
    "\n",
    "If you use vs-code you can use the [remote ssh extension](https://marketplace.visualstudio.com/items?itemName=ms-vscode-remote.remote-ssh) to connect to huginn and either run jupyterlab in the remote server (so to say, just like you would do in your local computer with `jupyter-lab`) or run directly without opening jupyterlab directly. \n",
    "\n",
    "Otherwise, you can follow the instructions below: \n",
    "\n",
    "1. Turn on VPN\n",
    "2. Open two terminals (let's called A and B)\n",
    "3. With terminal A, connect to huginn with ssh as usual\n",
    "```bash\n",
    "ssh username@huginn.au.dk\n",
    "```\n",
    "4. Move to the directory where you want to work, activate the conda enviroment and run jupyter notebook or jupyter lab:\n",
    "```bash\n",
    "conda activate jupyter-diamond\n",
    "jupyter notebook --no-browser --port=7777\n",
    "```\n",
    "5. With terminal B, connect to huginn and forward the port specified port to your local computer\n",
    "```bash\n",
    "ssh -Y -N -L localhost:7777:localhost:7777 username@huginn.au.dk\n",
    "```\n",
    "6. Open your browser and go to `localhost:7777` and you should see the jupyter notebook running in huginn. You can also press in the url of Terminal A. \n",
    "\n",
    "Troubleshooting:\n",
    "- If you get an error like `bind: Address already in use` it means that you have another jupyter notebook running in the same port. You can either kill the process or change the port.\n",
    "</details>\n",
    "\n",
    "## How to create a new environment for this notebook (if needed)\n",
    "\n",
    "We will use Diamond, a few python basic libraries and bash. Let's check if those dependencies are installed. If not, you can install them with mamba (as well with jupyterlab)\n",
    "\n",
    "```bash\n",
    "# To create a new environment with mamba\n",
    "mamba create -c bioconda -c conda-forge diamond pandas matplotlib jupyterlab -n jupyter-diamond\n",
    "# To activate the environment\n",
    "conda activate jupyter-diamond\n",
    "```\n",
    "\n",
    "### Sanity check"
   ]
  },
  {
   "cell_type": "code",
   "execution_count": 1,
   "metadata": {},
   "outputs": [
    {
     "name": "stdout",
     "output_type": "stream",
     "text": [
      "diamond version 2.1.8\n"
     ]
    },
    {
     "name": "stdout",
     "output_type": "stream",
     "text": [
      "2.1.1\n",
      "3.8.0\n",
      "GNU bash, version 4.4.20(1)-release (x86_64-pc-linux-gnu)\n"
     ]
    }
   ],
   "source": [
    "%%bash\n",
    "diamond --version\n",
    "python -c \"import pandas; print(pandas.__version__)\"\n",
    "python -c \"import matplotlib; print(matplotlib.__version__)\"\n",
    "bash --version | head -n 1"
   ]
  },
  {
   "cell_type": "code",
   "execution_count": 2,
   "metadata": {},
   "outputs": [],
   "source": [
    "import pandas as pd\n",
    "import os\n",
    "import matplotlib.pyplot as plt"
   ]
  },
  {
   "cell_type": "markdown",
   "metadata": {},
   "source": [
    "### Input files (edit this chunk)\n",
    "Edit this chunk to match your input files"
   ]
  },
  {
   "cell_type": "code",
   "execution_count": 3,
   "metadata": {},
   "outputs": [],
   "source": [
    "trinity_file = '../data/contigs.fasta'\n",
    "count_table = '../data/mapped_reads_to_contigs.tsv'"
   ]
  },
  {
   "cell_type": "code",
   "execution_count": 4,
   "metadata": {},
   "outputs": [],
   "source": [
    "## Sanity check: trinity and count table exit\n",
    "assert os.path.exists(trinity_file), 'Trinity file does not exist'\n",
    "assert os.path.exists(count_table), 'Count table does not exist'"
   ]
  },
  {
   "cell_type": "markdown",
   "metadata": {},
   "source": [
    "### Output files (edit this chunk)\n",
    "Edit this chunk to match your desired output files"
   ]
  },
  {
   "cell_type": "code",
   "execution_count": 5,
   "metadata": {},
   "outputs": [],
   "source": [
    "outfile_matches = '../results/plasticdb_matches.tsv'"
   ]
  },
  {
   "cell_type": "markdown",
   "metadata": {},
   "source": [
    "### Database files\n",
    "Don't edit this chunk"
   ]
  },
  {
   "cell_type": "code",
   "execution_count": 6,
   "metadata": {},
   "outputs": [],
   "source": [
    "database = \"/data_2/Databases/plasticdb/PlasticDB.dmnd\"\n",
    "assert os.path.exists(database), 'Database file does not exist'"
   ]
  },
  {
   "cell_type": "markdown",
   "metadata": {},
   "source": [
    "##### Run Diamond\n",
    "\n",
    "We will use the same Diamond parameters as in the web server. Please, consider using cutoff in the percentage of identity and the length of the alignment."
   ]
  },
  {
   "cell_type": "code",
   "execution_count": 7,
   "metadata": {},
   "outputs": [
    {
     "name": "stdout",
     "output_type": "stream",
     "text": [
      "TRINITY_DN787864898_c0_g1_i1\t00020||PHB_depolymerase||Talaromyces_funiculosus||PHB_PHA\t100\t339\t0\t0\t1\t1017\t1\t339\t3.85e-254\t683\n"
     ]
    }
   ],
   "source": [
    "%%bash -s \"$database\" \"$trinity_file\" \"$outfile_matches\"\n",
    "if [ ! -f $3 ]; then\n",
    "diamond blastx -k 1 -e 1e-6 -p 20 -d $1 -q $2 -o $3 2> /dev/null\n",
    "fi\n",
    "head $3"
   ]
  },
  {
   "cell_type": "markdown",
   "metadata": {},
   "source": [
    "##### Preprocessing diamond matches\n",
    "We read the file into a pandas table:"
   ]
  },
  {
   "cell_type": "code",
   "execution_count": 8,
   "metadata": {},
   "outputs": [
    {
     "data": {
      "text/html": [
       "<div>\n",
       "<style scoped>\n",
       "    .dataframe tbody tr th:only-of-type {\n",
       "        vertical-align: middle;\n",
       "    }\n",
       "\n",
       "    .dataframe tbody tr th {\n",
       "        vertical-align: top;\n",
       "    }\n",
       "\n",
       "    .dataframe thead th {\n",
       "        text-align: right;\n",
       "    }\n",
       "</style>\n",
       "<table border=\"1\" class=\"dataframe\">\n",
       "  <thead>\n",
       "    <tr style=\"text-align: right;\">\n",
       "      <th></th>\n",
       "      <th>Query id</th>\n",
       "      <th>Subject id</th>\n",
       "      <th>% identity</th>\n",
       "      <th>alignment length</th>\n",
       "      <th>mismatches</th>\n",
       "      <th>gap openings</th>\n",
       "      <th>q. start</th>\n",
       "      <th>q. end</th>\n",
       "      <th>s. start</th>\n",
       "      <th>s. end</th>\n",
       "      <th>e-value</th>\n",
       "      <th>score</th>\n",
       "    </tr>\n",
       "  </thead>\n",
       "  <tbody>\n",
       "    <tr>\n",
       "      <th>0</th>\n",
       "      <td>TRINITY_DN787864898_c0_g1_i1</td>\n",
       "      <td>00020||PHB_depolymerase||Talaromyces_funiculos...</td>\n",
       "      <td>100</td>\n",
       "      <td>339</td>\n",
       "      <td>0</td>\n",
       "      <td>0</td>\n",
       "      <td>1</td>\n",
       "      <td>1017</td>\n",
       "      <td>1</td>\n",
       "      <td>339</td>\n",
       "      <td>3.850000e-254</td>\n",
       "      <td>683</td>\n",
       "    </tr>\n",
       "  </tbody>\n",
       "</table>\n",
       "</div>"
      ],
      "text/plain": [
       "                       Query id  \\\n",
       "0  TRINITY_DN787864898_c0_g1_i1   \n",
       "\n",
       "                                          Subject id  % identity  \\\n",
       "0  00020||PHB_depolymerase||Talaromyces_funiculos...         100   \n",
       "\n",
       "   alignment length  mismatches  gap openings  q. start  q. end  s. start  \\\n",
       "0               339           0             0         1    1017         1   \n",
       "\n",
       "   s. end        e-value  score  \n",
       "0     339  3.850000e-254    683  "
      ]
     },
     "execution_count": 8,
     "metadata": {},
     "output_type": "execute_result"
    }
   ],
   "source": [
    "diamond = pd.read_csv(\n",
    "    outfile_matches, delimiter='\\t',comment='#', header=None,\n",
    "    names= ['Query id', 'Subject id', '% identity', 'alignment length', \n",
    "             'mismatches','gap openings','q. start', 'q. end',\n",
    "             's. start', 's. end', 'e-value', 'score'\n",
    "            ]\n",
    ")\n",
    "diamond"
   ]
  },
  {
   "cell_type": "markdown",
   "metadata": {},
   "source": [
    "We also add the count table into a Pandas data frame:"
   ]
  },
  {
   "cell_type": "code",
   "execution_count": 9,
   "metadata": {},
   "outputs": [
    {
     "data": {
      "text/html": [
       "<div>\n",
       "<style scoped>\n",
       "    .dataframe tbody tr th:only-of-type {\n",
       "        vertical-align: middle;\n",
       "    }\n",
       "\n",
       "    .dataframe tbody tr th {\n",
       "        vertical-align: top;\n",
       "    }\n",
       "\n",
       "    .dataframe thead th {\n",
       "        text-align: right;\n",
       "    }\n",
       "</style>\n",
       "<table border=\"1\" class=\"dataframe\">\n",
       "  <thead>\n",
       "    <tr style=\"text-align: right;\">\n",
       "      <th></th>\n",
       "      <th>SampleA</th>\n",
       "      <th>SampleB</th>\n",
       "      <th>SampleC</th>\n",
       "      <th>SampleD</th>\n",
       "      <th>SampleE</th>\n",
       "    </tr>\n",
       "    <tr>\n",
       "      <th>ContigID</th>\n",
       "      <th></th>\n",
       "      <th></th>\n",
       "      <th></th>\n",
       "      <th></th>\n",
       "      <th></th>\n",
       "    </tr>\n",
       "  </thead>\n",
       "  <tbody>\n",
       "    <tr>\n",
       "      <th>TRINITY_DN226500_c0_g1_i1</th>\n",
       "      <td>0</td>\n",
       "      <td>0</td>\n",
       "      <td>2</td>\n",
       "      <td>1</td>\n",
       "      <td>0</td>\n",
       "    </tr>\n",
       "    <tr>\n",
       "      <th>TRINITY_DN226510_c0_g1_i1</th>\n",
       "      <td>1</td>\n",
       "      <td>0</td>\n",
       "      <td>0</td>\n",
       "      <td>0</td>\n",
       "      <td>5</td>\n",
       "    </tr>\n",
       "    <tr>\n",
       "      <th>TRINITY_DN226477_c0_g1_i1</th>\n",
       "      <td>0</td>\n",
       "      <td>0</td>\n",
       "      <td>0</td>\n",
       "      <td>0</td>\n",
       "      <td>0</td>\n",
       "    </tr>\n",
       "    <tr>\n",
       "      <th>TRINITY_DN226449_c0_g1_i1</th>\n",
       "      <td>0</td>\n",
       "      <td>0</td>\n",
       "      <td>2</td>\n",
       "      <td>0</td>\n",
       "      <td>0</td>\n",
       "    </tr>\n",
       "    <tr>\n",
       "      <th>TRINITY_DN226457_c0_g1_i1</th>\n",
       "      <td>3</td>\n",
       "      <td>6</td>\n",
       "      <td>0</td>\n",
       "      <td>0</td>\n",
       "      <td>0</td>\n",
       "    </tr>\n",
       "    <tr>\n",
       "      <th>TRINITY_DN226454_c0_g1_i1</th>\n",
       "      <td>0</td>\n",
       "      <td>0</td>\n",
       "      <td>0</td>\n",
       "      <td>9</td>\n",
       "      <td>0</td>\n",
       "    </tr>\n",
       "    <tr>\n",
       "      <th>TRINITY_DN226455_c0_g1_i1</th>\n",
       "      <td>0</td>\n",
       "      <td>2</td>\n",
       "      <td>0</td>\n",
       "      <td>0</td>\n",
       "      <td>2</td>\n",
       "    </tr>\n",
       "    <tr>\n",
       "      <th>TRINITY_DN2264898_c0_g1_i1</th>\n",
       "      <td>0</td>\n",
       "      <td>2</td>\n",
       "      <td>1</td>\n",
       "      <td>1</td>\n",
       "      <td>2</td>\n",
       "    </tr>\n",
       "    <tr>\n",
       "      <th>TRINITY_DN787864898_c0_g1_i1</th>\n",
       "      <td>0</td>\n",
       "      <td>2</td>\n",
       "      <td>1</td>\n",
       "      <td>1</td>\n",
       "      <td>20</td>\n",
       "    </tr>\n",
       "  </tbody>\n",
       "</table>\n",
       "</div>"
      ],
      "text/plain": [
       "                              SampleA  SampleB  SampleC  SampleD  SampleE\n",
       "ContigID                                                                 \n",
       "TRINITY_DN226500_c0_g1_i1           0        0        2        1        0\n",
       "TRINITY_DN226510_c0_g1_i1           1        0        0        0        5\n",
       "TRINITY_DN226477_c0_g1_i1           0        0        0        0        0\n",
       "TRINITY_DN226449_c0_g1_i1           0        0        2        0        0\n",
       "TRINITY_DN226457_c0_g1_i1           3        6        0        0        0\n",
       "TRINITY_DN226454_c0_g1_i1           0        0        0        9        0\n",
       "TRINITY_DN226455_c0_g1_i1           0        2        0        0        2\n",
       "TRINITY_DN2264898_c0_g1_i1          0        2        1        1        2\n",
       "TRINITY_DN787864898_c0_g1_i1        0        2        1        1       20"
      ]
     },
     "execution_count": 9,
     "metadata": {},
     "output_type": "execute_result"
    }
   ],
   "source": [
    "counts = pd.read_csv(\n",
    "    count_table, sep = \"\\t\", comment='#'\n",
    ").set_index('ContigID')\n",
    "counts"
   ]
  },
  {
   "cell_type": "markdown",
   "metadata": {},
   "source": [
    "##### Most significant hit per contig\n",
    "First, we are going to drop unsignificant hits by E-value. We are setting a 0.0001 threshold.\n"
   ]
  },
  {
   "cell_type": "code",
   "execution_count": 10,
   "metadata": {},
   "outputs": [
    {
     "data": {
      "text/plain": [
       "Text(0.5, 1.0, 'E-value distribution before filtering')"
      ]
     },
     "execution_count": 10,
     "metadata": {},
     "output_type": "execute_result"
    },
    {
     "data": {
      "image/png": "[encoded data removed]",
      "text/plain": [
       "<Figure size 640x480 with 1 Axes>"
      ]
     },
     "metadata": {},
     "output_type": "display_data"
    }
   ],
   "source": [
    "diamond.hist(\"e-value\")\n",
    "plt.title(\"E-value distribution before filtering\")"
   ]
  },
  {
   "cell_type": "code",
   "execution_count": 11,
   "metadata": {},
   "outputs": [
    {
     "data": {
      "text/plain": [
       "Text(0.5, 1.0, 'E-value distribution after filtering (with threshold 1e-06)')"
      ]
     },
     "execution_count": 11,
     "metadata": {},
     "output_type": "execute_result"
    },
    {
     "data": {
      "image/png": "[encoded data removed]",
      "text/plain": [
       "<Figure size 640x480 with 1 Axes>"
      ]
     },
     "metadata": {},
     "output_type": "display_data"
    }
   ],
   "source": [
    "evalue_threshold = 1e-6\n",
    "diamond = diamond.loc[diamond['e-value'] < evalue_threshold] \n",
    "diamond.hist(\"e-value\")\n",
    "plt.title(f\"E-value distribution after filtering (with threshold {evalue_threshold})\")\n"
   ]
  },
  {
   "cell_type": "markdown",
   "metadata": {},
   "source": [
    "Now, we will sort rows per e-value and score and get the most significant hit per each ContigId."
   ]
  },
  {
   "cell_type": "code",
   "execution_count": 12,
   "metadata": {},
   "outputs": [
    {
     "data": {
      "text/plain": [
       "Text(0.5, 1.0, 'Number of hits per contig before preprocessing')"
      ]
     },
     "execution_count": 12,
     "metadata": {},
     "output_type": "execute_result"
    },
    {
     "data": {
      "image/png": "[encoded data removed]",
      "text/plain": [
       "<Figure size 640x480 with 1 Axes>"
      ]
     },
     "metadata": {},
     "output_type": "display_data"
    }
   ],
   "source": [
    "diamond.pivot_table(columns=['Query id'], aggfunc='size').hist(bins = 25)\n",
    "plt.title(\"Number of hits per contig before preprocessing\")\n"
   ]
  },
  {
   "cell_type": "code",
   "execution_count": 13,
   "metadata": {},
   "outputs": [
    {
     "name": "stdout",
     "output_type": "stream",
     "text": [
      "Number of rows. Before: 12. After: 11\n"
     ]
    },
    {
     "data": {
      "text/plain": [
       "Text(0.5, 1.0, 'Number of hits per contig after preprocessing')"
      ]
     },
     "execution_count": 13,
     "metadata": {},
     "output_type": "execute_result"
    },
    {
     "data": {
      "image/png": "[encoded data removed]",
      "text/plain": [
       "<Figure size 640x480 with 1 Axes>"
      ]
     },
     "metadata": {},
     "output_type": "display_data"
    }
   ],
   "source": [
    "before = diamond.size\n",
    "diamond = diamond.sort_values(\n",
    "        by=['e-value', 'score'], ascending=[True, False]\n",
    "        ).drop_duplicates(\n",
    "    'Query id', keep='first'\n",
    ").set_index('Query id')\n",
    "after = diamond.size\n",
    "\n",
    "print(f\"Number of rows. Before: {before}. After: {after}\")\n",
    "\n",
    "diamond.pivot_table(columns=['Query id'], aggfunc='size').hist(bins = 25)\n",
    "plt.title(\"Number of hits per contig after preprocessing\")"
   ]
  },
  {
   "cell_type": "markdown",
   "metadata": {},
   "source": [
    "#####  Inspect % identity and aligment length"
   ]
  },
  {
   "cell_type": "code",
   "execution_count": 14,
   "metadata": {},
   "outputs": [
    {
     "data": {
      "text/plain": [
       "Text(0.5, 1.0, 'Alignment length distribution after preprocessing')"
      ]
     },
     "execution_count": 14,
     "metadata": {},
     "output_type": "execute_result"
    },
    {
     "data": {
      "image/png": "[encoded data removed]",
      "text/plain": [
       "<Figure size 640x480 with 1 Axes>"
      ]
     },
     "metadata": {},
     "output_type": "display_data"
    }
   ],
   "source": [
    "diamond.hist(\"alignment length\")\n",
    "plt.title(\"Alignment length distribution after preprocessing\")\n"
   ]
  },
  {
   "cell_type": "code",
   "execution_count": 15,
   "metadata": {},
   "outputs": [
    {
     "data": {
      "text/plain": [
       "Text(0, 0.5, 'Mistmatches')"
      ]
     },
     "execution_count": 15,
     "metadata": {},
     "output_type": "execute_result"
    },
    {
     "data": {
      "image/png": "[encoded data removed]",
      "text/plain": [
       "<Figure size 640x480 with 1 Axes>"
      ]
     },
     "metadata": {},
     "output_type": "display_data"
    }
   ],
   "source": [
    "plt.scatter(diamond['alignment length'],diamond.mismatches,alpha=0.6)\n",
    "plt.title('Mistmatches distribution after preprocessingh')\n",
    "plt.xlabel('Alignment length')\n",
    "plt.ylabel('Mistmatches')"
   ]
  },
  {
   "cell_type": "code",
   "execution_count": 16,
   "metadata": {},
   "outputs": [
    {
     "data": {
      "text/plain": [
       "Text(0.5, 1.0, 'Percentage of identity distribution after preprocessing')"
      ]
     },
     "execution_count": 16,
     "metadata": {},
     "output_type": "execute_result"
    },
    {
     "data": {
      "image/png": "[encoded data removed]",
      "text/plain": [
       "<Figure size 640x480 with 1 Axes>"
      ]
     },
     "metadata": {},
     "output_type": "display_data"
    }
   ],
   "source": [
    "diamond.hist(\"% identity\", bins = 20)\n",
    "plt.title(\"Percentage of identity distribution after preprocessing\")"
   ]
  },
  {
   "cell_type": "markdown",
   "metadata": {},
   "source": [
    "Now, consider filtering by identity and alignment length. By default, we use the strict parameters of the web:"
   ]
  },
  {
   "cell_type": "code",
   "execution_count": 17,
   "metadata": {},
   "outputs": [
    {
     "data": {
      "text/html": [
       "<div>\n",
       "<style scoped>\n",
       "    .dataframe tbody tr th:only-of-type {\n",
       "        vertical-align: middle;\n",
       "    }\n",
       "\n",
       "    .dataframe tbody tr th {\n",
       "        vertical-align: top;\n",
       "    }\n",
       "\n",
       "    .dataframe thead th {\n",
       "        text-align: right;\n",
       "    }\n",
       "</style>\n",
       "<table border=\"1\" class=\"dataframe\">\n",
       "  <thead>\n",
       "    <tr style=\"text-align: right;\">\n",
       "      <th></th>\n",
       "      <th>Subject id</th>\n",
       "      <th>% identity</th>\n",
       "      <th>alignment length</th>\n",
       "      <th>mismatches</th>\n",
       "      <th>gap openings</th>\n",
       "      <th>q. start</th>\n",
       "      <th>q. end</th>\n",
       "      <th>s. start</th>\n",
       "      <th>s. end</th>\n",
       "      <th>e-value</th>\n",
       "      <th>score</th>\n",
       "    </tr>\n",
       "    <tr>\n",
       "      <th>Query id</th>\n",
       "      <th></th>\n",
       "      <th></th>\n",
       "      <th></th>\n",
       "      <th></th>\n",
       "      <th></th>\n",
       "      <th></th>\n",
       "      <th></th>\n",
       "      <th></th>\n",
       "      <th></th>\n",
       "      <th></th>\n",
       "      <th></th>\n",
       "    </tr>\n",
       "  </thead>\n",
       "  <tbody>\n",
       "    <tr>\n",
       "      <th>TRINITY_DN787864898_c0_g1_i1</th>\n",
       "      <td>00020||PHB_depolymerase||Talaromyces_funiculos...</td>\n",
       "      <td>100</td>\n",
       "      <td>339</td>\n",
       "      <td>0</td>\n",
       "      <td>0</td>\n",
       "      <td>1</td>\n",
       "      <td>1017</td>\n",
       "      <td>1</td>\n",
       "      <td>339</td>\n",
       "      <td>3.850000e-254</td>\n",
       "      <td>683</td>\n",
       "    </tr>\n",
       "  </tbody>\n",
       "</table>\n",
       "</div>"
      ],
      "text/plain": [
       "                                                                     Subject id  \\\n",
       "Query id                                                                          \n",
       "TRINITY_DN787864898_c0_g1_i1  00020||PHB_depolymerase||Talaromyces_funiculos...   \n",
       "\n",
       "                              % identity  alignment length  mismatches  \\\n",
       "Query id                                                                 \n",
       "TRINITY_DN787864898_c0_g1_i1         100               339           0   \n",
       "\n",
       "                              gap openings  q. start  q. end  s. start  \\\n",
       "Query id                                                                 \n",
       "TRINITY_DN787864898_c0_g1_i1             0         1    1017         1   \n",
       "\n",
       "                              s. end        e-value  score  \n",
       "Query id                                                    \n",
       "TRINITY_DN787864898_c0_g1_i1     339  3.850000e-254    683  "
      ]
     },
     "execution_count": 17,
     "metadata": {},
     "output_type": "execute_result"
    }
   ],
   "source": [
    "# Keep only hits with at least 70% identity\n",
    "diamond = diamond.loc[diamond['% identity'] >= 70]\n",
    "# Keep only hits with at least 25 alignment length\n",
    "#diamond = diamond.loc[diamond['alignment length'] >= 25]\n",
    "diamond"
   ]
  },
  {
   "cell_type": "markdown",
   "metadata": {},
   "source": [
    "##### Link information form diamond matches and count table\n",
    "First, we are going to drop all columns except for ContigsID and orthologous genes header"
   ]
  },
  {
   "cell_type": "code",
   "execution_count": 18,
   "metadata": {},
   "outputs": [
    {
     "data": {
      "text/html": [
       "<div>\n",
       "<style scoped>\n",
       "    .dataframe tbody tr th:only-of-type {\n",
       "        vertical-align: middle;\n",
       "    }\n",
       "\n",
       "    .dataframe tbody tr th {\n",
       "        vertical-align: top;\n",
       "    }\n",
       "\n",
       "    .dataframe thead th {\n",
       "        text-align: right;\n",
       "    }\n",
       "</style>\n",
       "<table border=\"1\" class=\"dataframe\">\n",
       "  <thead>\n",
       "    <tr style=\"text-align: right;\">\n",
       "      <th></th>\n",
       "      <th>Subject id</th>\n",
       "    </tr>\n",
       "    <tr>\n",
       "      <th>Query id</th>\n",
       "      <th></th>\n",
       "    </tr>\n",
       "  </thead>\n",
       "  <tbody>\n",
       "    <tr>\n",
       "      <th>TRINITY_DN787864898_c0_g1_i1</th>\n",
       "      <td>00020||PHB_depolymerase||Talaromyces_funiculos...</td>\n",
       "    </tr>\n",
       "  </tbody>\n",
       "</table>\n",
       "</div>"
      ],
      "text/plain": [
       "                                                                     Subject id\n",
       "Query id                                                                       \n",
       "TRINITY_DN787864898_c0_g1_i1  00020||PHB_depolymerase||Talaromyces_funiculos..."
      ]
     },
     "execution_count": 18,
     "metadata": {},
     "output_type": "execute_result"
    }
   ],
   "source": [
    "map_table = diamond[[\"Subject id\"]]\n",
    "map_table"
   ]
  },
  {
   "cell_type": "markdown",
   "metadata": {},
   "source": [
    "Now, we will merge both files by their column in common (ContigID and Subject id)."
   ]
  },
  {
   "cell_type": "code",
   "execution_count": 19,
   "metadata": {},
   "outputs": [
    {
     "data": {
      "text/html": [
       "<div>\n",
       "<style scoped>\n",
       "    .dataframe tbody tr th:only-of-type {\n",
       "        vertical-align: middle;\n",
       "    }\n",
       "\n",
       "    .dataframe tbody tr th {\n",
       "        vertical-align: top;\n",
       "    }\n",
       "\n",
       "    .dataframe thead th {\n",
       "        text-align: right;\n",
       "    }\n",
       "</style>\n",
       "<table border=\"1\" class=\"dataframe\">\n",
       "  <thead>\n",
       "    <tr style=\"text-align: right;\">\n",
       "      <th></th>\n",
       "      <th>Subject id</th>\n",
       "      <th>SampleA</th>\n",
       "      <th>SampleB</th>\n",
       "      <th>SampleC</th>\n",
       "      <th>SampleD</th>\n",
       "      <th>SampleE</th>\n",
       "    </tr>\n",
       "  </thead>\n",
       "  <tbody>\n",
       "    <tr>\n",
       "      <th>0</th>\n",
       "      <td>00020||PHB_depolymerase||Talaromyces_funiculos...</td>\n",
       "      <td>0</td>\n",
       "      <td>2</td>\n",
       "      <td>1</td>\n",
       "      <td>1</td>\n",
       "      <td>20</td>\n",
       "    </tr>\n",
       "  </tbody>\n",
       "</table>\n",
       "</div>"
      ],
      "text/plain": [
       "                                          Subject id  SampleA  SampleB  \\\n",
       "0  00020||PHB_depolymerase||Talaromyces_funiculos...        0        2   \n",
       "\n",
       "   SampleC  SampleD  SampleE  \n",
       "0        1        1       20  "
      ]
     },
     "execution_count": 19,
     "metadata": {},
     "output_type": "execute_result"
    }
   ],
   "source": [
    "df = pd.merge(map_table, counts, left_index=True, right_index=True).reset_index(drop=True)\n",
    "df\n"
   ]
  },
  {
   "cell_type": "markdown",
   "metadata": {},
   "source": [
    "##### Aggregate table\n",
    "Now, we are going to aggregate the rows by grouping them by \"Subject id\" (notice the difference in rows between the previous table and the following):"
   ]
  },
  {
   "cell_type": "code",
   "execution_count": 20,
   "metadata": {},
   "outputs": [
    {
     "data": {
      "text/html": [
       "<div>\n",
       "<style scoped>\n",
       "    .dataframe tbody tr th:only-of-type {\n",
       "        vertical-align: middle;\n",
       "    }\n",
       "\n",
       "    .dataframe tbody tr th {\n",
       "        vertical-align: top;\n",
       "    }\n",
       "\n",
       "    .dataframe thead th {\n",
       "        text-align: right;\n",
       "    }\n",
       "</style>\n",
       "<table border=\"1\" class=\"dataframe\">\n",
       "  <thead>\n",
       "    <tr style=\"text-align: right;\">\n",
       "      <th></th>\n",
       "      <th>SampleA</th>\n",
       "      <th>SampleB</th>\n",
       "      <th>SampleC</th>\n",
       "      <th>SampleD</th>\n",
       "      <th>SampleE</th>\n",
       "    </tr>\n",
       "    <tr>\n",
       "      <th>Subject id</th>\n",
       "      <th></th>\n",
       "      <th></th>\n",
       "      <th></th>\n",
       "      <th></th>\n",
       "      <th></th>\n",
       "    </tr>\n",
       "  </thead>\n",
       "  <tbody>\n",
       "    <tr>\n",
       "      <th>00020||PHB_depolymerase||Talaromyces_funiculosus||PHB_PHA</th>\n",
       "      <td>0</td>\n",
       "      <td>2</td>\n",
       "      <td>1</td>\n",
       "      <td>1</td>\n",
       "      <td>20</td>\n",
       "    </tr>\n",
       "  </tbody>\n",
       "</table>\n",
       "</div>"
      ],
      "text/plain": [
       "                                                    SampleA  SampleB  SampleC  \\\n",
       "Subject id                                                                      \n",
       "00020||PHB_depolymerase||Talaromyces_funiculosu...        0        2        1   \n",
       "\n",
       "                                                    SampleD  SampleE  \n",
       "Subject id                                                            \n",
       "00020||PHB_depolymerase||Talaromyces_funiculosu...        1       20  "
      ]
     },
     "execution_count": 20,
     "metadata": {},
     "output_type": "execute_result"
    }
   ],
   "source": [
    "df = df.groupby('Subject id').sum(numeric_only = True)\n",
    "df"
   ]
  },
  {
   "cell_type": "markdown",
   "metadata": {},
   "source": [
    "# Annotation\n",
    "First, let read the annotation file into a pandas table:"
   ]
  },
  {
   "cell_type": "code",
   "execution_count": 21,
   "metadata": {},
   "outputs": [
    {
     "data": {
      "text/plain": [
       "TestResults(failed=0, attempted=4)"
      ]
     },
     "execution_count": 21,
     "metadata": {},
     "output_type": "execute_result"
    }
   ],
   "source": [
    "import doctest\n",
    "import numpy as np\n",
    "def get_annotation_from_header(x: str, type: str) -> str:\n",
    "    \"\"\"\n",
    "    Extracts the ARO ID from the input string.\n",
    "    >>> get_annotation_from_header('00020||PHB_depolymerase||Talaromyces_funiculosus||PHB_PHA', \"name\")\n",
    "    'PHB_depolymerase'\n",
    "    >>> get_annotation_from_header('00020||PHB_depolymerase||Talaromyces_funiculosus||PHB_PHA', \"species\")\n",
    "    'Talaromyces_funiculosus'\n",
    "    >>> get_annotation_from_header('00020||PHB_depolymerase||Talaromyces_funiculosus||PHB_PHA', \"short_name\")\n",
    "    'PHB_PHA'\n",
    "    >>> get_annotation_from_header('00020', \"name\")\n",
    "    nan\n",
    "    \"\"\"\n",
    "    parts = x.split('||')\n",
    "    try: \n",
    "        if type == \"name\":\n",
    "            return parts[1]\n",
    "        elif type == \"species\":\n",
    "            return parts[2]\n",
    "        elif type == \"short_name\":\n",
    "            return parts[3]\n",
    "    except:\n",
    "        pass\n",
    "    return np.NaN\n",
    "# Run tests\n",
    "doctest.testmod()"
   ]
  },
  {
   "cell_type": "code",
   "execution_count": 22,
   "metadata": {},
   "outputs": [],
   "source": [
    "df['Name'] = df.index.map(lambda x: get_annotation_from_header(x, type = 'name')).to_list()\n",
    "df['Species'] = df.index.map(lambda x: get_annotation_from_header(x, type = 'species')).to_list()\n",
    "df['Short name'] = df.index.map(lambda x: get_annotation_from_header(x, type = 'short_name')).to_list()"
   ]
  },
  {
   "cell_type": "markdown",
   "metadata": {},
   "source": [
    "Finally, we save the table and remove the temporary files:"
   ]
  },
  {
   "cell_type": "code",
   "execution_count": 23,
   "metadata": {},
   "outputs": [],
   "source": [
    "df.to_csv('../results/plasticdb_matches_annotated.tsv', sep='\\t')"
   ]
  }
 ],
 "metadata": {
  "kernelspec": {
   "display_name": "Python 3",
   "language": "python",
   "name": "python3"
  },
  "language_info": {
   "codemirror_mode": {
    "name": "ipython",
    "version": 3
   },
   "file_extension": ".py",
   "mimetype": "text/x-python",
   "name": "python",
   "nbconvert_exporter": "python",
   "pygments_lexer": "ipython3",
   "version": "3.9.15"
  }
 },
 "nbformat": 4,
 "nbformat_minor": 4
}
