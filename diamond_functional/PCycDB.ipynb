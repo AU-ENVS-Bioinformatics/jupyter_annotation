{
 "cells": [
  {
   "cell_type": "markdown",
   "metadata": {},
   "source": [
    "# Phosphorus genes diamond jupyter using PCycDB\n",
    "\n",
    "This notebook is part of the analysis of the TotalRNA mRNA genes from Trinity. \n",
    "\n",
    "## How to run Jupyter notebooks in huginn\n",
    "<details>\n",
    "<summary>Click to expand!</summary>\n",
    "\n",
    "If you use vs-code you can use the [remote ssh extension](https://marketplace.visualstudio.com/items?itemName=ms-vscode-remote.remote-ssh) to connect to huginn and either run jupyterlab in the remote server (so to say, just like you would do in your local computer with `jupyter-lab`) or run directly without opening jupyterlab directly. \n",
    "\n",
    "Otherwise, you can follow the instructions below: \n",
    "\n",
    "1. Turn on VPN\n",
    "2. Open two terminals (let's called A and B)\n",
    "3. With terminal A, connect to huginn with ssh as usual\n",
    "```bash\n",
    "ssh username@huginn.au.dk\n",
    "```\n",
    "4. Move to the directory where you want to work, activate the conda enviroment and run jupyter notebook or jupyter lab:\n",
    "```bash\n",
    "conda activate jupyter-diamond\n",
    "jupyter notebook --no-browser --port=7777\n",
    "```\n",
    "5. With terminal B, connect to huginn and forward the port specified port to your local computer\n",
    "```bash\n",
    "ssh -Y -N -L localhost:7777:localhost:7777 username@huginn.au.dk\n",
    "```\n",
    "6. Open your browser and go to `localhost:7777` and you should see the jupyter notebook running in huginn. You can also press in the url of Terminal A. \n",
    "\n",
    "Troubleshooting:\n",
    "- If you get an error like `bind: Address already in use` it means that you have another jupyter notebook running in the same port. You can either kill the process or change the port.\n",
    "</details>\n",
    "\n",
    "## How to create a new environment for this notebook (if needed)\n",
    "\n",
    "We will use Diamond, a few python basic libraries and bash. Let's check if those dependencies are installed. If not, you can install them with mamba (as well with jupyterlab)\n",
    "\n",
    "```bash\n",
    "# To create a new environment with mamba\n",
    "mamba create -c bioconda -c conda-forge diamond pandas matplotlib jupyterlab -n jupyter-diamond\n",
    "# To activate the environment\n",
    "conda activate jupyter-diamond\n",
    "```\n",
    "\n",
    "### Sanity check"
   ]
  },
  {
   "cell_type": "code",
   "execution_count": 1,
   "metadata": {},
   "outputs": [
    {
     "name": "stdout",
     "output_type": "stream",
     "text": [
      "diamond version 2.1.8\n"
     ]
    },
    {
     "name": "stdout",
     "output_type": "stream",
     "text": [
      "2.1.1\n",
      "3.8.0\n",
      "GNU bash, version 4.4.20(1)-release (x86_64-pc-linux-gnu)\n"
     ]
    }
   ],
   "source": [
    "%%bash\n",
    "diamond --version\n",
    "python -c \"import pandas; print(pandas.__version__)\"\n",
    "python -c \"import matplotlib; print(matplotlib.__version__)\"\n",
    "bash --version | head -n 1"
   ]
  },
  {
   "cell_type": "code",
   "execution_count": 2,
   "metadata": {},
   "outputs": [],
   "source": [
    "import pandas as pd\n",
    "import os\n",
    "import matplotlib.pyplot as plt"
   ]
  },
  {
   "cell_type": "markdown",
   "metadata": {},
   "source": [
    "### Input files (edit this chunk)\n",
    "Edit this chunk to match your input files"
   ]
  },
  {
   "cell_type": "code",
   "execution_count": 3,
   "metadata": {},
   "outputs": [],
   "source": [
    "trinity_file = '../data/contigs.fasta'\n",
    "count_table = '../data/mapped_reads_to_contigs.tsv'"
   ]
  },
  {
   "cell_type": "code",
   "execution_count": 4,
   "metadata": {},
   "outputs": [],
   "source": [
    "## Sanity check: trinity and count table exit\n",
    "assert os.path.exists(trinity_file), 'Trinity file does not exist'\n",
    "assert os.path.exists(count_table), 'Count table does not exist'"
   ]
  },
  {
   "cell_type": "markdown",
   "metadata": {},
   "source": [
    "### Output files (edit this chunk)\n",
    "Edit this chunk to match your desired output files"
   ]
  },
  {
   "cell_type": "code",
   "execution_count": 5,
   "metadata": {},
   "outputs": [],
   "source": [
    "outfile_matches = '../results/PCycDB_matches.tsv'"
   ]
  },
  {
   "cell_type": "markdown",
   "metadata": {},
   "source": [
    "### Database files\n",
    "Don't edit this chunk"
   ]
  },
  {
   "cell_type": "code",
   "execution_count": 6,
   "metadata": {},
   "outputs": [],
   "source": [
    "database = '/data_2/Databases/PCycDB/release_v1.1/PCycDBv1.1.dmnd'\n",
    "fasta = '/data_2/Databases/PCycDB/release_v1.1/PCycDBv1.1.faa'\n",
    "annotation_file = '/data_2/Databases/PCycDB/release_v1.1/id2genemap.txt'\n",
    "assert os.path.exists(annotation_file), 'Annotation file does not exist'\n",
    "assert os.path.exists(fasta), 'Fasta file does not exist'\n",
    "assert os.path.exists(database), 'Database file does not exist'"
   ]
  },
  {
   "cell_type": "markdown",
   "metadata": {},
   "source": [
    "##### Run Diamond\n",
    "\n",
    "According to the authors of the paper, they propose two cutoffs: 30% identity and 25 amino, and a more strict 70% identity and 25 amino acid length. We are going to go with the more strict cutoff. This means the default diamond parameters are fine, but to use the less strict cutoff we would need to use a more sensitive mode. "
   ]
  },
  {
   "cell_type": "code",
   "execution_count": 7,
   "metadata": {},
   "outputs": [
    {
     "name": "stdout",
     "output_type": "stream",
     "text": [
      "TRINITY_DN226477_c0_g1_i1\t16130432\t100\t525\t0\t0\t1\t1575\t1\t525\t0.0\t1063\n",
      "TRINITY_DN226477_c0_g1_i1\t15832623\t99.8\t525\t1\t0\t1\t1575\t1\t525\t0.0\t1063\n",
      "TRINITY_DN226477_c0_g1_i1\tB7LKD4\t99.8\t525\t1\t0\t1\t1575\t1\t525\t0.0\t1063\n",
      "TRINITY_DN226477_c0_g1_i1\tQ83QL1\t99.6\t525\t2\t0\t1\t1575\t1\t525\t0.0\t1062\n",
      "TRINITY_DN226477_c0_g1_i1\tB7UGU5\t99.6\t525\t2\t0\t1\t1575\t1\t525\t0.0\t1062\n",
      "TRINITY_DN226477_c0_g1_i1\t560158362\t99.8\t525\t1\t0\t1\t1575\t1\t525\t0.0\t1061\n",
      "TRINITY_DN226477_c0_g1_i1\tA7ZPV1\t99.6\t525\t2\t0\t1\t1575\t1\t525\t0.0\t1061\n",
      "TRINITY_DN226477_c0_g1_i1\tQ0T212\t99.4\t525\t3\t0\t1\t1575\t1\t525\t0.0\t1061\n",
      "TRINITY_DN226477_c0_g1_i1\tQ31XY3\t99.6\t525\t2\t0\t1\t1575\t1\t525\t0.0\t1061\n",
      "TRINITY_DN226477_c0_g1_i1\tQ3YZ45\t99.6\t525\t2\t0\t1\t1575\t1\t525\t0.0\t1060\n"
     ]
    }
   ],
   "source": [
    "%%bash -s \"$database\" \"$trinity_file\" \"$outfile_matches\"\n",
    "if [ ! -f $3 ]; then\n",
    "diamond blastx -p 50 -d $1 -q $2 -o $3 2> /dev/null\n",
    "fi\n",
    "head $3"
   ]
  },
  {
   "cell_type": "markdown",
   "metadata": {},
   "source": [
    "##### Preprocessing diamond matches\n",
    "We read the file into a pandas table:"
   ]
  },
  {
   "cell_type": "code",
   "execution_count": 8,
   "metadata": {},
   "outputs": [
    {
     "data": {
      "text/html": [
       "<div>\n",
       "<style scoped>\n",
       "    .dataframe tbody tr th:only-of-type {\n",
       "        vertical-align: middle;\n",
       "    }\n",
       "\n",
       "    .dataframe tbody tr th {\n",
       "        vertical-align: top;\n",
       "    }\n",
       "\n",
       "    .dataframe thead th {\n",
       "        text-align: right;\n",
       "    }\n",
       "</style>\n",
       "<table border=\"1\" class=\"dataframe\">\n",
       "  <thead>\n",
       "    <tr style=\"text-align: right;\">\n",
       "      <th></th>\n",
       "      <th>Query id</th>\n",
       "      <th>Subject id</th>\n",
       "      <th>% identity</th>\n",
       "      <th>alignment length</th>\n",
       "      <th>mismatches</th>\n",
       "      <th>gap openings</th>\n",
       "      <th>q. start</th>\n",
       "      <th>q. end</th>\n",
       "      <th>s. start</th>\n",
       "      <th>s. end</th>\n",
       "      <th>e-value</th>\n",
       "      <th>score</th>\n",
       "    </tr>\n",
       "  </thead>\n",
       "  <tbody>\n",
       "    <tr>\n",
       "      <th>0</th>\n",
       "      <td>TRINITY_DN226477_c0_g1_i1</td>\n",
       "      <td>16130432</td>\n",
       "      <td>100.0</td>\n",
       "      <td>525</td>\n",
       "      <td>0</td>\n",
       "      <td>0</td>\n",
       "      <td>1</td>\n",
       "      <td>1575</td>\n",
       "      <td>1</td>\n",
       "      <td>525</td>\n",
       "      <td>0.000000e+00</td>\n",
       "      <td>1063.0</td>\n",
       "    </tr>\n",
       "    <tr>\n",
       "      <th>1</th>\n",
       "      <td>TRINITY_DN226477_c0_g1_i1</td>\n",
       "      <td>15832623</td>\n",
       "      <td>99.8</td>\n",
       "      <td>525</td>\n",
       "      <td>1</td>\n",
       "      <td>0</td>\n",
       "      <td>1</td>\n",
       "      <td>1575</td>\n",
       "      <td>1</td>\n",
       "      <td>525</td>\n",
       "      <td>0.000000e+00</td>\n",
       "      <td>1063.0</td>\n",
       "    </tr>\n",
       "    <tr>\n",
       "      <th>2</th>\n",
       "      <td>TRINITY_DN226477_c0_g1_i1</td>\n",
       "      <td>B7LKD4</td>\n",
       "      <td>99.8</td>\n",
       "      <td>525</td>\n",
       "      <td>1</td>\n",
       "      <td>0</td>\n",
       "      <td>1</td>\n",
       "      <td>1575</td>\n",
       "      <td>1</td>\n",
       "      <td>525</td>\n",
       "      <td>0.000000e+00</td>\n",
       "      <td>1063.0</td>\n",
       "    </tr>\n",
       "    <tr>\n",
       "      <th>3</th>\n",
       "      <td>TRINITY_DN226477_c0_g1_i1</td>\n",
       "      <td>Q83QL1</td>\n",
       "      <td>99.6</td>\n",
       "      <td>525</td>\n",
       "      <td>2</td>\n",
       "      <td>0</td>\n",
       "      <td>1</td>\n",
       "      <td>1575</td>\n",
       "      <td>1</td>\n",
       "      <td>525</td>\n",
       "      <td>0.000000e+00</td>\n",
       "      <td>1062.0</td>\n",
       "    </tr>\n",
       "    <tr>\n",
       "      <th>4</th>\n",
       "      <td>TRINITY_DN226477_c0_g1_i1</td>\n",
       "      <td>B7UGU5</td>\n",
       "      <td>99.6</td>\n",
       "      <td>525</td>\n",
       "      <td>2</td>\n",
       "      <td>0</td>\n",
       "      <td>1</td>\n",
       "      <td>1575</td>\n",
       "      <td>1</td>\n",
       "      <td>525</td>\n",
       "      <td>0.000000e+00</td>\n",
       "      <td>1062.0</td>\n",
       "    </tr>\n",
       "    <tr>\n",
       "      <th>5</th>\n",
       "      <td>TRINITY_DN226477_c0_g1_i1</td>\n",
       "      <td>560158362</td>\n",
       "      <td>99.8</td>\n",
       "      <td>525</td>\n",
       "      <td>1</td>\n",
       "      <td>0</td>\n",
       "      <td>1</td>\n",
       "      <td>1575</td>\n",
       "      <td>1</td>\n",
       "      <td>525</td>\n",
       "      <td>0.000000e+00</td>\n",
       "      <td>1061.0</td>\n",
       "    </tr>\n",
       "    <tr>\n",
       "      <th>6</th>\n",
       "      <td>TRINITY_DN226477_c0_g1_i1</td>\n",
       "      <td>A7ZPV1</td>\n",
       "      <td>99.6</td>\n",
       "      <td>525</td>\n",
       "      <td>2</td>\n",
       "      <td>0</td>\n",
       "      <td>1</td>\n",
       "      <td>1575</td>\n",
       "      <td>1</td>\n",
       "      <td>525</td>\n",
       "      <td>0.000000e+00</td>\n",
       "      <td>1061.0</td>\n",
       "    </tr>\n",
       "    <tr>\n",
       "      <th>7</th>\n",
       "      <td>TRINITY_DN226477_c0_g1_i1</td>\n",
       "      <td>Q0T212</td>\n",
       "      <td>99.4</td>\n",
       "      <td>525</td>\n",
       "      <td>3</td>\n",
       "      <td>0</td>\n",
       "      <td>1</td>\n",
       "      <td>1575</td>\n",
       "      <td>1</td>\n",
       "      <td>525</td>\n",
       "      <td>0.000000e+00</td>\n",
       "      <td>1061.0</td>\n",
       "    </tr>\n",
       "    <tr>\n",
       "      <th>8</th>\n",
       "      <td>TRINITY_DN226477_c0_g1_i1</td>\n",
       "      <td>Q31XY3</td>\n",
       "      <td>99.6</td>\n",
       "      <td>525</td>\n",
       "      <td>2</td>\n",
       "      <td>0</td>\n",
       "      <td>1</td>\n",
       "      <td>1575</td>\n",
       "      <td>1</td>\n",
       "      <td>525</td>\n",
       "      <td>0.000000e+00</td>\n",
       "      <td>1061.0</td>\n",
       "    </tr>\n",
       "    <tr>\n",
       "      <th>9</th>\n",
       "      <td>TRINITY_DN226477_c0_g1_i1</td>\n",
       "      <td>Q3YZ45</td>\n",
       "      <td>99.6</td>\n",
       "      <td>525</td>\n",
       "      <td>2</td>\n",
       "      <td>0</td>\n",
       "      <td>1</td>\n",
       "      <td>1575</td>\n",
       "      <td>1</td>\n",
       "      <td>525</td>\n",
       "      <td>0.000000e+00</td>\n",
       "      <td>1060.0</td>\n",
       "    </tr>\n",
       "    <tr>\n",
       "      <th>10</th>\n",
       "      <td>TRINITY_DN226477_c0_g1_i1</td>\n",
       "      <td>B7N691</td>\n",
       "      <td>99.6</td>\n",
       "      <td>525</td>\n",
       "      <td>2</td>\n",
       "      <td>0</td>\n",
       "      <td>1</td>\n",
       "      <td>1575</td>\n",
       "      <td>1</td>\n",
       "      <td>525</td>\n",
       "      <td>0.000000e+00</td>\n",
       "      <td>1060.0</td>\n",
       "    </tr>\n",
       "    <tr>\n",
       "      <th>11</th>\n",
       "      <td>TRINITY_DN226477_c0_g1_i1</td>\n",
       "      <td>B2TXT2</td>\n",
       "      <td>99.2</td>\n",
       "      <td>525</td>\n",
       "      <td>4</td>\n",
       "      <td>0</td>\n",
       "      <td>1</td>\n",
       "      <td>1575</td>\n",
       "      <td>1</td>\n",
       "      <td>525</td>\n",
       "      <td>0.000000e+00</td>\n",
       "      <td>1058.0</td>\n",
       "    </tr>\n",
       "    <tr>\n",
       "      <th>12</th>\n",
       "      <td>TRINITY_DN226477_c0_g1_i1</td>\n",
       "      <td>B5RCX9</td>\n",
       "      <td>98.9</td>\n",
       "      <td>525</td>\n",
       "      <td>6</td>\n",
       "      <td>0</td>\n",
       "      <td>1</td>\n",
       "      <td>1575</td>\n",
       "      <td>1</td>\n",
       "      <td>525</td>\n",
       "      <td>0.000000e+00</td>\n",
       "      <td>1056.0</td>\n",
       "    </tr>\n",
       "    <tr>\n",
       "      <th>13</th>\n",
       "      <td>TRINITY_DN226477_c0_g1_i1</td>\n",
       "      <td>B5BAZ5</td>\n",
       "      <td>98.7</td>\n",
       "      <td>525</td>\n",
       "      <td>7</td>\n",
       "      <td>0</td>\n",
       "      <td>1</td>\n",
       "      <td>1575</td>\n",
       "      <td>1</td>\n",
       "      <td>525</td>\n",
       "      <td>0.000000e+00</td>\n",
       "      <td>1054.0</td>\n",
       "    </tr>\n",
       "    <tr>\n",
       "      <th>14</th>\n",
       "      <td>TRINITY_DN226477_c0_g1_i1</td>\n",
       "      <td>B4T0N7</td>\n",
       "      <td>98.5</td>\n",
       "      <td>525</td>\n",
       "      <td>8</td>\n",
       "      <td>0</td>\n",
       "      <td>1</td>\n",
       "      <td>1575</td>\n",
       "      <td>1</td>\n",
       "      <td>525</td>\n",
       "      <td>0.000000e+00</td>\n",
       "      <td>1052.0</td>\n",
       "    </tr>\n",
       "    <tr>\n",
       "      <th>15</th>\n",
       "      <td>TRINITY_DN226477_c0_g1_i1</td>\n",
       "      <td>B4TR83</td>\n",
       "      <td>98.5</td>\n",
       "      <td>525</td>\n",
       "      <td>8</td>\n",
       "      <td>0</td>\n",
       "      <td>1</td>\n",
       "      <td>1575</td>\n",
       "      <td>1</td>\n",
       "      <td>525</td>\n",
       "      <td>0.000000e+00</td>\n",
       "      <td>1051.0</td>\n",
       "    </tr>\n",
       "    <tr>\n",
       "      <th>16</th>\n",
       "      <td>TRINITY_DN226477_c0_g1_i1</td>\n",
       "      <td>16765830</td>\n",
       "      <td>98.5</td>\n",
       "      <td>525</td>\n",
       "      <td>8</td>\n",
       "      <td>0</td>\n",
       "      <td>1</td>\n",
       "      <td>1575</td>\n",
       "      <td>1</td>\n",
       "      <td>525</td>\n",
       "      <td>0.000000e+00</td>\n",
       "      <td>1050.0</td>\n",
       "    </tr>\n",
       "    <tr>\n",
       "      <th>17</th>\n",
       "      <td>TRINITY_DN226477_c0_g1_i1</td>\n",
       "      <td>A9MHM5</td>\n",
       "      <td>98.1</td>\n",
       "      <td>525</td>\n",
       "      <td>10</td>\n",
       "      <td>0</td>\n",
       "      <td>1</td>\n",
       "      <td>1575</td>\n",
       "      <td>1</td>\n",
       "      <td>525</td>\n",
       "      <td>0.000000e+00</td>\n",
       "      <td>1050.0</td>\n",
       "    </tr>\n",
       "    <tr>\n",
       "      <th>18</th>\n",
       "      <td>TRINITY_DN226477_c0_g1_i1</td>\n",
       "      <td>WP_063081115.1</td>\n",
       "      <td>96.1</td>\n",
       "      <td>544</td>\n",
       "      <td>2</td>\n",
       "      <td>1</td>\n",
       "      <td>1</td>\n",
       "      <td>1575</td>\n",
       "      <td>1</td>\n",
       "      <td>544</td>\n",
       "      <td>0.000000e+00</td>\n",
       "      <td>1048.0</td>\n",
       "    </tr>\n",
       "    <tr>\n",
       "      <th>19</th>\n",
       "      <td>TRINITY_DN226477_c0_g1_i1</td>\n",
       "      <td>296104181</td>\n",
       "      <td>97.0</td>\n",
       "      <td>525</td>\n",
       "      <td>16</td>\n",
       "      <td>0</td>\n",
       "      <td>1</td>\n",
       "      <td>1575</td>\n",
       "      <td>1</td>\n",
       "      <td>525</td>\n",
       "      <td>0.000000e+00</td>\n",
       "      <td>1037.0</td>\n",
       "    </tr>\n",
       "    <tr>\n",
       "      <th>20</th>\n",
       "      <td>TRINITY_DN226477_c0_g1_i1</td>\n",
       "      <td>157144560</td>\n",
       "      <td>96.6</td>\n",
       "      <td>525</td>\n",
       "      <td>18</td>\n",
       "      <td>0</td>\n",
       "      <td>1</td>\n",
       "      <td>1575</td>\n",
       "      <td>1</td>\n",
       "      <td>525</td>\n",
       "      <td>0.000000e+00</td>\n",
       "      <td>1036.0</td>\n",
       "    </tr>\n",
       "    <tr>\n",
       "      <th>21</th>\n",
       "      <td>TRINITY_DN226477_c0_g1_i1</td>\n",
       "      <td>A4WD82</td>\n",
       "      <td>96.2</td>\n",
       "      <td>525</td>\n",
       "      <td>20</td>\n",
       "      <td>0</td>\n",
       "      <td>1</td>\n",
       "      <td>1575</td>\n",
       "      <td>1</td>\n",
       "      <td>525</td>\n",
       "      <td>0.000000e+00</td>\n",
       "      <td>1036.0</td>\n",
       "    </tr>\n",
       "    <tr>\n",
       "      <th>22</th>\n",
       "      <td>TRINITY_DN226477_c0_g1_i1</td>\n",
       "      <td>1080067.BAZH01000028_gene1311</td>\n",
       "      <td>96.4</td>\n",
       "      <td>525</td>\n",
       "      <td>19</td>\n",
       "      <td>0</td>\n",
       "      <td>1</td>\n",
       "      <td>1575</td>\n",
       "      <td>15</td>\n",
       "      <td>539</td>\n",
       "      <td>0.000000e+00</td>\n",
       "      <td>1036.0</td>\n",
       "    </tr>\n",
       "    <tr>\n",
       "      <th>23</th>\n",
       "      <td>TRINITY_DN226477_c0_g1_i1</td>\n",
       "      <td>206579796</td>\n",
       "      <td>96.4</td>\n",
       "      <td>525</td>\n",
       "      <td>19</td>\n",
       "      <td>0</td>\n",
       "      <td>1</td>\n",
       "      <td>1575</td>\n",
       "      <td>1</td>\n",
       "      <td>525</td>\n",
       "      <td>0.000000e+00</td>\n",
       "      <td>1035.0</td>\n",
       "    </tr>\n",
       "    <tr>\n",
       "      <th>24</th>\n",
       "      <td>TRINITY_DN226477_c0_g1_i1</td>\n",
       "      <td>A6TCC2</td>\n",
       "      <td>96.0</td>\n",
       "      <td>525</td>\n",
       "      <td>21</td>\n",
       "      <td>0</td>\n",
       "      <td>1</td>\n",
       "      <td>1575</td>\n",
       "      <td>1</td>\n",
       "      <td>525</td>\n",
       "      <td>0.000000e+00</td>\n",
       "      <td>1032.0</td>\n",
       "    </tr>\n",
       "    <tr>\n",
       "      <th>25</th>\n",
       "      <td>TRINITY_DN226449_c0_g1_i1</td>\n",
       "      <td>4533.OB01G23590.1</td>\n",
       "      <td>45.4</td>\n",
       "      <td>97</td>\n",
       "      <td>53</td>\n",
       "      <td>0</td>\n",
       "      <td>76</td>\n",
       "      <td>366</td>\n",
       "      <td>787</td>\n",
       "      <td>883</td>\n",
       "      <td>9.550000e-24</td>\n",
       "      <td>99.0</td>\n",
       "    </tr>\n",
       "  </tbody>\n",
       "</table>\n",
       "</div>"
      ],
      "text/plain": [
       "                     Query id                     Subject id  % identity  \\\n",
       "0   TRINITY_DN226477_c0_g1_i1                       16130432       100.0   \n",
       "1   TRINITY_DN226477_c0_g1_i1                       15832623        99.8   \n",
       "2   TRINITY_DN226477_c0_g1_i1                         B7LKD4        99.8   \n",
       "3   TRINITY_DN226477_c0_g1_i1                         Q83QL1        99.6   \n",
       "4   TRINITY_DN226477_c0_g1_i1                         B7UGU5        99.6   \n",
       "5   TRINITY_DN226477_c0_g1_i1                      560158362        99.8   \n",
       "6   TRINITY_DN226477_c0_g1_i1                         A7ZPV1        99.6   \n",
       "7   TRINITY_DN226477_c0_g1_i1                         Q0T212        99.4   \n",
       "8   TRINITY_DN226477_c0_g1_i1                         Q31XY3        99.6   \n",
       "9   TRINITY_DN226477_c0_g1_i1                         Q3YZ45        99.6   \n",
       "10  TRINITY_DN226477_c0_g1_i1                         B7N691        99.6   \n",
       "11  TRINITY_DN226477_c0_g1_i1                         B2TXT2        99.2   \n",
       "12  TRINITY_DN226477_c0_g1_i1                         B5RCX9        98.9   \n",
       "13  TRINITY_DN226477_c0_g1_i1                         B5BAZ5        98.7   \n",
       "14  TRINITY_DN226477_c0_g1_i1                         B4T0N7        98.5   \n",
       "15  TRINITY_DN226477_c0_g1_i1                         B4TR83        98.5   \n",
       "16  TRINITY_DN226477_c0_g1_i1                       16765830        98.5   \n",
       "17  TRINITY_DN226477_c0_g1_i1                         A9MHM5        98.1   \n",
       "18  TRINITY_DN226477_c0_g1_i1                 WP_063081115.1        96.1   \n",
       "19  TRINITY_DN226477_c0_g1_i1                      296104181        97.0   \n",
       "20  TRINITY_DN226477_c0_g1_i1                      157144560        96.6   \n",
       "21  TRINITY_DN226477_c0_g1_i1                         A4WD82        96.2   \n",
       "22  TRINITY_DN226477_c0_g1_i1  1080067.BAZH01000028_gene1311        96.4   \n",
       "23  TRINITY_DN226477_c0_g1_i1                      206579796        96.4   \n",
       "24  TRINITY_DN226477_c0_g1_i1                         A6TCC2        96.0   \n",
       "25  TRINITY_DN226449_c0_g1_i1              4533.OB01G23590.1        45.4   \n",
       "\n",
       "    alignment length  mismatches  gap openings  q. start  q. end  s. start  \\\n",
       "0                525           0             0         1    1575         1   \n",
       "1                525           1             0         1    1575         1   \n",
       "2                525           1             0         1    1575         1   \n",
       "3                525           2             0         1    1575         1   \n",
       "4                525           2             0         1    1575         1   \n",
       "5                525           1             0         1    1575         1   \n",
       "6                525           2             0         1    1575         1   \n",
       "7                525           3             0         1    1575         1   \n",
       "8                525           2             0         1    1575         1   \n",
       "9                525           2             0         1    1575         1   \n",
       "10               525           2             0         1    1575         1   \n",
       "11               525           4             0         1    1575         1   \n",
       "12               525           6             0         1    1575         1   \n",
       "13               525           7             0         1    1575         1   \n",
       "14               525           8             0         1    1575         1   \n",
       "15               525           8             0         1    1575         1   \n",
       "16               525           8             0         1    1575         1   \n",
       "17               525          10             0         1    1575         1   \n",
       "18               544           2             1         1    1575         1   \n",
       "19               525          16             0         1    1575         1   \n",
       "20               525          18             0         1    1575         1   \n",
       "21               525          20             0         1    1575         1   \n",
       "22               525          19             0         1    1575        15   \n",
       "23               525          19             0         1    1575         1   \n",
       "24               525          21             0         1    1575         1   \n",
       "25                97          53             0        76     366       787   \n",
       "\n",
       "    s. end       e-value   score  \n",
       "0      525  0.000000e+00  1063.0  \n",
       "1      525  0.000000e+00  1063.0  \n",
       "2      525  0.000000e+00  1063.0  \n",
       "3      525  0.000000e+00  1062.0  \n",
       "4      525  0.000000e+00  1062.0  \n",
       "5      525  0.000000e+00  1061.0  \n",
       "6      525  0.000000e+00  1061.0  \n",
       "7      525  0.000000e+00  1061.0  \n",
       "8      525  0.000000e+00  1061.0  \n",
       "9      525  0.000000e+00  1060.0  \n",
       "10     525  0.000000e+00  1060.0  \n",
       "11     525  0.000000e+00  1058.0  \n",
       "12     525  0.000000e+00  1056.0  \n",
       "13     525  0.000000e+00  1054.0  \n",
       "14     525  0.000000e+00  1052.0  \n",
       "15     525  0.000000e+00  1051.0  \n",
       "16     525  0.000000e+00  1050.0  \n",
       "17     525  0.000000e+00  1050.0  \n",
       "18     544  0.000000e+00  1048.0  \n",
       "19     525  0.000000e+00  1037.0  \n",
       "20     525  0.000000e+00  1036.0  \n",
       "21     525  0.000000e+00  1036.0  \n",
       "22     539  0.000000e+00  1036.0  \n",
       "23     525  0.000000e+00  1035.0  \n",
       "24     525  0.000000e+00  1032.0  \n",
       "25     883  9.550000e-24    99.0  "
      ]
     },
     "execution_count": 8,
     "metadata": {},
     "output_type": "execute_result"
    }
   ],
   "source": [
    "diamond = pd.read_csv(\n",
    "    outfile_matches, delimiter='\\t',comment='#', header=None,\n",
    "    names= ['Query id', 'Subject id', '% identity', 'alignment length', \n",
    "             'mismatches','gap openings','q. start', 'q. end',\n",
    "             's. start', 's. end', 'e-value', 'score'\n",
    "            ]\n",
    ")\n",
    "diamond"
   ]
  },
  {
   "cell_type": "markdown",
   "metadata": {},
   "source": [
    "We also add the count table into a Pandas data frame:"
   ]
  },
  {
   "cell_type": "code",
   "execution_count": 9,
   "metadata": {},
   "outputs": [
    {
     "data": {
      "text/html": [
       "<div>\n",
       "<style scoped>\n",
       "    .dataframe tbody tr th:only-of-type {\n",
       "        vertical-align: middle;\n",
       "    }\n",
       "\n",
       "    .dataframe tbody tr th {\n",
       "        vertical-align: top;\n",
       "    }\n",
       "\n",
       "    .dataframe thead th {\n",
       "        text-align: right;\n",
       "    }\n",
       "</style>\n",
       "<table border=\"1\" class=\"dataframe\">\n",
       "  <thead>\n",
       "    <tr style=\"text-align: right;\">\n",
       "      <th></th>\n",
       "      <th>SampleA</th>\n",
       "      <th>SampleB</th>\n",
       "      <th>SampleC</th>\n",
       "      <th>SampleD</th>\n",
       "      <th>SampleE</th>\n",
       "    </tr>\n",
       "    <tr>\n",
       "      <th>ContigID</th>\n",
       "      <th></th>\n",
       "      <th></th>\n",
       "      <th></th>\n",
       "      <th></th>\n",
       "      <th></th>\n",
       "    </tr>\n",
       "  </thead>\n",
       "  <tbody>\n",
       "    <tr>\n",
       "      <th>TRINITY_DN226500_c0_g1_i1</th>\n",
       "      <td>0</td>\n",
       "      <td>0</td>\n",
       "      <td>2</td>\n",
       "      <td>1</td>\n",
       "      <td>0</td>\n",
       "    </tr>\n",
       "    <tr>\n",
       "      <th>TRINITY_DN226510_c0_g1_i1</th>\n",
       "      <td>1</td>\n",
       "      <td>0</td>\n",
       "      <td>0</td>\n",
       "      <td>0</td>\n",
       "      <td>5</td>\n",
       "    </tr>\n",
       "    <tr>\n",
       "      <th>TRINITY_DN226477_c0_g1_i1</th>\n",
       "      <td>0</td>\n",
       "      <td>0</td>\n",
       "      <td>0</td>\n",
       "      <td>0</td>\n",
       "      <td>0</td>\n",
       "    </tr>\n",
       "    <tr>\n",
       "      <th>TRINITY_DN226449_c0_g1_i1</th>\n",
       "      <td>0</td>\n",
       "      <td>0</td>\n",
       "      <td>2</td>\n",
       "      <td>0</td>\n",
       "      <td>0</td>\n",
       "    </tr>\n",
       "    <tr>\n",
       "      <th>TRINITY_DN226457_c0_g1_i1</th>\n",
       "      <td>3</td>\n",
       "      <td>6</td>\n",
       "      <td>0</td>\n",
       "      <td>0</td>\n",
       "      <td>0</td>\n",
       "    </tr>\n",
       "    <tr>\n",
       "      <th>TRINITY_DN226454_c0_g1_i1</th>\n",
       "      <td>0</td>\n",
       "      <td>0</td>\n",
       "      <td>0</td>\n",
       "      <td>9</td>\n",
       "      <td>0</td>\n",
       "    </tr>\n",
       "    <tr>\n",
       "      <th>TRINITY_DN226455_c0_g1_i1</th>\n",
       "      <td>0</td>\n",
       "      <td>2</td>\n",
       "      <td>0</td>\n",
       "      <td>0</td>\n",
       "      <td>2</td>\n",
       "    </tr>\n",
       "  </tbody>\n",
       "</table>\n",
       "</div>"
      ],
      "text/plain": [
       "                           SampleA  SampleB  SampleC  SampleD  SampleE\n",
       "ContigID                                                              \n",
       "TRINITY_DN226500_c0_g1_i1        0        0        2        1        0\n",
       "TRINITY_DN226510_c0_g1_i1        1        0        0        0        5\n",
       "TRINITY_DN226477_c0_g1_i1        0        0        0        0        0\n",
       "TRINITY_DN226449_c0_g1_i1        0        0        2        0        0\n",
       "TRINITY_DN226457_c0_g1_i1        3        6        0        0        0\n",
       "TRINITY_DN226454_c0_g1_i1        0        0        0        9        0\n",
       "TRINITY_DN226455_c0_g1_i1        0        2        0        0        2"
      ]
     },
     "execution_count": 9,
     "metadata": {},
     "output_type": "execute_result"
    }
   ],
   "source": [
    "counts = pd.read_csv(\n",
    "    count_table, sep = \"\\t\", comment='#'\n",
    ").set_index('ContigID')\n",
    "counts"
   ]
  },
  {
   "cell_type": "markdown",
   "metadata": {},
   "source": [
    "##### Most significant hit per contig\n",
    "First, we are going to drop unsignificant hits by E-value. We are setting a 0.0001 threshold.\n"
   ]
  },
  {
   "cell_type": "code",
   "execution_count": 10,
   "metadata": {},
   "outputs": [
    {
     "data": {
      "text/plain": [
       "Text(0.5, 1.0, 'E-value distribution before filtering')"
      ]
     },
     "execution_count": 10,
     "metadata": {},
     "output_type": "execute_result"
    },
    {
     "data": {
      "image/png": "[encoded data removed]",
      "text/plain": [
       "<Figure size 640x480 with 1 Axes>"
      ]
     },
     "metadata": {},
     "output_type": "display_data"
    }
   ],
   "source": [
    "diamond.hist(\"e-value\")\n",
    "plt.title(\"E-value distribution before filtering\")"
   ]
  },
  {
   "cell_type": "code",
   "execution_count": 11,
   "metadata": {},
   "outputs": [
    {
     "data": {
      "text/plain": [
       "Text(0.5, 1.0, 'E-value distribution after filtering (with threshold 0.0001)')"
      ]
     },
     "execution_count": 11,
     "metadata": {},
     "output_type": "execute_result"
    },
    {
     "data": {
      "image/png": "[encoded data removed]",
      "text/plain": [
       "<Figure size 640x480 with 1 Axes>"
      ]
     },
     "metadata": {},
     "output_type": "display_data"
    }
   ],
   "source": [
    "evalue_threshold = 0.0001\n",
    "diamond = diamond.loc[diamond['e-value'] < evalue_threshold] \n",
    "diamond.hist(\"e-value\")\n",
    "plt.title(f\"E-value distribution after filtering (with threshold {evalue_threshold})\")\n"
   ]
  },
  {
   "cell_type": "markdown",
   "metadata": {},
   "source": [
    "Now, we will sort rows per e-value and score and get the most significant hit per each ContigId."
   ]
  },
  {
   "cell_type": "code",
   "execution_count": 12,
   "metadata": {},
   "outputs": [
    {
     "data": {
      "text/plain": [
       "Text(0.5, 1.0, 'Number of hits per contig before preprocessing')"
      ]
     },
     "execution_count": 12,
     "metadata": {},
     "output_type": "execute_result"
    },
    {
     "data": {
      "image/png": "[encoded data removed]",
      "text/plain": [
       "<Figure size 640x480 with 1 Axes>"
      ]
     },
     "metadata": {},
     "output_type": "display_data"
    }
   ],
   "source": [
    "diamond.pivot_table(columns=['Query id'], aggfunc='size').hist(bins = 25)\n",
    "plt.title(\"Number of hits per contig before preprocessing\")\n"
   ]
  },
  {
   "cell_type": "code",
   "execution_count": 13,
   "metadata": {},
   "outputs": [
    {
     "name": "stdout",
     "output_type": "stream",
     "text": [
      "Number of rows. Before: 312. After: 22\n"
     ]
    },
    {
     "data": {
      "text/plain": [
       "Text(0.5, 1.0, 'Number of hits per contig after preprocessing')"
      ]
     },
     "execution_count": 13,
     "metadata": {},
     "output_type": "execute_result"
    },
    {
     "data": {
      "image/png": "[encoded data removed]",
      "text/plain": [
       "<Figure size 640x480 with 1 Axes>"
      ]
     },
     "metadata": {},
     "output_type": "display_data"
    }
   ],
   "source": [
    "before = diamond.size\n",
    "diamond = diamond.sort_values(\n",
    "        by=['e-value', 'score'], ascending=[True, False]\n",
    "        ).drop_duplicates(\n",
    "    'Query id', keep='first'\n",
    ").set_index('Query id')\n",
    "after = diamond.size\n",
    "\n",
    "print(f\"Number of rows. Before: {before}. After: {after}\")\n",
    "\n",
    "diamond.pivot_table(columns=['Query id'], aggfunc='size').hist(bins = 25)\n",
    "plt.title(\"Number of hits per contig after preprocessing\")"
   ]
  },
  {
   "cell_type": "markdown",
   "metadata": {},
   "source": [
    "#####  Inspect % identity and aligment length"
   ]
  },
  {
   "cell_type": "code",
   "execution_count": 14,
   "metadata": {},
   "outputs": [
    {
     "data": {
      "text/plain": [
       "Text(0.5, 1.0, 'Alignment length distribution after preprocessing')"
      ]
     },
     "execution_count": 14,
     "metadata": {},
     "output_type": "execute_result"
    },
    {
     "data": {
      "image/png": "[encoded data removed]",
      "text/plain": [
       "<Figure size 640x480 with 1 Axes>"
      ]
     },
     "metadata": {},
     "output_type": "display_data"
    }
   ],
   "source": [
    "diamond.hist(\"alignment length\")\n",
    "plt.title(\"Alignment length distribution after preprocessing\")\n"
   ]
  },
  {
   "cell_type": "code",
   "execution_count": 15,
   "metadata": {},
   "outputs": [
    {
     "data": {
      "text/plain": [
       "Text(0, 0.5, 'Mistmatches')"
      ]
     },
     "execution_count": 15,
     "metadata": {},
     "output_type": "execute_result"
    },
    {
     "data": {
      "image/png": "[encoded data removed]",
      "text/plain": [
       "<Figure size 640x480 with 1 Axes>"
      ]
     },
     "metadata": {},
     "output_type": "display_data"
    }
   ],
   "source": [
    "plt.scatter(diamond['alignment length'],diamond.mismatches,alpha=0.6)\n",
    "plt.title('Mistmatches distribution after preprocessingh')\n",
    "plt.xlabel('Alignment length')\n",
    "plt.ylabel('Mistmatches')"
   ]
  },
  {
   "cell_type": "code",
   "execution_count": 16,
   "metadata": {},
   "outputs": [
    {
     "data": {
      "text/plain": [
       "Text(0.5, 1.0, 'Percentage of identity distribution after preprocessing')"
      ]
     },
     "execution_count": 16,
     "metadata": {},
     "output_type": "execute_result"
    },
    {
     "data": {
      "image/png": "[encoded data removed]",
      "text/plain": [
       "<Figure size 640x480 with 1 Axes>"
      ]
     },
     "metadata": {},
     "output_type": "display_data"
    }
   ],
   "source": [
    "diamond.hist(\"% identity\", bins = 20)\n",
    "plt.title(\"Percentage of identity distribution after preprocessing\")"
   ]
  },
  {
   "cell_type": "markdown",
   "metadata": {},
   "source": [
    "Now, we filter the hits:"
   ]
  },
  {
   "cell_type": "code",
   "execution_count": 17,
   "metadata": {},
   "outputs": [
    {
     "data": {
      "text/html": [
       "<div>\n",
       "<style scoped>\n",
       "    .dataframe tbody tr th:only-of-type {\n",
       "        vertical-align: middle;\n",
       "    }\n",
       "\n",
       "    .dataframe tbody tr th {\n",
       "        vertical-align: top;\n",
       "    }\n",
       "\n",
       "    .dataframe thead th {\n",
       "        text-align: right;\n",
       "    }\n",
       "</style>\n",
       "<table border=\"1\" class=\"dataframe\">\n",
       "  <thead>\n",
       "    <tr style=\"text-align: right;\">\n",
       "      <th></th>\n",
       "      <th>Subject id</th>\n",
       "      <th>% identity</th>\n",
       "      <th>alignment length</th>\n",
       "      <th>mismatches</th>\n",
       "      <th>gap openings</th>\n",
       "      <th>q. start</th>\n",
       "      <th>q. end</th>\n",
       "      <th>s. start</th>\n",
       "      <th>s. end</th>\n",
       "      <th>e-value</th>\n",
       "      <th>score</th>\n",
       "    </tr>\n",
       "    <tr>\n",
       "      <th>Query id</th>\n",
       "      <th></th>\n",
       "      <th></th>\n",
       "      <th></th>\n",
       "      <th></th>\n",
       "      <th></th>\n",
       "      <th></th>\n",
       "      <th></th>\n",
       "      <th></th>\n",
       "      <th></th>\n",
       "      <th></th>\n",
       "      <th></th>\n",
       "    </tr>\n",
       "  </thead>\n",
       "  <tbody>\n",
       "    <tr>\n",
       "      <th>TRINITY_DN226477_c0_g1_i1</th>\n",
       "      <td>16130432</td>\n",
       "      <td>100.0</td>\n",
       "      <td>525</td>\n",
       "      <td>0</td>\n",
       "      <td>0</td>\n",
       "      <td>1</td>\n",
       "      <td>1575</td>\n",
       "      <td>1</td>\n",
       "      <td>525</td>\n",
       "      <td>0.0</td>\n",
       "      <td>1063.0</td>\n",
       "    </tr>\n",
       "  </tbody>\n",
       "</table>\n",
       "</div>"
      ],
      "text/plain": [
       "                          Subject id  % identity  alignment length  \\\n",
       "Query id                                                             \n",
       "TRINITY_DN226477_c0_g1_i1   16130432       100.0               525   \n",
       "\n",
       "                           mismatches  gap openings  q. start  q. end  \\\n",
       "Query id                                                                \n",
       "TRINITY_DN226477_c0_g1_i1           0             0         1    1575   \n",
       "\n",
       "                           s. start  s. end  e-value   score  \n",
       "Query id                                                      \n",
       "TRINITY_DN226477_c0_g1_i1         1     525      0.0  1063.0  "
      ]
     },
     "execution_count": 17,
     "metadata": {},
     "output_type": "execute_result"
    }
   ],
   "source": [
    "# Keep only hits with at least 70% identity\n",
    "diamond = diamond.loc[diamond['% identity'] >= 70]\n",
    "# Keep only hits with at least 25 alignment length\n",
    "diamond = diamond.loc[diamond['alignment length'] >= 25]\n",
    "diamond"
   ]
  },
  {
   "cell_type": "markdown",
   "metadata": {},
   "source": [
    "##### Link information form diamond matches and count table\n",
    "First, we are going to drop all columns except for ContigsID and orthologous genes header"
   ]
  },
  {
   "cell_type": "code",
   "execution_count": 18,
   "metadata": {},
   "outputs": [
    {
     "data": {
      "text/html": [
       "<div>\n",
       "<style scoped>\n",
       "    .dataframe tbody tr th:only-of-type {\n",
       "        vertical-align: middle;\n",
       "    }\n",
       "\n",
       "    .dataframe tbody tr th {\n",
       "        vertical-align: top;\n",
       "    }\n",
       "\n",
       "    .dataframe thead th {\n",
       "        text-align: right;\n",
       "    }\n",
       "</style>\n",
       "<table border=\"1\" class=\"dataframe\">\n",
       "  <thead>\n",
       "    <tr style=\"text-align: right;\">\n",
       "      <th></th>\n",
       "      <th>Subject id</th>\n",
       "    </tr>\n",
       "    <tr>\n",
       "      <th>Query id</th>\n",
       "      <th></th>\n",
       "    </tr>\n",
       "  </thead>\n",
       "  <tbody>\n",
       "    <tr>\n",
       "      <th>TRINITY_DN226477_c0_g1_i1</th>\n",
       "      <td>16130432</td>\n",
       "    </tr>\n",
       "  </tbody>\n",
       "</table>\n",
       "</div>"
      ],
      "text/plain": [
       "                          Subject id\n",
       "Query id                            \n",
       "TRINITY_DN226477_c0_g1_i1   16130432"
      ]
     },
     "execution_count": 18,
     "metadata": {},
     "output_type": "execute_result"
    }
   ],
   "source": [
    "map_table = diamond[[\"Subject id\"]]\n",
    "map_table"
   ]
  },
  {
   "cell_type": "markdown",
   "metadata": {},
   "source": [
    "Now, we will merge both files by their column in common (ContigID and Subject id)."
   ]
  },
  {
   "cell_type": "code",
   "execution_count": 19,
   "metadata": {},
   "outputs": [
    {
     "data": {
      "text/html": [
       "<div>\n",
       "<style scoped>\n",
       "    .dataframe tbody tr th:only-of-type {\n",
       "        vertical-align: middle;\n",
       "    }\n",
       "\n",
       "    .dataframe tbody tr th {\n",
       "        vertical-align: top;\n",
       "    }\n",
       "\n",
       "    .dataframe thead th {\n",
       "        text-align: right;\n",
       "    }\n",
       "</style>\n",
       "<table border=\"1\" class=\"dataframe\">\n",
       "  <thead>\n",
       "    <tr style=\"text-align: right;\">\n",
       "      <th></th>\n",
       "      <th>Subject id</th>\n",
       "      <th>SampleA</th>\n",
       "      <th>SampleB</th>\n",
       "      <th>SampleC</th>\n",
       "      <th>SampleD</th>\n",
       "      <th>SampleE</th>\n",
       "    </tr>\n",
       "  </thead>\n",
       "  <tbody>\n",
       "    <tr>\n",
       "      <th>0</th>\n",
       "      <td>16130432</td>\n",
       "      <td>0</td>\n",
       "      <td>0</td>\n",
       "      <td>0</td>\n",
       "      <td>0</td>\n",
       "      <td>0</td>\n",
       "    </tr>\n",
       "  </tbody>\n",
       "</table>\n",
       "</div>"
      ],
      "text/plain": [
       "  Subject id  SampleA  SampleB  SampleC  SampleD  SampleE\n",
       "0   16130432        0        0        0        0        0"
      ]
     },
     "execution_count": 19,
     "metadata": {},
     "output_type": "execute_result"
    }
   ],
   "source": [
    "df = pd.merge(map_table, counts, left_index=True, right_index=True).reset_index(drop=True)\n",
    "df\n"
   ]
  },
  {
   "cell_type": "markdown",
   "metadata": {},
   "source": [
    "##### Aggregate table\n",
    "Now, we are going to aggregate the rows by grouping them by \"Subject id\" (notice the difference in rows between the previous table and the following):"
   ]
  },
  {
   "cell_type": "code",
   "execution_count": 20,
   "metadata": {},
   "outputs": [
    {
     "data": {
      "text/html": [
       "<div>\n",
       "<style scoped>\n",
       "    .dataframe tbody tr th:only-of-type {\n",
       "        vertical-align: middle;\n",
       "    }\n",
       "\n",
       "    .dataframe tbody tr th {\n",
       "        vertical-align: top;\n",
       "    }\n",
       "\n",
       "    .dataframe thead th {\n",
       "        text-align: right;\n",
       "    }\n",
       "</style>\n",
       "<table border=\"1\" class=\"dataframe\">\n",
       "  <thead>\n",
       "    <tr style=\"text-align: right;\">\n",
       "      <th></th>\n",
       "      <th>SampleA</th>\n",
       "      <th>SampleB</th>\n",
       "      <th>SampleC</th>\n",
       "      <th>SampleD</th>\n",
       "      <th>SampleE</th>\n",
       "    </tr>\n",
       "    <tr>\n",
       "      <th>Subject id</th>\n",
       "      <th></th>\n",
       "      <th></th>\n",
       "      <th></th>\n",
       "      <th></th>\n",
       "      <th></th>\n",
       "    </tr>\n",
       "  </thead>\n",
       "  <tbody>\n",
       "    <tr>\n",
       "      <th>16130432</th>\n",
       "      <td>0</td>\n",
       "      <td>0</td>\n",
       "      <td>0</td>\n",
       "      <td>0</td>\n",
       "      <td>0</td>\n",
       "    </tr>\n",
       "  </tbody>\n",
       "</table>\n",
       "</div>"
      ],
      "text/plain": [
       "            SampleA  SampleB  SampleC  SampleD  SampleE\n",
       "Subject id                                             \n",
       "16130432          0        0        0        0        0"
      ]
     },
     "execution_count": 20,
     "metadata": {},
     "output_type": "execute_result"
    }
   ],
   "source": [
    "df = df.groupby('Subject id').sum(numeric_only = True)\n",
    "df"
   ]
  },
  {
   "cell_type": "markdown",
   "metadata": {},
   "source": [
    "Now, we have to annotate the table. Let's extract that info from the fasta header. See (this issue)[https://github.com/ZengJiaxiong/Phosphorus-cycling-database/issues/11] for more information."
   ]
  },
  {
   "cell_type": "code",
   "execution_count": 21,
   "metadata": {},
   "outputs": [],
   "source": [
    "%%bash -s \"$fasta\"\n",
    "grep '>' < $1 | \\\n",
    "    # Change sequences following other format\n",
    "    # This is the case of the sequences that have [gene=adk,souce=NCBI_archaea_refseq]\n",
    "    sed 's/,souce/ ontology=unknown source/g' | \\\n",
    "    # Change case where there are spaces instead of _ such as'ADE2 homolog' to 'ADE2_homolog'\n",
    "    sed 's/ homolog/_homolog/g' | \\\n",
    "    sed 's/gene=/description=/g' | \\\n",
    "    # Remove the '>' from the beginning of each line\n",
    "    sed 's/>//g' | \\\n",
    "    # Remove []\n",
    "    sed 's/\\[//g' | sed 's/\\]//g' | \\\n",
    "    # Remove 'description=', 'ontology=' and 'source='\n",
    "    sed 's/description=//g' | sed 's/ontology=//g' | sed 's/source=//g' | sed 's/gene=//g' | \\\n",
    "    # Substitute spaces with ,\n",
    "    sed 's/ /,/g' > id2gene_PCycDB.csv"
   ]
  },
  {
   "cell_type": "code",
   "execution_count": 22,
   "metadata": {},
   "outputs": [
    {
     "data": {
      "text/html": [
       "<div>\n",
       "<style scoped>\n",
       "    .dataframe tbody tr th:only-of-type {\n",
       "        vertical-align: middle;\n",
       "    }\n",
       "\n",
       "    .dataframe tbody tr th {\n",
       "        vertical-align: top;\n",
       "    }\n",
       "\n",
       "    .dataframe thead th {\n",
       "        text-align: right;\n",
       "    }\n",
       "</style>\n",
       "<table border=\"1\" class=\"dataframe\">\n",
       "  <thead>\n",
       "    <tr style=\"text-align: right;\">\n",
       "      <th></th>\n",
       "      <th>name</th>\n",
       "      <th>gene</th>\n",
       "      <th>ontology</th>\n",
       "      <th>source</th>\n",
       "    </tr>\n",
       "  </thead>\n",
       "  <tbody>\n",
       "    <tr>\n",
       "      <th>0</th>\n",
       "      <td>161934.XP_010688184.1</td>\n",
       "      <td>ADE2</td>\n",
       "      <td>COG0152</td>\n",
       "      <td>eggNOG</td>\n",
       "    </tr>\n",
       "    <tr>\n",
       "      <th>1</th>\n",
       "      <td>159749.K0RBF6</td>\n",
       "      <td>ADE2</td>\n",
       "      <td>COG0152</td>\n",
       "      <td>eggNOG</td>\n",
       "    </tr>\n",
       "    <tr>\n",
       "      <th>2</th>\n",
       "      <td>192875.XP_004363538.1</td>\n",
       "      <td>ADE2</td>\n",
       "      <td>COG0152</td>\n",
       "      <td>eggNOG</td>\n",
       "    </tr>\n",
       "    <tr>\n",
       "      <th>3</th>\n",
       "      <td>296587.XP_002506041.1</td>\n",
       "      <td>ADE2</td>\n",
       "      <td>COG0152</td>\n",
       "      <td>eggNOG</td>\n",
       "    </tr>\n",
       "    <tr>\n",
       "      <th>4</th>\n",
       "      <td>5297.GMQ_22454T0</td>\n",
       "      <td>ADE2</td>\n",
       "      <td>COG0152</td>\n",
       "      <td>eggNOG</td>\n",
       "    </tr>\n",
       "    <tr>\n",
       "      <th>...</th>\n",
       "      <td>...</td>\n",
       "      <td>...</td>\n",
       "      <td>...</td>\n",
       "      <td>...</td>\n",
       "    </tr>\n",
       "    <tr>\n",
       "      <th>1174929</th>\n",
       "      <td>55207.KP22_11735</td>\n",
       "      <td>lysR</td>\n",
       "      <td>COG0583</td>\n",
       "      <td>eggNOG</td>\n",
       "    </tr>\n",
       "    <tr>\n",
       "      <th>1174930</th>\n",
       "      <td>359.CN09_32225</td>\n",
       "      <td>lysR</td>\n",
       "      <td>COG0583</td>\n",
       "      <td>eggNOG</td>\n",
       "    </tr>\n",
       "    <tr>\n",
       "      <th>1174931</th>\n",
       "      <td>399741.Spro_1535</td>\n",
       "      <td>lysR</td>\n",
       "      <td>COG0583</td>\n",
       "      <td>eggNOG</td>\n",
       "    </tr>\n",
       "    <tr>\n",
       "      <th>1174932</th>\n",
       "      <td>642227.HA49_06910</td>\n",
       "      <td>lysR</td>\n",
       "      <td>COG0583</td>\n",
       "      <td>eggNOG</td>\n",
       "    </tr>\n",
       "    <tr>\n",
       "      <th>1174933</th>\n",
       "      <td>1226994.AMZB01000094_gene702</td>\n",
       "      <td>lysR</td>\n",
       "      <td>COG0583</td>\n",
       "      <td>eggNOG</td>\n",
       "    </tr>\n",
       "  </tbody>\n",
       "</table>\n",
       "<p>1174934 rows × 4 columns</p>\n",
       "</div>"
      ],
      "text/plain": [
       "                                 name  gene ontology  source\n",
       "0               161934.XP_010688184.1  ADE2  COG0152  eggNOG\n",
       "1                       159749.K0RBF6  ADE2  COG0152  eggNOG\n",
       "2               192875.XP_004363538.1  ADE2  COG0152  eggNOG\n",
       "3               296587.XP_002506041.1  ADE2  COG0152  eggNOG\n",
       "4                    5297.GMQ_22454T0  ADE2  COG0152  eggNOG\n",
       "...                               ...   ...      ...     ...\n",
       "1174929              55207.KP22_11735  lysR  COG0583  eggNOG\n",
       "1174930                359.CN09_32225  lysR  COG0583  eggNOG\n",
       "1174931              399741.Spro_1535  lysR  COG0583  eggNOG\n",
       "1174932             642227.HA49_06910  lysR  COG0583  eggNOG\n",
       "1174933  1226994.AMZB01000094_gene702  lysR  COG0583  eggNOG\n",
       "\n",
       "[1174934 rows x 4 columns]"
      ]
     },
     "execution_count": 22,
     "metadata": {},
     "output_type": "execute_result"
    }
   ],
   "source": [
    "annotations = pd.read_csv(\n",
    "    'id2gene_PCycDB.csv',header=None, engine='python',\n",
    "    names = ['name', 'gene', 'ontology', 'source']\n",
    "    )\n",
    "annotations"
   ]
  },
  {
   "cell_type": "markdown",
   "metadata": {},
   "source": [
    "Now, we merge both tables by their column in common (Subject id and orthologous genes header)"
   ]
  },
  {
   "cell_type": "code",
   "execution_count": 23,
   "metadata": {},
   "outputs": [],
   "source": [
    "df = df.merge(\n",
    "    annotations, left_on='Subject id',\n",
    "    right_on='name', how = 'left'\n",
    "    ).set_index('name')"
   ]
  },
  {
   "cell_type": "markdown",
   "metadata": {},
   "source": [
    "The database includes non-phosphorus genes (to reduce the number of false positives). Those entries either have no annotation, or have the keyword \"homologous\". We are going to remove them from the table:"
   ]
  },
  {
   "cell_type": "code",
   "execution_count": 24,
   "metadata": {},
   "outputs": [
    {
     "data": {
      "text/html": [
       "<div>\n",
       "<style scoped>\n",
       "    .dataframe tbody tr th:only-of-type {\n",
       "        vertical-align: middle;\n",
       "    }\n",
       "\n",
       "    .dataframe tbody tr th {\n",
       "        vertical-align: top;\n",
       "    }\n",
       "\n",
       "    .dataframe thead th {\n",
       "        text-align: right;\n",
       "    }\n",
       "</style>\n",
       "<table border=\"1\" class=\"dataframe\">\n",
       "  <thead>\n",
       "    <tr style=\"text-align: right;\">\n",
       "      <th></th>\n",
       "      <th>SampleA</th>\n",
       "      <th>SampleB</th>\n",
       "      <th>SampleC</th>\n",
       "      <th>SampleD</th>\n",
       "      <th>SampleE</th>\n",
       "      <th>gene</th>\n",
       "      <th>ontology</th>\n",
       "      <th>source</th>\n",
       "    </tr>\n",
       "    <tr>\n",
       "      <th>name</th>\n",
       "      <th></th>\n",
       "      <th></th>\n",
       "      <th></th>\n",
       "      <th></th>\n",
       "      <th></th>\n",
       "      <th></th>\n",
       "      <th></th>\n",
       "      <th></th>\n",
       "    </tr>\n",
       "  </thead>\n",
       "  <tbody>\n",
       "    <tr>\n",
       "      <th>16130432</th>\n",
       "      <td>0</td>\n",
       "      <td>0</td>\n",
       "      <td>0</td>\n",
       "      <td>0</td>\n",
       "      <td>0</td>\n",
       "      <td>guaA</td>\n",
       "      <td>COG0519</td>\n",
       "      <td>COG</td>\n",
       "    </tr>\n",
       "  </tbody>\n",
       "</table>\n",
       "</div>"
      ],
      "text/plain": [
       "          SampleA  SampleB  SampleC  SampleD  SampleE  gene ontology source\n",
       "name                                                                       \n",
       "16130432        0        0        0        0        0  guaA  COG0519    COG"
      ]
     },
     "execution_count": 24,
     "metadata": {},
     "output_type": "execute_result"
    }
   ],
   "source": [
    "# Remove rows with NA\n",
    "df.dropna(inplace=True)\n",
    "# Remove rows with keyword 'homologous'\n",
    "df = df[~df['gene'].str.contains('homolog')]\n",
    "df"
   ]
  },
  {
   "cell_type": "markdown",
   "metadata": {},
   "source": [
    "Finally, we save the table and remove the temporary files:"
   ]
  },
  {
   "cell_type": "code",
   "execution_count": 25,
   "metadata": {},
   "outputs": [],
   "source": [
    "df.to_csv('../results/PCycDB_matches_annotated.tsv', sep='\\t')"
   ]
  },
  {
   "cell_type": "code",
   "execution_count": 26,
   "metadata": {},
   "outputs": [],
   "source": [
    "%%bash\n",
    "rm id2gene_PCycDB.csv"
   ]
  }
 ],
 "metadata": {
  "kernelspec": {
   "display_name": "Python 3 (ipykernel)",
   "language": "python",
   "name": "python3"
  },
  "language_info": {
   "codemirror_mode": {
    "name": "ipython",
    "version": 3
   },
   "file_extension": ".py",
   "mimetype": "text/x-python",
   "name": "python",
   "nbconvert_exporter": "python",
   "pygments_lexer": "ipython3",
   "version": "3.9.15"
  }
 },
 "nbformat": 4,
 "nbformat_minor": 4
}
