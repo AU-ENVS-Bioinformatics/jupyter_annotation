{
 "cells": [
  {
   "attachments": {},
   "cell_type": "markdown",
   "id": "4a6a5bb1-1d72-44c8-975d-b2d7a60fa30e",
   "metadata": {},
   "source": [
    "## Functional annotation of TotalRNA against CAZy\n",
    "\n",
    "This notebook is part of the analysis of the TotalRNA   mRNA genes from Trinity.\n",
    "\n",
    "## How to run Jupyter notebooks in huginn\n",
    "<details>\n",
    "<summary>Click to expand!</summary>\n",
    "\n",
    "If you use vs-code you can use the [remote ssh extension](https://marketplace.visualstudio.com/items?itemName=ms-vscode-remote.remote-ssh) to connect to huginn and either run jupyterlab in the remote server (so to say, just like you would do in your local computer with `jupyter-lab`) or run directly without opening jupyterlab directly. \n",
    "\n",
    "Otherwise, you can follow the instructions below: \n",
    "\n",
    "1. Turn on VPN\n",
    "2. Open two terminals (let's called A and B)\n",
    "3. With terminal A, connect to huginn with ssh as usual\n",
    "```bash\n",
    "ssh username@huginn.au.dk\n",
    "```\n",
    "4. Move to the directory where you want to work, activate the conda enviroment and run jupyter notebook or jupyter lab:\n",
    "```bash\n",
    "conda activate jupyter-diamond\n",
    "jupyter notebook --no-browser --port=7777\n",
    "```\n",
    "5. With terminal B, connect to huginn and forward the port specified port to your local computer\n",
    "```bash\n",
    "ssh -Y -N -L localhost:7777:localhost:7777 username@huginn.au.dk\n",
    "```\n",
    "6. Open your browser and go to `localhost:7777` and you should see the jupyter notebook running in huginn. You can also press in the url of Terminal A. \n",
    "\n",
    "Troubleshooting:\n",
    "- If you get an error like `bind: Address already in use` it means that you have another jupyter notebook running in the same port. You can either kill the process or change the port.\n",
    "</details>\n",
    "\n",
    "## How to create a new environment for this notebook (if needed)\n",
    "\n",
    "We will use Diamond, a few python basic libraries and bash. Let's check if those dependencies are installed. If not, you can install them with mamba (as well with jupyterlab)\n",
    "\n",
    "```bash\n",
    "# To create a new environment with mamba\n",
    "mamba create -c bioconda -c conda-forge diamond pandas matplotlib jupyterlab -n jupyter-diamond\n",
    "# To activate the environment\n",
    "conda activate jupyter-diamond\n",
    "```\n",
    "\n",
    "### Sanity check"
   ]
  },
  {
   "cell_type": "code",
   "execution_count": 99,
   "id": "c20b6ded",
   "metadata": {},
   "outputs": [
    {
     "name": "stdout",
     "output_type": "stream",
     "text": [
      "diamond version 2.1.8\n",
      "1.1.5\n",
      "3.3.4\n",
      "GNU bash, version 4.4.20(1)-release (x86_64-pc-linux-gnu)\n"
     ]
    }
   ],
   "source": [
    "%%bash\n",
    "diamond --version\n",
    "python -c \"import pandas; print(pandas.__version__)\"\n",
    "python -c \"import matplotlib; print(matplotlib.__version__)\"\n",
    "bash --version | head -n 1"
   ]
  },
  {
   "cell_type": "code",
   "execution_count": 100,
   "id": "5b69f327",
   "metadata": {},
   "outputs": [],
   "source": [
    "import pandas as pd\n",
    "import matplotlib.pyplot as plt\n",
    "import os"
   ]
  },
  {
   "attachments": {},
   "cell_type": "markdown",
   "id": "fe1eec65",
   "metadata": {},
   "source": [
    "The input is the fasta file with contigs and the count table. "
   ]
  },
  {
   "cell_type": "code",
   "execution_count": 101,
   "id": "aeb85dfd",
   "metadata": {},
   "outputs": [],
   "source": [
    "trinity_file = \"../data/contigs.fasta\"\n",
    "count_table = \"../data/mapped_reads_to_contigs.tsv\"\n",
    "## Sanity check: trinity and count table exit\n",
    "assert os.path.exists(trinity_file), \"Trinity file does not exist\"\n",
    "assert os.path.exists(count_table), \"Count table does not exist\""
   ]
  },
  {
   "attachments": {},
   "cell_type": "markdown",
   "id": "463c39ff-2d1a-4427-94ea-8ab9bf1ca64a",
   "metadata": {},
   "source": [
    "## Run Diamond "
   ]
  },
  {
   "cell_type": "code",
   "execution_count": 102,
   "id": "bc06bea6",
   "metadata": {},
   "outputs": [],
   "source": [
    "database = \"/data_2/Databases/CAZy/CAZyDB.07312019.dmnd\"\n",
    "descriptions_tsv = \"/data_2/Databases/CAZy/CAZyDB.07302020.fam-activities.tsv\"\n",
    "outfile_matches = \"../results/CAZy_matches.tsv\""
   ]
  },
  {
   "cell_type": "markdown",
   "id": "502e0e17",
   "metadata": {},
   "source": [
    "**Please, be aware that, without using any sensitivity option, the default mode is designed for finding hits of >60% identity. Consider increasing the sensitivity (or decreasing it).**"
   ]
  },
  {
   "cell_type": "code",
   "execution_count": 103,
   "id": "b44d881c",
   "metadata": {},
   "outputs": [
    {
     "name": "stdout",
     "output_type": "stream",
     "text": [
      "TRINITY_DN226449_c0_g1_i1\tNP_176949.1|GH0|3.2.1.51\t42.4\t99\t57\t0\t64\t360\t199\t297\t3.14e-19\t85.9\n",
      "TRINITY_DN787864898_c0_g1_i1\tSBT42002.1|CBM2|CE1|\t24.8\t161\t93\t5\t76\t480\t137\t295\t4.71e-04\t47.0\n",
      "TRINITY_DN78676876898_c0_g1_i1\tAPA99577.1|GH0|\t59.2\t326\t132\t1\t12954\t11980\t25\t350\t1.24e-110\t389\n",
      "TRINITY_DN78676876898_c0_g1_i1\tAYK01981.1|GT1|\t38.2\t445\t250\t8\t15065\t16363\t13\t444\t6.79e-73\t267\n",
      "TRINITY_DN78676876898_c0_g1_i1\tAZE89683.1|GH0|\t43.1\t130\t66\t3\t19520\t19888\t17\t145\t1.25e-19\t99.8\n",
      "TRINITY_DN78676876898_c0_g1_i1\tBAQ80796.1|GH0\t43.8\t128\t67\t2\t19520\t19888\t12\t139\t2.03e-19\t99.0\n",
      "TRINITY_DN78676876898_c0_g1_i1\tAZE94399.1|GH0|\t50.5\t95\t46\t1\t19607\t19888\t51\t145\t2.27e-19\t99.0\n",
      "TRINITY_DN78676876898_c0_g1_i1\tATR84139.1|GH0\t43.0\t135\t68\t2\t19511\t19888\t16\t150\t2.46e-19\t99.0\n",
      "TRINITY_DN78676876898_c0_g1_i1\tAZE99840.1|GH0|\t48.5\t101\t51\t1\t19589\t19888\t45\t145\t3.05e-19\t98.6\n",
      "TRINITY_DN78676876898_c0_g1_i1\tBAQ74485.1|GH0\t52.2\t92\t43\t1\t19616\t19888\t48\t139\t4.95e-19\t97.8\n"
     ]
    }
   ],
   "source": [
    "%%bash -s \"$database\" \"$trinity_file\" \"$outfile_matches\"\n",
    "if [ ! -f $3 ]; then\n",
    "mkdir -p $(dirname $3)\n",
    "diamond blastx -p 50 -d $1 -q $2 -o $3 2> /dev/null\n",
    "fi\n",
    "head $3"
   ]
  },
  {
   "attachments": {},
   "cell_type": "markdown",
   "id": "96fda5a8",
   "metadata": {},
   "source": [
    "## Parse Diamond output and preprocess"
   ]
  },
  {
   "cell_type": "code",
   "execution_count": 104,
   "id": "cb23723b-f70c-406b-849e-8635378d9c13",
   "metadata": {
    "tags": []
   },
   "outputs": [],
   "source": [
    "diamond = pd.read_csv(\n",
    "    outfile_matches,\n",
    "    delimiter=\"\\t\",\n",
    "    comment=\"#\",\n",
    "    header=None,\n",
    "    names=[\n",
    "        \"Query id\",\n",
    "        \"Subject id\",\n",
    "        \"% identity\",\n",
    "        \"alignment length\",\n",
    "        \"mismatches\",\n",
    "        \"gap openings\",\n",
    "        \"q. start\",\n",
    "        \"q. end\",\n",
    "        \"s. start\",\n",
    "        \"s. end\",\n",
    "        \"e-value\",\n",
    "        \"score\",\n",
    "    ],\n",
    ")"
   ]
  },
  {
   "attachments": {},
   "cell_type": "markdown",
   "id": "c6647858-4431-4377-8517-4458efa6a375",
   "metadata": {},
   "source": [
    "Now, we have a table with all the alignments between our \"genes\" and the database."
   ]
  },
  {
   "cell_type": "code",
   "execution_count": 105,
   "id": "9344c348-b68d-41cf-a049-cd4f05ecb2c5",
   "metadata": {
    "tags": []
   },
   "outputs": [
    {
     "data": {
      "text/html": [
       "<div>\n",
       "<style scoped>\n",
       "    .dataframe tbody tr th:only-of-type {\n",
       "        vertical-align: middle;\n",
       "    }\n",
       "\n",
       "    .dataframe tbody tr th {\n",
       "        vertical-align: top;\n",
       "    }\n",
       "\n",
       "    .dataframe thead th {\n",
       "        text-align: right;\n",
       "    }\n",
       "</style>\n",
       "<table border=\"1\" class=\"dataframe\">\n",
       "  <thead>\n",
       "    <tr style=\"text-align: right;\">\n",
       "      <th></th>\n",
       "      <th>Query id</th>\n",
       "      <th>Subject id</th>\n",
       "      <th>% identity</th>\n",
       "      <th>alignment length</th>\n",
       "      <th>mismatches</th>\n",
       "      <th>gap openings</th>\n",
       "      <th>q. start</th>\n",
       "      <th>q. end</th>\n",
       "      <th>s. start</th>\n",
       "      <th>s. end</th>\n",
       "      <th>e-value</th>\n",
       "      <th>score</th>\n",
       "    </tr>\n",
       "  </thead>\n",
       "  <tbody>\n",
       "    <tr>\n",
       "      <th>0</th>\n",
       "      <td>TRINITY_DN226449_c0_g1_i1</td>\n",
       "      <td>NP_176949.1|GH0|3.2.1.51</td>\n",
       "      <td>42.4</td>\n",
       "      <td>99</td>\n",
       "      <td>57</td>\n",
       "      <td>0</td>\n",
       "      <td>64</td>\n",
       "      <td>360</td>\n",
       "      <td>199</td>\n",
       "      <td>297</td>\n",
       "      <td>3.140000e-19</td>\n",
       "      <td>85.9</td>\n",
       "    </tr>\n",
       "    <tr>\n",
       "      <th>1</th>\n",
       "      <td>TRINITY_DN787864898_c0_g1_i1</td>\n",
       "      <td>SBT42002.1|CBM2|CE1|</td>\n",
       "      <td>24.8</td>\n",
       "      <td>161</td>\n",
       "      <td>93</td>\n",
       "      <td>5</td>\n",
       "      <td>76</td>\n",
       "      <td>480</td>\n",
       "      <td>137</td>\n",
       "      <td>295</td>\n",
       "      <td>4.710000e-04</td>\n",
       "      <td>47.0</td>\n",
       "    </tr>\n",
       "    <tr>\n",
       "      <th>2</th>\n",
       "      <td>TRINITY_DN78676876898_c0_g1_i1</td>\n",
       "      <td>APA99577.1|GH0|</td>\n",
       "      <td>59.2</td>\n",
       "      <td>326</td>\n",
       "      <td>132</td>\n",
       "      <td>1</td>\n",
       "      <td>12954</td>\n",
       "      <td>11980</td>\n",
       "      <td>25</td>\n",
       "      <td>350</td>\n",
       "      <td>1.240000e-110</td>\n",
       "      <td>389.0</td>\n",
       "    </tr>\n",
       "    <tr>\n",
       "      <th>3</th>\n",
       "      <td>TRINITY_DN78676876898_c0_g1_i1</td>\n",
       "      <td>AYK01981.1|GT1|</td>\n",
       "      <td>38.2</td>\n",
       "      <td>445</td>\n",
       "      <td>250</td>\n",
       "      <td>8</td>\n",
       "      <td>15065</td>\n",
       "      <td>16363</td>\n",
       "      <td>13</td>\n",
       "      <td>444</td>\n",
       "      <td>6.790000e-73</td>\n",
       "      <td>267.0</td>\n",
       "    </tr>\n",
       "    <tr>\n",
       "      <th>4</th>\n",
       "      <td>TRINITY_DN78676876898_c0_g1_i1</td>\n",
       "      <td>AZE89683.1|GH0|</td>\n",
       "      <td>43.1</td>\n",
       "      <td>130</td>\n",
       "      <td>66</td>\n",
       "      <td>3</td>\n",
       "      <td>19520</td>\n",
       "      <td>19888</td>\n",
       "      <td>17</td>\n",
       "      <td>145</td>\n",
       "      <td>1.250000e-19</td>\n",
       "      <td>99.8</td>\n",
       "    </tr>\n",
       "    <tr>\n",
       "      <th>5</th>\n",
       "      <td>TRINITY_DN78676876898_c0_g1_i1</td>\n",
       "      <td>BAQ80796.1|GH0</td>\n",
       "      <td>43.8</td>\n",
       "      <td>128</td>\n",
       "      <td>67</td>\n",
       "      <td>2</td>\n",
       "      <td>19520</td>\n",
       "      <td>19888</td>\n",
       "      <td>12</td>\n",
       "      <td>139</td>\n",
       "      <td>2.030000e-19</td>\n",
       "      <td>99.0</td>\n",
       "    </tr>\n",
       "    <tr>\n",
       "      <th>6</th>\n",
       "      <td>TRINITY_DN78676876898_c0_g1_i1</td>\n",
       "      <td>AZE94399.1|GH0|</td>\n",
       "      <td>50.5</td>\n",
       "      <td>95</td>\n",
       "      <td>46</td>\n",
       "      <td>1</td>\n",
       "      <td>19607</td>\n",
       "      <td>19888</td>\n",
       "      <td>51</td>\n",
       "      <td>145</td>\n",
       "      <td>2.270000e-19</td>\n",
       "      <td>99.0</td>\n",
       "    </tr>\n",
       "    <tr>\n",
       "      <th>7</th>\n",
       "      <td>TRINITY_DN78676876898_c0_g1_i1</td>\n",
       "      <td>ATR84139.1|GH0</td>\n",
       "      <td>43.0</td>\n",
       "      <td>135</td>\n",
       "      <td>68</td>\n",
       "      <td>2</td>\n",
       "      <td>19511</td>\n",
       "      <td>19888</td>\n",
       "      <td>16</td>\n",
       "      <td>150</td>\n",
       "      <td>2.460000e-19</td>\n",
       "      <td>99.0</td>\n",
       "    </tr>\n",
       "    <tr>\n",
       "      <th>8</th>\n",
       "      <td>TRINITY_DN78676876898_c0_g1_i1</td>\n",
       "      <td>AZE99840.1|GH0|</td>\n",
       "      <td>48.5</td>\n",
       "      <td>101</td>\n",
       "      <td>51</td>\n",
       "      <td>1</td>\n",
       "      <td>19589</td>\n",
       "      <td>19888</td>\n",
       "      <td>45</td>\n",
       "      <td>145</td>\n",
       "      <td>3.050000e-19</td>\n",
       "      <td>98.6</td>\n",
       "    </tr>\n",
       "    <tr>\n",
       "      <th>9</th>\n",
       "      <td>TRINITY_DN78676876898_c0_g1_i1</td>\n",
       "      <td>BAQ74485.1|GH0</td>\n",
       "      <td>52.2</td>\n",
       "      <td>92</td>\n",
       "      <td>43</td>\n",
       "      <td>1</td>\n",
       "      <td>19616</td>\n",
       "      <td>19888</td>\n",
       "      <td>48</td>\n",
       "      <td>139</td>\n",
       "      <td>4.950000e-19</td>\n",
       "      <td>97.8</td>\n",
       "    </tr>\n",
       "    <tr>\n",
       "      <th>10</th>\n",
       "      <td>TRINITY_DN78676876898_c0_g1_i1</td>\n",
       "      <td>AVU76663.1|GH0</td>\n",
       "      <td>42.6</td>\n",
       "      <td>122</td>\n",
       "      <td>64</td>\n",
       "      <td>2</td>\n",
       "      <td>19517</td>\n",
       "      <td>19867</td>\n",
       "      <td>17</td>\n",
       "      <td>137</td>\n",
       "      <td>5.440000e-19</td>\n",
       "      <td>97.8</td>\n",
       "    </tr>\n",
       "    <tr>\n",
       "      <th>11</th>\n",
       "      <td>TRINITY_DN78676876898_c0_g1_i1</td>\n",
       "      <td>AZE84265.1|GH0|</td>\n",
       "      <td>48.5</td>\n",
       "      <td>101</td>\n",
       "      <td>51</td>\n",
       "      <td>1</td>\n",
       "      <td>19589</td>\n",
       "      <td>19888</td>\n",
       "      <td>45</td>\n",
       "      <td>145</td>\n",
       "      <td>7.440000e-19</td>\n",
       "      <td>97.4</td>\n",
       "    </tr>\n",
       "    <tr>\n",
       "      <th>12</th>\n",
       "      <td>TRINITY_DN78676876898_c0_g1_i1</td>\n",
       "      <td>QAX84809.1|GH0|</td>\n",
       "      <td>45.5</td>\n",
       "      <td>121</td>\n",
       "      <td>60</td>\n",
       "      <td>2</td>\n",
       "      <td>19520</td>\n",
       "      <td>19867</td>\n",
       "      <td>10</td>\n",
       "      <td>129</td>\n",
       "      <td>1.700000e-18</td>\n",
       "      <td>96.3</td>\n",
       "    </tr>\n",
       "    <tr>\n",
       "      <th>13</th>\n",
       "      <td>TRINITY_DN78676876898_c0_g1_i1</td>\n",
       "      <td>AVT19965.1|GH0</td>\n",
       "      <td>54.9</td>\n",
       "      <td>82</td>\n",
       "      <td>36</td>\n",
       "      <td>1</td>\n",
       "      <td>19619</td>\n",
       "      <td>19861</td>\n",
       "      <td>43</td>\n",
       "      <td>124</td>\n",
       "      <td>2.280000e-15</td>\n",
       "      <td>86.7</td>\n",
       "    </tr>\n",
       "    <tr>\n",
       "      <th>14</th>\n",
       "      <td>TRINITY_DN78676876898_c0_g1_i1</td>\n",
       "      <td>AQY66754.1|GH0</td>\n",
       "      <td>43.1</td>\n",
       "      <td>102</td>\n",
       "      <td>53</td>\n",
       "      <td>2</td>\n",
       "      <td>19520</td>\n",
       "      <td>19810</td>\n",
       "      <td>17</td>\n",
       "      <td>118</td>\n",
       "      <td>6.920000e-15</td>\n",
       "      <td>85.5</td>\n",
       "    </tr>\n",
       "    <tr>\n",
       "      <th>15</th>\n",
       "      <td>TRINITY_DN78676876898_c0_g1_i1</td>\n",
       "      <td>AZE55661.1|GH0|</td>\n",
       "      <td>46.9</td>\n",
       "      <td>98</td>\n",
       "      <td>47</td>\n",
       "      <td>1</td>\n",
       "      <td>19520</td>\n",
       "      <td>19798</td>\n",
       "      <td>17</td>\n",
       "      <td>114</td>\n",
       "      <td>6.920000e-15</td>\n",
       "      <td>85.5</td>\n",
       "    </tr>\n",
       "    <tr>\n",
       "      <th>16</th>\n",
       "      <td>TRINITY_DN78676876898_c0_g1_i1</td>\n",
       "      <td>AZE73362.1|GH0|</td>\n",
       "      <td>45.1</td>\n",
       "      <td>102</td>\n",
       "      <td>51</td>\n",
       "      <td>1</td>\n",
       "      <td>19520</td>\n",
       "      <td>19810</td>\n",
       "      <td>17</td>\n",
       "      <td>118</td>\n",
       "      <td>9.280000e-15</td>\n",
       "      <td>85.1</td>\n",
       "    </tr>\n",
       "    <tr>\n",
       "      <th>17</th>\n",
       "      <td>TRINITY_DN78676876898_c0_g1_i1</td>\n",
       "      <td>AZE78957.1|GH0|</td>\n",
       "      <td>45.1</td>\n",
       "      <td>102</td>\n",
       "      <td>51</td>\n",
       "      <td>1</td>\n",
       "      <td>19520</td>\n",
       "      <td>19810</td>\n",
       "      <td>17</td>\n",
       "      <td>118</td>\n",
       "      <td>9.280000e-15</td>\n",
       "      <td>85.1</td>\n",
       "    </tr>\n",
       "    <tr>\n",
       "      <th>18</th>\n",
       "      <td>TRINITY_DN78676876898_c0_g1_i1</td>\n",
       "      <td>AVE04153.1|GH0</td>\n",
       "      <td>43.1</td>\n",
       "      <td>102</td>\n",
       "      <td>53</td>\n",
       "      <td>1</td>\n",
       "      <td>19520</td>\n",
       "      <td>19810</td>\n",
       "      <td>17</td>\n",
       "      <td>118</td>\n",
       "      <td>7.190000e-14</td>\n",
       "      <td>82.4</td>\n",
       "    </tr>\n",
       "    <tr>\n",
       "      <th>19</th>\n",
       "      <td>TRINITY_DN78676876898_c0_g1_i1</td>\n",
       "      <td>AUZ46081.1|GH0</td>\n",
       "      <td>45.5</td>\n",
       "      <td>99</td>\n",
       "      <td>51</td>\n",
       "      <td>2</td>\n",
       "      <td>19520</td>\n",
       "      <td>19810</td>\n",
       "      <td>17</td>\n",
       "      <td>114</td>\n",
       "      <td>1.230000e-13</td>\n",
       "      <td>81.6</td>\n",
       "    </tr>\n",
       "    <tr>\n",
       "      <th>20</th>\n",
       "      <td>TRINITY_DN78676876898_c0_g1_i1</td>\n",
       "      <td>SDV02600.1|GH0</td>\n",
       "      <td>43.9</td>\n",
       "      <td>98</td>\n",
       "      <td>50</td>\n",
       "      <td>1</td>\n",
       "      <td>19520</td>\n",
       "      <td>19798</td>\n",
       "      <td>17</td>\n",
       "      <td>114</td>\n",
       "      <td>1.290000e-13</td>\n",
       "      <td>81.6</td>\n",
       "    </tr>\n",
       "    <tr>\n",
       "      <th>21</th>\n",
       "      <td>TRINITY_DN78676876898_c0_g1_i1</td>\n",
       "      <td>AZE61519.1|GH0|</td>\n",
       "      <td>44.9</td>\n",
       "      <td>98</td>\n",
       "      <td>49</td>\n",
       "      <td>1</td>\n",
       "      <td>19520</td>\n",
       "      <td>19798</td>\n",
       "      <td>17</td>\n",
       "      <td>114</td>\n",
       "      <td>2.310000e-13</td>\n",
       "      <td>80.9</td>\n",
       "    </tr>\n",
       "    <tr>\n",
       "      <th>22</th>\n",
       "      <td>TRINITY_DN78676876898_c0_g1_i1</td>\n",
       "      <td>VTQ98477.1|GH0|</td>\n",
       "      <td>43.9</td>\n",
       "      <td>98</td>\n",
       "      <td>50</td>\n",
       "      <td>2</td>\n",
       "      <td>19520</td>\n",
       "      <td>19798</td>\n",
       "      <td>17</td>\n",
       "      <td>114</td>\n",
       "      <td>7.410000e-13</td>\n",
       "      <td>79.3</td>\n",
       "    </tr>\n",
       "    <tr>\n",
       "      <th>23</th>\n",
       "      <td>TRINITY_DN78676876898_c0_g1_i1</td>\n",
       "      <td>AZE67507.1|GH0|</td>\n",
       "      <td>43.9</td>\n",
       "      <td>98</td>\n",
       "      <td>50</td>\n",
       "      <td>2</td>\n",
       "      <td>19520</td>\n",
       "      <td>19798</td>\n",
       "      <td>17</td>\n",
       "      <td>114</td>\n",
       "      <td>7.410000e-13</td>\n",
       "      <td>79.3</td>\n",
       "    </tr>\n",
       "    <tr>\n",
       "      <th>24</th>\n",
       "      <td>TRINITY_DN78676876898_c0_g1_i1</td>\n",
       "      <td>QBQ12080.1|GH0|</td>\n",
       "      <td>51.5</td>\n",
       "      <td>68</td>\n",
       "      <td>33</td>\n",
       "      <td>0</td>\n",
       "      <td>19607</td>\n",
       "      <td>19810</td>\n",
       "      <td>51</td>\n",
       "      <td>118</td>\n",
       "      <td>9.910000e-13</td>\n",
       "      <td>79.0</td>\n",
       "    </tr>\n",
       "    <tr>\n",
       "      <th>25</th>\n",
       "      <td>TRINITY_DN78676876898_c0_g1_i1</td>\n",
       "      <td>AUO24134.1|GH0</td>\n",
       "      <td>51.5</td>\n",
       "      <td>68</td>\n",
       "      <td>33</td>\n",
       "      <td>0</td>\n",
       "      <td>19607</td>\n",
       "      <td>19810</td>\n",
       "      <td>51</td>\n",
       "      <td>118</td>\n",
       "      <td>9.910000e-13</td>\n",
       "      <td>79.0</td>\n",
       "    </tr>\n",
       "    <tr>\n",
       "      <th>26</th>\n",
       "      <td>TRINITY_DN78676876898_c0_g1_i1</td>\n",
       "      <td>AUG08312.1|GH0</td>\n",
       "      <td>41.7</td>\n",
       "      <td>96</td>\n",
       "      <td>54</td>\n",
       "      <td>1</td>\n",
       "      <td>19517</td>\n",
       "      <td>19798</td>\n",
       "      <td>12</td>\n",
       "      <td>107</td>\n",
       "      <td>1.230000e-12</td>\n",
       "      <td>78.6</td>\n",
       "    </tr>\n",
       "  </tbody>\n",
       "</table>\n",
       "</div>"
      ],
      "text/plain": [
       "                          Query id                Subject id  % identity  \\\n",
       "0        TRINITY_DN226449_c0_g1_i1  NP_176949.1|GH0|3.2.1.51        42.4   \n",
       "1     TRINITY_DN787864898_c0_g1_i1      SBT42002.1|CBM2|CE1|        24.8   \n",
       "2   TRINITY_DN78676876898_c0_g1_i1           APA99577.1|GH0|        59.2   \n",
       "3   TRINITY_DN78676876898_c0_g1_i1           AYK01981.1|GT1|        38.2   \n",
       "4   TRINITY_DN78676876898_c0_g1_i1           AZE89683.1|GH0|        43.1   \n",
       "5   TRINITY_DN78676876898_c0_g1_i1            BAQ80796.1|GH0        43.8   \n",
       "6   TRINITY_DN78676876898_c0_g1_i1           AZE94399.1|GH0|        50.5   \n",
       "7   TRINITY_DN78676876898_c0_g1_i1            ATR84139.1|GH0        43.0   \n",
       "8   TRINITY_DN78676876898_c0_g1_i1           AZE99840.1|GH0|        48.5   \n",
       "9   TRINITY_DN78676876898_c0_g1_i1            BAQ74485.1|GH0        52.2   \n",
       "10  TRINITY_DN78676876898_c0_g1_i1            AVU76663.1|GH0        42.6   \n",
       "11  TRINITY_DN78676876898_c0_g1_i1           AZE84265.1|GH0|        48.5   \n",
       "12  TRINITY_DN78676876898_c0_g1_i1           QAX84809.1|GH0|        45.5   \n",
       "13  TRINITY_DN78676876898_c0_g1_i1            AVT19965.1|GH0        54.9   \n",
       "14  TRINITY_DN78676876898_c0_g1_i1            AQY66754.1|GH0        43.1   \n",
       "15  TRINITY_DN78676876898_c0_g1_i1           AZE55661.1|GH0|        46.9   \n",
       "16  TRINITY_DN78676876898_c0_g1_i1           AZE73362.1|GH0|        45.1   \n",
       "17  TRINITY_DN78676876898_c0_g1_i1           AZE78957.1|GH0|        45.1   \n",
       "18  TRINITY_DN78676876898_c0_g1_i1            AVE04153.1|GH0        43.1   \n",
       "19  TRINITY_DN78676876898_c0_g1_i1            AUZ46081.1|GH0        45.5   \n",
       "20  TRINITY_DN78676876898_c0_g1_i1            SDV02600.1|GH0        43.9   \n",
       "21  TRINITY_DN78676876898_c0_g1_i1           AZE61519.1|GH0|        44.9   \n",
       "22  TRINITY_DN78676876898_c0_g1_i1           VTQ98477.1|GH0|        43.9   \n",
       "23  TRINITY_DN78676876898_c0_g1_i1           AZE67507.1|GH0|        43.9   \n",
       "24  TRINITY_DN78676876898_c0_g1_i1           QBQ12080.1|GH0|        51.5   \n",
       "25  TRINITY_DN78676876898_c0_g1_i1            AUO24134.1|GH0        51.5   \n",
       "26  TRINITY_DN78676876898_c0_g1_i1            AUG08312.1|GH0        41.7   \n",
       "\n",
       "    alignment length  mismatches  gap openings  q. start  q. end  s. start  \\\n",
       "0                 99          57             0        64     360       199   \n",
       "1                161          93             5        76     480       137   \n",
       "2                326         132             1     12954   11980        25   \n",
       "3                445         250             8     15065   16363        13   \n",
       "4                130          66             3     19520   19888        17   \n",
       "5                128          67             2     19520   19888        12   \n",
       "6                 95          46             1     19607   19888        51   \n",
       "7                135          68             2     19511   19888        16   \n",
       "8                101          51             1     19589   19888        45   \n",
       "9                 92          43             1     19616   19888        48   \n",
       "10               122          64             2     19517   19867        17   \n",
       "11               101          51             1     19589   19888        45   \n",
       "12               121          60             2     19520   19867        10   \n",
       "13                82          36             1     19619   19861        43   \n",
       "14               102          53             2     19520   19810        17   \n",
       "15                98          47             1     19520   19798        17   \n",
       "16               102          51             1     19520   19810        17   \n",
       "17               102          51             1     19520   19810        17   \n",
       "18               102          53             1     19520   19810        17   \n",
       "19                99          51             2     19520   19810        17   \n",
       "20                98          50             1     19520   19798        17   \n",
       "21                98          49             1     19520   19798        17   \n",
       "22                98          50             2     19520   19798        17   \n",
       "23                98          50             2     19520   19798        17   \n",
       "24                68          33             0     19607   19810        51   \n",
       "25                68          33             0     19607   19810        51   \n",
       "26                96          54             1     19517   19798        12   \n",
       "\n",
       "    s. end        e-value  score  \n",
       "0      297   3.140000e-19   85.9  \n",
       "1      295   4.710000e-04   47.0  \n",
       "2      350  1.240000e-110  389.0  \n",
       "3      444   6.790000e-73  267.0  \n",
       "4      145   1.250000e-19   99.8  \n",
       "5      139   2.030000e-19   99.0  \n",
       "6      145   2.270000e-19   99.0  \n",
       "7      150   2.460000e-19   99.0  \n",
       "8      145   3.050000e-19   98.6  \n",
       "9      139   4.950000e-19   97.8  \n",
       "10     137   5.440000e-19   97.8  \n",
       "11     145   7.440000e-19   97.4  \n",
       "12     129   1.700000e-18   96.3  \n",
       "13     124   2.280000e-15   86.7  \n",
       "14     118   6.920000e-15   85.5  \n",
       "15     114   6.920000e-15   85.5  \n",
       "16     118   9.280000e-15   85.1  \n",
       "17     118   9.280000e-15   85.1  \n",
       "18     118   7.190000e-14   82.4  \n",
       "19     114   1.230000e-13   81.6  \n",
       "20     114   1.290000e-13   81.6  \n",
       "21     114   2.310000e-13   80.9  \n",
       "22     114   7.410000e-13   79.3  \n",
       "23     114   7.410000e-13   79.3  \n",
       "24     118   9.910000e-13   79.0  \n",
       "25     118   9.910000e-13   79.0  \n",
       "26     107   1.230000e-12   78.6  "
      ]
     },
     "execution_count": 105,
     "metadata": {},
     "output_type": "execute_result"
    }
   ],
   "source": [
    "diamond"
   ]
  },
  {
   "attachments": {},
   "cell_type": "markdown",
   "id": "acb7eaac-8b2a-462b-b5b4-6aa754e097b4",
   "metadata": {},
   "source": [
    "## Read count table\n",
    "However, we also need to read the count table:"
   ]
  },
  {
   "cell_type": "code",
   "execution_count": 106,
   "id": "b9d87d9f-8c5b-4030-82d6-66800462b42e",
   "metadata": {
    "tags": []
   },
   "outputs": [
    {
     "name": "stdout",
     "output_type": "stream",
     "text": [
      "ContigID\tSampleA\tSampleB\tSampleC\tSampleD\tSampleE\n",
      "TRINITY_DN226500_c0_g1_i1\t0\t0\t2\t1\t0\n",
      "TRINITY_DN226510_c0_g1_i1\t1\t0\t0\t0\t5\n",
      "TRINITY_DN226477_c0_g1_i1\t0\t0\t0\t0\t0\n",
      "TRINITY_DN226449_c0_g1_i1\t0\t0\t2\t0\t0\n",
      "TRINITY_DN226457_c0_g1_i1\t3\t6\t0\t0\t0\n",
      "TRINITY_DN226454_c0_g1_i1\t0\t0\t0\t9\t0\n",
      "TRINITY_DN226455_c0_g1_i1\t0\t2\t0\t0\t2\n",
      "TRINITY_DN2264898_c0_g1_i1\t0\t2\t1\t1\t2\n",
      "TRINITY_DN78676876898_c0_g1_i1\t0\t2\t1\t1\t20"
     ]
    }
   ],
   "source": [
    "%%bash -s \"$count_table\"\n",
    "head $1"
   ]
  },
  {
   "cell_type": "code",
   "execution_count": 107,
   "id": "1de1ed51-14aa-49f4-a361-87b7b572ada3",
   "metadata": {
    "tags": []
   },
   "outputs": [
    {
     "data": {
      "text/html": [
       "<div>\n",
       "<style scoped>\n",
       "    .dataframe tbody tr th:only-of-type {\n",
       "        vertical-align: middle;\n",
       "    }\n",
       "\n",
       "    .dataframe tbody tr th {\n",
       "        vertical-align: top;\n",
       "    }\n",
       "\n",
       "    .dataframe thead th {\n",
       "        text-align: right;\n",
       "    }\n",
       "</style>\n",
       "<table border=\"1\" class=\"dataframe\">\n",
       "  <thead>\n",
       "    <tr style=\"text-align: right;\">\n",
       "      <th></th>\n",
       "      <th>SampleA</th>\n",
       "      <th>SampleB</th>\n",
       "      <th>SampleC</th>\n",
       "      <th>SampleD</th>\n",
       "      <th>SampleE</th>\n",
       "    </tr>\n",
       "    <tr>\n",
       "      <th>ContigID</th>\n",
       "      <th></th>\n",
       "      <th></th>\n",
       "      <th></th>\n",
       "      <th></th>\n",
       "      <th></th>\n",
       "    </tr>\n",
       "  </thead>\n",
       "  <tbody>\n",
       "    <tr>\n",
       "      <th>TRINITY_DN226500_c0_g1_i1</th>\n",
       "      <td>0</td>\n",
       "      <td>0</td>\n",
       "      <td>2</td>\n",
       "      <td>1</td>\n",
       "      <td>0</td>\n",
       "    </tr>\n",
       "    <tr>\n",
       "      <th>TRINITY_DN226510_c0_g1_i1</th>\n",
       "      <td>1</td>\n",
       "      <td>0</td>\n",
       "      <td>0</td>\n",
       "      <td>0</td>\n",
       "      <td>5</td>\n",
       "    </tr>\n",
       "    <tr>\n",
       "      <th>TRINITY_DN226477_c0_g1_i1</th>\n",
       "      <td>0</td>\n",
       "      <td>0</td>\n",
       "      <td>0</td>\n",
       "      <td>0</td>\n",
       "      <td>0</td>\n",
       "    </tr>\n",
       "    <tr>\n",
       "      <th>TRINITY_DN226449_c0_g1_i1</th>\n",
       "      <td>0</td>\n",
       "      <td>0</td>\n",
       "      <td>2</td>\n",
       "      <td>0</td>\n",
       "      <td>0</td>\n",
       "    </tr>\n",
       "    <tr>\n",
       "      <th>TRINITY_DN226457_c0_g1_i1</th>\n",
       "      <td>3</td>\n",
       "      <td>6</td>\n",
       "      <td>0</td>\n",
       "      <td>0</td>\n",
       "      <td>0</td>\n",
       "    </tr>\n",
       "    <tr>\n",
       "      <th>TRINITY_DN226454_c0_g1_i1</th>\n",
       "      <td>0</td>\n",
       "      <td>0</td>\n",
       "      <td>0</td>\n",
       "      <td>9</td>\n",
       "      <td>0</td>\n",
       "    </tr>\n",
       "    <tr>\n",
       "      <th>TRINITY_DN226455_c0_g1_i1</th>\n",
       "      <td>0</td>\n",
       "      <td>2</td>\n",
       "      <td>0</td>\n",
       "      <td>0</td>\n",
       "      <td>2</td>\n",
       "    </tr>\n",
       "    <tr>\n",
       "      <th>TRINITY_DN2264898_c0_g1_i1</th>\n",
       "      <td>0</td>\n",
       "      <td>2</td>\n",
       "      <td>1</td>\n",
       "      <td>1</td>\n",
       "      <td>2</td>\n",
       "    </tr>\n",
       "    <tr>\n",
       "      <th>TRINITY_DN78676876898_c0_g1_i1</th>\n",
       "      <td>0</td>\n",
       "      <td>2</td>\n",
       "      <td>1</td>\n",
       "      <td>1</td>\n",
       "      <td>20</td>\n",
       "    </tr>\n",
       "  </tbody>\n",
       "</table>\n",
       "</div>"
      ],
      "text/plain": [
       "                                SampleA  SampleB  SampleC  SampleD  SampleE\n",
       "ContigID                                                                   \n",
       "TRINITY_DN226500_c0_g1_i1             0        0        2        1        0\n",
       "TRINITY_DN226510_c0_g1_i1             1        0        0        0        5\n",
       "TRINITY_DN226477_c0_g1_i1             0        0        0        0        0\n",
       "TRINITY_DN226449_c0_g1_i1             0        0        2        0        0\n",
       "TRINITY_DN226457_c0_g1_i1             3        6        0        0        0\n",
       "TRINITY_DN226454_c0_g1_i1             0        0        0        9        0\n",
       "TRINITY_DN226455_c0_g1_i1             0        2        0        0        2\n",
       "TRINITY_DN2264898_c0_g1_i1            0        2        1        1        2\n",
       "TRINITY_DN78676876898_c0_g1_i1        0        2        1        1       20"
      ]
     },
     "execution_count": 107,
     "metadata": {},
     "output_type": "execute_result"
    }
   ],
   "source": [
    "counts = pd.read_csv(count_table, sep=\"\\t\", comment=\"#\").set_index(\"ContigID\")\n",
    "counts"
   ]
  },
  {
   "attachments": {},
   "cell_type": "markdown",
   "id": "1d39dd81-6d5e-4a09-a128-1c9aaac4734c",
   "metadata": {},
   "source": [
    "## Preprocessing\n",
    "### Most significant hit per Contig"
   ]
  },
  {
   "attachments": {},
   "cell_type": "markdown",
   "id": "b9cdb35f-ba57-4013-ae61-33928f3adcdd",
   "metadata": {},
   "source": [
    "Now, we need to get the most significant hit per each contig ID. Let's inspect how many hits there are per contig (adjust the number of bins). "
   ]
  },
  {
   "cell_type": "code",
   "execution_count": 108,
   "id": "3d5b07e5-d340-440d-831e-3bc6c179a28b",
   "metadata": {
    "tags": []
   },
   "outputs": [
    {
     "data": {
      "text/plain": [
       "Text(0.5, 1.0, 'Number of hits per contig')"
      ]
     },
     "execution_count": 108,
     "metadata": {},
     "output_type": "execute_result"
    },
    {
     "data": {
      "image/png": "[encoded data removed]",
      "text/plain": [
       "<Figure size 432x288 with 1 Axes>"
      ]
     },
     "metadata": {
      "needs_background": "light"
     },
     "output_type": "display_data"
    }
   ],
   "source": [
    "diamond.pivot_table(columns=[\"Query id\"], aggfunc=\"size\").hist(bins=25)\n",
    "plt.title(\"Number of hits per contig\")"
   ]
  },
  {
   "attachments": {},
   "cell_type": "markdown",
   "id": "43813411-8fac-4ad8-b9b6-bf21d90f8122",
   "metadata": {},
   "source": [
    "In this case, we are going to sort rows per e-value and score and get the most significant hit per each ContigId."
   ]
  },
  {
   "cell_type": "code",
   "execution_count": 109,
   "id": "3f78c5d5-1e49-4406-9c93-950b3eb35c35",
   "metadata": {
    "tags": []
   },
   "outputs": [
    {
     "data": {
      "text/html": [
       "<div>\n",
       "<style scoped>\n",
       "    .dataframe tbody tr th:only-of-type {\n",
       "        vertical-align: middle;\n",
       "    }\n",
       "\n",
       "    .dataframe tbody tr th {\n",
       "        vertical-align: top;\n",
       "    }\n",
       "\n",
       "    .dataframe thead th {\n",
       "        text-align: right;\n",
       "    }\n",
       "</style>\n",
       "<table border=\"1\" class=\"dataframe\">\n",
       "  <thead>\n",
       "    <tr style=\"text-align: right;\">\n",
       "      <th></th>\n",
       "      <th>Subject id</th>\n",
       "      <th>% identity</th>\n",
       "      <th>alignment length</th>\n",
       "      <th>mismatches</th>\n",
       "      <th>gap openings</th>\n",
       "      <th>q. start</th>\n",
       "      <th>q. end</th>\n",
       "      <th>s. start</th>\n",
       "      <th>s. end</th>\n",
       "      <th>e-value</th>\n",
       "      <th>score</th>\n",
       "    </tr>\n",
       "    <tr>\n",
       "      <th>Query id</th>\n",
       "      <th></th>\n",
       "      <th></th>\n",
       "      <th></th>\n",
       "      <th></th>\n",
       "      <th></th>\n",
       "      <th></th>\n",
       "      <th></th>\n",
       "      <th></th>\n",
       "      <th></th>\n",
       "      <th></th>\n",
       "      <th></th>\n",
       "    </tr>\n",
       "  </thead>\n",
       "  <tbody>\n",
       "    <tr>\n",
       "      <th>TRINITY_DN78676876898_c0_g1_i1</th>\n",
       "      <td>APA99577.1|GH0|</td>\n",
       "      <td>59.2</td>\n",
       "      <td>326</td>\n",
       "      <td>132</td>\n",
       "      <td>1</td>\n",
       "      <td>12954</td>\n",
       "      <td>11980</td>\n",
       "      <td>25</td>\n",
       "      <td>350</td>\n",
       "      <td>1.240000e-110</td>\n",
       "      <td>389.0</td>\n",
       "    </tr>\n",
       "    <tr>\n",
       "      <th>TRINITY_DN226449_c0_g1_i1</th>\n",
       "      <td>NP_176949.1|GH0|3.2.1.51</td>\n",
       "      <td>42.4</td>\n",
       "      <td>99</td>\n",
       "      <td>57</td>\n",
       "      <td>0</td>\n",
       "      <td>64</td>\n",
       "      <td>360</td>\n",
       "      <td>199</td>\n",
       "      <td>297</td>\n",
       "      <td>3.140000e-19</td>\n",
       "      <td>85.9</td>\n",
       "    </tr>\n",
       "    <tr>\n",
       "      <th>TRINITY_DN787864898_c0_g1_i1</th>\n",
       "      <td>SBT42002.1|CBM2|CE1|</td>\n",
       "      <td>24.8</td>\n",
       "      <td>161</td>\n",
       "      <td>93</td>\n",
       "      <td>5</td>\n",
       "      <td>76</td>\n",
       "      <td>480</td>\n",
       "      <td>137</td>\n",
       "      <td>295</td>\n",
       "      <td>4.710000e-04</td>\n",
       "      <td>47.0</td>\n",
       "    </tr>\n",
       "  </tbody>\n",
       "</table>\n",
       "</div>"
      ],
      "text/plain": [
       "                                              Subject id  % identity  \\\n",
       "Query id                                                               \n",
       "TRINITY_DN78676876898_c0_g1_i1           APA99577.1|GH0|        59.2   \n",
       "TRINITY_DN226449_c0_g1_i1       NP_176949.1|GH0|3.2.1.51        42.4   \n",
       "TRINITY_DN787864898_c0_g1_i1        SBT42002.1|CBM2|CE1|        24.8   \n",
       "\n",
       "                                alignment length  mismatches  gap openings  \\\n",
       "Query id                                                                     \n",
       "TRINITY_DN78676876898_c0_g1_i1               326         132             1   \n",
       "TRINITY_DN226449_c0_g1_i1                     99          57             0   \n",
       "TRINITY_DN787864898_c0_g1_i1                 161          93             5   \n",
       "\n",
       "                                q. start  q. end  s. start  s. end  \\\n",
       "Query id                                                             \n",
       "TRINITY_DN78676876898_c0_g1_i1     12954   11980        25     350   \n",
       "TRINITY_DN226449_c0_g1_i1             64     360       199     297   \n",
       "TRINITY_DN787864898_c0_g1_i1          76     480       137     295   \n",
       "\n",
       "                                      e-value  score  \n",
       "Query id                                              \n",
       "TRINITY_DN78676876898_c0_g1_i1  1.240000e-110  389.0  \n",
       "TRINITY_DN226449_c0_g1_i1        3.140000e-19   85.9  \n",
       "TRINITY_DN787864898_c0_g1_i1     4.710000e-04   47.0  "
      ]
     },
     "execution_count": 109,
     "metadata": {},
     "output_type": "execute_result"
    }
   ],
   "source": [
    "diamond = (\n",
    "    diamond.sort_values(by=[\"e-value\", \"score\"], ascending=[True, False])\n",
    "    .drop_duplicates(\"Query id\", keep=\"first\")\n",
    "    .set_index(\"Query id\")\n",
    ")\n",
    "diamond"
   ]
  },
  {
   "attachments": {},
   "cell_type": "markdown",
   "id": "5b93ff5b-e48a-4ea9-84ec-9e5d2c330b5f",
   "metadata": {},
   "source": [
    "### Inspect E-values from aligned orthologous genes before filtering by e-value"
   ]
  },
  {
   "cell_type": "code",
   "execution_count": 110,
   "id": "99f753e2-871b-4fd7-9c65-f55a36ed2546",
   "metadata": {
    "tags": []
   },
   "outputs": [
    {
     "data": {
      "text/plain": [
       "array([[<AxesSubplot:title={'center':'e-value'}>]], dtype=object)"
      ]
     },
     "execution_count": 110,
     "metadata": {},
     "output_type": "execute_result"
    },
    {
     "data": {
      "image/png": "[encoded data removed]",
      "text/plain": [
       "<Figure size 432x288 with 1 Axes>"
      ]
     },
     "metadata": {
      "needs_background": "light"
     },
     "output_type": "display_data"
    }
   ],
   "source": [
    "diamond.hist(\"e-value\")"
   ]
  },
  {
   "attachments": {},
   "cell_type": "markdown",
   "id": "090783cb-1cc7-49a0-bf75-a18683dd8262",
   "metadata": {},
   "source": [
    "### Inspect E-values from aligned orthologous genes after filtering by e-value\n",
    "\n",
    "We need to set a threshold:"
   ]
  },
  {
   "cell_type": "code",
   "execution_count": 111,
   "id": "ce8f9609-91d1-469e-8370-1326cc5054e5",
   "metadata": {
    "tags": []
   },
   "outputs": [],
   "source": [
    "evalue_threshold = 0.0001"
   ]
  },
  {
   "cell_type": "code",
   "execution_count": 112,
   "id": "a174e5b6-a092-474a-b832-d770fc382f7f",
   "metadata": {
    "tags": []
   },
   "outputs": [],
   "source": [
    "diamond = diamond.loc[diamond[\"e-value\"] < evalue_threshold]"
   ]
  },
  {
   "cell_type": "code",
   "execution_count": 113,
   "id": "31f0a7a1-bf4a-4319-ab39-fb1be0b35e23",
   "metadata": {
    "tags": []
   },
   "outputs": [
    {
     "data": {
      "text/plain": [
       "array([[<AxesSubplot:title={'center':'e-value'}>]], dtype=object)"
      ]
     },
     "execution_count": 113,
     "metadata": {},
     "output_type": "execute_result"
    },
    {
     "data": {
      "image/png": "[encoded data removed]",
      "text/plain": [
       "<Figure size 432x288 with 1 Axes>"
      ]
     },
     "metadata": {
      "needs_background": "light"
     },
     "output_type": "display_data"
    }
   ],
   "source": [
    "diamond.hist(\"e-value\")"
   ]
  },
  {
   "cell_type": "code",
   "execution_count": 114,
   "id": "3c455b9d-2113-4d81-a97f-c04973a8dc29",
   "metadata": {
    "tags": []
   },
   "outputs": [
    {
     "name": "stdout",
     "output_type": "stream",
     "text": [
      "There are 2 unique orthologous genes\n"
     ]
    }
   ],
   "source": [
    "val = len(set(diamond[\"Subject id\"]))\n",
    "print(f\"There are {val} unique orthologous genes\")"
   ]
  },
  {
   "attachments": {},
   "cell_type": "markdown",
   "id": "bdeaacd7-2ef4-4441-adea-99df6cdb1390",
   "metadata": {
    "tags": []
   },
   "source": [
    "### Inspect % identity and aligment length"
   ]
  },
  {
   "cell_type": "code",
   "execution_count": 115,
   "id": "16ee4816-ee69-404f-be0e-566c7745b6fc",
   "metadata": {
    "tags": []
   },
   "outputs": [
    {
     "data": {
      "text/plain": [
       "array([[<AxesSubplot:title={'center':'alignment length'}>]], dtype=object)"
      ]
     },
     "execution_count": 115,
     "metadata": {},
     "output_type": "execute_result"
    },
    {
     "data": {
      "image/png": "[encoded data removed]",
      "text/plain": [
       "<Figure size 432x288 with 1 Axes>"
      ]
     },
     "metadata": {
      "needs_background": "light"
     },
     "output_type": "display_data"
    }
   ],
   "source": [
    "diamond.hist(\"alignment length\")"
   ]
  },
  {
   "cell_type": "code",
   "execution_count": 116,
   "id": "a6b6775a-a1ee-403a-b908-f09fe46314d0",
   "metadata": {
    "tags": []
   },
   "outputs": [
    {
     "data": {
      "text/plain": [
       "array([[<AxesSubplot:title={'center':'% identity'}>]], dtype=object)"
      ]
     },
     "execution_count": 116,
     "metadata": {},
     "output_type": "execute_result"
    },
    {
     "data": {
      "image/png": "[encoded data removed]",
      "text/plain": [
       "<Figure size 432x288 with 1 Axes>"
      ]
     },
     "metadata": {
      "needs_background": "light"
     },
     "output_type": "display_data"
    }
   ],
   "source": [
    "diamond.hist(\"% identity\")"
   ]
  },
  {
   "cell_type": "code",
   "execution_count": 117,
   "id": "163a2749",
   "metadata": {},
   "outputs": [
    {
     "data": {
      "text/html": [
       "<div>\n",
       "<style scoped>\n",
       "    .dataframe tbody tr th:only-of-type {\n",
       "        vertical-align: middle;\n",
       "    }\n",
       "\n",
       "    .dataframe tbody tr th {\n",
       "        vertical-align: top;\n",
       "    }\n",
       "\n",
       "    .dataframe thead th {\n",
       "        text-align: right;\n",
       "    }\n",
       "</style>\n",
       "<table border=\"1\" class=\"dataframe\">\n",
       "  <thead>\n",
       "    <tr style=\"text-align: right;\">\n",
       "      <th></th>\n",
       "      <th>Subject id</th>\n",
       "      <th>% identity</th>\n",
       "      <th>alignment length</th>\n",
       "      <th>mismatches</th>\n",
       "      <th>gap openings</th>\n",
       "      <th>q. start</th>\n",
       "      <th>q. end</th>\n",
       "      <th>s. start</th>\n",
       "      <th>s. end</th>\n",
       "      <th>e-value</th>\n",
       "      <th>score</th>\n",
       "    </tr>\n",
       "    <tr>\n",
       "      <th>Query id</th>\n",
       "      <th></th>\n",
       "      <th></th>\n",
       "      <th></th>\n",
       "      <th></th>\n",
       "      <th></th>\n",
       "      <th></th>\n",
       "      <th></th>\n",
       "      <th></th>\n",
       "      <th></th>\n",
       "      <th></th>\n",
       "      <th></th>\n",
       "    </tr>\n",
       "  </thead>\n",
       "  <tbody>\n",
       "    <tr>\n",
       "      <th>TRINITY_DN78676876898_c0_g1_i1</th>\n",
       "      <td>APA99577.1|GH0|</td>\n",
       "      <td>59.2</td>\n",
       "      <td>326</td>\n",
       "      <td>132</td>\n",
       "      <td>1</td>\n",
       "      <td>12954</td>\n",
       "      <td>11980</td>\n",
       "      <td>25</td>\n",
       "      <td>350</td>\n",
       "      <td>1.240000e-110</td>\n",
       "      <td>389.0</td>\n",
       "    </tr>\n",
       "    <tr>\n",
       "      <th>TRINITY_DN226449_c0_g1_i1</th>\n",
       "      <td>NP_176949.1|GH0|3.2.1.51</td>\n",
       "      <td>42.4</td>\n",
       "      <td>99</td>\n",
       "      <td>57</td>\n",
       "      <td>0</td>\n",
       "      <td>64</td>\n",
       "      <td>360</td>\n",
       "      <td>199</td>\n",
       "      <td>297</td>\n",
       "      <td>3.140000e-19</td>\n",
       "      <td>85.9</td>\n",
       "    </tr>\n",
       "  </tbody>\n",
       "</table>\n",
       "</div>"
      ],
      "text/plain": [
       "                                              Subject id  % identity  \\\n",
       "Query id                                                               \n",
       "TRINITY_DN78676876898_c0_g1_i1           APA99577.1|GH0|        59.2   \n",
       "TRINITY_DN226449_c0_g1_i1       NP_176949.1|GH0|3.2.1.51        42.4   \n",
       "\n",
       "                                alignment length  mismatches  gap openings  \\\n",
       "Query id                                                                     \n",
       "TRINITY_DN78676876898_c0_g1_i1               326         132             1   \n",
       "TRINITY_DN226449_c0_g1_i1                     99          57             0   \n",
       "\n",
       "                                q. start  q. end  s. start  s. end  \\\n",
       "Query id                                                             \n",
       "TRINITY_DN78676876898_c0_g1_i1     12954   11980        25     350   \n",
       "TRINITY_DN226449_c0_g1_i1             64     360       199     297   \n",
       "\n",
       "                                      e-value  score  \n",
       "Query id                                              \n",
       "TRINITY_DN78676876898_c0_g1_i1  1.240000e-110  389.0  \n",
       "TRINITY_DN226449_c0_g1_i1        3.140000e-19   85.9  "
      ]
     },
     "execution_count": 117,
     "metadata": {},
     "output_type": "execute_result"
    }
   ],
   "source": [
    "diamond"
   ]
  },
  {
   "cell_type": "code",
   "execution_count": 118,
   "id": "06075ab0",
   "metadata": {},
   "outputs": [
    {
     "data": {
      "text/plain": [
       "Text(0, 0.5, 'Mistmatches')"
      ]
     },
     "execution_count": 118,
     "metadata": {},
     "output_type": "execute_result"
    },
    {
     "data": {
      "image/png": "[encoded data removed]",
      "text/plain": [
       "<Figure size 432x288 with 1 Axes>"
      ]
     },
     "metadata": {
      "needs_background": "light"
     },
     "output_type": "display_data"
    }
   ],
   "source": [
    "plt.scatter(diamond[\"alignment length\"], diamond.mismatches, alpha=0.6)\n",
    "plt.title(\"Mistmatches distribution after preprocessingh\")\n",
    "plt.xlabel(\"Alignment length\")\n",
    "plt.ylabel(\"Mistmatches\")"
   ]
  },
  {
   "attachments": {},
   "cell_type": "markdown",
   "id": "3145e306",
   "metadata": {},
   "source": [
    "## Attention !!\n",
    "Please, consider the previous information to set the threshold for the e-value and the % identity."
   ]
  },
  {
   "attachments": {},
   "cell_type": "markdown",
   "id": "a1bcae6d-70a5-4318-8206-2aaddf15bb62",
   "metadata": {},
   "source": [
    "### Merging aligned genes and count table\n",
    "First, we are going to drop all columns except for ContigsID and orthologous genes header (to obtain map table). "
   ]
  },
  {
   "cell_type": "code",
   "execution_count": 119,
   "id": "407b00ee-8a22-483c-9cf7-37a0abe76de4",
   "metadata": {
    "tags": []
   },
   "outputs": [
    {
     "data": {
      "text/html": [
       "<div>\n",
       "<style scoped>\n",
       "    .dataframe tbody tr th:only-of-type {\n",
       "        vertical-align: middle;\n",
       "    }\n",
       "\n",
       "    .dataframe tbody tr th {\n",
       "        vertical-align: top;\n",
       "    }\n",
       "\n",
       "    .dataframe thead th {\n",
       "        text-align: right;\n",
       "    }\n",
       "</style>\n",
       "<table border=\"1\" class=\"dataframe\">\n",
       "  <thead>\n",
       "    <tr style=\"text-align: right;\">\n",
       "      <th></th>\n",
       "      <th>Subject id</th>\n",
       "    </tr>\n",
       "    <tr>\n",
       "      <th>Query id</th>\n",
       "      <th></th>\n",
       "    </tr>\n",
       "  </thead>\n",
       "  <tbody>\n",
       "    <tr>\n",
       "      <th>TRINITY_DN78676876898_c0_g1_i1</th>\n",
       "      <td>APA99577.1|GH0|</td>\n",
       "    </tr>\n",
       "    <tr>\n",
       "      <th>TRINITY_DN226449_c0_g1_i1</th>\n",
       "      <td>NP_176949.1|GH0|3.2.1.51</td>\n",
       "    </tr>\n",
       "  </tbody>\n",
       "</table>\n",
       "</div>"
      ],
      "text/plain": [
       "                                              Subject id\n",
       "Query id                                                \n",
       "TRINITY_DN78676876898_c0_g1_i1           APA99577.1|GH0|\n",
       "TRINITY_DN226449_c0_g1_i1       NP_176949.1|GH0|3.2.1.51"
      ]
     },
     "execution_count": 119,
     "metadata": {},
     "output_type": "execute_result"
    }
   ],
   "source": [
    "map_table = diamond[[\"Subject id\"]]\n",
    "map_table"
   ]
  },
  {
   "attachments": {},
   "cell_type": "markdown",
   "id": "7a7cc510-b6b3-4b2f-a84a-75fe989ac5f0",
   "metadata": {
    "tags": []
   },
   "source": [
    "Now, we are going to merge both files by their column in common (ContigID and Subject id)."
   ]
  },
  {
   "cell_type": "code",
   "execution_count": 120,
   "id": "7ad61d06-8a87-4dee-a173-b915153efed6",
   "metadata": {
    "tags": []
   },
   "outputs": [
    {
     "data": {
      "text/html": [
       "<div>\n",
       "<style scoped>\n",
       "    .dataframe tbody tr th:only-of-type {\n",
       "        vertical-align: middle;\n",
       "    }\n",
       "\n",
       "    .dataframe tbody tr th {\n",
       "        vertical-align: top;\n",
       "    }\n",
       "\n",
       "    .dataframe thead th {\n",
       "        text-align: right;\n",
       "    }\n",
       "</style>\n",
       "<table border=\"1\" class=\"dataframe\">\n",
       "  <thead>\n",
       "    <tr style=\"text-align: right;\">\n",
       "      <th></th>\n",
       "      <th>Subject id</th>\n",
       "      <th>SampleA</th>\n",
       "      <th>SampleB</th>\n",
       "      <th>SampleC</th>\n",
       "      <th>SampleD</th>\n",
       "      <th>SampleE</th>\n",
       "    </tr>\n",
       "  </thead>\n",
       "  <tbody>\n",
       "    <tr>\n",
       "      <th>0</th>\n",
       "      <td>APA99577.1|GH0|</td>\n",
       "      <td>0</td>\n",
       "      <td>2</td>\n",
       "      <td>1</td>\n",
       "      <td>1</td>\n",
       "      <td>20</td>\n",
       "    </tr>\n",
       "    <tr>\n",
       "      <th>1</th>\n",
       "      <td>NP_176949.1|GH0|3.2.1.51</td>\n",
       "      <td>0</td>\n",
       "      <td>0</td>\n",
       "      <td>2</td>\n",
       "      <td>0</td>\n",
       "      <td>0</td>\n",
       "    </tr>\n",
       "  </tbody>\n",
       "</table>\n",
       "</div>"
      ],
      "text/plain": [
       "                 Subject id  SampleA  SampleB  SampleC  SampleD  SampleE\n",
       "0           APA99577.1|GH0|        0        2        1        1       20\n",
       "1  NP_176949.1|GH0|3.2.1.51        0        0        2        0        0"
      ]
     },
     "execution_count": 120,
     "metadata": {},
     "output_type": "execute_result"
    }
   ],
   "source": [
    "df = pd.merge(map_table, counts, left_index=True, right_index=True).reset_index(\n",
    "    drop=True\n",
    ")\n",
    "df"
   ]
  },
  {
   "attachments": {},
   "cell_type": "markdown",
   "id": "3d9b1208-5fc9-4056-9089-1beeaa75c3b7",
   "metadata": {},
   "source": [
    "### Aggregate table\n",
    "Now, we are going to aggregate the rows by grouping by \"Subject id\" (notice the difference in rows between the previous table and the following):"
   ]
  },
  {
   "cell_type": "code",
   "execution_count": 121,
   "id": "75b4c8b5-9591-4243-8fb0-3258db020a46",
   "metadata": {
    "tags": []
   },
   "outputs": [
    {
     "data": {
      "text/html": [
       "<div>\n",
       "<style scoped>\n",
       "    .dataframe tbody tr th:only-of-type {\n",
       "        vertical-align: middle;\n",
       "    }\n",
       "\n",
       "    .dataframe tbody tr th {\n",
       "        vertical-align: top;\n",
       "    }\n",
       "\n",
       "    .dataframe thead th {\n",
       "        text-align: right;\n",
       "    }\n",
       "</style>\n",
       "<table border=\"1\" class=\"dataframe\">\n",
       "  <thead>\n",
       "    <tr style=\"text-align: right;\">\n",
       "      <th></th>\n",
       "      <th>SampleA</th>\n",
       "      <th>SampleB</th>\n",
       "      <th>SampleC</th>\n",
       "      <th>SampleD</th>\n",
       "      <th>SampleE</th>\n",
       "    </tr>\n",
       "    <tr>\n",
       "      <th>Subject id</th>\n",
       "      <th></th>\n",
       "      <th></th>\n",
       "      <th></th>\n",
       "      <th></th>\n",
       "      <th></th>\n",
       "    </tr>\n",
       "  </thead>\n",
       "  <tbody>\n",
       "    <tr>\n",
       "      <th>APA99577.1|GH0|</th>\n",
       "      <td>0</td>\n",
       "      <td>2</td>\n",
       "      <td>1</td>\n",
       "      <td>1</td>\n",
       "      <td>20</td>\n",
       "    </tr>\n",
       "    <tr>\n",
       "      <th>NP_176949.1|GH0|3.2.1.51</th>\n",
       "      <td>0</td>\n",
       "      <td>0</td>\n",
       "      <td>2</td>\n",
       "      <td>0</td>\n",
       "      <td>0</td>\n",
       "    </tr>\n",
       "  </tbody>\n",
       "</table>\n",
       "</div>"
      ],
      "text/plain": [
       "                          SampleA  SampleB  SampleC  SampleD  SampleE\n",
       "Subject id                                                           \n",
       "APA99577.1|GH0|                 0        2        1        1       20\n",
       "NP_176949.1|GH0|3.2.1.51        0        0        2        0        0"
      ]
     },
     "execution_count": 121,
     "metadata": {},
     "output_type": "execute_result"
    }
   ],
   "source": [
    "df = df.groupby(\"Subject id\").sum(numeric_only=True)\n",
    "df"
   ]
  },
  {
   "attachments": {},
   "cell_type": "markdown",
   "id": "e16060fc-3363-4f9b-a4c7-40e7e64a64b5",
   "metadata": {},
   "source": [
    "## Annotating count table\n",
    "\n",
    "First, we define some helper functions:"
   ]
  },
  {
   "cell_type": "code",
   "execution_count": 122,
   "metadata": {},
   "outputs": [
    {
     "data": {
      "text/plain": [
       "TestResults(failed=0, attempted=7)"
      ]
     },
     "execution_count": 122,
     "metadata": {},
     "output_type": "execute_result"
    }
   ],
   "source": [
    "import re\n",
    "import doctest\n",
    "\n",
    "\n",
    "def extract_CAZyDB_id(x):\n",
    "    \"\"\"\n",
    "    >>> extract_CAZyDB_id('XP_503149.1|GH18')\n",
    "    ['GH18']\n",
    "    >>> extract_CAZyDB_id('AAA52077.1|CBM8|3.2.1.4')\n",
    "    ['CBM8']\n",
    "    >>> extract_CAZyDB_id('AAA52077.1|CBM8|3.2.1.4|GH18')\n",
    "    ['CBM8', 'GH18']\n",
    "    \"\"\"\n",
    "    return [elm for elm in x.split(\"|\")[1:] if not re.match(r\"^\\d\", elm)]\n",
    "\n",
    "\n",
    "def get_annotation_from_CAZyDB_id(x):\n",
    "    \"\"\"\n",
    "    >>> get_annotation_from_CAZyDB_id('GH31')\n",
    "    'Glycoside Hydrolases'\n",
    "    >>> get_annotation_from_CAZyDB_id('GT75')\n",
    "    'GlycosylTransferases'\n",
    "    >>> get_annotation_from_CAZyDB_id('AA5')\n",
    "    'Auxiliary Activities'\n",
    "    >>> get_annotation_from_CAZyDB_id('QAT16263.1')\n",
    "    ''\n",
    "    \"\"\"\n",
    "    symbols = {\n",
    "        \"GH\": \"Glycoside Hydrolases\",\n",
    "        \"GT\": \"GlycosylTransferases\",\n",
    "        \"PL\": \"Polysaccharide Lyases\",\n",
    "        \"CE\": \"Carbohydrate Esterases\",\n",
    "        \"AA\": \"Auxiliary Activities\",\n",
    "        \"CBM\": \"Carbohydrate-Binding Modules\",\n",
    "    }\n",
    "    for k in symbols.keys():\n",
    "        regex = \"^\" + k\n",
    "        if re.match(regex, x):\n",
    "            return symbols[k]\n",
    "    return \"\"\n",
    "\n",
    "\n",
    "# Run tests\n",
    "doctest.testmod()"
   ]
  },
  {
   "cell_type": "code",
   "execution_count": 123,
   "id": "a5b14b24",
   "metadata": {},
   "outputs": [
    {
     "data": {
      "text/html": [
       "<div>\n",
       "<style scoped>\n",
       "    .dataframe tbody tr th:only-of-type {\n",
       "        vertical-align: middle;\n",
       "    }\n",
       "\n",
       "    .dataframe tbody tr th {\n",
       "        vertical-align: top;\n",
       "    }\n",
       "\n",
       "    .dataframe thead th {\n",
       "        text-align: right;\n",
       "    }\n",
       "</style>\n",
       "<table border=\"1\" class=\"dataframe\">\n",
       "  <thead>\n",
       "    <tr style=\"text-align: right;\">\n",
       "      <th></th>\n",
       "      <th>SampleA</th>\n",
       "      <th>SampleB</th>\n",
       "      <th>SampleC</th>\n",
       "      <th>SampleD</th>\n",
       "      <th>SampleE</th>\n",
       "      <th>CAZyDB_id</th>\n",
       "    </tr>\n",
       "    <tr>\n",
       "      <th>Subject id</th>\n",
       "      <th></th>\n",
       "      <th></th>\n",
       "      <th></th>\n",
       "      <th></th>\n",
       "      <th></th>\n",
       "      <th></th>\n",
       "    </tr>\n",
       "  </thead>\n",
       "  <tbody>\n",
       "    <tr>\n",
       "      <th>APA99577.1|GH0|</th>\n",
       "      <td>0</td>\n",
       "      <td>2</td>\n",
       "      <td>1</td>\n",
       "      <td>1</td>\n",
       "      <td>20</td>\n",
       "      <td>[GH0]</td>\n",
       "    </tr>\n",
       "    <tr>\n",
       "      <th>NP_176949.1|GH0|3.2.1.51</th>\n",
       "      <td>0</td>\n",
       "      <td>0</td>\n",
       "      <td>2</td>\n",
       "      <td>0</td>\n",
       "      <td>0</td>\n",
       "      <td>[GH0]</td>\n",
       "    </tr>\n",
       "  </tbody>\n",
       "</table>\n",
       "</div>"
      ],
      "text/plain": [
       "                          SampleA  SampleB  SampleC  SampleD  SampleE  \\\n",
       "Subject id                                                              \n",
       "APA99577.1|GH0|                 0        2        1        1       20   \n",
       "NP_176949.1|GH0|3.2.1.51        0        0        2        0        0   \n",
       "\n",
       "                         CAZyDB_id  \n",
       "Subject id                          \n",
       "APA99577.1|GH0|              [GH0]  \n",
       "NP_176949.1|GH0|3.2.1.51     [GH0]  "
      ]
     },
     "execution_count": 123,
     "metadata": {},
     "output_type": "execute_result"
    }
   ],
   "source": [
    "df[\"CAZyDB_id\"] = [[y for y in extract_CAZyDB_id(x) if y] for x in df.index]\n",
    "df"
   ]
  },
  {
   "attachments": {},
   "cell_type": "markdown",
   "id": "b503a64a",
   "metadata": {},
   "source": [
    "Now, we want to extend the table by using the CAZyDB_id column (which is a list of list). Every row will have one CAZyDB_id."
   ]
  },
  {
   "cell_type": "code",
   "execution_count": 124,
   "id": "7eb637eb",
   "metadata": {},
   "outputs": [
    {
     "data": {
      "text/html": [
       "<div>\n",
       "<style scoped>\n",
       "    .dataframe tbody tr th:only-of-type {\n",
       "        vertical-align: middle;\n",
       "    }\n",
       "\n",
       "    .dataframe tbody tr th {\n",
       "        vertical-align: top;\n",
       "    }\n",
       "\n",
       "    .dataframe thead th {\n",
       "        text-align: right;\n",
       "    }\n",
       "</style>\n",
       "<table border=\"1\" class=\"dataframe\">\n",
       "  <thead>\n",
       "    <tr style=\"text-align: right;\">\n",
       "      <th></th>\n",
       "      <th>SampleA</th>\n",
       "      <th>SampleB</th>\n",
       "      <th>SampleC</th>\n",
       "      <th>SampleD</th>\n",
       "      <th>SampleE</th>\n",
       "      <th>CAZyDB_id</th>\n",
       "    </tr>\n",
       "    <tr>\n",
       "      <th>Subject id</th>\n",
       "      <th></th>\n",
       "      <th></th>\n",
       "      <th></th>\n",
       "      <th></th>\n",
       "      <th></th>\n",
       "      <th></th>\n",
       "    </tr>\n",
       "  </thead>\n",
       "  <tbody>\n",
       "    <tr>\n",
       "      <th>APA99577.1|GH0|</th>\n",
       "      <td>0</td>\n",
       "      <td>2</td>\n",
       "      <td>1</td>\n",
       "      <td>1</td>\n",
       "      <td>20</td>\n",
       "      <td>GH0</td>\n",
       "    </tr>\n",
       "    <tr>\n",
       "      <th>NP_176949.1|GH0|3.2.1.51</th>\n",
       "      <td>0</td>\n",
       "      <td>0</td>\n",
       "      <td>2</td>\n",
       "      <td>0</td>\n",
       "      <td>0</td>\n",
       "      <td>GH0</td>\n",
       "    </tr>\n",
       "  </tbody>\n",
       "</table>\n",
       "</div>"
      ],
      "text/plain": [
       "                          SampleA  SampleB  SampleC  SampleD  SampleE  \\\n",
       "Subject id                                                              \n",
       "APA99577.1|GH0|                 0        2        1        1       20   \n",
       "NP_176949.1|GH0|3.2.1.51        0        0        2        0        0   \n",
       "\n",
       "                         CAZyDB_id  \n",
       "Subject id                          \n",
       "APA99577.1|GH0|                GH0  \n",
       "NP_176949.1|GH0|3.2.1.51       GH0  "
      ]
     },
     "execution_count": 124,
     "metadata": {},
     "output_type": "execute_result"
    }
   ],
   "source": [
    "df = df.explode(\"CAZyDB_id\")\n",
    "df"
   ]
  },
  {
   "attachments": {},
   "cell_type": "markdown",
   "id": "96dfa323",
   "metadata": {},
   "source": [
    "Now we can annotate the count table:"
   ]
  },
  {
   "cell_type": "code",
   "execution_count": 125,
   "id": "0b99911d",
   "metadata": {},
   "outputs": [
    {
     "data": {
      "text/html": [
       "<div>\n",
       "<style scoped>\n",
       "    .dataframe tbody tr th:only-of-type {\n",
       "        vertical-align: middle;\n",
       "    }\n",
       "\n",
       "    .dataframe tbody tr th {\n",
       "        vertical-align: top;\n",
       "    }\n",
       "\n",
       "    .dataframe thead th {\n",
       "        text-align: right;\n",
       "    }\n",
       "</style>\n",
       "<table border=\"1\" class=\"dataframe\">\n",
       "  <thead>\n",
       "    <tr style=\"text-align: right;\">\n",
       "      <th></th>\n",
       "      <th>SampleA</th>\n",
       "      <th>SampleB</th>\n",
       "      <th>SampleC</th>\n",
       "      <th>SampleD</th>\n",
       "      <th>SampleE</th>\n",
       "      <th>CAZyDB_id</th>\n",
       "      <th>Level1</th>\n",
       "    </tr>\n",
       "    <tr>\n",
       "      <th>Subject id</th>\n",
       "      <th></th>\n",
       "      <th></th>\n",
       "      <th></th>\n",
       "      <th></th>\n",
       "      <th></th>\n",
       "      <th></th>\n",
       "      <th></th>\n",
       "    </tr>\n",
       "  </thead>\n",
       "  <tbody>\n",
       "    <tr>\n",
       "      <th>APA99577.1|GH0|</th>\n",
       "      <td>0</td>\n",
       "      <td>2</td>\n",
       "      <td>1</td>\n",
       "      <td>1</td>\n",
       "      <td>20</td>\n",
       "      <td>GH0</td>\n",
       "      <td>Glycoside Hydrolases</td>\n",
       "    </tr>\n",
       "    <tr>\n",
       "      <th>NP_176949.1|GH0|3.2.1.51</th>\n",
       "      <td>0</td>\n",
       "      <td>0</td>\n",
       "      <td>2</td>\n",
       "      <td>0</td>\n",
       "      <td>0</td>\n",
       "      <td>GH0</td>\n",
       "      <td>Glycoside Hydrolases</td>\n",
       "    </tr>\n",
       "  </tbody>\n",
       "</table>\n",
       "</div>"
      ],
      "text/plain": [
       "                          SampleA  SampleB  SampleC  SampleD  SampleE  \\\n",
       "Subject id                                                              \n",
       "APA99577.1|GH0|                 0        2        1        1       20   \n",
       "NP_176949.1|GH0|3.2.1.51        0        0        2        0        0   \n",
       "\n",
       "                         CAZyDB_id                Level1  \n",
       "Subject id                                                \n",
       "APA99577.1|GH0|                GH0  Glycoside Hydrolases  \n",
       "NP_176949.1|GH0|3.2.1.51       GH0  Glycoside Hydrolases  "
      ]
     },
     "execution_count": 125,
     "metadata": {},
     "output_type": "execute_result"
    }
   ],
   "source": [
    "df[\"Level1\"] = [get_annotation_from_CAZyDB_id(elm) for elm in df.CAZyDB_id]\n",
    "df"
   ]
  },
  {
   "attachments": {},
   "cell_type": "markdown",
   "id": "1d0d2a71",
   "metadata": {},
   "source": [
    "And now we add descriptions: "
   ]
  },
  {
   "cell_type": "code",
   "execution_count": 126,
   "id": "30b5c2d0",
   "metadata": {},
   "outputs": [
    {
     "data": {
      "text/html": [
       "<div>\n",
       "<style scoped>\n",
       "    .dataframe tbody tr th:only-of-type {\n",
       "        vertical-align: middle;\n",
       "    }\n",
       "\n",
       "    .dataframe tbody tr th {\n",
       "        vertical-align: top;\n",
       "    }\n",
       "\n",
       "    .dataframe thead th {\n",
       "        text-align: right;\n",
       "    }\n",
       "</style>\n",
       "<table border=\"1\" class=\"dataframe\">\n",
       "  <thead>\n",
       "    <tr style=\"text-align: right;\">\n",
       "      <th></th>\n",
       "      <th>CAZyDB_id</th>\n",
       "      <th>Level2</th>\n",
       "    </tr>\n",
       "  </thead>\n",
       "  <tbody>\n",
       "    <tr>\n",
       "      <th>0</th>\n",
       "      <td>AA0</td>\n",
       "      <td></td>\n",
       "    </tr>\n",
       "    <tr>\n",
       "      <th>1</th>\n",
       "      <td>AA10</td>\n",
       "      <td>AA10 (formerly CBM33) proteins are copper-de...</td>\n",
       "    </tr>\n",
       "    <tr>\n",
       "      <th>2</th>\n",
       "      <td>AA11</td>\n",
       "      <td>AA11 proteins are copper-dependent lytic pol...</td>\n",
       "    </tr>\n",
       "    <tr>\n",
       "      <th>3</th>\n",
       "      <td>AA12</td>\n",
       "      <td>The pyrroloquinoline quinone-dependent oxido...</td>\n",
       "    </tr>\n",
       "    <tr>\n",
       "      <th>4</th>\n",
       "      <td>AA13</td>\n",
       "      <td>AA13 proteins are copper-dependent lytic pol...</td>\n",
       "    </tr>\n",
       "    <tr>\n",
       "      <th>...</th>\n",
       "      <td>...</td>\n",
       "      <td>...</td>\n",
       "    </tr>\n",
       "    <tr>\n",
       "      <th>441</th>\n",
       "      <td>PL5</td>\n",
       "      <td>alginate lyase (EC 4.2.2.3); endo-beta-1,4-g...</td>\n",
       "    </tr>\n",
       "    <tr>\n",
       "      <th>442</th>\n",
       "      <td>PL6</td>\n",
       "      <td>alginate lyase (EC 4.2.2.3); chondroitinase ...</td>\n",
       "    </tr>\n",
       "    <tr>\n",
       "      <th>443</th>\n",
       "      <td>PL7</td>\n",
       "      <td>poly(beta-mannuronate) lyase / M-specific al...</td>\n",
       "    </tr>\n",
       "    <tr>\n",
       "      <th>444</th>\n",
       "      <td>PL8</td>\n",
       "      <td>hyaluronate lyase (EC 4.2.2.1); chondroitin ...</td>\n",
       "    </tr>\n",
       "    <tr>\n",
       "      <th>445</th>\n",
       "      <td>PL9</td>\n",
       "      <td>pectate lyase (EC 4.2.2.2); exopolygalacturo...</td>\n",
       "    </tr>\n",
       "  </tbody>\n",
       "</table>\n",
       "<p>446 rows × 2 columns</p>\n",
       "</div>"
      ],
      "text/plain": [
       "    CAZyDB_id                                             Level2\n",
       "0         AA0                                                   \n",
       "1        AA10    AA10 (formerly CBM33) proteins are copper-de...\n",
       "2        AA11    AA11 proteins are copper-dependent lytic pol...\n",
       "3        AA12    The pyrroloquinoline quinone-dependent oxido...\n",
       "4        AA13    AA13 proteins are copper-dependent lytic pol...\n",
       "..        ...                                                ...\n",
       "441       PL5    alginate lyase (EC 4.2.2.3); endo-beta-1,4-g...\n",
       "442       PL6    alginate lyase (EC 4.2.2.3); chondroitinase ...\n",
       "443       PL7    poly(beta-mannuronate) lyase / M-specific al...\n",
       "444       PL8    hyaluronate lyase (EC 4.2.2.1); chondroitin ...\n",
       "445       PL9    pectate lyase (EC 4.2.2.2); exopolygalacturo...\n",
       "\n",
       "[446 rows x 2 columns]"
      ]
     },
     "execution_count": 126,
     "metadata": {},
     "output_type": "execute_result"
    }
   ],
   "source": [
    "# Force the tsv in descriptions_tsv to have two columns\n",
    "descriptions = pd.read_csv(\n",
    "    descriptions_tsv, sep=\"\\t\", comment=\"#\", header=None, names=[\"CAZyDB_id\", \"Level2\"]\n",
    ")\n",
    "descriptions"
   ]
  },
  {
   "cell_type": "code",
   "execution_count": 127,
   "id": "64260307",
   "metadata": {},
   "outputs": [],
   "source": [
    "# Rename index to ContigID column and drop index\n",
    "df = df.reset_index().rename(columns={\"index\": \"ContigID\"})\n",
    "# Add the description to the dataframe\n",
    "df = pd.merge(df, descriptions, on=\"CAZyDB_id\", how=\"left\")"
   ]
  },
  {
   "attachments": {},
   "cell_type": "markdown",
   "id": "211e1ed1",
   "metadata": {},
   "source": [
    "Now, we are going to count the number of enzymes with more than one annotation:"
   ]
  },
  {
   "cell_type": "code",
   "execution_count": 128,
   "id": "91cd662f",
   "metadata": {},
   "outputs": [
    {
     "data": {
      "text/html": [
       "<div>\n",
       "<style scoped>\n",
       "    .dataframe tbody tr th:only-of-type {\n",
       "        vertical-align: middle;\n",
       "    }\n",
       "\n",
       "    .dataframe tbody tr th {\n",
       "        vertical-align: top;\n",
       "    }\n",
       "\n",
       "    .dataframe thead th {\n",
       "        text-align: right;\n",
       "    }\n",
       "</style>\n",
       "<table border=\"1\" class=\"dataframe\">\n",
       "  <thead>\n",
       "    <tr style=\"text-align: right;\">\n",
       "      <th></th>\n",
       "      <th>Level1</th>\n",
       "      <th>types_of_annotation</th>\n",
       "      <th>n_cazy_ids</th>\n",
       "    </tr>\n",
       "    <tr>\n",
       "      <th>Subject id</th>\n",
       "      <th></th>\n",
       "      <th></th>\n",
       "      <th></th>\n",
       "    </tr>\n",
       "  </thead>\n",
       "  <tbody>\n",
       "  </tbody>\n",
       "</table>\n",
       "</div>"
      ],
      "text/plain": [
       "Empty DataFrame\n",
       "Columns: [Level1, types_of_annotation, n_cazy_ids]\n",
       "Index: []"
      ]
     },
     "execution_count": 128,
     "metadata": {},
     "output_type": "execute_result"
    }
   ],
   "source": [
    "duplicated = (\n",
    "    df.groupby(\"Subject id\")\n",
    "    .agg(\n",
    "        Level1=(\"Level1\", lambda x: \"|\".join(set(x))),\n",
    "        types_of_annotation=(\"Level1\", \"nunique\"),\n",
    "        n_cazy_ids=(\"CAZyDB_id\", \"nunique\"),\n",
    "    )\n",
    "    .reset_index()\n",
    "    .loc[lambda x: x.n_cazy_ids > 1]\n",
    "    .set_index(\"Subject id\")\n",
    ")\n",
    "duplicated.to_csv(\"../results/CAZy_multiple_annotations.tsv\", sep=\"\\t\")\n",
    "duplicated"
   ]
  },
  {
   "cell_type": "markdown",
   "id": "42cd53f7",
   "metadata": {},
   "source": [
    "Finally, we aggregate by CAZyDB_id (notice that we ignore enzymes with multiple annotations and treat them as single-function). Take a look to the previous table to see the impact of this. "
   ]
  },
  {
   "cell_type": "code",
   "execution_count": 129,
   "id": "a6c8ef52",
   "metadata": {},
   "outputs": [
    {
     "data": {
      "text/html": [
       "<div>\n",
       "<style scoped>\n",
       "    .dataframe tbody tr th:only-of-type {\n",
       "        vertical-align: middle;\n",
       "    }\n",
       "\n",
       "    .dataframe tbody tr th {\n",
       "        vertical-align: top;\n",
       "    }\n",
       "\n",
       "    .dataframe thead th {\n",
       "        text-align: right;\n",
       "    }\n",
       "</style>\n",
       "<table border=\"1\" class=\"dataframe\">\n",
       "  <thead>\n",
       "    <tr style=\"text-align: right;\">\n",
       "      <th></th>\n",
       "      <th></th>\n",
       "      <th></th>\n",
       "      <th>SampleA</th>\n",
       "      <th>SampleB</th>\n",
       "      <th>SampleC</th>\n",
       "      <th>SampleD</th>\n",
       "      <th>SampleE</th>\n",
       "    </tr>\n",
       "    <tr>\n",
       "      <th>CAZyDB_id</th>\n",
       "      <th>Level1</th>\n",
       "      <th>Level2</th>\n",
       "      <th></th>\n",
       "      <th></th>\n",
       "      <th></th>\n",
       "      <th></th>\n",
       "      <th></th>\n",
       "    </tr>\n",
       "  </thead>\n",
       "  <tbody>\n",
       "    <tr>\n",
       "      <th>GH0</th>\n",
       "      <th>Glycoside Hydrolases</th>\n",
       "      <th>Glycoside hydrolases not yet assigned to a family.</th>\n",
       "      <td>0</td>\n",
       "      <td>2</td>\n",
       "      <td>3</td>\n",
       "      <td>1</td>\n",
       "      <td>20</td>\n",
       "    </tr>\n",
       "  </tbody>\n",
       "</table>\n",
       "</div>"
      ],
      "text/plain": [
       "                                                                                   SampleA  \\\n",
       "CAZyDB_id Level1               Level2                                                        \n",
       "GH0       Glycoside Hydrolases   Glycoside hydrolases not yet assigned to a fa...        0   \n",
       "\n",
       "                                                                                   SampleB  \\\n",
       "CAZyDB_id Level1               Level2                                                        \n",
       "GH0       Glycoside Hydrolases   Glycoside hydrolases not yet assigned to a fa...        2   \n",
       "\n",
       "                                                                                   SampleC  \\\n",
       "CAZyDB_id Level1               Level2                                                        \n",
       "GH0       Glycoside Hydrolases   Glycoside hydrolases not yet assigned to a fa...        3   \n",
       "\n",
       "                                                                                   SampleD  \\\n",
       "CAZyDB_id Level1               Level2                                                        \n",
       "GH0       Glycoside Hydrolases   Glycoside hydrolases not yet assigned to a fa...        1   \n",
       "\n",
       "                                                                                   SampleE  \n",
       "CAZyDB_id Level1               Level2                                                       \n",
       "GH0       Glycoside Hydrolases   Glycoside hydrolases not yet assigned to a fa...       20  "
      ]
     },
     "execution_count": 129,
     "metadata": {},
     "output_type": "execute_result"
    }
   ],
   "source": [
    "df = df.groupby([\"CAZyDB_id\", \"Level1\", \"Level2\"]).sum(numeric_only=True)\n",
    "df\n"
   ]
  },
  {
   "cell_type": "code",
   "execution_count": 130,
   "id": "4f3552fa",
   "metadata": {
    "tags": []
   },
   "outputs": [],
   "source": [
    "df.to_csv(\"../results/CAZy_matches_annotated.tsv\", sep=\"\\t\")"
   ]
  }
 ],
 "metadata": {
  "kernelspec": {
   "display_name": "Python 3 (ipykernel)",
   "language": "python",
   "name": "python3"
  },
  "language_info": {
   "codemirror_mode": {
    "name": "ipython",
    "version": 3
   },
   "file_extension": ".py",
   "mimetype": "text/x-python",
   "name": "python",
   "nbconvert_exporter": "python",
   "pygments_lexer": "ipython3",
   "version": "3.6.15"
  }
 },
 "nbformat": 4,
 "nbformat_minor": 5
}
