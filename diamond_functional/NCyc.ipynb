{
 "cells": [
  {
   "attachments": {},
   "cell_type": "markdown",
   "id": "4a6a5bb1-1d72-44c8-975d-b2d7a60fa30e",
   "metadata": {},
   "source": [
    "## Functional annotation of TotalRNA against NCyc\n",
    "\n",
    "This notebook is part of the analysis of the TotalRNA mRNA genes from Trinity.\n",
    "\n",
    "## How to run Jupyter notebooks in huginn\n",
    "<details>\n",
    "<summary>Click to expand!</summary>\n",
    "\n",
    "If you use vs-code you can use the [remote ssh extension](https://marketplace.visualstudio.com/items?itemName=ms-vscode-remote.remote-ssh) to connect to huginn and either run jupyterlab in the remote server (so to say, just like you would do in your local computer with `jupyter-lab`) or run directly without opening jupyterlab directly. \n",
    "\n",
    "Otherwise, you can follow the instructions below: \n",
    "\n",
    "1. Turn on VPN\n",
    "2. Open two terminals (let's called A and B)\n",
    "3. With terminal A, connect to huginn with ssh as usual\n",
    "```bash\n",
    "ssh username@huginn.au.dk\n",
    "```\n",
    "4. Move to the directory where you want to work and run jupyter-lab\n",
    "```bash\n",
    "jupyter lab --no-browser --port=7777\n",
    "```\n",
    "5. With terminal B, connect to huginn and forward the port specified port to your local computer\n",
    "```bash\n",
    "ssh -Y -N -L localhost:7777:localhost:7777 username@huginn.au.dk\n",
    "```\n",
    "</details>\n",
    "\n",
    "## How to create a new environment for this notebook (if needed)\n",
    "\n",
    "We will use Diamond, a few python basic libraries and bash. Let's check if those dependencies are installed. If not, you can install them with mamba (as well with jupyterlab)\n",
    "\n",
    "```bash\n",
    "# To create a new environment with mamba\n",
    "mamba create -c bioconda -c conda-forge diamond pandas matplotlib jupyterlab -n jupyter-diamond\n",
    "# To activate the environment\n",
    "conda activate jupyter-diamond\n",
    "```\n",
    "\n",
    "### Sanity check"
   ]
  },
  {
   "cell_type": "code",
   "execution_count": 1,
   "id": "715448cb",
   "metadata": {},
   "outputs": [
    {
     "name": "stdout",
     "output_type": "stream",
     "text": [
      "diamond version 2.1.8\n"
     ]
    },
    {
     "name": "stdout",
     "output_type": "stream",
     "text": [
      "2.1.1\n",
      "3.8.0\n",
      "GNU bash, version 4.4.20(1)-release (x86_64-pc-linux-gnu)\n"
     ]
    }
   ],
   "source": [
    "%%bash\n",
    "diamond --version\n",
    "python -c \"import pandas; print(pandas.__version__)\"\n",
    "python -c \"import matplotlib; print(matplotlib.__version__)\"\n",
    "bash --version | head -n 1"
   ]
  },
  {
   "cell_type": "code",
   "execution_count": 2,
   "id": "5b69f327",
   "metadata": {},
   "outputs": [],
   "source": [
    "import pandas as pd\n",
    "import matplotlib.pyplot as plt\n",
    "from pathlib import Path\n",
    "import os"
   ]
  },
  {
   "attachments": {},
   "cell_type": "markdown",
   "id": "fe1eec65",
   "metadata": {},
   "source": [
    "The input is the fasta file of the TotalRNA mRNA genes from Trinity and the count table. "
   ]
  },
  {
   "cell_type": "code",
   "execution_count": 3,
   "id": "aeb85dfd",
   "metadata": {},
   "outputs": [],
   "source": [
    "trinity_file = \"../data/contigs.fasta\"\n",
    "count_table = \"../data/mapped_reads_to_contigs.tsv\"\n",
    "## Sanity check: trinity and count table exit\n",
    "assert os.path.exists(trinity_file), 'Trinity file does not exist'\n",
    "assert os.path.exists(count_table), 'Count table does not exist'"
   ]
  },
  {
   "attachments": {},
   "cell_type": "markdown",
   "id": "463c39ff-2d1a-4427-94ea-8ab9bf1ca64a",
   "metadata": {},
   "source": [
    "## Run Diamond "
   ]
  },
  {
   "cell_type": "code",
   "execution_count": 4,
   "id": "bc06bea6",
   "metadata": {},
   "outputs": [],
   "source": [
    "database = '/data_2/Databases/NCyc/NCyc_100.dmnd'\n",
    "outfile_matches = '../results/NCyc_matches.tsv'"
   ]
  },
  {
   "cell_type": "code",
   "execution_count": 5,
   "id": "d3d27106",
   "metadata": {},
   "outputs": [],
   "source": [
    "%%bash\n",
    "mkdir -p ../results/"
   ]
  },
  {
   "cell_type": "markdown",
   "id": "a5fc625d",
   "metadata": {},
   "source": [
    "**Please, be aware that, without using any sensitivity option, the default mode is designed for finding hits of >60% identity. Consider increasing the sensitivity (or decreasing it).**"
   ]
  },
  {
   "cell_type": "code",
   "execution_count": 6,
   "id": "b44d881c",
   "metadata": {},
   "outputs": [
    {
     "name": "stdout",
     "output_type": "stream",
     "text": [
      "TRINITY_DN226500_c0_g1_i1\tK9LK60\t100\t70\t0\t0\t2\t211\t2\t71\t2.31e-50\t154\n",
      "TRINITY_DN226500_c0_g1_i1\tK9LJH4\t100\t70\t0\t0\t2\t211\t9\t78\t2.83e-50\t154\n",
      "TRINITY_DN226500_c0_g1_i1\tK9LLC3\t98.6\t70\t1\t0\t2\t211\t2\t71\t3.28e-50\t153\n",
      "TRINITY_DN226500_c0_g1_i1\tK9LJE8\t91.3\t69\t6\t0\t5\t211\t1\t69\t1.01e-46\t144\n",
      "TRINITY_DN226500_c0_g1_i1\tK9LKW7\t92.8\t69\t5\t0\t5\t211\t1\t69\t1.43e-46\t144\n",
      "TRINITY_DN226500_c0_g1_i1\tA0A0F6QD98\t100\t70\t0\t0\t2\t211\t365\t434\t4.03e-46\t154\n",
      "TRINITY_DN226500_c0_g1_i1\tA0A0F6QEU1\t100\t70\t0\t0\t2\t211\t365\t434\t4.03e-46\t154\n",
      "TRINITY_DN226500_c0_g1_i1\tA0A0F6T277\t100\t70\t0\t0\t2\t211\t365\t434\t4.03e-46\t154\n",
      "TRINITY_DN226500_c0_g1_i1\tA0A0F6QEC8\t100\t70\t0\t0\t2\t211\t365\t434\t4.03e-46\t154\n",
      "TRINITY_DN226500_c0_g1_i1\tA0A0F6QEU8\t100\t70\t0\t0\t2\t211\t365\t434\t4.03e-46\t154\n"
     ]
    }
   ],
   "source": [
    "%%bash -s \"$database\" \"$trinity_file\" \"$outfile_matches\"\n",
    "if [ ! -f $3 ]; then\n",
    "diamond blastx -p 50 -d $1 -q $2 -o $3 2> /dev/null\n",
    "fi\n",
    "head $3"
   ]
  },
  {
   "attachments": {},
   "cell_type": "markdown",
   "id": "96fda5a8",
   "metadata": {},
   "source": [
    "## Parse Diamond output and preprocess"
   ]
  },
  {
   "cell_type": "code",
   "execution_count": 7,
   "id": "cb23723b-f70c-406b-849e-8635378d9c13",
   "metadata": {
    "tags": []
   },
   "outputs": [],
   "source": [
    "diamond = pd.read_csv(\n",
    "    outfile_matches, delimiter='\\t',comment='#', header=None,\n",
    "    names= ['Query id', 'Subject id', '% identity', 'alignment length', \n",
    "             'mismatches','gap openings','q. start', 'q. end',\n",
    "             's. start', 's. end', 'e-value', 'score'\n",
    "            ]\n",
    ")"
   ]
  },
  {
   "attachments": {},
   "cell_type": "markdown",
   "id": "c6647858-4431-4377-8517-4458efa6a375",
   "metadata": {},
   "source": [
    "Now, we have a table with all the alignments between our \"genes\" and the database."
   ]
  },
  {
   "cell_type": "code",
   "execution_count": 8,
   "id": "9344c348-b68d-41cf-a049-cd4f05ecb2c5",
   "metadata": {
    "tags": []
   },
   "outputs": [
    {
     "data": {
      "text/html": [
       "<div>\n",
       "<style scoped>\n",
       "    .dataframe tbody tr th:only-of-type {\n",
       "        vertical-align: middle;\n",
       "    }\n",
       "\n",
       "    .dataframe tbody tr th {\n",
       "        vertical-align: top;\n",
       "    }\n",
       "\n",
       "    .dataframe thead th {\n",
       "        text-align: right;\n",
       "    }\n",
       "</style>\n",
       "<table border=\"1\" class=\"dataframe\">\n",
       "  <thead>\n",
       "    <tr style=\"text-align: right;\">\n",
       "      <th></th>\n",
       "      <th>Query id</th>\n",
       "      <th>Subject id</th>\n",
       "      <th>% identity</th>\n",
       "      <th>alignment length</th>\n",
       "      <th>mismatches</th>\n",
       "      <th>gap openings</th>\n",
       "      <th>q. start</th>\n",
       "      <th>q. end</th>\n",
       "      <th>s. start</th>\n",
       "      <th>s. end</th>\n",
       "      <th>e-value</th>\n",
       "      <th>score</th>\n",
       "    </tr>\n",
       "  </thead>\n",
       "  <tbody>\n",
       "    <tr>\n",
       "      <th>0</th>\n",
       "      <td>TRINITY_DN226500_c0_g1_i1</td>\n",
       "      <td>K9LK60</td>\n",
       "      <td>100.0</td>\n",
       "      <td>70</td>\n",
       "      <td>0</td>\n",
       "      <td>0</td>\n",
       "      <td>2</td>\n",
       "      <td>211</td>\n",
       "      <td>2</td>\n",
       "      <td>71</td>\n",
       "      <td>2.310000e-50</td>\n",
       "      <td>154.0</td>\n",
       "    </tr>\n",
       "    <tr>\n",
       "      <th>1</th>\n",
       "      <td>TRINITY_DN226500_c0_g1_i1</td>\n",
       "      <td>K9LJH4</td>\n",
       "      <td>100.0</td>\n",
       "      <td>70</td>\n",
       "      <td>0</td>\n",
       "      <td>0</td>\n",
       "      <td>2</td>\n",
       "      <td>211</td>\n",
       "      <td>9</td>\n",
       "      <td>78</td>\n",
       "      <td>2.830000e-50</td>\n",
       "      <td>154.0</td>\n",
       "    </tr>\n",
       "    <tr>\n",
       "      <th>2</th>\n",
       "      <td>TRINITY_DN226500_c0_g1_i1</td>\n",
       "      <td>K9LLC3</td>\n",
       "      <td>98.6</td>\n",
       "      <td>70</td>\n",
       "      <td>1</td>\n",
       "      <td>0</td>\n",
       "      <td>2</td>\n",
       "      <td>211</td>\n",
       "      <td>2</td>\n",
       "      <td>71</td>\n",
       "      <td>3.280000e-50</td>\n",
       "      <td>153.0</td>\n",
       "    </tr>\n",
       "    <tr>\n",
       "      <th>3</th>\n",
       "      <td>TRINITY_DN226500_c0_g1_i1</td>\n",
       "      <td>K9LJE8</td>\n",
       "      <td>91.3</td>\n",
       "      <td>69</td>\n",
       "      <td>6</td>\n",
       "      <td>0</td>\n",
       "      <td>5</td>\n",
       "      <td>211</td>\n",
       "      <td>1</td>\n",
       "      <td>69</td>\n",
       "      <td>1.010000e-46</td>\n",
       "      <td>144.0</td>\n",
       "    </tr>\n",
       "    <tr>\n",
       "      <th>4</th>\n",
       "      <td>TRINITY_DN226500_c0_g1_i1</td>\n",
       "      <td>K9LKW7</td>\n",
       "      <td>92.8</td>\n",
       "      <td>69</td>\n",
       "      <td>5</td>\n",
       "      <td>0</td>\n",
       "      <td>5</td>\n",
       "      <td>211</td>\n",
       "      <td>1</td>\n",
       "      <td>69</td>\n",
       "      <td>1.430000e-46</td>\n",
       "      <td>144.0</td>\n",
       "    </tr>\n",
       "    <tr>\n",
       "      <th>5</th>\n",
       "      <td>TRINITY_DN226500_c0_g1_i1</td>\n",
       "      <td>A0A0F6QD98</td>\n",
       "      <td>100.0</td>\n",
       "      <td>70</td>\n",
       "      <td>0</td>\n",
       "      <td>0</td>\n",
       "      <td>2</td>\n",
       "      <td>211</td>\n",
       "      <td>365</td>\n",
       "      <td>434</td>\n",
       "      <td>4.030000e-46</td>\n",
       "      <td>154.0</td>\n",
       "    </tr>\n",
       "    <tr>\n",
       "      <th>6</th>\n",
       "      <td>TRINITY_DN226500_c0_g1_i1</td>\n",
       "      <td>A0A0F6QEU1</td>\n",
       "      <td>100.0</td>\n",
       "      <td>70</td>\n",
       "      <td>0</td>\n",
       "      <td>0</td>\n",
       "      <td>2</td>\n",
       "      <td>211</td>\n",
       "      <td>365</td>\n",
       "      <td>434</td>\n",
       "      <td>4.030000e-46</td>\n",
       "      <td>154.0</td>\n",
       "    </tr>\n",
       "    <tr>\n",
       "      <th>7</th>\n",
       "      <td>TRINITY_DN226500_c0_g1_i1</td>\n",
       "      <td>A0A0F6T277</td>\n",
       "      <td>100.0</td>\n",
       "      <td>70</td>\n",
       "      <td>0</td>\n",
       "      <td>0</td>\n",
       "      <td>2</td>\n",
       "      <td>211</td>\n",
       "      <td>365</td>\n",
       "      <td>434</td>\n",
       "      <td>4.030000e-46</td>\n",
       "      <td>154.0</td>\n",
       "    </tr>\n",
       "    <tr>\n",
       "      <th>8</th>\n",
       "      <td>TRINITY_DN226500_c0_g1_i1</td>\n",
       "      <td>A0A0F6QEC8</td>\n",
       "      <td>100.0</td>\n",
       "      <td>70</td>\n",
       "      <td>0</td>\n",
       "      <td>0</td>\n",
       "      <td>2</td>\n",
       "      <td>211</td>\n",
       "      <td>365</td>\n",
       "      <td>434</td>\n",
       "      <td>4.030000e-46</td>\n",
       "      <td>154.0</td>\n",
       "    </tr>\n",
       "    <tr>\n",
       "      <th>9</th>\n",
       "      <td>TRINITY_DN226500_c0_g1_i1</td>\n",
       "      <td>A0A0F6QEU8</td>\n",
       "      <td>100.0</td>\n",
       "      <td>70</td>\n",
       "      <td>0</td>\n",
       "      <td>0</td>\n",
       "      <td>2</td>\n",
       "      <td>211</td>\n",
       "      <td>365</td>\n",
       "      <td>434</td>\n",
       "      <td>4.030000e-46</td>\n",
       "      <td>154.0</td>\n",
       "    </tr>\n",
       "    <tr>\n",
       "      <th>10</th>\n",
       "      <td>TRINITY_DN226500_c0_g1_i1</td>\n",
       "      <td>A0A0F6QEE7</td>\n",
       "      <td>100.0</td>\n",
       "      <td>70</td>\n",
       "      <td>0</td>\n",
       "      <td>0</td>\n",
       "      <td>2</td>\n",
       "      <td>211</td>\n",
       "      <td>365</td>\n",
       "      <td>434</td>\n",
       "      <td>4.030000e-46</td>\n",
       "      <td>154.0</td>\n",
       "    </tr>\n",
       "    <tr>\n",
       "      <th>11</th>\n",
       "      <td>TRINITY_DN226500_c0_g1_i1</td>\n",
       "      <td>A0A0F6QDA6</td>\n",
       "      <td>100.0</td>\n",
       "      <td>70</td>\n",
       "      <td>0</td>\n",
       "      <td>0</td>\n",
       "      <td>2</td>\n",
       "      <td>211</td>\n",
       "      <td>365</td>\n",
       "      <td>434</td>\n",
       "      <td>4.030000e-46</td>\n",
       "      <td>154.0</td>\n",
       "    </tr>\n",
       "    <tr>\n",
       "      <th>12</th>\n",
       "      <td>TRINITY_DN226500_c0_g1_i1</td>\n",
       "      <td>A0A0F6QD87</td>\n",
       "      <td>100.0</td>\n",
       "      <td>70</td>\n",
       "      <td>0</td>\n",
       "      <td>0</td>\n",
       "      <td>2</td>\n",
       "      <td>211</td>\n",
       "      <td>365</td>\n",
       "      <td>434</td>\n",
       "      <td>4.030000e-46</td>\n",
       "      <td>154.0</td>\n",
       "    </tr>\n",
       "    <tr>\n",
       "      <th>13</th>\n",
       "      <td>TRINITY_DN226500_c0_g1_i1</td>\n",
       "      <td>A0A0F6T2V5</td>\n",
       "      <td>100.0</td>\n",
       "      <td>70</td>\n",
       "      <td>0</td>\n",
       "      <td>0</td>\n",
       "      <td>2</td>\n",
       "      <td>211</td>\n",
       "      <td>365</td>\n",
       "      <td>434</td>\n",
       "      <td>4.030000e-46</td>\n",
       "      <td>154.0</td>\n",
       "    </tr>\n",
       "    <tr>\n",
       "      <th>14</th>\n",
       "      <td>TRINITY_DN226500_c0_g1_i1</td>\n",
       "      <td>A0A0F6QG56</td>\n",
       "      <td>100.0</td>\n",
       "      <td>70</td>\n",
       "      <td>0</td>\n",
       "      <td>0</td>\n",
       "      <td>2</td>\n",
       "      <td>211</td>\n",
       "      <td>365</td>\n",
       "      <td>434</td>\n",
       "      <td>4.030000e-46</td>\n",
       "      <td>154.0</td>\n",
       "    </tr>\n",
       "    <tr>\n",
       "      <th>15</th>\n",
       "      <td>TRINITY_DN226500_c0_g1_i1</td>\n",
       "      <td>A0A0F6QEV4</td>\n",
       "      <td>100.0</td>\n",
       "      <td>70</td>\n",
       "      <td>0</td>\n",
       "      <td>0</td>\n",
       "      <td>2</td>\n",
       "      <td>211</td>\n",
       "      <td>365</td>\n",
       "      <td>434</td>\n",
       "      <td>4.030000e-46</td>\n",
       "      <td>154.0</td>\n",
       "    </tr>\n",
       "    <tr>\n",
       "      <th>16</th>\n",
       "      <td>TRINITY_DN226500_c0_g1_i1</td>\n",
       "      <td>A0A0F6QEF1</td>\n",
       "      <td>100.0</td>\n",
       "      <td>70</td>\n",
       "      <td>0</td>\n",
       "      <td>0</td>\n",
       "      <td>2</td>\n",
       "      <td>211</td>\n",
       "      <td>365</td>\n",
       "      <td>434</td>\n",
       "      <td>4.030000e-46</td>\n",
       "      <td>154.0</td>\n",
       "    </tr>\n",
       "    <tr>\n",
       "      <th>17</th>\n",
       "      <td>TRINITY_DN226500_c0_g1_i1</td>\n",
       "      <td>K9LK33</td>\n",
       "      <td>100.0</td>\n",
       "      <td>66</td>\n",
       "      <td>0</td>\n",
       "      <td>0</td>\n",
       "      <td>5</td>\n",
       "      <td>202</td>\n",
       "      <td>5</td>\n",
       "      <td>70</td>\n",
       "      <td>8.540000e-46</td>\n",
       "      <td>142.0</td>\n",
       "    </tr>\n",
       "    <tr>\n",
       "      <th>18</th>\n",
       "      <td>TRINITY_DN226500_c0_g1_i1</td>\n",
       "      <td>A0A0F6QET4</td>\n",
       "      <td>100.0</td>\n",
       "      <td>69</td>\n",
       "      <td>0</td>\n",
       "      <td>0</td>\n",
       "      <td>5</td>\n",
       "      <td>211</td>\n",
       "      <td>366</td>\n",
       "      <td>434</td>\n",
       "      <td>1.560000e-45</td>\n",
       "      <td>152.0</td>\n",
       "    </tr>\n",
       "    <tr>\n",
       "      <th>19</th>\n",
       "      <td>TRINITY_DN226500_c0_g1_i1</td>\n",
       "      <td>A0A0F6QG39</td>\n",
       "      <td>98.6</td>\n",
       "      <td>70</td>\n",
       "      <td>1</td>\n",
       "      <td>0</td>\n",
       "      <td>2</td>\n",
       "      <td>211</td>\n",
       "      <td>365</td>\n",
       "      <td>434</td>\n",
       "      <td>3.070000e-45</td>\n",
       "      <td>151.0</td>\n",
       "    </tr>\n",
       "    <tr>\n",
       "      <th>20</th>\n",
       "      <td>TRINITY_DN226500_c0_g1_i1</td>\n",
       "      <td>K9LKV1</td>\n",
       "      <td>90.9</td>\n",
       "      <td>66</td>\n",
       "      <td>6</td>\n",
       "      <td>0</td>\n",
       "      <td>5</td>\n",
       "      <td>202</td>\n",
       "      <td>5</td>\n",
       "      <td>70</td>\n",
       "      <td>9.650000e-43</td>\n",
       "      <td>134.0</td>\n",
       "    </tr>\n",
       "    <tr>\n",
       "      <th>21</th>\n",
       "      <td>TRINITY_DN226500_c0_g1_i1</td>\n",
       "      <td>K9LJL6</td>\n",
       "      <td>100.0</td>\n",
       "      <td>61</td>\n",
       "      <td>0</td>\n",
       "      <td>0</td>\n",
       "      <td>2</td>\n",
       "      <td>184</td>\n",
       "      <td>9</td>\n",
       "      <td>69</td>\n",
       "      <td>7.950000e-42</td>\n",
       "      <td>132.0</td>\n",
       "    </tr>\n",
       "    <tr>\n",
       "      <th>22</th>\n",
       "      <td>TRINITY_DN226500_c0_g1_i1</td>\n",
       "      <td>K9LLG1</td>\n",
       "      <td>100.0</td>\n",
       "      <td>61</td>\n",
       "      <td>0</td>\n",
       "      <td>0</td>\n",
       "      <td>2</td>\n",
       "      <td>184</td>\n",
       "      <td>9</td>\n",
       "      <td>69</td>\n",
       "      <td>7.950000e-42</td>\n",
       "      <td>132.0</td>\n",
       "    </tr>\n",
       "    <tr>\n",
       "      <th>23</th>\n",
       "      <td>TRINITY_DN226500_c0_g1_i1</td>\n",
       "      <td>K9LK56</td>\n",
       "      <td>98.4</td>\n",
       "      <td>61</td>\n",
       "      <td>1</td>\n",
       "      <td>0</td>\n",
       "      <td>2</td>\n",
       "      <td>184</td>\n",
       "      <td>9</td>\n",
       "      <td>69</td>\n",
       "      <td>6.370000e-41</td>\n",
       "      <td>130.0</td>\n",
       "    </tr>\n",
       "    <tr>\n",
       "      <th>24</th>\n",
       "      <td>TRINITY_DN226500_c0_g1_i1</td>\n",
       "      <td>K9LK58</td>\n",
       "      <td>100.0</td>\n",
       "      <td>60</td>\n",
       "      <td>0</td>\n",
       "      <td>0</td>\n",
       "      <td>2</td>\n",
       "      <td>181</td>\n",
       "      <td>9</td>\n",
       "      <td>68</td>\n",
       "      <td>9.310000e-41</td>\n",
       "      <td>129.0</td>\n",
       "    </tr>\n",
       "    <tr>\n",
       "      <th>25</th>\n",
       "      <td>TRINITY_DN226477_c0_g1_i1</td>\n",
       "      <td>39946.BGIOSGA038296-PA</td>\n",
       "      <td>91.1</td>\n",
       "      <td>518</td>\n",
       "      <td>46</td>\n",
       "      <td>0</td>\n",
       "      <td>22</td>\n",
       "      <td>1575</td>\n",
       "      <td>424</td>\n",
       "      <td>941</td>\n",
       "      <td>0.000000e+00</td>\n",
       "      <td>967.0</td>\n",
       "    </tr>\n",
       "    <tr>\n",
       "      <th>26</th>\n",
       "      <td>TRINITY_DN226477_c0_g1_i1</td>\n",
       "      <td>16272184</td>\n",
       "      <td>83.3</td>\n",
       "      <td>48</td>\n",
       "      <td>8</td>\n",
       "      <td>0</td>\n",
       "      <td>10</td>\n",
       "      <td>153</td>\n",
       "      <td>3</td>\n",
       "      <td>50</td>\n",
       "      <td>5.210000e-21</td>\n",
       "      <td>92.4</td>\n",
       "    </tr>\n",
       "  </tbody>\n",
       "</table>\n",
       "</div>"
      ],
      "text/plain": [
       "                     Query id              Subject id  % identity  \\\n",
       "0   TRINITY_DN226500_c0_g1_i1                  K9LK60       100.0   \n",
       "1   TRINITY_DN226500_c0_g1_i1                  K9LJH4       100.0   \n",
       "2   TRINITY_DN226500_c0_g1_i1                  K9LLC3        98.6   \n",
       "3   TRINITY_DN226500_c0_g1_i1                  K9LJE8        91.3   \n",
       "4   TRINITY_DN226500_c0_g1_i1                  K9LKW7        92.8   \n",
       "5   TRINITY_DN226500_c0_g1_i1              A0A0F6QD98       100.0   \n",
       "6   TRINITY_DN226500_c0_g1_i1              A0A0F6QEU1       100.0   \n",
       "7   TRINITY_DN226500_c0_g1_i1              A0A0F6T277       100.0   \n",
       "8   TRINITY_DN226500_c0_g1_i1              A0A0F6QEC8       100.0   \n",
       "9   TRINITY_DN226500_c0_g1_i1              A0A0F6QEU8       100.0   \n",
       "10  TRINITY_DN226500_c0_g1_i1              A0A0F6QEE7       100.0   \n",
       "11  TRINITY_DN226500_c0_g1_i1              A0A0F6QDA6       100.0   \n",
       "12  TRINITY_DN226500_c0_g1_i1              A0A0F6QD87       100.0   \n",
       "13  TRINITY_DN226500_c0_g1_i1              A0A0F6T2V5       100.0   \n",
       "14  TRINITY_DN226500_c0_g1_i1              A0A0F6QG56       100.0   \n",
       "15  TRINITY_DN226500_c0_g1_i1              A0A0F6QEV4       100.0   \n",
       "16  TRINITY_DN226500_c0_g1_i1              A0A0F6QEF1       100.0   \n",
       "17  TRINITY_DN226500_c0_g1_i1                  K9LK33       100.0   \n",
       "18  TRINITY_DN226500_c0_g1_i1              A0A0F6QET4       100.0   \n",
       "19  TRINITY_DN226500_c0_g1_i1              A0A0F6QG39        98.6   \n",
       "20  TRINITY_DN226500_c0_g1_i1                  K9LKV1        90.9   \n",
       "21  TRINITY_DN226500_c0_g1_i1                  K9LJL6       100.0   \n",
       "22  TRINITY_DN226500_c0_g1_i1                  K9LLG1       100.0   \n",
       "23  TRINITY_DN226500_c0_g1_i1                  K9LK56        98.4   \n",
       "24  TRINITY_DN226500_c0_g1_i1                  K9LK58       100.0   \n",
       "25  TRINITY_DN226477_c0_g1_i1  39946.BGIOSGA038296-PA        91.1   \n",
       "26  TRINITY_DN226477_c0_g1_i1                16272184        83.3   \n",
       "\n",
       "    alignment length  mismatches  gap openings  q. start  q. end  s. start  \\\n",
       "0                 70           0             0         2     211         2   \n",
       "1                 70           0             0         2     211         9   \n",
       "2                 70           1             0         2     211         2   \n",
       "3                 69           6             0         5     211         1   \n",
       "4                 69           5             0         5     211         1   \n",
       "5                 70           0             0         2     211       365   \n",
       "6                 70           0             0         2     211       365   \n",
       "7                 70           0             0         2     211       365   \n",
       "8                 70           0             0         2     211       365   \n",
       "9                 70           0             0         2     211       365   \n",
       "10                70           0             0         2     211       365   \n",
       "11                70           0             0         2     211       365   \n",
       "12                70           0             0         2     211       365   \n",
       "13                70           0             0         2     211       365   \n",
       "14                70           0             0         2     211       365   \n",
       "15                70           0             0         2     211       365   \n",
       "16                70           0             0         2     211       365   \n",
       "17                66           0             0         5     202         5   \n",
       "18                69           0             0         5     211       366   \n",
       "19                70           1             0         2     211       365   \n",
       "20                66           6             0         5     202         5   \n",
       "21                61           0             0         2     184         9   \n",
       "22                61           0             0         2     184         9   \n",
       "23                61           1             0         2     184         9   \n",
       "24                60           0             0         2     181         9   \n",
       "25               518          46             0        22    1575       424   \n",
       "26                48           8             0        10     153         3   \n",
       "\n",
       "    s. end       e-value  score  \n",
       "0       71  2.310000e-50  154.0  \n",
       "1       78  2.830000e-50  154.0  \n",
       "2       71  3.280000e-50  153.0  \n",
       "3       69  1.010000e-46  144.0  \n",
       "4       69  1.430000e-46  144.0  \n",
       "5      434  4.030000e-46  154.0  \n",
       "6      434  4.030000e-46  154.0  \n",
       "7      434  4.030000e-46  154.0  \n",
       "8      434  4.030000e-46  154.0  \n",
       "9      434  4.030000e-46  154.0  \n",
       "10     434  4.030000e-46  154.0  \n",
       "11     434  4.030000e-46  154.0  \n",
       "12     434  4.030000e-46  154.0  \n",
       "13     434  4.030000e-46  154.0  \n",
       "14     434  4.030000e-46  154.0  \n",
       "15     434  4.030000e-46  154.0  \n",
       "16     434  4.030000e-46  154.0  \n",
       "17      70  8.540000e-46  142.0  \n",
       "18     434  1.560000e-45  152.0  \n",
       "19     434  3.070000e-45  151.0  \n",
       "20      70  9.650000e-43  134.0  \n",
       "21      69  7.950000e-42  132.0  \n",
       "22      69  7.950000e-42  132.0  \n",
       "23      69  6.370000e-41  130.0  \n",
       "24      68  9.310000e-41  129.0  \n",
       "25     941  0.000000e+00  967.0  \n",
       "26      50  5.210000e-21   92.4  "
      ]
     },
     "execution_count": 8,
     "metadata": {},
     "output_type": "execute_result"
    }
   ],
   "source": [
    "diamond"
   ]
  },
  {
   "attachments": {},
   "cell_type": "markdown",
   "id": "acb7eaac-8b2a-462b-b5b4-6aa754e097b4",
   "metadata": {},
   "source": [
    "## Read count table\n",
    "However, we also need to read the count table:"
   ]
  },
  {
   "cell_type": "code",
   "execution_count": 9,
   "id": "b9d87d9f-8c5b-4030-82d6-66800462b42e",
   "metadata": {
    "tags": []
   },
   "outputs": [
    {
     "name": "stdout",
     "output_type": "stream",
     "text": [
      "ContigID\tSampleA\tSampleB\tSampleC\tSampleD\tSampleE\n",
      "TRINITY_DN226500_c0_g1_i1\t0\t0\t2\t1\t0\n",
      "TRINITY_DN226510_c0_g1_i1\t1\t0\t0\t0\t5\n",
      "TRINITY_DN226477_c0_g1_i1\t0\t0\t0\t0\t0\n",
      "TRINITY_DN226449_c0_g1_i1\t0\t0\t2\t0\t0\n",
      "TRINITY_DN226457_c0_g1_i1\t3\t6\t0\t0\t0\n",
      "TRINITY_DN226454_c0_g1_i1\t0\t0\t0\t9\t0\n",
      "TRINITY_DN226455_c0_g1_i1\t0\t2\t0\t0\t2\n"
     ]
    }
   ],
   "source": [
    "%%bash -s \"$count_table\"\n",
    "head $1"
   ]
  },
  {
   "cell_type": "code",
   "execution_count": 10,
   "id": "1de1ed51-14aa-49f4-a361-87b7b572ada3",
   "metadata": {
    "tags": []
   },
   "outputs": [
    {
     "data": {
      "text/html": [
       "<div>\n",
       "<style scoped>\n",
       "    .dataframe tbody tr th:only-of-type {\n",
       "        vertical-align: middle;\n",
       "    }\n",
       "\n",
       "    .dataframe tbody tr th {\n",
       "        vertical-align: top;\n",
       "    }\n",
       "\n",
       "    .dataframe thead th {\n",
       "        text-align: right;\n",
       "    }\n",
       "</style>\n",
       "<table border=\"1\" class=\"dataframe\">\n",
       "  <thead>\n",
       "    <tr style=\"text-align: right;\">\n",
       "      <th></th>\n",
       "      <th>SampleA</th>\n",
       "      <th>SampleB</th>\n",
       "      <th>SampleC</th>\n",
       "      <th>SampleD</th>\n",
       "      <th>SampleE</th>\n",
       "    </tr>\n",
       "    <tr>\n",
       "      <th>ContigID</th>\n",
       "      <th></th>\n",
       "      <th></th>\n",
       "      <th></th>\n",
       "      <th></th>\n",
       "      <th></th>\n",
       "    </tr>\n",
       "  </thead>\n",
       "  <tbody>\n",
       "    <tr>\n",
       "      <th>TRINITY_DN226500_c0_g1_i1</th>\n",
       "      <td>0</td>\n",
       "      <td>0</td>\n",
       "      <td>2</td>\n",
       "      <td>1</td>\n",
       "      <td>0</td>\n",
       "    </tr>\n",
       "    <tr>\n",
       "      <th>TRINITY_DN226510_c0_g1_i1</th>\n",
       "      <td>1</td>\n",
       "      <td>0</td>\n",
       "      <td>0</td>\n",
       "      <td>0</td>\n",
       "      <td>5</td>\n",
       "    </tr>\n",
       "    <tr>\n",
       "      <th>TRINITY_DN226477_c0_g1_i1</th>\n",
       "      <td>0</td>\n",
       "      <td>0</td>\n",
       "      <td>0</td>\n",
       "      <td>0</td>\n",
       "      <td>0</td>\n",
       "    </tr>\n",
       "    <tr>\n",
       "      <th>TRINITY_DN226449_c0_g1_i1</th>\n",
       "      <td>0</td>\n",
       "      <td>0</td>\n",
       "      <td>2</td>\n",
       "      <td>0</td>\n",
       "      <td>0</td>\n",
       "    </tr>\n",
       "    <tr>\n",
       "      <th>TRINITY_DN226457_c0_g1_i1</th>\n",
       "      <td>3</td>\n",
       "      <td>6</td>\n",
       "      <td>0</td>\n",
       "      <td>0</td>\n",
       "      <td>0</td>\n",
       "    </tr>\n",
       "    <tr>\n",
       "      <th>TRINITY_DN226454_c0_g1_i1</th>\n",
       "      <td>0</td>\n",
       "      <td>0</td>\n",
       "      <td>0</td>\n",
       "      <td>9</td>\n",
       "      <td>0</td>\n",
       "    </tr>\n",
       "    <tr>\n",
       "      <th>TRINITY_DN226455_c0_g1_i1</th>\n",
       "      <td>0</td>\n",
       "      <td>2</td>\n",
       "      <td>0</td>\n",
       "      <td>0</td>\n",
       "      <td>2</td>\n",
       "    </tr>\n",
       "  </tbody>\n",
       "</table>\n",
       "</div>"
      ],
      "text/plain": [
       "                           SampleA  SampleB  SampleC  SampleD  SampleE\n",
       "ContigID                                                              \n",
       "TRINITY_DN226500_c0_g1_i1        0        0        2        1        0\n",
       "TRINITY_DN226510_c0_g1_i1        1        0        0        0        5\n",
       "TRINITY_DN226477_c0_g1_i1        0        0        0        0        0\n",
       "TRINITY_DN226449_c0_g1_i1        0        0        2        0        0\n",
       "TRINITY_DN226457_c0_g1_i1        3        6        0        0        0\n",
       "TRINITY_DN226454_c0_g1_i1        0        0        0        9        0\n",
       "TRINITY_DN226455_c0_g1_i1        0        2        0        0        2"
      ]
     },
     "execution_count": 10,
     "metadata": {},
     "output_type": "execute_result"
    }
   ],
   "source": [
    "counts = pd.read_csv(\n",
    "    count_table, sep = \"\\t\", comment='#'\n",
    ").set_index('ContigID')\n",
    "counts"
   ]
  },
  {
   "attachments": {},
   "cell_type": "markdown",
   "id": "1d39dd81-6d5e-4a09-a128-1c9aaac4734c",
   "metadata": {},
   "source": [
    "## Preprocessing\n",
    "### Most significant hit per Contig"
   ]
  },
  {
   "attachments": {},
   "cell_type": "markdown",
   "id": "b9cdb35f-ba57-4013-ae61-33928f3adcdd",
   "metadata": {},
   "source": [
    "Now, we need to get the most significant hit per each contig ID. Let's inspect how many hits there are per contig (adjust the number of bins). "
   ]
  },
  {
   "cell_type": "code",
   "execution_count": 11,
   "id": "3d5b07e5-d340-440d-831e-3bc6c179a28b",
   "metadata": {
    "tags": []
   },
   "outputs": [
    {
     "data": {
      "text/plain": [
       "Text(0.5, 1.0, 'Number of hits per contig')"
      ]
     },
     "execution_count": 11,
     "metadata": {},
     "output_type": "execute_result"
    },
    {
     "data": {
      "image/png": "[encoded data removed]",
      "text/plain": [
       "<Figure size 640x480 with 1 Axes>"
      ]
     },
     "metadata": {},
     "output_type": "display_data"
    }
   ],
   "source": [
    "diamond.pivot_table(columns=['Query id'], aggfunc='size').hist(bins = 25)\n",
    "plt.title(\"Number of hits per contig\")"
   ]
  },
  {
   "attachments": {},
   "cell_type": "markdown",
   "id": "43813411-8fac-4ad8-b9b6-bf21d90f8122",
   "metadata": {},
   "source": [
    "In this case, we are going to sort rows per e-value and score and get the most significant hit per each ContigId."
   ]
  },
  {
   "cell_type": "code",
   "execution_count": 12,
   "id": "3f78c5d5-1e49-4406-9c93-950b3eb35c35",
   "metadata": {
    "tags": []
   },
   "outputs": [
    {
     "data": {
      "text/html": [
       "<div>\n",
       "<style scoped>\n",
       "    .dataframe tbody tr th:only-of-type {\n",
       "        vertical-align: middle;\n",
       "    }\n",
       "\n",
       "    .dataframe tbody tr th {\n",
       "        vertical-align: top;\n",
       "    }\n",
       "\n",
       "    .dataframe thead th {\n",
       "        text-align: right;\n",
       "    }\n",
       "</style>\n",
       "<table border=\"1\" class=\"dataframe\">\n",
       "  <thead>\n",
       "    <tr style=\"text-align: right;\">\n",
       "      <th></th>\n",
       "      <th>Subject id</th>\n",
       "      <th>% identity</th>\n",
       "      <th>alignment length</th>\n",
       "      <th>mismatches</th>\n",
       "      <th>gap openings</th>\n",
       "      <th>q. start</th>\n",
       "      <th>q. end</th>\n",
       "      <th>s. start</th>\n",
       "      <th>s. end</th>\n",
       "      <th>e-value</th>\n",
       "      <th>score</th>\n",
       "    </tr>\n",
       "    <tr>\n",
       "      <th>Query id</th>\n",
       "      <th></th>\n",
       "      <th></th>\n",
       "      <th></th>\n",
       "      <th></th>\n",
       "      <th></th>\n",
       "      <th></th>\n",
       "      <th></th>\n",
       "      <th></th>\n",
       "      <th></th>\n",
       "      <th></th>\n",
       "      <th></th>\n",
       "    </tr>\n",
       "  </thead>\n",
       "  <tbody>\n",
       "    <tr>\n",
       "      <th>TRINITY_DN226477_c0_g1_i1</th>\n",
       "      <td>39946.BGIOSGA038296-PA</td>\n",
       "      <td>91.1</td>\n",
       "      <td>518</td>\n",
       "      <td>46</td>\n",
       "      <td>0</td>\n",
       "      <td>22</td>\n",
       "      <td>1575</td>\n",
       "      <td>424</td>\n",
       "      <td>941</td>\n",
       "      <td>0.000000e+00</td>\n",
       "      <td>967.0</td>\n",
       "    </tr>\n",
       "    <tr>\n",
       "      <th>TRINITY_DN226500_c0_g1_i1</th>\n",
       "      <td>K9LK60</td>\n",
       "      <td>100.0</td>\n",
       "      <td>70</td>\n",
       "      <td>0</td>\n",
       "      <td>0</td>\n",
       "      <td>2</td>\n",
       "      <td>211</td>\n",
       "      <td>2</td>\n",
       "      <td>71</td>\n",
       "      <td>2.310000e-50</td>\n",
       "      <td>154.0</td>\n",
       "    </tr>\n",
       "  </tbody>\n",
       "</table>\n",
       "</div>"
      ],
      "text/plain": [
       "                                       Subject id  % identity  \\\n",
       "Query id                                                        \n",
       "TRINITY_DN226477_c0_g1_i1  39946.BGIOSGA038296-PA        91.1   \n",
       "TRINITY_DN226500_c0_g1_i1                  K9LK60       100.0   \n",
       "\n",
       "                           alignment length  mismatches  gap openings  \\\n",
       "Query id                                                                \n",
       "TRINITY_DN226477_c0_g1_i1               518          46             0   \n",
       "TRINITY_DN226500_c0_g1_i1                70           0             0   \n",
       "\n",
       "                           q. start  q. end  s. start  s. end       e-value  \\\n",
       "Query id                                                                      \n",
       "TRINITY_DN226477_c0_g1_i1        22    1575       424     941  0.000000e+00   \n",
       "TRINITY_DN226500_c0_g1_i1         2     211         2      71  2.310000e-50   \n",
       "\n",
       "                           score  \n",
       "Query id                          \n",
       "TRINITY_DN226477_c0_g1_i1  967.0  \n",
       "TRINITY_DN226500_c0_g1_i1  154.0  "
      ]
     },
     "execution_count": 12,
     "metadata": {},
     "output_type": "execute_result"
    }
   ],
   "source": [
    "diamond = diamond.sort_values(\n",
    "        by=['e-value', 'score'], ascending=[True, False]\n",
    "        ).drop_duplicates(\n",
    "    'Query id', keep='first'\n",
    ").set_index('Query id')\n",
    "diamond"
   ]
  },
  {
   "attachments": {},
   "cell_type": "markdown",
   "id": "5b93ff5b-e48a-4ea9-84ec-9e5d2c330b5f",
   "metadata": {},
   "source": [
    "### Inspect E-values from aligned orthologous genes before filtering by e-value"
   ]
  },
  {
   "cell_type": "code",
   "execution_count": 13,
   "id": "99f753e2-871b-4fd7-9c65-f55a36ed2546",
   "metadata": {
    "tags": []
   },
   "outputs": [
    {
     "data": {
      "text/plain": [
       "array([[<Axes: title={'center': 'e-value'}>]], dtype=object)"
      ]
     },
     "execution_count": 13,
     "metadata": {},
     "output_type": "execute_result"
    },
    {
     "data": {
      "image/png": "[encoded data removed]",
      "text/plain": [
       "<Figure size 640x480 with 1 Axes>"
      ]
     },
     "metadata": {},
     "output_type": "display_data"
    }
   ],
   "source": [
    "diamond.hist(\"e-value\")"
   ]
  },
  {
   "attachments": {},
   "cell_type": "markdown",
   "id": "090783cb-1cc7-49a0-bf75-a18683dd8262",
   "metadata": {},
   "source": [
    "### Inspect E-values from aligned orthologous genes after filtering by e-value\n",
    "\n",
    "We need to set a threshold:"
   ]
  },
  {
   "cell_type": "code",
   "execution_count": 14,
   "id": "ce8f9609-91d1-469e-8370-1326cc5054e5",
   "metadata": {
    "tags": []
   },
   "outputs": [],
   "source": [
    "evalue_threshold = 0.0001"
   ]
  },
  {
   "cell_type": "code",
   "execution_count": 15,
   "id": "a174e5b6-a092-474a-b832-d770fc382f7f",
   "metadata": {
    "tags": []
   },
   "outputs": [],
   "source": [
    "diamond = diamond.loc[diamond['e-value'] < evalue_threshold] "
   ]
  },
  {
   "cell_type": "code",
   "execution_count": 16,
   "id": "31f0a7a1-bf4a-4319-ab39-fb1be0b35e23",
   "metadata": {
    "tags": []
   },
   "outputs": [
    {
     "data": {
      "text/plain": [
       "array([[<Axes: title={'center': 'e-value'}>]], dtype=object)"
      ]
     },
     "execution_count": 16,
     "metadata": {},
     "output_type": "execute_result"
    },
    {
     "data": {
      "image/png": "[encoded data removed]",
      "text/plain": [
       "<Figure size 640x480 with 1 Axes>"
      ]
     },
     "metadata": {},
     "output_type": "display_data"
    }
   ],
   "source": [
    "diamond.hist(\"e-value\")"
   ]
  },
  {
   "cell_type": "code",
   "execution_count": 17,
   "id": "3c455b9d-2113-4d81-a97f-c04973a8dc29",
   "metadata": {
    "tags": []
   },
   "outputs": [
    {
     "name": "stdout",
     "output_type": "stream",
     "text": [
      "There are 2 unique orthologous genes\n"
     ]
    }
   ],
   "source": [
    "val = len(set(diamond[\"Subject id\"]))\n",
    "print(f\"There are {val} unique orthologous genes\")"
   ]
  },
  {
   "attachments": {},
   "cell_type": "markdown",
   "id": "bdeaacd7-2ef4-4441-adea-99df6cdb1390",
   "metadata": {
    "tags": []
   },
   "source": [
    "### Inspect % identity and aligment length"
   ]
  },
  {
   "cell_type": "code",
   "execution_count": 18,
   "id": "16ee4816-ee69-404f-be0e-566c7745b6fc",
   "metadata": {
    "tags": []
   },
   "outputs": [
    {
     "data": {
      "text/plain": [
       "array([[<Axes: title={'center': 'alignment length'}>]], dtype=object)"
      ]
     },
     "execution_count": 18,
     "metadata": {},
     "output_type": "execute_result"
    },
    {
     "data": {
      "image/png": "[encoded data removed]",
      "text/plain": [
       "<Figure size 640x480 with 1 Axes>"
      ]
     },
     "metadata": {},
     "output_type": "display_data"
    }
   ],
   "source": [
    "diamond.hist(\"alignment length\")"
   ]
  },
  {
   "cell_type": "code",
   "execution_count": 19,
   "id": "a6b6775a-a1ee-403a-b908-f09fe46314d0",
   "metadata": {
    "tags": []
   },
   "outputs": [
    {
     "data": {
      "text/plain": [
       "array([[<Axes: title={'center': '% identity'}>]], dtype=object)"
      ]
     },
     "execution_count": 19,
     "metadata": {},
     "output_type": "execute_result"
    },
    {
     "data": {
      "image/png": "[encoded data removed]",
      "text/plain": [
       "<Figure size 640x480 with 1 Axes>"
      ]
     },
     "metadata": {},
     "output_type": "display_data"
    }
   ],
   "source": [
    "diamond.hist(\"% identity\")"
   ]
  },
  {
   "cell_type": "code",
   "execution_count": 20,
   "id": "5e282424",
   "metadata": {},
   "outputs": [
    {
     "data": {
      "text/plain": [
       "Text(0, 0.5, 'Mistmatches')"
      ]
     },
     "execution_count": 20,
     "metadata": {},
     "output_type": "execute_result"
    },
    {
     "data": {
      "image/png": "[encoded data removed]",
      "text/plain": [
       "<Figure size 640x480 with 1 Axes>"
      ]
     },
     "metadata": {},
     "output_type": "display_data"
    }
   ],
   "source": [
    "plt.scatter(diamond['alignment length'],diamond.mismatches,alpha=0.6)\n",
    "plt.title('Mistmatches distribution after preprocessingh')\n",
    "plt.xlabel('Alignment length')\n",
    "plt.ylabel('Mistmatches')"
   ]
  },
  {
   "attachments": {},
   "cell_type": "markdown",
   "id": "3145e306",
   "metadata": {},
   "source": [
    "## Attention !!\n",
    "Please, consider the previous information to set the threshold for the e-value and the % identity."
   ]
  },
  {
   "attachments": {},
   "cell_type": "markdown",
   "id": "a1bcae6d-70a5-4318-8206-2aaddf15bb62",
   "metadata": {},
   "source": [
    "### Merging aligned genes and count table\n",
    "First, we are going to drop all columns except for ContigsID and orthologous genes header (to obtain map table). "
   ]
  },
  {
   "cell_type": "code",
   "execution_count": 21,
   "id": "407b00ee-8a22-483c-9cf7-37a0abe76de4",
   "metadata": {
    "tags": []
   },
   "outputs": [
    {
     "data": {
      "text/html": [
       "<div>\n",
       "<style scoped>\n",
       "    .dataframe tbody tr th:only-of-type {\n",
       "        vertical-align: middle;\n",
       "    }\n",
       "\n",
       "    .dataframe tbody tr th {\n",
       "        vertical-align: top;\n",
       "    }\n",
       "\n",
       "    .dataframe thead th {\n",
       "        text-align: right;\n",
       "    }\n",
       "</style>\n",
       "<table border=\"1\" class=\"dataframe\">\n",
       "  <thead>\n",
       "    <tr style=\"text-align: right;\">\n",
       "      <th></th>\n",
       "      <th>Subject id</th>\n",
       "    </tr>\n",
       "    <tr>\n",
       "      <th>Query id</th>\n",
       "      <th></th>\n",
       "    </tr>\n",
       "  </thead>\n",
       "  <tbody>\n",
       "    <tr>\n",
       "      <th>TRINITY_DN226477_c0_g1_i1</th>\n",
       "      <td>39946.BGIOSGA038296-PA</td>\n",
       "    </tr>\n",
       "    <tr>\n",
       "      <th>TRINITY_DN226500_c0_g1_i1</th>\n",
       "      <td>K9LK60</td>\n",
       "    </tr>\n",
       "  </tbody>\n",
       "</table>\n",
       "</div>"
      ],
      "text/plain": [
       "                                       Subject id\n",
       "Query id                                         \n",
       "TRINITY_DN226477_c0_g1_i1  39946.BGIOSGA038296-PA\n",
       "TRINITY_DN226500_c0_g1_i1                  K9LK60"
      ]
     },
     "execution_count": 21,
     "metadata": {},
     "output_type": "execute_result"
    }
   ],
   "source": [
    "map_table = diamond[[\"Subject id\"]]\n",
    "map_table"
   ]
  },
  {
   "attachments": {},
   "cell_type": "markdown",
   "id": "7a7cc510-b6b3-4b2f-a84a-75fe989ac5f0",
   "metadata": {
    "tags": []
   },
   "source": [
    "Now, we are going to merge both files by their column in common (ContigID and Subject id)."
   ]
  },
  {
   "cell_type": "code",
   "execution_count": 22,
   "id": "7ad61d06-8a87-4dee-a173-b915153efed6",
   "metadata": {
    "tags": []
   },
   "outputs": [
    {
     "data": {
      "text/html": [
       "<div>\n",
       "<style scoped>\n",
       "    .dataframe tbody tr th:only-of-type {\n",
       "        vertical-align: middle;\n",
       "    }\n",
       "\n",
       "    .dataframe tbody tr th {\n",
       "        vertical-align: top;\n",
       "    }\n",
       "\n",
       "    .dataframe thead th {\n",
       "        text-align: right;\n",
       "    }\n",
       "</style>\n",
       "<table border=\"1\" class=\"dataframe\">\n",
       "  <thead>\n",
       "    <tr style=\"text-align: right;\">\n",
       "      <th></th>\n",
       "      <th>Subject id</th>\n",
       "      <th>SampleA</th>\n",
       "      <th>SampleB</th>\n",
       "      <th>SampleC</th>\n",
       "      <th>SampleD</th>\n",
       "      <th>SampleE</th>\n",
       "    </tr>\n",
       "  </thead>\n",
       "  <tbody>\n",
       "    <tr>\n",
       "      <th>0</th>\n",
       "      <td>39946.BGIOSGA038296-PA</td>\n",
       "      <td>0</td>\n",
       "      <td>0</td>\n",
       "      <td>0</td>\n",
       "      <td>0</td>\n",
       "      <td>0</td>\n",
       "    </tr>\n",
       "    <tr>\n",
       "      <th>1</th>\n",
       "      <td>K9LK60</td>\n",
       "      <td>0</td>\n",
       "      <td>0</td>\n",
       "      <td>2</td>\n",
       "      <td>1</td>\n",
       "      <td>0</td>\n",
       "    </tr>\n",
       "  </tbody>\n",
       "</table>\n",
       "</div>"
      ],
      "text/plain": [
       "               Subject id  SampleA  SampleB  SampleC  SampleD  SampleE\n",
       "0  39946.BGIOSGA038296-PA        0        0        0        0        0\n",
       "1                  K9LK60        0        0        2        1        0"
      ]
     },
     "execution_count": 22,
     "metadata": {},
     "output_type": "execute_result"
    }
   ],
   "source": [
    "df = pd.merge(map_table, counts, left_index=True, right_index=True).reset_index(drop=True)\n",
    "df"
   ]
  },
  {
   "attachments": {},
   "cell_type": "markdown",
   "id": "3d9b1208-5fc9-4056-9089-1beeaa75c3b7",
   "metadata": {},
   "source": [
    "### Aggregate table\n",
    "Now, we are going to aggregate the rows by grouping by \"Subject id\" (notice the difference in rows between the previous table and the following):"
   ]
  },
  {
   "cell_type": "code",
   "execution_count": 23,
   "id": "75b4c8b5-9591-4243-8fb0-3258db020a46",
   "metadata": {
    "tags": []
   },
   "outputs": [
    {
     "data": {
      "text/html": [
       "<div>\n",
       "<style scoped>\n",
       "    .dataframe tbody tr th:only-of-type {\n",
       "        vertical-align: middle;\n",
       "    }\n",
       "\n",
       "    .dataframe tbody tr th {\n",
       "        vertical-align: top;\n",
       "    }\n",
       "\n",
       "    .dataframe thead th {\n",
       "        text-align: right;\n",
       "    }\n",
       "</style>\n",
       "<table border=\"1\" class=\"dataframe\">\n",
       "  <thead>\n",
       "    <tr style=\"text-align: right;\">\n",
       "      <th></th>\n",
       "      <th>SampleA</th>\n",
       "      <th>SampleB</th>\n",
       "      <th>SampleC</th>\n",
       "      <th>SampleD</th>\n",
       "      <th>SampleE</th>\n",
       "    </tr>\n",
       "    <tr>\n",
       "      <th>Subject id</th>\n",
       "      <th></th>\n",
       "      <th></th>\n",
       "      <th></th>\n",
       "      <th></th>\n",
       "      <th></th>\n",
       "    </tr>\n",
       "  </thead>\n",
       "  <tbody>\n",
       "    <tr>\n",
       "      <th>39946.BGIOSGA038296-PA</th>\n",
       "      <td>0</td>\n",
       "      <td>0</td>\n",
       "      <td>0</td>\n",
       "      <td>0</td>\n",
       "      <td>0</td>\n",
       "    </tr>\n",
       "    <tr>\n",
       "      <th>K9LK60</th>\n",
       "      <td>0</td>\n",
       "      <td>0</td>\n",
       "      <td>2</td>\n",
       "      <td>1</td>\n",
       "      <td>0</td>\n",
       "    </tr>\n",
       "  </tbody>\n",
       "</table>\n",
       "</div>"
      ],
      "text/plain": [
       "                        SampleA  SampleB  SampleC  SampleD  SampleE\n",
       "Subject id                                                         \n",
       "39946.BGIOSGA038296-PA        0        0        0        0        0\n",
       "K9LK60                        0        0        2        1        0"
      ]
     },
     "execution_count": 23,
     "metadata": {},
     "output_type": "execute_result"
    }
   ],
   "source": [
    "df = df.groupby('Subject id').sum(numeric_only = True)\n",
    "df"
   ]
  },
  {
   "attachments": {},
   "cell_type": "markdown",
   "id": "e16060fc-3363-4f9b-a4c7-40e7e64a64b5",
   "metadata": {},
   "source": [
    "## Annotating count table\n",
    "\n",
    "The original annotation involves several files, and it's intricate. We will use the original script CoMW. "
   ]
  },
  {
   "cell_type": "code",
   "execution_count": 24,
   "id": "2d76965f-c2c2-485f-b41f-632b9e1ffed7",
   "metadata": {
    "tags": []
   },
   "outputs": [
    {
     "data": {
      "text/html": [
       "<div>\n",
       "<style scoped>\n",
       "    .dataframe tbody tr th:only-of-type {\n",
       "        vertical-align: middle;\n",
       "    }\n",
       "\n",
       "    .dataframe tbody tr th {\n",
       "        vertical-align: top;\n",
       "    }\n",
       "\n",
       "    .dataframe thead th {\n",
       "        text-align: right;\n",
       "    }\n",
       "</style>\n",
       "<table border=\"1\" class=\"dataframe\">\n",
       "  <thead>\n",
       "    <tr style=\"text-align: right;\">\n",
       "      <th></th>\n",
       "      <th>ContigID</th>\n",
       "      <th>SampleA</th>\n",
       "      <th>SampleB</th>\n",
       "      <th>SampleC</th>\n",
       "      <th>SampleD</th>\n",
       "      <th>SampleE</th>\n",
       "    </tr>\n",
       "  </thead>\n",
       "  <tbody>\n",
       "    <tr>\n",
       "      <th>0</th>\n",
       "      <td>39946.BGIOSGA038296-PA</td>\n",
       "      <td>0</td>\n",
       "      <td>0</td>\n",
       "      <td>0</td>\n",
       "      <td>0</td>\n",
       "      <td>0</td>\n",
       "    </tr>\n",
       "    <tr>\n",
       "      <th>1</th>\n",
       "      <td>K9LK60</td>\n",
       "      <td>0</td>\n",
       "      <td>0</td>\n",
       "      <td>2</td>\n",
       "      <td>1</td>\n",
       "      <td>0</td>\n",
       "    </tr>\n",
       "  </tbody>\n",
       "</table>\n",
       "</div>"
      ],
      "text/plain": [
       "                 ContigID  SampleA  SampleB  SampleC  SampleD  SampleE\n",
       "0  39946.BGIOSGA038296-PA        0        0        0        0        0\n",
       "1                  K9LK60        0        0        2        1        0"
      ]
     },
     "execution_count": 24,
     "metadata": {},
     "output_type": "execute_result"
    }
   ],
   "source": [
    "df.reset_index(inplace=True)\n",
    "df.rename(columns={\"Subject id\": \"ContigID\"}, inplace=True)\n",
    "df.to_csv('NCyC_temp_count_table.tsv', sep=\"\\t\", index=False)\n",
    "df"
   ]
  },
  {
   "cell_type": "code",
   "execution_count": 25,
   "id": "e10067dc-3497-4849-8700-837f9f490975",
   "metadata": {
    "tags": []
   },
   "outputs": [
    {
     "name": "stderr",
     "output_type": "stream",
     "text": [
      "/software/CoMW/scripts/annotate_count_table.py:331: SyntaxWarning: \"is\" with a literal. Did you mean \"==\"?\n",
      "  if db is 1:\n",
      "/software/CoMW/scripts/annotate_count_table.py:333: SyntaxWarning: \"is\" with a literal. Did you mean \"==\"?\n",
      "  elif db is 2:\n",
      "/software/CoMW/scripts/annotate_count_table.py:335: SyntaxWarning: \"is\" with a literal. Did you mean \"==\"?\n",
      "  elif db is 3:\n"
     ]
    }
   ],
   "source": [
    "%%bash\n",
    "python3 /software/CoMW/scripts/annotate_count_table.py -i ./NCyC_temp_count_table.tsv -o ./NCyC_temp_count_table_ann.tsv -d 3\n",
    "rm NCyC_temp_count_table.tsv"
   ]
  },
  {
   "cell_type": "code",
   "execution_count": 26,
   "id": "00e67cd9-00b7-4799-8a3a-a4520479dd22",
   "metadata": {
    "tags": []
   },
   "outputs": [],
   "source": [
    "df = pd.read_csv(\n",
    "    \"NCyC_temp_count_table_ann.tsv\", sep = \"\\t\",\n",
    ")"
   ]
  },
  {
   "cell_type": "code",
   "execution_count": 27,
   "id": "3e6156ea-099e-4397-b9c8-d1e728d0fc30",
   "metadata": {
    "tags": []
   },
   "outputs": [],
   "source": [
    "%%bash\n",
    "rm NCyC_temp_count_table_ann.tsv"
   ]
  },
  {
   "cell_type": "code",
   "execution_count": 28,
   "id": "151829aa-140c-4757-9c50-eb56edf4a1b7",
   "metadata": {},
   "outputs": [
    {
     "data": {
      "text/html": [
       "<div>\n",
       "<style scoped>\n",
       "    .dataframe tbody tr th:only-of-type {\n",
       "        vertical-align: middle;\n",
       "    }\n",
       "\n",
       "    .dataframe tbody tr th {\n",
       "        vertical-align: top;\n",
       "    }\n",
       "\n",
       "    .dataframe thead th {\n",
       "        text-align: right;\n",
       "    }\n",
       "</style>\n",
       "<table border=\"1\" class=\"dataframe\">\n",
       "  <thead>\n",
       "    <tr style=\"text-align: right;\">\n",
       "      <th></th>\n",
       "      <th>ContigID</th>\n",
       "      <th>SampleA</th>\n",
       "      <th>SampleB</th>\n",
       "      <th>SampleC</th>\n",
       "      <th>SampleD</th>\n",
       "      <th>SampleE</th>\n",
       "      <th>Functions</th>\n",
       "    </tr>\n",
       "  </thead>\n",
       "  <tbody>\n",
       "    <tr>\n",
       "      <th>0</th>\n",
       "      <td>39946.BGIOSGA038296-PA</td>\n",
       "      <td>0</td>\n",
       "      <td>0</td>\n",
       "      <td>0</td>\n",
       "      <td>0</td>\n",
       "      <td>0</td>\n",
       "      <td>DB__NCyc; LevelI__Organic degradation and synt...</td>\n",
       "    </tr>\n",
       "    <tr>\n",
       "      <th>1</th>\n",
       "      <td>K9LK60</td>\n",
       "      <td>0</td>\n",
       "      <td>0</td>\n",
       "      <td>2</td>\n",
       "      <td>1</td>\n",
       "      <td>0</td>\n",
       "      <td>DB__NCyc; LevelI__Anammox; LevelII__hzsA; Leve...</td>\n",
       "    </tr>\n",
       "  </tbody>\n",
       "</table>\n",
       "</div>"
      ],
      "text/plain": [
       "                 ContigID  SampleA  SampleB  SampleC  SampleD  SampleE  \\\n",
       "0  39946.BGIOSGA038296-PA        0        0        0        0        0   \n",
       "1                  K9LK60        0        0        2        1        0   \n",
       "\n",
       "                                           Functions  \n",
       "0  DB__NCyc; LevelI__Organic degradation and synt...  \n",
       "1  DB__NCyc; LevelI__Anammox; LevelII__hzsA; Leve...  "
      ]
     },
     "execution_count": 28,
     "metadata": {},
     "output_type": "execute_result"
    }
   ],
   "source": [
    "df.rename(columns={\"#ContigID\": \"ContigID\"}, inplace=True)\n",
    "df"
   ]
  },
  {
   "cell_type": "code",
   "execution_count": 29,
   "id": "76794a93",
   "metadata": {},
   "outputs": [],
   "source": [
    "def parse_legacy_annotation(x):\n",
    "    return tuple(y.split('__')[1] for y in x.split(\";\")[1:3])\n",
    "df[\"Level1\"], df[\"Level2\"] = zip(*df[\"Functions\"].map(parse_legacy_annotation))\n",
    "df.drop(columns=[\"Functions\"], inplace=True)"
   ]
  },
  {
   "cell_type": "code",
   "execution_count": 30,
   "id": "dad74a72",
   "metadata": {},
   "outputs": [
    {
     "data": {
      "text/html": [
       "<div>\n",
       "<style scoped>\n",
       "    .dataframe tbody tr th:only-of-type {\n",
       "        vertical-align: middle;\n",
       "    }\n",
       "\n",
       "    .dataframe tbody tr th {\n",
       "        vertical-align: top;\n",
       "    }\n",
       "\n",
       "    .dataframe thead th {\n",
       "        text-align: right;\n",
       "    }\n",
       "</style>\n",
       "<table border=\"1\" class=\"dataframe\">\n",
       "  <thead>\n",
       "    <tr style=\"text-align: right;\">\n",
       "      <th></th>\n",
       "      <th>ContigID</th>\n",
       "      <th>SampleA</th>\n",
       "      <th>SampleB</th>\n",
       "      <th>SampleC</th>\n",
       "      <th>SampleD</th>\n",
       "      <th>SampleE</th>\n",
       "      <th>Level1</th>\n",
       "      <th>Level2</th>\n",
       "    </tr>\n",
       "  </thead>\n",
       "  <tbody>\n",
       "    <tr>\n",
       "      <th>0</th>\n",
       "      <td>39946.BGIOSGA038296-PA</td>\n",
       "      <td>0</td>\n",
       "      <td>0</td>\n",
       "      <td>0</td>\n",
       "      <td>0</td>\n",
       "      <td>0</td>\n",
       "      <td>Organic degradation and synthesis</td>\n",
       "      <td>nmo</td>\n",
       "    </tr>\n",
       "    <tr>\n",
       "      <th>1</th>\n",
       "      <td>K9LK60</td>\n",
       "      <td>0</td>\n",
       "      <td>0</td>\n",
       "      <td>2</td>\n",
       "      <td>1</td>\n",
       "      <td>0</td>\n",
       "      <td>Anammox</td>\n",
       "      <td>hzsA</td>\n",
       "    </tr>\n",
       "  </tbody>\n",
       "</table>\n",
       "</div>"
      ],
      "text/plain": [
       "                 ContigID  SampleA  SampleB  SampleC  SampleD  SampleE  \\\n",
       "0  39946.BGIOSGA038296-PA        0        0        0        0        0   \n",
       "1                  K9LK60        0        0        2        1        0   \n",
       "\n",
       "                              Level1 Level2  \n",
       "0  Organic degradation and synthesis    nmo  \n",
       "1                            Anammox   hzsA  "
      ]
     },
     "execution_count": 30,
     "metadata": {},
     "output_type": "execute_result"
    }
   ],
   "source": [
    "df"
   ]
  },
  {
   "cell_type": "code",
   "execution_count": 31,
   "id": "4f3552fa",
   "metadata": {
    "tags": []
   },
   "outputs": [],
   "source": [
    "df.to_csv('../results/NCyc_matches_annotated.tsv', sep=\"\\t\", index=False)"
   ]
  }
 ],
 "metadata": {
  "kernelspec": {
   "display_name": "Python 3 (ipykernel)",
   "language": "python",
   "name": "python3"
  },
  "language_info": {
   "codemirror_mode": {
    "name": "ipython",
    "version": 3
   },
   "file_extension": ".py",
   "mimetype": "text/x-python",
   "name": "python",
   "nbconvert_exporter": "python",
   "pygments_lexer": "ipython3",
   "version": "3.9.15"
  }
 },
 "nbformat": 4,
 "nbformat_minor": 5
}
